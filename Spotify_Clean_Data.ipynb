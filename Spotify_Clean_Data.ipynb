{
  "nbformat": 4,
  "nbformat_minor": 0,
  "metadata": {
    "colab": {
      "name": "Spotify_Clean_Data.ipynb",
      "provenance": [],
      "collapsed_sections": []
    },
    "kernelspec": {
      "name": "python3",
      "display_name": "Python 3"
    }
  },
  "cells": [
    {
      "cell_type": "markdown",
      "metadata": {
        "id": "FF_3feknxD7t"
      },
      "source": [
        "#Cleaning Spotify Track Data\n",
        "##In this notebook, I'll be cleaning up the data that we scraped in part 1 (see Spotify_Generate_Tracks.ipynb for how this was originally scraped). Most of the cleaning here involved standardizing genres and calcualting the most popular genres for further analysis. "
      ]
    },
    {
      "cell_type": "markdown",
      "metadata": {
        "id": "wzO-oDQtxe7m"
      },
      "source": [
        "##Package Setup and Data Import"
      ]
    },
    {
      "cell_type": "code",
      "metadata": {
        "id": "o3YLIlbLGM0T",
        "colab": {
          "resources": {
            "http://localhost:8080/nbextensions/google.colab/files.js": {
              "data": "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",
              "ok": true,
              "headers": [
                [
                  "content-type",
                  "application/javascript"
                ]
              ],
              "status": 200,
              "status_text": ""
            }
          },
          "base_uri": "https://localhost:8080/",
          "height": 73
        },
        "outputId": "a93365e8-3368-4d88-802d-2aca22e51cc8"
      },
      "source": [
        "import pandas as pd\n",
        "import numpy as np\n",
        "from google.colab import files\n",
        "uploaded = files.upload()"
      ],
      "execution_count": 1,
      "outputs": [
        {
          "output_type": "display_data",
          "data": {
            "text/html": [
              "\n",
              "     <input type=\"file\" id=\"files-90f96c4e-38ba-4b87-99f3-8808e7c72433\" name=\"files[]\" multiple disabled\n",
              "        style=\"border:none\" />\n",
              "     <output id=\"result-90f96c4e-38ba-4b87-99f3-8808e7c72433\">\n",
              "      Upload widget is only available when the cell has been executed in the\n",
              "      current browser session. Please rerun this cell to enable.\n",
              "      </output>\n",
              "      <script src=\"/nbextensions/google.colab/files.js\"></script> "
            ],
            "text/plain": [
              "<IPython.core.display.HTML object>"
            ]
          },
          "metadata": {
            "tags": []
          }
        },
        {
          "output_type": "stream",
          "text": [
            "Saving full_trackset.csv to full_trackset.csv\n"
          ],
          "name": "stdout"
        }
      ]
    },
    {
      "cell_type": "code",
      "metadata": {
        "id": "3uFgx3sXGiFW",
        "colab": {
          "base_uri": "https://localhost:8080/"
        },
        "outputId": "4b96ade1-b9b4-4ecc-8d9c-c1291ce84008"
      },
      "source": [
        "# Read in tracks\n",
        "track_table = pd.read_csv(\"full_trackset.csv\")\n",
        "track_table.drop_duplicates(inplace=True)\n",
        "track_table = track_table[['track_name', 'track_id','track_year', 'track_spotify_genre',\n",
        "                           'art_name','art_id', 'alb_name','alb_id', 'art_genre',\n",
        "                           'track_pop','duration_ms','time_signature', 'key', 'loudness','energy', 'speechiness',\n",
        "                           'acousticness','mode','tempo', 'valence', 'danceability', 'instrumentalness',\n",
        "                           'liveness']]\n",
        "len(track_table)"
      ],
      "execution_count": 201,
      "outputs": [
        {
          "output_type": "execute_result",
          "data": {
            "text/plain": [
              "80000"
            ]
          },
          "metadata": {
            "tags": []
          },
          "execution_count": 201
        }
      ]
    },
    {
      "cell_type": "markdown",
      "metadata": {
        "id": "xtEU1N94yEX8"
      },
      "source": [
        "##Standardizing and grouping genre\n",
        "One early issue I ran into was how specific the genres of each song were. Each song could conclude many HIGHLY specific genres like below. To try to use these as features, or to attempt to predict genre with this many potential classifications was nearly impossible."
      ]
    },
    {
      "cell_type": "code",
      "metadata": {
        "colab": {
          "base_uri": "https://localhost:8080/"
        },
        "id": "Kk1rttulyHTD",
        "outputId": "ccb63c1f-aabb-4426-9a88-5afbeeb78257"
      },
      "source": [
        "for track in track_table.art_genre[0:20]:\n",
        "  print(track)"
      ],
      "execution_count": 202,
      "outputs": [
        {
          "output_type": "stream",
          "text": [
            "['classical', 'late romantic era']\n",
            "['korean instrumental', 'neo-classical', 'new age piano']\n",
            "['british classical piano', 'classical piano']\n",
            "['classical cello', 'classical performance']\n",
            "['bow pop', 'compositional ambient', 'icelandic classical', 'neo-classical', 'neoclassical darkwave']\n",
            "['classical', 'late romantic era']\n",
            "['korean instrumental', 'neo-classical', 'new age piano']\n",
            "['classical performance']\n",
            "['compositional ambient', 'neo-classical', 'soundtrack']\n",
            "['classical', 'late romantic era']\n",
            "['bow pop', 'compositional ambient', 'neo-classical']\n",
            "['classical', 'early romantic era', 'polish classical']\n",
            "['classical', 'late romantic era']\n",
            "['classical', 'german romanticism', 'late romantic era']\n",
            "['compositional ambient', 'neo-classical', 'new age piano']\n",
            "['baroque', 'classical', 'early music', 'german baroque']\n",
            "['bow pop', 'compositional ambient', 'neo-classical']\n",
            "['bow pop', 'compositional ambient', 'icelandic classical', 'neo-classical', 'neoclassical darkwave']\n",
            "[]\n",
            "['classical', 'impressionism', 'post-romantic era']\n"
          ],
          "name": "stdout"
        }
      ]
    },
    {
      "cell_type": "markdown",
      "metadata": {
        "id": "V2GzUjSOzUgE"
      },
      "source": [
        "I tried to take care of a few low-hanging fruit like converting those listed as hip hop and hip-hop to hiphop, and replacing most dashes with spaces to separate the genres."
      ]
    },
    {
      "cell_type": "code",
      "metadata": {
        "id": "xN4dHQdUzqNI"
      },
      "source": [
        "# Tranform hip hop into hip-hop, hip pop into hip-pop, early music into early-music\n",
        "track_table['art_genre'] = track_table['art_genre'].str.replace('hip hop','hiphop')\n",
        "track_table['art_genre'] = track_table['art_genre'].str.replace('hip-hop','hippop')\n",
        "track_table['art_genre'] = track_table['art_genre'].str.replace('-','')\n",
        "track_table['art_genre'] = track_table['art_genre'].str.replace('bow pop','bowpop')\n",
        "track_table['art_genre'] = track_table['art_genre'].str.replace('art pop','bowpop')"
      ],
      "execution_count": 203,
      "outputs": []
    },
    {
      "cell_type": "markdown",
      "metadata": {
        "id": "R6ROKYnqzv3K"
      },
      "source": [
        "At this point, I had to rethink my strategy a bit. I decided to convert the array of genres per song, like `['classical', 'late romantic era']`, into a dictionary of word counts like `{'classical': 1, 'era': 1, 'late': 1, 'romantic': 1}`. \n",
        "\n",
        "While doing this, I also added each word to a master list of word counts to evaluate what genres were most common throughout the entire dataset."
      ]
    },
    {
      "cell_type": "code",
      "metadata": {
        "id": "2T9gvrvcGyN_"
      },
      "source": [
        "# ARTIST GENRE ANALYSIS\n",
        "\n",
        "# create dictionary of word counts for each track (track_table['genre_words'])\n",
        "# AND dictionary of word counts across all tracks (all_words)\n",
        "\n",
        "import ast\n",
        "genre_words = []\n",
        "all_words = dict()\n",
        "\n",
        "for genre_list in track_table['art_genre']: # for every artist\n",
        "  artist_count = dict()\n",
        "  genre_list = ast.literal_eval(genre_list)\n",
        "  for genre_string in genre_list: # for each genre in artist_genre list\n",
        "    for word in genre_string.split(): # for each word in each genre\n",
        "      #Add to master list\n",
        "      if word in all_words:\n",
        "        all_words[word] += 1\n",
        "      else:\n",
        "        all_words[word] = 1\n",
        "      #Add to artist-specific list\n",
        "      if word in artist_count:\n",
        "        artist_count[word] += 1\n",
        "      else:\n",
        "        artist_count[word] = 1\n",
        "  genre_words.append(artist_count)\n",
        "track_table['genre_words'] = genre_words"
      ],
      "execution_count": 204,
      "outputs": []
    },
    {
      "cell_type": "markdown",
      "metadata": {
        "id": "e5D6qM2R0x40"
      },
      "source": [
        "From there, I created a counter to determine the most common genres across all 80,000 songs. I took the 10 most popular genres, and decided to drop 2 of them - *rap* and *modern*.\n",
        "\n",
        "I chose to drop *rap* because it's incredibly similar to *hip-hop* sonically. Most songs that are classified as *rap* were also classified as *hip-hop*, and vice versa. I dropped *modern* because I wanted distinct genres that could be distinguished from one another, and I felt that *modern* is a bit of a catch-call genre classification that does not have a distinct sound. What does a *modern* song sound like, anyway?"
      ]
    },
    {
      "cell_type": "code",
      "metadata": {
        "id": "F2vF54VoGz92",
        "colab": {
          "base_uri": "https://localhost:8080/"
        },
        "outputId": "2323b14d-c6e0-4fea-a0dd-e88b3d006309"
      },
      "source": [
        "# Generate set of 8 most popular genres (popular_genres)\n",
        "from collections import Counter \n",
        "all_words_count = Counter(all_words) \n",
        "popular_genres = set([word[0] for word in all_words_count.most_common(10)])\n",
        "print(\"Most Popular Genres: \", popular_genres)\n",
        "popular_genres.remove('rap')\n",
        "popular_genres.remove('modern')"
      ],
      "execution_count": 205,
      "outputs": [
        {
          "output_type": "stream",
          "text": [
            "Most Popular Genres:  {'country', 'pop', 'r&b', 'rap', 'hiphop', 'indie', 'dance', 'modern', 'house', 'rock'}\n"
          ],
          "name": "stdout"
        }
      ]
    },
    {
      "cell_type": "markdown",
      "metadata": {
        "id": "XpkSRAkB3RQY"
      },
      "source": [
        "That left me with 8 genres to use for my analysis."
      ]
    },
    {
      "cell_type": "code",
      "metadata": {
        "colab": {
          "base_uri": "https://localhost:8080/"
        },
        "id": "LZYccxzC0_ma",
        "outputId": "4d433a6a-2c17-4f1b-abde-de5ec7bd3a0c"
      },
      "source": [
        "print(all_words_count.most_common(10))\n",
        "print(\"Most Popular Genres: \", popular_genres)"
      ],
      "execution_count": 206,
      "outputs": [
        {
          "output_type": "stream",
          "text": [
            "[('pop', 75043), ('rock', 40113), ('country', 32302), ('indie', 29079), ('rap', 28852), ('hiphop', 25594), ('house', 21779), ('r&b', 19538), ('dance', 17269), ('modern', 15654)]\n",
            "Most Popular Genres:  {'country', 'pop', 'r&b', 'hiphop', 'indie', 'dance', 'house', 'rock'}\n"
          ],
          "name": "stdout"
        }
      ]
    },
    {
      "cell_type": "markdown",
      "metadata": {
        "id": "2UqfiGUG3mIm"
      },
      "source": [
        "From there, I added a column *master_popular_genre* that would represent which primary genre that the track fell under. Whichever of the top 8 popuplar genres occured most in the genre list for that artist was used as the *master_popular_genre* for that track."
      ]
    },
    {
      "cell_type": "code",
      "metadata": {
        "id": "RI_LpJDOG3pA"
      },
      "source": [
        "# Add column (track_table[\"master_popular_genre\"]) to each track, representing which of the primary genres the track falls into\n",
        "popular_word_count = []\n",
        "for words in track_table['genre_words']: # for every artist\n",
        "  popular_words = words.copy()\n",
        "  for word in words:\n",
        "    if word not in popular_genres:\n",
        "      del popular_words[word]\n",
        "  popular_word_count.append(popular_words)\n",
        "\n",
        "most_popular_master_genre = [Counter(song).most_common(1) for song in popular_word_count]\n",
        "for item in range(0,len(most_popular_master_genre)):\n",
        "  if len(most_popular_master_genre[item]) == 0:\n",
        "    most_popular_master_genre[item] = np.nan\n",
        "  else:\n",
        "    most_popular_master_genre[item] = most_popular_master_genre[item][0][0]\n",
        "track_table[\"master_popular_genre\"] = most_popular_master_genre"
      ],
      "execution_count": 207,
      "outputs": []
    },
    {
      "cell_type": "code",
      "metadata": {
        "id": "uXGG2gvWG5Mo",
        "colab": {
          "base_uri": "https://localhost:8080/",
          "height": 265
        },
        "outputId": "1500174a-e459-42a9-c0c4-38f43a89b435"
      },
      "source": [
        "print(\"Number of tracks that do not fall under top 10 genres:\", track_table[track_table[\"master_popular_genre\"].isna()].count().track_id,\"\\r\\n\")\n",
        "print(\"Number of tracks that fall under top 10 genres: \",track_table.track_id.count() - track_table[track_table[\"master_popular_genre\"].isna()].count().track_id)\n",
        "print(display(track_table.groupby(\"master_popular_genre\").count().track_id))"
      ],
      "execution_count": 208,
      "outputs": [
        {
          "output_type": "stream",
          "text": [
            "Number of tracks that do not fall under top 10 genres: 13229 \r\n",
            "\n",
            "Number of tracks that fall under top 10 genres:  66771\n"
          ],
          "name": "stdout"
        },
        {
          "output_type": "display_data",
          "data": {
            "text/plain": [
              "master_popular_genre\n",
              "country    10005\n",
              "dance        980\n",
              "hiphop     10721\n",
              "house       6294\n",
              "indie       7586\n",
              "pop        16850\n",
              "r&b         5432\n",
              "rock        8903\n",
              "Name: track_id, dtype: int64"
            ]
          },
          "metadata": {
            "tags": []
          }
        },
        {
          "output_type": "stream",
          "text": [
            "None\n"
          ],
          "name": "stdout"
        }
      ]
    },
    {
      "cell_type": "markdown",
      "metadata": {
        "id": "zaM3XyEV4-6s"
      },
      "source": [
        "By summarizing all genres into just 8 primary genres, we lost about 13,000 out of 80,000 songs. This still leaves us with a sample of 67,000 tracks, which should be plenty for our analysis."
      ]
    },
    {
      "cell_type": "code",
      "metadata": {
        "id": "ghyulOum9zq7"
      },
      "source": [
        "track_table.dropna(inplace=True)"
      ],
      "execution_count": 209,
      "outputs": []
    },
    {
      "cell_type": "markdown",
      "metadata": {
        "id": "nzytHgYj5KC0"
      },
      "source": [
        "The final track data output looks like this. Notice that in the below example, since one of the art_genres was *instrumental rock*, the master genre for the track was labeled as *rock*."
      ]
    },
    {
      "cell_type": "code",
      "metadata": {
        "id": "XEObbvHW7NiQ",
        "colab": {
          "base_uri": "https://localhost:8080/"
        },
        "outputId": "b0752aa7-4913-4087-9e13-c38e2a419998"
      },
      "source": [
        "print(track_table.iloc[100], \"\\r\\n\")\n",
        "print(\"art_genre:\",track_table.iloc[100,8])\n",
        "print(\"master_popular_genre:\",track_table.iloc[100,24])"
      ],
      "execution_count": 234,
      "outputs": [
        {
          "output_type": "stream",
          "text": [
            "track_name                                                Magellan's Maze\n",
            "track_id                                           6xnoZ0YivqYmDznz9Fq7Rx\n",
            "track_year                                                           2012\n",
            "track_spotify_genre                                             classical\n",
            "art_name                                                       Buckethead\n",
            "art_id                                             0fDF0jjmdouCIeWhNnblwV\n",
            "alb_name                                              March of the Slunks\n",
            "alb_id                                             5Frfqv4cu7ZhZC1WAP63Ni\n",
            "art_genre               ['funk metal', 'instrumental rock', 'neo class...\n",
            "track_pop                                                              37\n",
            "duration_ms                                                        177459\n",
            "time_signature                                                          4\n",
            "key                                                                    11\n",
            "loudness                                                            -5.66\n",
            "energy                                                              0.954\n",
            "speechiness                                                        0.0516\n",
            "acousticness                                                     1.14e-05\n",
            "mode                                                                    1\n",
            "tempo                                                             145.018\n",
            "valence                                                             0.653\n",
            "danceability                                                         0.48\n",
            "instrumentalness                                                    0.688\n",
            "liveness                                                           0.0892\n",
            "genre_words             {'funk': 1, 'metal': 2, 'instrumental': 1, 'ro...\n",
            "master_popular_genre                                                 rock\n",
            "Name: 1088, dtype: object \r\n",
            "\n",
            "art_genre: ['funk metal', 'instrumental rock', 'neo classical metal', 'shred']\n",
            "master_popular_genre: rock\n"
          ],
          "name": "stdout"
        }
      ]
    },
    {
      "cell_type": "code",
      "metadata": {
        "id": "P-syxPvGG5w2",
        "colab": {
          "base_uri": "https://localhost:8080/",
          "height": 16
        },
        "outputId": "6938b970-b17f-4254-def9-cfaeee397e51"
      },
      "source": [
        "track_table.to_csv('cleaned_tracks_both.csv', index=False)\n",
        "files.download('cleaned_tracks_both.csv')"
      ],
      "execution_count": 236,
      "outputs": [
        {
          "output_type": "display_data",
          "data": {
            "application/javascript": [
              "\n",
              "    async function download(id, filename, size) {\n",
              "      if (!google.colab.kernel.accessAllowed) {\n",
              "        return;\n",
              "      }\n",
              "      const div = document.createElement('div');\n",
              "      const label = document.createElement('label');\n",
              "      label.textContent = `Downloading \"${filename}\": `;\n",
              "      div.appendChild(label);\n",
              "      const progress = document.createElement('progress');\n",
              "      progress.max = size;\n",
              "      div.appendChild(progress);\n",
              "      document.body.appendChild(div);\n",
              "\n",
              "      const buffers = [];\n",
              "      let downloaded = 0;\n",
              "\n",
              "      const channel = await google.colab.kernel.comms.open(id);\n",
              "      // Send a message to notify the kernel that we're ready.\n",
              "      channel.send({})\n",
              "\n",
              "      for await (const message of channel.messages) {\n",
              "        // Send a message to notify the kernel that we're ready.\n",
              "        channel.send({})\n",
              "        if (message.buffers) {\n",
              "          for (const buffer of message.buffers) {\n",
              "            buffers.push(buffer);\n",
              "            downloaded += buffer.byteLength;\n",
              "            progress.value = downloaded;\n",
              "          }\n",
              "        }\n",
              "      }\n",
              "      const blob = new Blob(buffers, {type: 'application/binary'});\n",
              "      const a = document.createElement('a');\n",
              "      a.href = window.URL.createObjectURL(blob);\n",
              "      a.download = filename;\n",
              "      div.appendChild(a);\n",
              "      a.click();\n",
              "      div.remove();\n",
              "    }\n",
              "  "
            ],
            "text/plain": [
              "<IPython.core.display.Javascript object>"
            ]
          },
          "metadata": {
            "tags": []
          }
        },
        {
          "output_type": "display_data",
          "data": {
            "application/javascript": [
              "download(\"download_60f4ab38-02df-480d-a68f-a171ab2e3bd6\", \"cleaned_tracks_both.csv\", 26362254)"
            ],
            "text/plain": [
              "<IPython.core.display.Javascript object>"
            ]
          },
          "metadata": {
            "tags": []
          }
        }
      ]
    }
  ]
}