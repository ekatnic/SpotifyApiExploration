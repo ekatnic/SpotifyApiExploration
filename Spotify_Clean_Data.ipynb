{
  "nbformat": 4,
  "nbformat_minor": 0,
  "metadata": {
    "colab": {
      "name": "Spotify_Clean_Data.ipynb",
      "provenance": [],
      "collapsed_sections": []
    },
    "kernelspec": {
      "name": "python3",
      "display_name": "Python 3"
    }
  },
  "cells": [
    {
      "cell_type": "code",
      "metadata": {
        "id": "o3YLIlbLGM0T",
        "colab_type": "code",
        "outputId": "08d3180f-fcd3-46bb-9a09-5a4b2af920fb",
        "colab": {
          "resources": {
            "http://localhost:8080/nbextensions/google.colab/files.js": {
              "data": "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",
              "ok": true,
              "headers": [
                [
                  "content-type",
                  "application/javascript"
                ]
              ],
              "status": 200,
              "status_text": ""
            }
          },
          "base_uri": "https://localhost:8080/",
          "height": 74
        }
      },
      "source": [
        "import pandas as pd\n",
        "import numpy as np\n",
        "from google.colab import files\n",
        "uploaded = files.upload()"
      ],
      "execution_count": 0,
      "outputs": [
        {
          "output_type": "display_data",
          "data": {
            "text/html": [
              "\n",
              "     <input type=\"file\" id=\"files-89c72ee0-9395-4935-ac02-b0ed9e8ff09d\" name=\"files[]\" multiple disabled />\n",
              "     <output id=\"result-89c72ee0-9395-4935-ac02-b0ed9e8ff09d\">\n",
              "      Upload widget is only available when the cell has been executed in the\n",
              "      current browser session. Please rerun this cell to enable.\n",
              "      </output>\n",
              "      <script src=\"/nbextensions/google.colab/files.js\"></script> "
            ],
            "text/plain": [
              "<IPython.core.display.HTML object>"
            ]
          },
          "metadata": {
            "tags": []
          }
        },
        {
          "output_type": "stream",
          "text": [
            "Saving rebalance.csv to rebalance.csv\n"
          ],
          "name": "stdout"
        }
      ]
    },
    {
      "cell_type": "code",
      "metadata": {
        "id": "3uFgx3sXGiFW",
        "colab_type": "code",
        "colab": {}
      },
      "source": [
        "track_table_1 = pd.read_csv(\"50k.csv\").iloc[:,1:]\n",
        "track_table_2 = pd.read_csv(\"rebalance.csv\").iloc[:,1:]# track_table = combined table\n",
        "# remove duplicates\n",
        "track_table = pd.concat([track_table_1, track_table_2], axis=0)\n",
        "track_table.drop_duplicates(inplace=True)\n",
        "track_table = track_table[['track_name', 'track_id','track_year', #'track_spotify_genre',\n",
        "                           'art_name','art_id', 'alb_name','alb_id', 'art_genre',\n",
        "                           'track_pop','duration_ms','time_signature', 'key', 'loudness','energy', 'speechiness',\n",
        "                           'acousticness','mode','tempo', 'valence', 'danceability', 'instrumentalness',\n",
        "                           'liveness']]"
      ],
      "execution_count": 0,
      "outputs": []
    },
    {
      "cell_type": "code",
      "metadata": {
        "id": "2T9gvrvcGyN_",
        "colab_type": "code",
        "colab": {}
      },
      "source": [
        "# ARTIST GENRE ANALYSIS\n",
        "# track_table.dropna(inplace=True)\n",
        "# Tranform hip hop into hip-hop, hip pop into hip-pop, early music into early-music\n",
        "track_table['art_genre'] = track_table['art_genre'].str.replace('hip hop','hip-hop')\n",
        "track_table['art_genre'] = track_table['art_genre'].str.replace('hip pop','hip-pop')\n",
        "track_table['art_genre'] = track_table['art_genre'].str.replace('early music','early-music')\n",
        "\n",
        "# create dictionary of word counts for each track (track_table['genre_words'])\n",
        "# AND dictionary of word counts across all tracks (all_words)\n",
        "\n",
        "\n",
        "\n",
        "import ast\n",
        "genre_words = []\n",
        "all_words = dict()\n",
        "\n",
        "for genre_list in track_table['art_genre']: # for every artist\n",
        "  artist_count = dict()\n",
        "  genre_list = ast.literal_eval(genre_list)\n",
        "  for genre_string in genre_list: # for each genre in artist_genre list\n",
        "    for word in genre_string.split(): # for each word in each genre\n",
        "      #Add to master list\n",
        "      if word in all_words:\n",
        "        all_words[word] += 1\n",
        "      else:\n",
        "        all_words[word] = 1\n",
        "      #Add to artist-specific list\n",
        "      if word in artist_count:\n",
        "        artist_count[word] += 1\n",
        "      else:\n",
        "        artist_count[word] = 1\n",
        "  genre_words.append(artist_count)\n",
        "track_table['genre_words'] = genre_words"
      ],
      "execution_count": 0,
      "outputs": []
    },
    {
      "cell_type": "code",
      "metadata": {
        "id": "F2vF54VoGz92",
        "colab_type": "code",
        "outputId": "65aa9cd9-79e7-461c-f460-063142c69a43",
        "colab": {
          "base_uri": "https://localhost:8080/",
          "height": 34
        }
      },
      "source": [
        "# Generate set of 10 most popular genres (popular_genres)\n",
        "from collections import Counter \n",
        "all_words_count = Counter(all_words) \n",
        "popular_genres = set([word[0] for word in all_words_count.most_common(12)])\n",
        "\n",
        "popular_genres.remove('rap')\n",
        "popular_genres.remove('trap')\n",
        "popular_genres.remove('modern')\n",
        "popular_genres.remove('dance')\n",
        "\n",
        "print(\"Most Popular Genres: \", popular_genres)"
      ],
      "execution_count": 0,
      "outputs": [
        {
          "output_type": "stream",
          "text": [
            "Most Popular Genres:  {'r&b', 'pop', 'indie', 'alternative', 'hip-hop', 'rock', 'house', 'country'}\n"
          ],
          "name": "stdout"
        }
      ]
    },
    {
      "cell_type": "code",
      "metadata": {
        "id": "RI_LpJDOG3pA",
        "colab_type": "code",
        "colab": {}
      },
      "source": [
        "# Add column (track_table[\"master_popular_genre\"]) to each track, representing which of the primary genres the track falls into\n",
        "popular_word_count = []\n",
        "for words in track_table['genre_words']: # for every artist\n",
        "  popular_words = words.copy()\n",
        "  for word in words:\n",
        "    if word not in popular_genres:\n",
        "      del popular_words[word]\n",
        "  popular_word_count.append(popular_words)\n",
        "\n",
        "most_popular_master_genre = [Counter(song).most_common(1) for song in popular_word_count]\n",
        "for item in range(0,len(most_popular_master_genre)):\n",
        "  if len(most_popular_master_genre[item]) == 0:\n",
        "    most_popular_master_genre[item] = np.nan\n",
        "  else:\n",
        "    most_popular_master_genre[item] = most_popular_master_genre[item][0][0]\n",
        "track_table[\"master_popular_genre\"] = most_popular_master_genre"
      ],
      "execution_count": 0,
      "outputs": []
    },
    {
      "cell_type": "code",
      "metadata": {
        "id": "uXGG2gvWG5Mo",
        "colab_type": "code",
        "outputId": "81c81ce4-fc68-4eee-c73e-ed8c17bc6a06",
        "colab": {
          "base_uri": "https://localhost:8080/",
          "height": 221
        }
      },
      "source": [
        "print(\"Number of tracks that do not fall under top 10 genres: \", track_table[track_table[\"master_popular_genre\"].isna()].count().track_id)\n",
        "print(display(track_table.groupby(\"master_popular_genre\").count().track_id))"
      ],
      "execution_count": 0,
      "outputs": [
        {
          "output_type": "stream",
          "text": [
            "Number of tracks that do not fall under top 10 genres:  16158\n"
          ],
          "name": "stdout"
        },
        {
          "output_type": "display_data",
          "data": {
            "text/plain": [
              "master_popular_genre\n",
              "alternative     4545\n",
              "country         7238\n",
              "hip-hop         8146\n",
              "house           5775\n",
              "indie           5741\n",
              "pop            17987\n",
              "r&b             3678\n",
              "rock            5298\n",
              "Name: track_id, dtype: int64"
            ]
          },
          "metadata": {
            "tags": []
          }
        },
        {
          "output_type": "stream",
          "text": [
            "None\n"
          ],
          "name": "stdout"
        }
      ]
    },
    {
      "cell_type": "code",
      "metadata": {
        "id": "P-syxPvGG5w2",
        "colab_type": "code",
        "colab": {}
      },
      "source": [
        "track_table.to_csv('cleaned_tracks_genre.csv', index=False)\n",
        "files.download('cleaned_tracks_genre.csv')"
      ],
      "execution_count": 0,
      "outputs": []
    },
    {
      "cell_type": "code",
      "metadata": {
        "id": "OSknl3UId8qX",
        "colab_type": "code",
        "colab": {}
      },
      "source": [
        "# pop_tracks = track_table[track_table.master_popular_genre == 'pop']\n",
        "# track_table_popless = track_table[track_table.master_popular_genre != 'pop']\n",
        "# pop_tracks_sampled = pop_tracks.sample(n=7000)\n",
        "# track_table_balanced = pd.concat([track_table_popless, pop_tracks_sampled], axis=0)\n",
        "\n",
        "# track_table_balanced.to_csv('cleaned_tracks_genre_balanced.csv', index=False)\n",
        "# files.download('cleaned_tracks_genre_balanced.csv')"
      ],
      "execution_count": 0,
      "outputs": []
    },
    {
      "cell_type": "code",
      "metadata": {
        "id": "XEObbvHW7NiQ",
        "colab_type": "code",
        "outputId": "b205904f-011b-4f1f-f09b-b6018b100319",
        "colab": {
          "base_uri": "https://localhost:8080/",
          "height": 479
        }
      },
      "source": [
        "track_table.head()"
      ],
      "execution_count": 0,
      "outputs": [
        {
          "output_type": "execute_result",
          "data": {
            "text/html": [
              "<div>\n",
              "<style scoped>\n",
              "    .dataframe tbody tr th:only-of-type {\n",
              "        vertical-align: middle;\n",
              "    }\n",
              "\n",
              "    .dataframe tbody tr th {\n",
              "        vertical-align: top;\n",
              "    }\n",
              "\n",
              "    .dataframe thead th {\n",
              "        text-align: right;\n",
              "    }\n",
              "</style>\n",
              "<table border=\"1\" class=\"dataframe\">\n",
              "  <thead>\n",
              "    <tr style=\"text-align: right;\">\n",
              "      <th></th>\n",
              "      <th>track_name</th>\n",
              "      <th>track_id</th>\n",
              "      <th>track_year</th>\n",
              "      <th>art_name</th>\n",
              "      <th>art_id</th>\n",
              "      <th>alb_name</th>\n",
              "      <th>alb_id</th>\n",
              "      <th>art_genre</th>\n",
              "      <th>track_pop</th>\n",
              "      <th>duration_ms</th>\n",
              "      <th>time_signature</th>\n",
              "      <th>key</th>\n",
              "      <th>loudness</th>\n",
              "      <th>energy</th>\n",
              "      <th>speechiness</th>\n",
              "      <th>acousticness</th>\n",
              "      <th>mode</th>\n",
              "      <th>tempo</th>\n",
              "      <th>valence</th>\n",
              "      <th>danceability</th>\n",
              "      <th>instrumentalness</th>\n",
              "      <th>liveness</th>\n",
              "      <th>genre_words</th>\n",
              "      <th>master_popular_genre</th>\n",
              "    </tr>\n",
              "  </thead>\n",
              "  <tbody>\n",
              "    <tr>\n",
              "      <th>0</th>\n",
              "      <td>Tongue Tied</td>\n",
              "      <td>0GO8y8jQk1PkHzS31d699N</td>\n",
              "      <td>2011</td>\n",
              "      <td>Grouplove</td>\n",
              "      <td>3kVUvbeRdcrqQ3oHk5hPdx</td>\n",
              "      <td>Never Trust A Happy Song</td>\n",
              "      <td>3oylWMc9TTC6Nx4I6U3axc</td>\n",
              "      <td>['indie pop', 'indie rock', 'la indie', 'moder...</td>\n",
              "      <td>77</td>\n",
              "      <td>218013.0</td>\n",
              "      <td>4.0</td>\n",
              "      <td>3.0</td>\n",
              "      <td>-5.835</td>\n",
              "      <td>0.936</td>\n",
              "      <td>0.0439</td>\n",
              "      <td>0.00847</td>\n",
              "      <td>1.0</td>\n",
              "      <td>112.960</td>\n",
              "      <td>0.371</td>\n",
              "      <td>0.560</td>\n",
              "      <td>0.000000</td>\n",
              "      <td>0.1610</td>\n",
              "      <td>{'indie': 3, 'pop': 1, 'rock': 4, 'la': 1, 'mo...</td>\n",
              "      <td>rock</td>\n",
              "    </tr>\n",
              "    <tr>\n",
              "      <th>1</th>\n",
              "      <td>Pumped Up Kicks</td>\n",
              "      <td>7w87IxuO7BDcJ3YUqCyMTT</td>\n",
              "      <td>2011</td>\n",
              "      <td>Foster The People</td>\n",
              "      <td>7gP3bB2nilZXLfPHJhMdvc</td>\n",
              "      <td>Torches</td>\n",
              "      <td>7Kmmw7Z5D2UD5MVwdm10sT</td>\n",
              "      <td>['indie pop', 'indietronica', 'modern rock', '...</td>\n",
              "      <td>82</td>\n",
              "      <td>239600.0</td>\n",
              "      <td>4.0</td>\n",
              "      <td>5.0</td>\n",
              "      <td>-5.849</td>\n",
              "      <td>0.710</td>\n",
              "      <td>0.0292</td>\n",
              "      <td>0.14500</td>\n",
              "      <td>0.0</td>\n",
              "      <td>127.975</td>\n",
              "      <td>0.965</td>\n",
              "      <td>0.733</td>\n",
              "      <td>0.115000</td>\n",
              "      <td>0.0956</td>\n",
              "      <td>{'indie': 1, 'pop': 1, 'indietronica': 1, 'mod...</td>\n",
              "      <td>rock</td>\n",
              "    </tr>\n",
              "    <tr>\n",
              "      <th>2</th>\n",
              "      <td>Work Out</td>\n",
              "      <td>2wAJTrFhCnQyNSD3oUgTZO</td>\n",
              "      <td>2011</td>\n",
              "      <td>J. Cole</td>\n",
              "      <td>6l3HvQ5sa6mXTsMTB19rO5</td>\n",
              "      <td>Cole World: The Sideline Story</td>\n",
              "      <td>0fhmJYVhW0e4i33pCLPA5i</td>\n",
              "      <td>['conscious hip-hop', 'hip-hop', 'nc hip-hop',...</td>\n",
              "      <td>77</td>\n",
              "      <td>235320.0</td>\n",
              "      <td>4.0</td>\n",
              "      <td>2.0</td>\n",
              "      <td>-6.903</td>\n",
              "      <td>0.427</td>\n",
              "      <td>0.1060</td>\n",
              "      <td>0.05310</td>\n",
              "      <td>1.0</td>\n",
              "      <td>93.004</td>\n",
              "      <td>0.216</td>\n",
              "      <td>0.831</td>\n",
              "      <td>0.000000</td>\n",
              "      <td>0.3070</td>\n",
              "      <td>{'conscious': 1, 'hip-hop': 3, 'nc': 1, 'pop':...</td>\n",
              "      <td>hip-hop</td>\n",
              "    </tr>\n",
              "    <tr>\n",
              "      <th>3</th>\n",
              "      <td>Someone Like You</td>\n",
              "      <td>4kflIGfjdZJW4ot2ioixTB</td>\n",
              "      <td>2011</td>\n",
              "      <td>Adele</td>\n",
              "      <td>4dpARuHxo51G3z768sgnrY</td>\n",
              "      <td>21</td>\n",
              "      <td>1azUkThwd2HfUDdeNeT147</td>\n",
              "      <td>['british soul', 'pop', 'uk pop']</td>\n",
              "      <td>77</td>\n",
              "      <td>285040.0</td>\n",
              "      <td>4.0</td>\n",
              "      <td>9.0</td>\n",
              "      <td>-8.251</td>\n",
              "      <td>0.330</td>\n",
              "      <td>0.0285</td>\n",
              "      <td>0.89200</td>\n",
              "      <td>1.0</td>\n",
              "      <td>135.109</td>\n",
              "      <td>0.285</td>\n",
              "      <td>0.559</td>\n",
              "      <td>0.000000</td>\n",
              "      <td>0.0975</td>\n",
              "      <td>{'british': 1, 'soul': 1, 'pop': 2, 'uk': 1}</td>\n",
              "      <td>pop</td>\n",
              "    </tr>\n",
              "    <tr>\n",
              "      <th>4</th>\n",
              "      <td>Somebody That I Used To Know</td>\n",
              "      <td>4wCmqSrbyCgxEXROQE6vtV</td>\n",
              "      <td>2011</td>\n",
              "      <td>Gotye</td>\n",
              "      <td>2AsusXITU8P25dlRNhcAbG</td>\n",
              "      <td>Making Mirrors</td>\n",
              "      <td>1HjSyGjmLNjRAKgT9t1cna</td>\n",
              "      <td>['australian pop']</td>\n",
              "      <td>74</td>\n",
              "      <td>244973.0</td>\n",
              "      <td>4.0</td>\n",
              "      <td>0.0</td>\n",
              "      <td>-7.036</td>\n",
              "      <td>0.495</td>\n",
              "      <td>0.0370</td>\n",
              "      <td>0.59100</td>\n",
              "      <td>1.0</td>\n",
              "      <td>129.062</td>\n",
              "      <td>0.720</td>\n",
              "      <td>0.864</td>\n",
              "      <td>0.000133</td>\n",
              "      <td>0.0992</td>\n",
              "      <td>{'australian': 1, 'pop': 1}</td>\n",
              "      <td>pop</td>\n",
              "    </tr>\n",
              "  </tbody>\n",
              "</table>\n",
              "</div>"
            ],
            "text/plain": [
              "                     track_name  ... master_popular_genre\n",
              "0                   Tongue Tied  ...                 rock\n",
              "1               Pumped Up Kicks  ...                 rock\n",
              "2                      Work Out  ...              hip-hop\n",
              "3              Someone Like You  ...                  pop\n",
              "4  Somebody That I Used To Know  ...                  pop\n",
              "\n",
              "[5 rows x 24 columns]"
            ]
          },
          "metadata": {
            "tags": []
          },
          "execution_count": 19
        }
      ]
    }
  ]
}