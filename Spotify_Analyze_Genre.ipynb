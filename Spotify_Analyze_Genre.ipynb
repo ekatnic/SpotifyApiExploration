{
  "nbformat": 4,
  "nbformat_minor": 0,
  "metadata": {
    "colab": {
      "name": "Spotify_Analyze_Genre.ipynb",
      "provenance": [],
      "collapsed_sections": []
    },
    "kernelspec": {
      "display_name": "Python 3",
      "name": "python3"
    }
  },
  "cells": [
    {
      "cell_type": "markdown",
      "metadata": {
        "id": "Yxynj67aT9Xq"
      },
      "source": [
        "#Analyze Spotify Genre\n",
        "##In this notebook, I fed the data into a multi-class classification algorithm to try to predict the genre of a song based on the audible attributes. For the purpose of limiting the genres to classify, I went with songs within just the top 7 most popular genres according to the genre analysis done in previous secitons. With some optimizations and a little leeway, the algorithm was able to predict a songs genre with about 68% accuracy in 1 prediction and with about 84% accuracy with 2 predictions. I was fairly satisfied with this result given the difficulty of 7-way classification."
      ]
    },
    {
      "cell_type": "markdown",
      "metadata": {
        "id": "SJD7k5KXboZS"
      },
      "source": [
        "## Data Preprocessing:"
      ]
    },
    {
      "cell_type": "code",
      "metadata": {
        "id": "OlnmJvKn2WiY",
        "colab": {
          "resources": {
            "http://localhost:8080/nbextensions/google.colab/files.js": {
              "data": "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",
              "ok": true,
              "headers": [
                [
                  "content-type",
                  "application/javascript"
                ]
              ],
              "status": 200,
              "status_text": ""
            }
          },
          "base_uri": "https://localhost:8080/",
          "height": 73
        },
        "outputId": "ea1330cd-c22b-43d4-9bac-4e4e53ade178"
      },
      "source": [
        "import pandas as pd\n",
        "import numpy as np\n",
        "from sklearn.model_selection import GridSearchCV\n",
        "from sklearn.model_selection import train_test_split\n",
        "from sklearn.metrics import confusion_matrix\n",
        "from sklearn.metrics import accuracy_score\n",
        "\n",
        "from google.colab import files\n",
        "uploaded = files.upload()"
      ],
      "execution_count": 1,
      "outputs": [
        {
          "output_type": "display_data",
          "data": {
            "text/html": [
              "\n",
              "     <input type=\"file\" id=\"files-bc8f4a9e-a35b-4af1-b441-8b3423a494b2\" name=\"files[]\" multiple disabled\n",
              "        style=\"border:none\" />\n",
              "     <output id=\"result-bc8f4a9e-a35b-4af1-b441-8b3423a494b2\">\n",
              "      Upload widget is only available when the cell has been executed in the\n",
              "      current browser session. Please rerun this cell to enable.\n",
              "      </output>\n",
              "      <script src=\"/nbextensions/google.colab/files.js\"></script> "
            ],
            "text/plain": [
              "<IPython.core.display.HTML object>"
            ]
          },
          "metadata": {
            "tags": []
          }
        },
        {
          "output_type": "stream",
          "text": [
            "Saving cleaned_tracks_both.csv to cleaned_tracks_both.csv\n"
          ],
          "name": "stdout"
        }
      ]
    },
    {
      "cell_type": "code",
      "metadata": {
        "id": "CcgrCxCO2vyM"
      },
      "source": [
        "track_table = pd.read_csv(\"cleaned_tracks_both.csv\")\n",
        "track_table.dropna(inplace=True)"
      ],
      "execution_count": 2,
      "outputs": []
    },
    {
      "cell_type": "markdown",
      "metadata": {
        "id": "BT4Ypz7uXwQ3"
      },
      "source": [
        "A quick reminder about the number of tracks per genre:"
      ]
    },
    {
      "cell_type": "code",
      "metadata": {
        "colab": {
          "base_uri": "https://localhost:8080/"
        },
        "id": "pWRXVENGU83A",
        "outputId": "523f3805-ecb1-4d25-f505-75d214e5a13f"
      },
      "source": [
        "track_table.groupby(\"master_popular_genre\").track_id.count()"
      ],
      "execution_count": 3,
      "outputs": [
        {
          "output_type": "execute_result",
          "data": {
            "text/plain": [
              "master_popular_genre\n",
              "country    10005\n",
              "hiphop     10728\n",
              "house       6529\n",
              "indie       7673\n",
              "pop        17277\n",
              "r&b         5505\n",
              "rock        8967\n",
              "Name: track_id, dtype: int64"
            ]
          },
          "metadata": {
            "tags": []
          },
          "execution_count": 3
        }
      ]
    },
    {
      "cell_type": "code",
      "metadata": {
        "id": "_gkiZCar4Wmh"
      },
      "source": [
        "numerics = ['int16', 'int32', 'int64', 'float16', 'float32', 'float64']\n",
        "data_numerics = pd.concat([track_table.select_dtypes(include=[np.number]),track_table['master_popular_genre']],axis=1, sort=False)"
      ],
      "execution_count": 4,
      "outputs": []
    },
    {
      "cell_type": "markdown",
      "metadata": {
        "id": "YwKGxy9jX17Y"
      },
      "source": [
        "One more look at the data:"
      ]
    },
    {
      "cell_type": "code",
      "metadata": {
        "colab": {
          "base_uri": "https://localhost:8080/",
          "height": 225
        },
        "id": "0JwHpKEd4XM1",
        "outputId": "eca52db4-f608-408a-bf2b-3c32f7d48d8c"
      },
      "source": [
        "track_table_dummies = pd.get_dummies(data_numerics,columns=['key','time_signature',],drop_first=True)\n",
        "track_table_dummies = track_table_dummies.drop('loudness', axis=1)\n",
        "track_table_dummies.head()"
      ],
      "execution_count": 5,
      "outputs": [
        {
          "output_type": "execute_result",
          "data": {
            "text/html": [
              "<div>\n",
              "<style scoped>\n",
              "    .dataframe tbody tr th:only-of-type {\n",
              "        vertical-align: middle;\n",
              "    }\n",
              "\n",
              "    .dataframe tbody tr th {\n",
              "        vertical-align: top;\n",
              "    }\n",
              "\n",
              "    .dataframe thead th {\n",
              "        text-align: right;\n",
              "    }\n",
              "</style>\n",
              "<table border=\"1\" class=\"dataframe\">\n",
              "  <thead>\n",
              "    <tr style=\"text-align: right;\">\n",
              "      <th></th>\n",
              "      <th>track_pop</th>\n",
              "      <th>track_year</th>\n",
              "      <th>duration_ms</th>\n",
              "      <th>energy</th>\n",
              "      <th>speechiness</th>\n",
              "      <th>acousticness</th>\n",
              "      <th>mode</th>\n",
              "      <th>tempo</th>\n",
              "      <th>valence</th>\n",
              "      <th>danceability</th>\n",
              "      <th>instrumentalness</th>\n",
              "      <th>liveness</th>\n",
              "      <th>master_popular_genre</th>\n",
              "      <th>key_1</th>\n",
              "      <th>key_2</th>\n",
              "      <th>key_3</th>\n",
              "      <th>key_4</th>\n",
              "      <th>key_5</th>\n",
              "      <th>key_6</th>\n",
              "      <th>key_7</th>\n",
              "      <th>key_8</th>\n",
              "      <th>key_9</th>\n",
              "      <th>key_10</th>\n",
              "      <th>key_11</th>\n",
              "      <th>time_signature_1</th>\n",
              "      <th>time_signature_3</th>\n",
              "      <th>time_signature_4</th>\n",
              "      <th>time_signature_5</th>\n",
              "    </tr>\n",
              "  </thead>\n",
              "  <tbody>\n",
              "    <tr>\n",
              "      <th>0</th>\n",
              "      <td>50</td>\n",
              "      <td>2011</td>\n",
              "      <td>247010</td>\n",
              "      <td>0.41200</td>\n",
              "      <td>0.0357</td>\n",
              "      <td>0.94300</td>\n",
              "      <td>1</td>\n",
              "      <td>88.113</td>\n",
              "      <td>0.193</td>\n",
              "      <td>0.167</td>\n",
              "      <td>0.000121</td>\n",
              "      <td>0.7570</td>\n",
              "      <td>pop</td>\n",
              "      <td>0</td>\n",
              "      <td>1</td>\n",
              "      <td>0</td>\n",
              "      <td>0</td>\n",
              "      <td>0</td>\n",
              "      <td>0</td>\n",
              "      <td>0</td>\n",
              "      <td>0</td>\n",
              "      <td>0</td>\n",
              "      <td>0</td>\n",
              "      <td>0</td>\n",
              "      <td>0</td>\n",
              "      <td>0</td>\n",
              "      <td>1</td>\n",
              "      <td>0</td>\n",
              "    </tr>\n",
              "    <tr>\n",
              "      <th>1</th>\n",
              "      <td>44</td>\n",
              "      <td>2011</td>\n",
              "      <td>353667</td>\n",
              "      <td>0.72700</td>\n",
              "      <td>0.0462</td>\n",
              "      <td>0.03010</td>\n",
              "      <td>0</td>\n",
              "      <td>87.349</td>\n",
              "      <td>0.391</td>\n",
              "      <td>0.485</td>\n",
              "      <td>0.758000</td>\n",
              "      <td>0.1630</td>\n",
              "      <td>rock</td>\n",
              "      <td>0</td>\n",
              "      <td>0</td>\n",
              "      <td>0</td>\n",
              "      <td>0</td>\n",
              "      <td>0</td>\n",
              "      <td>0</td>\n",
              "      <td>0</td>\n",
              "      <td>0</td>\n",
              "      <td>0</td>\n",
              "      <td>0</td>\n",
              "      <td>1</td>\n",
              "      <td>0</td>\n",
              "      <td>0</td>\n",
              "      <td>1</td>\n",
              "      <td>0</td>\n",
              "    </tr>\n",
              "    <tr>\n",
              "      <th>2</th>\n",
              "      <td>37</td>\n",
              "      <td>2011</td>\n",
              "      <td>163000</td>\n",
              "      <td>0.00385</td>\n",
              "      <td>0.0449</td>\n",
              "      <td>0.99500</td>\n",
              "      <td>0</td>\n",
              "      <td>141.201</td>\n",
              "      <td>0.117</td>\n",
              "      <td>0.228</td>\n",
              "      <td>0.917000</td>\n",
              "      <td>0.0858</td>\n",
              "      <td>rock</td>\n",
              "      <td>0</td>\n",
              "      <td>0</td>\n",
              "      <td>0</td>\n",
              "      <td>0</td>\n",
              "      <td>0</td>\n",
              "      <td>0</td>\n",
              "      <td>0</td>\n",
              "      <td>0</td>\n",
              "      <td>1</td>\n",
              "      <td>0</td>\n",
              "      <td>0</td>\n",
              "      <td>0</td>\n",
              "      <td>1</td>\n",
              "      <td>0</td>\n",
              "      <td>0</td>\n",
              "    </tr>\n",
              "    <tr>\n",
              "      <th>3</th>\n",
              "      <td>41</td>\n",
              "      <td>2011</td>\n",
              "      <td>253991</td>\n",
              "      <td>0.30500</td>\n",
              "      <td>0.0318</td>\n",
              "      <td>0.93600</td>\n",
              "      <td>1</td>\n",
              "      <td>85.786</td>\n",
              "      <td>0.446</td>\n",
              "      <td>0.230</td>\n",
              "      <td>0.000002</td>\n",
              "      <td>0.7440</td>\n",
              "      <td>pop</td>\n",
              "      <td>0</td>\n",
              "      <td>0</td>\n",
              "      <td>0</td>\n",
              "      <td>0</td>\n",
              "      <td>0</td>\n",
              "      <td>0</td>\n",
              "      <td>1</td>\n",
              "      <td>0</td>\n",
              "      <td>0</td>\n",
              "      <td>0</td>\n",
              "      <td>0</td>\n",
              "      <td>0</td>\n",
              "      <td>1</td>\n",
              "      <td>0</td>\n",
              "      <td>0</td>\n",
              "    </tr>\n",
              "    <tr>\n",
              "      <th>4</th>\n",
              "      <td>42</td>\n",
              "      <td>2011</td>\n",
              "      <td>294613</td>\n",
              "      <td>0.95400</td>\n",
              "      <td>0.0607</td>\n",
              "      <td>0.00894</td>\n",
              "      <td>0</td>\n",
              "      <td>163.995</td>\n",
              "      <td>0.287</td>\n",
              "      <td>0.454</td>\n",
              "      <td>0.000000</td>\n",
              "      <td>0.0659</td>\n",
              "      <td>rock</td>\n",
              "      <td>0</td>\n",
              "      <td>0</td>\n",
              "      <td>1</td>\n",
              "      <td>0</td>\n",
              "      <td>0</td>\n",
              "      <td>0</td>\n",
              "      <td>0</td>\n",
              "      <td>0</td>\n",
              "      <td>0</td>\n",
              "      <td>0</td>\n",
              "      <td>0</td>\n",
              "      <td>0</td>\n",
              "      <td>0</td>\n",
              "      <td>1</td>\n",
              "      <td>0</td>\n",
              "    </tr>\n",
              "  </tbody>\n",
              "</table>\n",
              "</div>"
            ],
            "text/plain": [
              "   track_pop  track_year  ...  time_signature_4  time_signature_5\n",
              "0         50        2011  ...                 1                 0\n",
              "1         44        2011  ...                 1                 0\n",
              "2         37        2011  ...                 0                 0\n",
              "3         41        2011  ...                 0                 0\n",
              "4         42        2011  ...                 1                 0\n",
              "\n",
              "[5 rows x 28 columns]"
            ]
          },
          "metadata": {
            "tags": []
          },
          "execution_count": 5
        }
      ]
    },
    {
      "cell_type": "code",
      "metadata": {
        "id": "50PsH8ALACJ8"
      },
      "source": [
        "#move genre to front\n",
        "genre = track_table_dummies['master_popular_genre']\n",
        "track_table_dummies.drop('master_popular_genre', axis=1,inplace = True)\n",
        "track_table_dummies.insert(0, 'master_popular_genre', genre)"
      ],
      "execution_count": 6,
      "outputs": []
    },
    {
      "cell_type": "code",
      "metadata": {
        "colab": {
          "base_uri": "https://localhost:8080/",
          "height": 225
        },
        "id": "D5tk5mj4AtlX",
        "outputId": "51d1bdc2-cca2-4c92-f665-17016f60a3e9"
      },
      "source": [
        "track_table_dummies.head()"
      ],
      "execution_count": 7,
      "outputs": [
        {
          "output_type": "execute_result",
          "data": {
            "text/html": [
              "<div>\n",
              "<style scoped>\n",
              "    .dataframe tbody tr th:only-of-type {\n",
              "        vertical-align: middle;\n",
              "    }\n",
              "\n",
              "    .dataframe tbody tr th {\n",
              "        vertical-align: top;\n",
              "    }\n",
              "\n",
              "    .dataframe thead th {\n",
              "        text-align: right;\n",
              "    }\n",
              "</style>\n",
              "<table border=\"1\" class=\"dataframe\">\n",
              "  <thead>\n",
              "    <tr style=\"text-align: right;\">\n",
              "      <th></th>\n",
              "      <th>master_popular_genre</th>\n",
              "      <th>track_pop</th>\n",
              "      <th>track_year</th>\n",
              "      <th>duration_ms</th>\n",
              "      <th>energy</th>\n",
              "      <th>speechiness</th>\n",
              "      <th>acousticness</th>\n",
              "      <th>mode</th>\n",
              "      <th>tempo</th>\n",
              "      <th>valence</th>\n",
              "      <th>danceability</th>\n",
              "      <th>instrumentalness</th>\n",
              "      <th>liveness</th>\n",
              "      <th>key_1</th>\n",
              "      <th>key_2</th>\n",
              "      <th>key_3</th>\n",
              "      <th>key_4</th>\n",
              "      <th>key_5</th>\n",
              "      <th>key_6</th>\n",
              "      <th>key_7</th>\n",
              "      <th>key_8</th>\n",
              "      <th>key_9</th>\n",
              "      <th>key_10</th>\n",
              "      <th>key_11</th>\n",
              "      <th>time_signature_1</th>\n",
              "      <th>time_signature_3</th>\n",
              "      <th>time_signature_4</th>\n",
              "      <th>time_signature_5</th>\n",
              "    </tr>\n",
              "  </thead>\n",
              "  <tbody>\n",
              "    <tr>\n",
              "      <th>0</th>\n",
              "      <td>pop</td>\n",
              "      <td>50</td>\n",
              "      <td>2011</td>\n",
              "      <td>247010</td>\n",
              "      <td>0.41200</td>\n",
              "      <td>0.0357</td>\n",
              "      <td>0.94300</td>\n",
              "      <td>1</td>\n",
              "      <td>88.113</td>\n",
              "      <td>0.193</td>\n",
              "      <td>0.167</td>\n",
              "      <td>0.000121</td>\n",
              "      <td>0.7570</td>\n",
              "      <td>0</td>\n",
              "      <td>1</td>\n",
              "      <td>0</td>\n",
              "      <td>0</td>\n",
              "      <td>0</td>\n",
              "      <td>0</td>\n",
              "      <td>0</td>\n",
              "      <td>0</td>\n",
              "      <td>0</td>\n",
              "      <td>0</td>\n",
              "      <td>0</td>\n",
              "      <td>0</td>\n",
              "      <td>0</td>\n",
              "      <td>1</td>\n",
              "      <td>0</td>\n",
              "    </tr>\n",
              "    <tr>\n",
              "      <th>1</th>\n",
              "      <td>rock</td>\n",
              "      <td>44</td>\n",
              "      <td>2011</td>\n",
              "      <td>353667</td>\n",
              "      <td>0.72700</td>\n",
              "      <td>0.0462</td>\n",
              "      <td>0.03010</td>\n",
              "      <td>0</td>\n",
              "      <td>87.349</td>\n",
              "      <td>0.391</td>\n",
              "      <td>0.485</td>\n",
              "      <td>0.758000</td>\n",
              "      <td>0.1630</td>\n",
              "      <td>0</td>\n",
              "      <td>0</td>\n",
              "      <td>0</td>\n",
              "      <td>0</td>\n",
              "      <td>0</td>\n",
              "      <td>0</td>\n",
              "      <td>0</td>\n",
              "      <td>0</td>\n",
              "      <td>0</td>\n",
              "      <td>0</td>\n",
              "      <td>1</td>\n",
              "      <td>0</td>\n",
              "      <td>0</td>\n",
              "      <td>1</td>\n",
              "      <td>0</td>\n",
              "    </tr>\n",
              "    <tr>\n",
              "      <th>2</th>\n",
              "      <td>rock</td>\n",
              "      <td>37</td>\n",
              "      <td>2011</td>\n",
              "      <td>163000</td>\n",
              "      <td>0.00385</td>\n",
              "      <td>0.0449</td>\n",
              "      <td>0.99500</td>\n",
              "      <td>0</td>\n",
              "      <td>141.201</td>\n",
              "      <td>0.117</td>\n",
              "      <td>0.228</td>\n",
              "      <td>0.917000</td>\n",
              "      <td>0.0858</td>\n",
              "      <td>0</td>\n",
              "      <td>0</td>\n",
              "      <td>0</td>\n",
              "      <td>0</td>\n",
              "      <td>0</td>\n",
              "      <td>0</td>\n",
              "      <td>0</td>\n",
              "      <td>0</td>\n",
              "      <td>1</td>\n",
              "      <td>0</td>\n",
              "      <td>0</td>\n",
              "      <td>0</td>\n",
              "      <td>1</td>\n",
              "      <td>0</td>\n",
              "      <td>0</td>\n",
              "    </tr>\n",
              "    <tr>\n",
              "      <th>3</th>\n",
              "      <td>pop</td>\n",
              "      <td>41</td>\n",
              "      <td>2011</td>\n",
              "      <td>253991</td>\n",
              "      <td>0.30500</td>\n",
              "      <td>0.0318</td>\n",
              "      <td>0.93600</td>\n",
              "      <td>1</td>\n",
              "      <td>85.786</td>\n",
              "      <td>0.446</td>\n",
              "      <td>0.230</td>\n",
              "      <td>0.000002</td>\n",
              "      <td>0.7440</td>\n",
              "      <td>0</td>\n",
              "      <td>0</td>\n",
              "      <td>0</td>\n",
              "      <td>0</td>\n",
              "      <td>0</td>\n",
              "      <td>0</td>\n",
              "      <td>1</td>\n",
              "      <td>0</td>\n",
              "      <td>0</td>\n",
              "      <td>0</td>\n",
              "      <td>0</td>\n",
              "      <td>0</td>\n",
              "      <td>1</td>\n",
              "      <td>0</td>\n",
              "      <td>0</td>\n",
              "    </tr>\n",
              "    <tr>\n",
              "      <th>4</th>\n",
              "      <td>rock</td>\n",
              "      <td>42</td>\n",
              "      <td>2011</td>\n",
              "      <td>294613</td>\n",
              "      <td>0.95400</td>\n",
              "      <td>0.0607</td>\n",
              "      <td>0.00894</td>\n",
              "      <td>0</td>\n",
              "      <td>163.995</td>\n",
              "      <td>0.287</td>\n",
              "      <td>0.454</td>\n",
              "      <td>0.000000</td>\n",
              "      <td>0.0659</td>\n",
              "      <td>0</td>\n",
              "      <td>0</td>\n",
              "      <td>1</td>\n",
              "      <td>0</td>\n",
              "      <td>0</td>\n",
              "      <td>0</td>\n",
              "      <td>0</td>\n",
              "      <td>0</td>\n",
              "      <td>0</td>\n",
              "      <td>0</td>\n",
              "      <td>0</td>\n",
              "      <td>0</td>\n",
              "      <td>0</td>\n",
              "      <td>1</td>\n",
              "      <td>0</td>\n",
              "    </tr>\n",
              "  </tbody>\n",
              "</table>\n",
              "</div>"
            ],
            "text/plain": [
              "  master_popular_genre  track_pop  ...  time_signature_4  time_signature_5\n",
              "0                  pop         50  ...                 1                 0\n",
              "1                 rock         44  ...                 1                 0\n",
              "2                 rock         37  ...                 0                 0\n",
              "3                  pop         41  ...                 0                 0\n",
              "4                 rock         42  ...                 1                 0\n",
              "\n",
              "[5 rows x 28 columns]"
            ]
          },
          "metadata": {
            "tags": []
          },
          "execution_count": 7
        }
      ]
    },
    {
      "cell_type": "code",
      "metadata": {
        "id": "itSs59Ct9Jj5"
      },
      "source": [
        "X = track_table_dummies.iloc[:,1:]\n",
        "y = track_table_dummies.iloc[:,0]\n",
        "\n",
        "X_train, X_test, y_train, y_test = train_test_split(X, y, test_size=0.33, random_state=42)"
      ],
      "execution_count": 79,
      "outputs": []
    },
    {
      "cell_type": "markdown",
      "metadata": {
        "id": "17KwZntnY3Rz"
      },
      "source": [
        "Here are the 7 possible genre classifications:"
      ]
    },
    {
      "cell_type": "code",
      "metadata": {
        "colab": {
          "base_uri": "https://localhost:8080/"
        },
        "id": "_hBW-wtdFTXv",
        "outputId": "840caeb6-e58a-4c8b-dd16-21972e44db7c"
      },
      "source": [
        "print(\"Genres:\",y_train.unique())"
      ],
      "execution_count": 80,
      "outputs": [
        {
          "output_type": "stream",
          "text": [
            "Genres: ['house' 'pop' 'hiphop' 'r&b' 'country' 'rock' 'indie']\n"
          ],
          "name": "stdout"
        }
      ]
    },
    {
      "cell_type": "markdown",
      "metadata": {
        "id": "GPeTRM4caLjj"
      },
      "source": [
        "## Training the model:\n",
        "Piggybacking off the success of the Gradient Boost from the previous exploration, I chose to try a Gradient Boost classifier first for the multi-class classification. I chose not to vary a ton of parameters here, as it took 5-10 minutes per iteration. With cross-validation and a grid search of 3-4 different variables, this optimization takes hours."
      ]
    },
    {
      "cell_type": "code",
      "metadata": {
        "id": "oURyx-jh74-m"
      },
      "source": [
        "from sklearn.ensemble import RandomForestClassifier\n",
        "from sklearn.metrics import confusion_matrix\n",
        "from sklearn.metrics import plot_confusion_matrix\n",
        "import matplotlib.pyplot as plt\n",
        "import seaborn as sns\n",
        "genre_order = ['country', 'hiphop', 'house', 'indie', 'pop', 'r&b', 'rock']"
      ],
      "execution_count": 8,
      "outputs": []
    },
    {
      "cell_type": "code",
      "metadata": {
        "id": "XnFrEBKxdD7k"
      },
      "source": [
        "def print_accuracy(genre_index, conf_matrix):\n",
        "  print(\"Accuracy predicting\", genre_order[genre_index], \":\", conf_matrix[genre_index,genre_index]/(sum(conf_matrix[genre_index,:])))"
      ],
      "execution_count": 9,
      "outputs": []
    },
    {
      "cell_type": "code",
      "metadata": {
        "id": "HXVOUzmMM8KT"
      },
      "source": [
        "def print_grid_results(grid, x_test, y_test):\n",
        "  conf_matrix = confusion_matrix(y_test, grid.predict(X_test), labels=genre_order)\n",
        "  print(\"The best score is {}\".format(grid.best_score_))\n",
        "  print(\"The best hyper parameter setting is {}\".format(grid.best_params_))\n",
        "  print(\"Model Accuracy:\", accuracy_score(y_test,grid.predict(X_test)))\n",
        "  print()\n",
        "  for i in range(0,len(genre_order)):\n",
        "    print_accuracy(i,conf_matrix)\n",
        "  fig, ax = plt.subplots(figsize=(12,10)) \n",
        "  sns.heatmap(conf_matrix.astype('float') / conf_matrix.sum(axis=1)[:, np.newaxis], annot=True,fmt='.2%', cmap='Blues',xticklabels=genre_order,yticklabels=genre_order, ax=ax)\n",
        "  ax.set(xlabel='Predicted Genre', ylabel='True Genre')\n",
        "  ax.set_title(\"Proportional Genre Confusion Matrix\")\n"
      ],
      "execution_count": 10,
      "outputs": []
    },
    {
      "cell_type": "code",
      "metadata": {
        "id": "UxHJrsX4S2K6",
        "colab": {
          "base_uri": "https://localhost:8080/"
        },
        "outputId": "45da3e52-6807-4754-d392-40b7d18072a4"
      },
      "source": [
        "X = track_table_dummies.iloc[:,1:]\n",
        "y = track_table_dummies.iloc[:,0]\n",
        "\n",
        "X_train, X_test, y_train, y_test = train_test_split(X, y, test_size=0.33, random_state=42)\n",
        "\n",
        "rf_param_grid = {\n",
        "       #'n_estimators': range(350, 700, 100),\n",
        "       'n_estimators': [500]\n",
        "}\n",
        "grid_rf = GridSearchCV(RandomForestClassifier(), rf_param_grid, cv=3, verbose=2).fit(X_train, y_train)"
      ],
      "execution_count": 82,
      "outputs": [
        {
          "output_type": "stream",
          "text": [
            "Fitting 3 folds for each of 1 candidates, totalling 3 fits\n",
            "[CV] n_estimators=500 ................................................\n"
          ],
          "name": "stdout"
        },
        {
          "output_type": "stream",
          "text": [
            "[Parallel(n_jobs=1)]: Using backend SequentialBackend with 1 concurrent workers.\n"
          ],
          "name": "stderr"
        },
        {
          "output_type": "stream",
          "text": [
            "[CV] ................................. n_estimators=500, total=  45.5s\n"
          ],
          "name": "stdout"
        },
        {
          "output_type": "stream",
          "text": [
            "[Parallel(n_jobs=1)]: Done   1 out of   1 | elapsed:   45.5s remaining:    0.0s\n"
          ],
          "name": "stderr"
        },
        {
          "output_type": "stream",
          "text": [
            "[CV] n_estimators=500 ................................................\n",
            "[CV] ................................. n_estimators=500, total=  44.2s\n",
            "[CV] n_estimators=500 ................................................\n",
            "[CV] ................................. n_estimators=500, total=  44.3s\n"
          ],
          "name": "stdout"
        },
        {
          "output_type": "stream",
          "text": [
            "[Parallel(n_jobs=1)]: Done   3 out of   3 | elapsed:  2.4min finished\n"
          ],
          "name": "stderr"
        }
      ]
    },
    {
      "cell_type": "code",
      "metadata": {
        "id": "W69ak9o_4KYV",
        "colab": {
          "base_uri": "https://localhost:8080/",
          "height": 595
        },
        "outputId": "8fc4394c-953f-4cff-d91f-b735e8601af6"
      },
      "source": [
        "conf_matrix = confusion_matrix(y_test, grid_rf.predict(X_test), labels=genre_order)\n",
        "fig, ax = plt.subplots(figsize=(10, 10))\n",
        "print(plot_confusion_matrix(X=X_test,y_true=y_test, labels=genre_order,estimator=grid_rf, ax=ax,values_format = 'd'))"
      ],
      "execution_count": 83,
      "outputs": [
        {
          "output_type": "stream",
          "text": [
            "<sklearn.metrics._plot.confusion_matrix.ConfusionMatrixDisplay object at 0x7fe22c30d510>\n"
          ],
          "name": "stdout"
        },
        {
          "output_type": "display_data",
          "data": {
            "image/png": "[encoded data removed]",
            "text/plain": [
              "<Figure size 720x720 with 2 Axes>"
            ]
          },
          "metadata": {
            "tags": [],
            "needs_background": "light"
          }
        }
      ]
    },
    {
      "cell_type": "code",
      "metadata": {
        "id": "_s7rqXfWpZLt",
        "colab": {
          "base_uri": "https://localhost:8080/",
          "height": 821
        },
        "outputId": "c1e1444d-f80d-4415-a2e8-01103c93f567"
      },
      "source": [
        "print_grid_results(grid_rf,X_test,y_test)"
      ],
      "execution_count": 84,
      "outputs": [
        {
          "output_type": "stream",
          "text": [
            "The best score is 0.638367785767261\n",
            "The best hyper parameter setting is {'n_estimators': 500}\n",
            "Model Accuracy: 0.6833590838862128\n",
            "\n",
            "Accuracy predicting country : 0.780817799158148\n",
            "Accuracy predicting hiphop : 0.775533756491633\n",
            "Accuracy predicting house : 0.6598984771573604\n",
            "Accuracy predicting indie : 0.6340718105423988\n",
            "Accuracy predicting pop : 0.7063478107965535\n",
            "Accuracy predicting r&b : 0.42745969983324067\n",
            "Accuracy predicting rock : 0.6377845735643901\n"
          ],
          "name": "stdout"
        },
        {
          "output_type": "display_data",
          "data": {
            "image/png": "[encoded data removed]",
            "text/plain": [
              "<Figure size 864x720 with 2 Axes>"
            ]
          },
          "metadata": {
            "tags": [],
            "needs_background": "light"
          }
        }
      ]
    },
    {
      "cell_type": "code",
      "metadata": {
        "colab": {
          "base_uri": "https://localhost:8080/"
        },
        "id": "M-U3rTrBIU1O",
        "outputId": "02e0974d-9197-49b1-b8d7-3a5f0812ca42"
      },
      "source": [
        "for count,genre_preds in enumerate(conf_matrix):\n",
        "  print(\"True Genre:\", genre_order[count])\n",
        "  genre_preds[list(genre_preds).index(max(genre_preds))] = 0\n",
        "  incorrect_guess = genre_order[list(genre_preds).index(max(genre_preds))]\n",
        "  print(\"Most Common Incorrect Prediction:\", incorrect_guess)\n",
        "  print(\"Percent of All Incorrect Predictions as\", incorrect_guess, (max(genre_preds) / sum(genre_preds)))\n",
        "  print()"
      ],
      "execution_count": 85,
      "outputs": [
        {
          "output_type": "stream",
          "text": [
            "True Genre: country\n",
            "Most Common Incorrect Prediction: pop\n",
            "Percent of All Incorrect Predictions as pop 0.522633744855967\n",
            "\n",
            "True Genre: hiphop\n",
            "Most Common Incorrect Prediction: pop\n",
            "Percent of All Incorrect Predictions as pop 0.6632390745501285\n",
            "\n",
            "True Genre: house\n",
            "Most Common Incorrect Prediction: pop\n",
            "Percent of All Incorrect Predictions as pop 0.5223880597014925\n",
            "\n",
            "True Genre: indie\n",
            "Most Common Incorrect Prediction: pop\n",
            "Percent of All Incorrect Predictions as pop 0.32254697286012524\n",
            "\n",
            "True Genre: pop\n",
            "Most Common Incorrect Prediction: hiphop\n",
            "Percent of All Incorrect Predictions as hiphop 0.3\n",
            "\n",
            "True Genre: r&b\n",
            "Most Common Incorrect Prediction: pop\n",
            "Percent of All Incorrect Predictions as pop 0.516504854368932\n",
            "\n",
            "True Genre: rock\n",
            "Most Common Incorrect Prediction: pop\n",
            "Percent of All Incorrect Predictions as pop 0.3949343339587242\n",
            "\n"
          ],
          "name": "stdout"
        }
      ]
    },
    {
      "cell_type": "markdown",
      "metadata": {
        "id": "fQsyAPmWf8kt"
      },
      "source": [
        "Rebalance dataset, try again:"
      ]
    },
    {
      "cell_type": "code",
      "metadata": {
        "id": "F7nXAN696jzl"
      },
      "source": [
        "from sklearn.utils import resample"
      ],
      "execution_count": 11,
      "outputs": []
    },
    {
      "cell_type": "code",
      "metadata": {
        "colab": {
          "base_uri": "https://localhost:8080/"
        },
        "id": "wZpmH_5wgHvj",
        "outputId": "03d86dde-5286-4892-d0fe-c8455a0a4b64"
      },
      "source": [
        "df_nonpop = track_table_dummies[track_table_dummies['master_popular_genre']!='pop']\n",
        "df_pop = track_table_dummies[track_table_dummies['master_popular_genre']=='pop']\n",
        "samp = 10000\n",
        "# Downsample majority class\n",
        "df_pop_downsampled = resample(df_pop, \n",
        "                                 replace=False,    # sample without replacement\n",
        "                                 n_samples=10000) # reproducible results\n",
        " \n",
        "# Combine minority class with downsampled majority class\n",
        "df_pop_downsampled = pd.concat([df_pop_downsampled, df_nonpop])\n",
        " \n",
        "# Display new class counts\n",
        "df_pop_downsampled.master_popular_genre.value_counts()"
      ],
      "execution_count": 12,
      "outputs": [
        {
          "output_type": "execute_result",
          "data": {
            "text/plain": [
              "hiphop     10728\n",
              "country    10005\n",
              "pop        10000\n",
              "rock        8967\n",
              "indie       7673\n",
              "house       6529\n",
              "r&b         5505\n",
              "Name: master_popular_genre, dtype: int64"
            ]
          },
          "metadata": {
            "tags": []
          },
          "execution_count": 12
        }
      ]
    },
    {
      "cell_type": "code",
      "metadata": {
        "colab": {
          "base_uri": "https://localhost:8080/"
        },
        "id": "taLYXyCQFshY",
        "outputId": "3ee45685-c8f3-45e2-ed12-c6eee39e7562"
      },
      "source": [
        "X = df_pop_downsampled.iloc[:,1:]\n",
        "y = df_pop_downsampled.iloc[:,0]\n",
        "\n",
        "X_train, X_test, y_train, y_test = train_test_split(X, y, test_size=0.33, random_state=42)\n",
        "\n",
        "rf_param_grid = {\n",
        "       #'n_estimators': range(350, 700, 100),\n",
        "       'n_estimators': [650]\n",
        "}\n",
        "grid_rf_under = GridSearchCV(RandomForestClassifier(), rf_param_grid, cv=3, verbose=2).fit(X_train, y_train)"
      ],
      "execution_count": null,
      "outputs": [
        {
          "output_type": "stream",
          "text": [
            "Fitting 3 folds for each of 1 candidates, totalling 3 fits\n",
            "[CV] n_estimators=650 ................................................\n"
          ],
          "name": "stdout"
        },
        {
          "output_type": "stream",
          "text": [
            "[Parallel(n_jobs=1)]: Using backend SequentialBackend with 1 concurrent workers.\n"
          ],
          "name": "stderr"
        },
        {
          "output_type": "stream",
          "text": [
            "[CV] ................................. n_estimators=650, total=  52.5s\n"
          ],
          "name": "stdout"
        },
        {
          "output_type": "stream",
          "text": [
            "[Parallel(n_jobs=1)]: Done   1 out of   1 | elapsed:   52.5s remaining:    0.0s\n"
          ],
          "name": "stderr"
        },
        {
          "output_type": "stream",
          "text": [
            "[CV] n_estimators=650 ................................................\n",
            "[CV] ................................. n_estimators=650, total=  53.9s\n",
            "[CV] n_estimators=650 ................................................\n",
            "[CV] ................................. n_estimators=650, total=  51.5s\n"
          ],
          "name": "stdout"
        },
        {
          "output_type": "stream",
          "text": [
            "[Parallel(n_jobs=1)]: Done   3 out of   3 | elapsed:  3.0min finished\n"
          ],
          "name": "stderr"
        }
      ]
    },
    {
      "cell_type": "code",
      "metadata": {
        "id": "43hPBadgOmUX",
        "colab": {
          "base_uri": "https://localhost:8080/",
          "height": 839
        },
        "outputId": "000b0c5c-4eca-45f4-e0fb-3d54496cf832"
      },
      "source": [
        "print(\"Undersampling pop tracks:\")\n",
        "print_grid_results(grid_rf_under,X_test,y_test)"
      ],
      "execution_count": null,
      "outputs": [
        {
          "output_type": "stream",
          "text": [
            "Undersampling pop tracks:\n",
            "The best score is 0.6424803065888914\n",
            "The best hyper parameter setting is {'n_estimators': 650}\n",
            "Model Accuracy: 0.6823259372609028\n",
            "\n",
            "Accuracy predicting country : 0.8189024390243902\n",
            "Accuracy predicting hiphop : 0.8357695614789338\n",
            "Accuracy predicting house : 0.7163836622303809\n",
            "Accuracy predicting indie : 0.6448963629253031\n",
            "Accuracy predicting pop : 0.47862232779097386\n",
            "Accuracy predicting r&b : 0.5195968645016797\n",
            "Accuracy predicting rock : 0.6873727087576375\n"
          ],
          "name": "stdout"
        },
        {
          "output_type": "display_data",
          "data": {
            "image/png": "[encoded data removed]",
            "text/plain": [
              "<Figure size 864x720 with 2 Axes>"
            ]
          },
          "metadata": {
            "tags": [],
            "needs_background": "light"
          }
        }
      ]
    },
    {
      "cell_type": "markdown",
      "metadata": {
        "id": "eCCOPxLzH3FS"
      },
      "source": [
        "Only Oversampling"
      ]
    },
    {
      "cell_type": "code",
      "metadata": {
        "id": "n1bjs8VhLfmU"
      },
      "source": [
        "def oversample(frame, genre, numTracks):\n",
        "  df = frame[frame['master_popular_genre']==genre]\n",
        "  df_upsampled = resample(df, replace=True, n_samples=numTracks)\n",
        "  return df_upsampled"
      ],
      "execution_count": 13,
      "outputs": []
    },
    {
      "cell_type": "code",
      "metadata": {
        "id": "lkE7H-TKH5Kd",
        "colab": {
          "base_uri": "https://localhost:8080/"
        },
        "outputId": "f921d6d8-3753-4c92-c2c6-d53d6d1064a2"
      },
      "source": [
        "samp = 10000\n",
        "\n",
        "df_rb = oversample(track_table_dummies,\"r&b\", samp)\n",
        "df_house = oversample(track_table_dummies,\"house\", samp)\n",
        "df_indie = oversample(track_table_dummies,\"indie\", samp)\n",
        "df_rock = oversample(track_table_dummies,\"rock\", samp)\n",
        "\n",
        "df_rest = track_table_dummies[track_table_dummies['master_popular_genre']!='r&b']\n",
        "df_rest = df_rest[df_rest['master_popular_genre']!='house']\n",
        "df_rest = df_rest[df_rest['master_popular_genre']!='indie']\n",
        "df_rest = df_rest[df_rest['master_popular_genre']!='rock']\n",
        "\n",
        "# Combine minority class with downsampled majority class\n",
        "df_upsampled = pd.concat([df_rest, df_rb, df_house, df_indie, df_rock])\n",
        " \n",
        "# Display new class counts\n",
        "df_upsampled.master_popular_genre.value_counts()"
      ],
      "execution_count": 14,
      "outputs": [
        {
          "output_type": "execute_result",
          "data": {
            "text/plain": [
              "pop        17277\n",
              "hiphop     10728\n",
              "country    10005\n",
              "house      10000\n",
              "rock       10000\n",
              "r&b        10000\n",
              "indie      10000\n",
              "Name: master_popular_genre, dtype: int64"
            ]
          },
          "metadata": {
            "tags": []
          },
          "execution_count": 14
        }
      ]
    },
    {
      "cell_type": "code",
      "metadata": {
        "id": "f3c5PhvsF-24"
      },
      "source": [
        "X = df_upsampled.iloc[:,1:]\n",
        "y = df_upsampled.iloc[:,0]\n",
        "\n",
        "X_train, X_test, y_train, y_test = train_test_split(X, y, test_size=0.33, random_state=42)\n",
        "\n",
        "rf_param_grid = {\n",
        "       #'n_estimators': range(350, 700, 100),\n",
        "       'n_estimators': [650]\n",
        "}\n",
        "grid_rf_up = GridSearchCV(RandomForestClassifier(), rf_param_grid, cv=3, verbose=2).fit(X_train, y_train)"
      ],
      "execution_count": null,
      "outputs": []
    },
    {
      "cell_type": "code",
      "metadata": {
        "id": "iLMqmA5xOxFY"
      },
      "source": [
        "print(\"Oversampling less frequent genres:\")\n",
        "print_grid_results(grid_rf_up,X_test,y_test)"
      ],
      "execution_count": null,
      "outputs": []
    },
    {
      "cell_type": "markdown",
      "metadata": {
        "id": "EaVZM7s8mNNb"
      },
      "source": [
        "Oversampling and Undersampling"
      ]
    },
    {
      "cell_type": "code",
      "metadata": {
        "colab": {
          "base_uri": "https://localhost:8080/"
        },
        "id": "ly-rgmaxmRMP",
        "outputId": "71a9d7ec-c51b-44c5-9d26-430140f95cec"
      },
      "source": [
        "df_nonpop = df_upsampled[df_upsampled['master_popular_genre']!='pop']\n",
        "df_pop = df_upsampled[df_upsampled['master_popular_genre']=='pop']\n",
        "samp = 10000\n",
        "# Downsample majority class\n",
        "df_downsampled = resample(df_pop, \n",
        "                                 replace=False,    # sample without replacement\n",
        "                                 n_samples=10000) # reproducible results\n",
        " \n",
        "# Combine minority class with downsampled majority class\n",
        "df_both = pd.concat([df_downsampled, df_nonpop])\n",
        " \n",
        "# Display new class counts\n",
        "df_both.master_popular_genre.value_counts()"
      ],
      "execution_count": 15,
      "outputs": [
        {
          "output_type": "execute_result",
          "data": {
            "text/plain": [
              "hiphop     10728\n",
              "country    10005\n",
              "house      10000\n",
              "pop        10000\n",
              "rock       10000\n",
              "r&b        10000\n",
              "indie      10000\n",
              "Name: master_popular_genre, dtype: int64"
            ]
          },
          "metadata": {
            "tags": []
          },
          "execution_count": 15
        }
      ]
    },
    {
      "cell_type": "code",
      "metadata": {
        "colab": {
          "base_uri": "https://localhost:8080/"
        },
        "id": "Cg2oeGjuGKOp",
        "outputId": "4a50803e-878c-441a-995e-6bdaadeb7484"
      },
      "source": [
        "X = df_both.iloc[:,1:]\n",
        "y = df_both.iloc[:,0]\n",
        "\n",
        "X_train, X_test, y_train, y_test = train_test_split(X, y, test_size=0.33, random_state=42)\n",
        "\n",
        "rf_param_grid = {\n",
        "       #'n_estimators': range(350, 700, 100),\n",
        "       'n_estimators': [650]\n",
        "}\n",
        "grid_rf_balanced = GridSearchCV(RandomForestClassifier(), rf_param_grid, cv=3, verbose=2).fit(X_train, y_train)"
      ],
      "execution_count": null,
      "outputs": [
        {
          "output_type": "stream",
          "text": [
            "Fitting 3 folds for each of 1 candidates, totalling 3 fits\n",
            "[CV] n_estimators=650 ................................................\n"
          ],
          "name": "stdout"
        },
        {
          "output_type": "stream",
          "text": [
            "[Parallel(n_jobs=1)]: Using backend SequentialBackend with 1 concurrent workers.\n"
          ],
          "name": "stderr"
        },
        {
          "output_type": "stream",
          "text": [
            "[CV] ................................. n_estimators=650, total= 1.1min\n"
          ],
          "name": "stdout"
        },
        {
          "output_type": "stream",
          "text": [
            "[Parallel(n_jobs=1)]: Done   1 out of   1 | elapsed:  1.1min remaining:    0.0s\n"
          ],
          "name": "stderr"
        },
        {
          "output_type": "stream",
          "text": [
            "[CV] n_estimators=650 ................................................\n",
            "[CV] ................................. n_estimators=650, total= 1.1min\n",
            "[CV] n_estimators=650 ................................................\n",
            "[CV] ................................. n_estimators=650, total= 1.0min\n"
          ],
          "name": "stdout"
        },
        {
          "output_type": "stream",
          "text": [
            "[Parallel(n_jobs=1)]: Done   3 out of   3 | elapsed:  3.6min finished\n"
          ],
          "name": "stderr"
        }
      ]
    },
    {
      "cell_type": "code",
      "metadata": {
        "id": "tn6Da7_TO3A9",
        "colab": {
          "base_uri": "https://localhost:8080/",
          "height": 839
        },
        "outputId": "c60f098a-e640-4d69-a5be-80dc2ed4d86f"
      },
      "source": [
        "print(\"Undersampling pop tracks and oversampling uncommon genres:\")\n",
        "print_grid_results(grid_rf_balanced,X_test,y_test)"
      ],
      "execution_count": null,
      "outputs": [
        {
          "output_type": "stream",
          "text": [
            "Undersampling pop tracks and oversampling uncommon genres:\n",
            "The best score is 0.7384735498301366\n",
            "The best hyper parameter setting is {'n_estimators': 650}\n",
            "Model Accuracy: 0.7965041555993488\n",
            "\n",
            "Accuracy predicting country : 0.8242956679794002\n",
            "Accuracy predicting hiphop : 0.8262977752424415\n",
            "Accuracy predicting house : 0.9073677774380923\n",
            "Accuracy predicting indie : 0.8493150684931506\n",
            "Accuracy predicting pop : 0.44961715160796323\n",
            "Accuracy predicting r&b : 0.8931207558311189\n",
            "Accuracy predicting rock : 0.8184550646227833\n"
          ],
          "name": "stdout"
        },
        {
          "output_type": "display_data",
          "data": {
            "image/png": "[encoded data removed]",
            "text/plain": [
              "<Figure size 864x720 with 2 Axes>"
            ]
          },
          "metadata": {
            "tags": [],
            "needs_background": "light"
          }
        }
      ]
    },
    {
      "cell_type": "code",
      "metadata": {
        "id": "SAgbryM7Q8B5",
        "colab": {
          "base_uri": "https://localhost:8080/"
        },
        "outputId": "f5b4f84f-3988-420c-f927-d13bfc427f77"
      },
      "source": [
        "X = df_both.iloc[:,1:]\n",
        "y = df_both.iloc[:,0]\n",
        "\n",
        "X_train, X_test, y_train, y_test = train_test_split(X, y, test_size=0.33, random_state=42)\n",
        "\n",
        "rf_param_grid = {\n",
        "          #'bootstrap': [True, False],\n",
        "          'bootstrap': [False],\n",
        "          # 'max_depth': [10, 50, 100, None],\n",
        "          'max_depth': [100],\n",
        "          #'max_features': ['auto', 'sqrt'],\n",
        "          'max_features': ['auto'],\n",
        "          #'n_estimators': [600, 1000, 1400, 1800, 2000]\n",
        "          'n_estimators': [1400]\n",
        "}\n",
        "grid_rf_opt = GridSearchCV(RandomForestClassifier(), rf_param_grid, cv=5, verbose=2).fit(X_train, y_train)"
      ],
      "execution_count": 18,
      "outputs": [
        {
          "output_type": "stream",
          "text": [
            "Fitting 5 folds for each of 1 candidates, totalling 5 fits\n",
            "[CV] bootstrap=False, max_depth=100, max_features=auto, n_estimators=1400 \n"
          ],
          "name": "stdout"
        },
        {
          "output_type": "stream",
          "text": [
            "[Parallel(n_jobs=1)]: Using backend SequentialBackend with 1 concurrent workers.\n"
          ],
          "name": "stderr"
        },
        {
          "output_type": "stream",
          "text": [
            "[CV]  bootstrap=False, max_depth=100, max_features=auto, n_estimators=1400, total= 4.4min\n"
          ],
          "name": "stdout"
        },
        {
          "output_type": "stream",
          "text": [
            "[Parallel(n_jobs=1)]: Done   1 out of   1 | elapsed:  4.4min remaining:    0.0s\n"
          ],
          "name": "stderr"
        },
        {
          "output_type": "stream",
          "text": [
            "[CV] bootstrap=False, max_depth=100, max_features=auto, n_estimators=1400 \n",
            "[CV]  bootstrap=False, max_depth=100, max_features=auto, n_estimators=1400, total= 4.1min\n",
            "[CV] bootstrap=False, max_depth=100, max_features=auto, n_estimators=1400 \n",
            "[CV]  bootstrap=False, max_depth=100, max_features=auto, n_estimators=1400, total= 4.3min\n",
            "[CV] bootstrap=False, max_depth=100, max_features=auto, n_estimators=1400 \n",
            "[CV]  bootstrap=False, max_depth=100, max_features=auto, n_estimators=1400, total= 4.1min\n",
            "[CV] bootstrap=False, max_depth=100, max_features=auto, n_estimators=1400 \n",
            "[CV]  bootstrap=False, max_depth=100, max_features=auto, n_estimators=1400, total= 4.1min\n"
          ],
          "name": "stdout"
        },
        {
          "output_type": "stream",
          "text": [
            "[Parallel(n_jobs=1)]: Done   5 out of   5 | elapsed: 22.6min finished\n"
          ],
          "name": "stderr"
        }
      ]
    },
    {
      "cell_type": "code",
      "metadata": {
        "colab": {
          "base_uri": "https://localhost:8080/",
          "height": 839
        },
        "id": "iYXTCKd0_KFp",
        "outputId": "42a426b5-67ce-4466-c1c9-0700e8dce9c4"
      },
      "source": [
        "print(\"Undersampling pop tracks and oversampling uncommon genres:\")\n",
        "print_grid_results(grid_rf_opt,X_test,y_test)"
      ],
      "execution_count": 19,
      "outputs": [
        {
          "output_type": "stream",
          "text": [
            "Undersampling pop tracks and oversampling uncommon genres:\n",
            "The best score is 0.7667911704777775\n",
            "The best hyper parameter setting is {'bootstrap': False, 'max_depth': 100, 'max_features': 'auto', 'n_estimators': 1400}\n",
            "Model Accuracy: 0.8028874989289693\n",
            "\n",
            "Accuracy predicting country : 0.8282338685246895\n",
            "Accuracy predicting hiphop : 0.8311466058185967\n",
            "Accuracy predicting house : 0.8978905533476002\n",
            "Accuracy predicting indie : 0.84779299847793\n",
            "Accuracy predicting pop : 0.5215926493108729\n",
            "Accuracy predicting r&b : 0.8777679362267493\n",
            "Accuracy predicting rock : 0.810039074241058\n"
          ],
          "name": "stdout"
        },
        {
          "output_type": "display_data",
          "data": {
            "image/png": "[encoded data removed]",
            "text/plain": [
              "<Figure size 864x720 with 2 Axes>"
            ]
          },
          "metadata": {
            "tags": [],
            "needs_background": "light"
          }
        }
      ]
    },
    {
      "cell_type": "markdown",
      "metadata": {
        "id": "WdaAHENpbRSz"
      },
      "source": [
        "##Let's see some predictions"
      ]
    },
    {
      "cell_type": "code",
      "metadata": {
        "id": "GNrp5AtPKlYO"
      },
      "source": [
        "preds = []\n",
        "for prediction in grid_rf_opt.predict_proba(X_test):\n",
        "  pred_ind = []\n",
        "  prediction = list(prediction)\n",
        "  pred_ind.append(max(prediction))\n",
        "  pred_ind.append(prediction.index(max(prediction)))\n",
        "  preds.append(pred_ind)\n",
        "\n",
        "for pred in preds:\n",
        "  pred[1] = genre_order[pred[1]]"
      ],
      "execution_count": 23,
      "outputs": []
    },
    {
      "cell_type": "code",
      "metadata": {
        "id": "1XT5-W-KOGqm"
      },
      "source": [
        "in_list = []\n",
        "for i in range(0,len(preds)):\n",
        "  in_list.append(int(list(y_test)[i] == preds[i][1]))"
      ],
      "execution_count": 31,
      "outputs": []
    },
    {
      "cell_type": "code",
      "metadata": {
        "id": "nBzFjZZdQkbj"
      },
      "source": [
        "prediction_conf = []\n",
        "predicted_genre = []\n",
        "\n",
        "for i in range(0,len(y_test)):\n",
        "  prediction_conf.append(preds[i][0])\n",
        "  predicted_genre.append(preds[i][1])\n",
        "\n",
        "\n",
        "prediction_frame = pd.DataFrame({\"Prediction Confidence\":prediction_conf,\n",
        "                                 \"Predicted Correctly\":in_list,\n",
        "                                 \"True Genre\": y_test,\n",
        "                                 \"Predicted Genre\": predicted_genre,\n",
        "                                 \"Track Name\": track_table.track_name[y_test.index],\n",
        "                                 \"Artist Name\": track_table.art_name[y_test.index]})"
      ],
      "execution_count": 49,
      "outputs": []
    },
    {
      "cell_type": "code",
      "metadata": {
        "colab": {
          "base_uri": "https://localhost:8080/",
          "height": 299
        },
        "id": "H60Cgp1CUkcF",
        "outputId": "dc29ca3a-4e24-46e4-b13b-25c66ffc1a47"
      },
      "source": [
        "import matplotlib.pyplot as plt\n",
        "plt.hist(prediction_frame[\"Prediction Confidence\"],bins=200)  #Chose 47 because it results in bins of size 2 (0-2,2-4, etc)\n",
        "plt.title(\"Prediction Confidence\")"
      ],
      "execution_count": 62,
      "outputs": [
        {
          "output_type": "execute_result",
          "data": {
            "text/plain": [
              "Text(0.5, 1.0, 'Prediction Confidence')"
            ]
          },
          "metadata": {
            "tags": []
          },
          "execution_count": 62
        },
        {
          "output_type": "display_data",
          "data": {
            "image/png": "[encoded data removed]",
            "text/plain": [
              "<Figure size 432x288 with 1 Axes>"
            ]
          },
          "metadata": {
            "tags": [],
            "needs_background": "light"
          }
        }
      ]
    },
    {
      "cell_type": "code",
      "metadata": {
        "colab": {
          "base_uri": "https://localhost:8080/",
          "height": 675
        },
        "id": "2ikq0bdyRbAO",
        "outputId": "6235b71e-03ff-4c61-a15a-d0a8647aa0df"
      },
      "source": [
        "prediction_frame.drop_duplicates().sort_values(by=\"Prediction Confidence\", ascending=False).head(20)"
      ],
      "execution_count": 58,
      "outputs": [
        {
          "output_type": "execute_result",
          "data": {
            "text/html": [
              "<div>\n",
              "<style scoped>\n",
              "    .dataframe tbody tr th:only-of-type {\n",
              "        vertical-align: middle;\n",
              "    }\n",
              "\n",
              "    .dataframe tbody tr th {\n",
              "        vertical-align: top;\n",
              "    }\n",
              "\n",
              "    .dataframe thead th {\n",
              "        text-align: right;\n",
              "    }\n",
              "</style>\n",
              "<table border=\"1\" class=\"dataframe\">\n",
              "  <thead>\n",
              "    <tr style=\"text-align: right;\">\n",
              "      <th></th>\n",
              "      <th>Prediction Confidence</th>\n",
              "      <th>Predicted Correctly</th>\n",
              "      <th>True Genre</th>\n",
              "      <th>Predicted Genre</th>\n",
              "      <th>Track Name</th>\n",
              "      <th>Artist Name</th>\n",
              "    </tr>\n",
              "  </thead>\n",
              "  <tbody>\n",
              "    <tr>\n",
              "      <th>35222</th>\n",
              "      <td>1.0</td>\n",
              "      <td>1</td>\n",
              "      <td>indie</td>\n",
              "      <td>indie</td>\n",
              "      <td>Born Again</td>\n",
              "      <td>Saint Motel</td>\n",
              "    </tr>\n",
              "    <tr>\n",
              "      <th>32861</th>\n",
              "      <td>1.0</td>\n",
              "      <td>1</td>\n",
              "      <td>r&amp;b</td>\n",
              "      <td>r&amp;b</td>\n",
              "      <td>Waiting Game</td>\n",
              "      <td>BANKS</td>\n",
              "    </tr>\n",
              "    <tr>\n",
              "      <th>1226</th>\n",
              "      <td>1.0</td>\n",
              "      <td>1</td>\n",
              "      <td>rock</td>\n",
              "      <td>rock</td>\n",
              "      <td>Dark Turn Of Mind</td>\n",
              "      <td>Gillian Welch</td>\n",
              "    </tr>\n",
              "    <tr>\n",
              "      <th>43092</th>\n",
              "      <td>1.0</td>\n",
              "      <td>1</td>\n",
              "      <td>pop</td>\n",
              "      <td>pop</td>\n",
              "      <td>Brother (feat. Gavin DeGraw)</td>\n",
              "      <td>NEEDTOBREATHE</td>\n",
              "    </tr>\n",
              "    <tr>\n",
              "      <th>50600</th>\n",
              "      <td>1.0</td>\n",
              "      <td>1</td>\n",
              "      <td>indie</td>\n",
              "      <td>indie</td>\n",
              "      <td>Accelerate</td>\n",
              "      <td>Jungle</td>\n",
              "    </tr>\n",
              "    <tr>\n",
              "      <th>26535</th>\n",
              "      <td>1.0</td>\n",
              "      <td>1</td>\n",
              "      <td>house</td>\n",
              "      <td>house</td>\n",
              "      <td>Wake Up, You're Dreaming</td>\n",
              "      <td>Notaker</td>\n",
              "    </tr>\n",
              "    <tr>\n",
              "      <th>30855</th>\n",
              "      <td>1.0</td>\n",
              "      <td>1</td>\n",
              "      <td>indie</td>\n",
              "      <td>indie</td>\n",
              "      <td>Sarah</td>\n",
              "      <td>Alex G</td>\n",
              "    </tr>\n",
              "    <tr>\n",
              "      <th>55053</th>\n",
              "      <td>1.0</td>\n",
              "      <td>1</td>\n",
              "      <td>r&amp;b</td>\n",
              "      <td>r&amp;b</td>\n",
              "      <td>This Bag</td>\n",
              "      <td>Mac Ayres</td>\n",
              "    </tr>\n",
              "    <tr>\n",
              "      <th>45280</th>\n",
              "      <td>1.0</td>\n",
              "      <td>1</td>\n",
              "      <td>pop</td>\n",
              "      <td>pop</td>\n",
              "      <td>1950</td>\n",
              "      <td>King Princess</td>\n",
              "    </tr>\n",
              "    <tr>\n",
              "      <th>41306</th>\n",
              "      <td>1.0</td>\n",
              "      <td>1</td>\n",
              "      <td>pop</td>\n",
              "      <td>pop</td>\n",
              "      <td>Bad Girls</td>\n",
              "      <td>M.I.A.</td>\n",
              "    </tr>\n",
              "    <tr>\n",
              "      <th>32156</th>\n",
              "      <td>1.0</td>\n",
              "      <td>1</td>\n",
              "      <td>rock</td>\n",
              "      <td>rock</td>\n",
              "      <td>Back to Your Love</td>\n",
              "      <td>Night Riots</td>\n",
              "    </tr>\n",
              "    <tr>\n",
              "      <th>39011</th>\n",
              "      <td>1.0</td>\n",
              "      <td>1</td>\n",
              "      <td>indie</td>\n",
              "      <td>indie</td>\n",
              "      <td>Fallin' Apart</td>\n",
              "      <td>Young Franco</td>\n",
              "    </tr>\n",
              "    <tr>\n",
              "      <th>55899</th>\n",
              "      <td>1.0</td>\n",
              "      <td>1</td>\n",
              "      <td>r&amp;b</td>\n",
              "      <td>r&amp;b</td>\n",
              "      <td>Cokewhite (feat. Pusha T)</td>\n",
              "      <td>GoldLink</td>\n",
              "    </tr>\n",
              "    <tr>\n",
              "      <th>57244</th>\n",
              "      <td>1.0</td>\n",
              "      <td>1</td>\n",
              "      <td>rock</td>\n",
              "      <td>rock</td>\n",
              "      <td>A Little Bit Of Everything</td>\n",
              "      <td>Dawes</td>\n",
              "    </tr>\n",
              "    <tr>\n",
              "      <th>23518</th>\n",
              "      <td>1.0</td>\n",
              "      <td>1</td>\n",
              "      <td>house</td>\n",
              "      <td>house</td>\n",
              "      <td>Elevate</td>\n",
              "      <td>Gorgon City</td>\n",
              "    </tr>\n",
              "    <tr>\n",
              "      <th>44624</th>\n",
              "      <td>1.0</td>\n",
              "      <td>1</td>\n",
              "      <td>hiphop</td>\n",
              "      <td>hiphop</td>\n",
              "      <td>Bounce Back</td>\n",
              "      <td>Big Sean</td>\n",
              "    </tr>\n",
              "    <tr>\n",
              "      <th>56636</th>\n",
              "      <td>1.0</td>\n",
              "      <td>1</td>\n",
              "      <td>r&amp;b</td>\n",
              "      <td>r&amp;b</td>\n",
              "      <td>Right Now</td>\n",
              "      <td>Marc E. Bassy</td>\n",
              "    </tr>\n",
              "    <tr>\n",
              "      <th>37593</th>\n",
              "      <td>1.0</td>\n",
              "      <td>1</td>\n",
              "      <td>indie</td>\n",
              "      <td>indie</td>\n",
              "      <td>All Your'n</td>\n",
              "      <td>Tyler Childers</td>\n",
              "    </tr>\n",
              "    <tr>\n",
              "      <th>47889</th>\n",
              "      <td>1.0</td>\n",
              "      <td>1</td>\n",
              "      <td>r&amp;b</td>\n",
              "      <td>r&amp;b</td>\n",
              "      <td>Thank You for Breathing (고마운 숨)</td>\n",
              "      <td>Tablo</td>\n",
              "    </tr>\n",
              "    <tr>\n",
              "      <th>12982</th>\n",
              "      <td>1.0</td>\n",
              "      <td>1</td>\n",
              "      <td>hiphop</td>\n",
              "      <td>hiphop</td>\n",
              "      <td>Loveleen</td>\n",
              "      <td>Rejjie Snow</td>\n",
              "    </tr>\n",
              "  </tbody>\n",
              "</table>\n",
              "</div>"
            ],
            "text/plain": [
              "       Prediction Confidence  ...     Artist Name\n",
              "35222                    1.0  ...     Saint Motel\n",
              "32861                    1.0  ...           BANKS\n",
              "1226                     1.0  ...   Gillian Welch\n",
              "43092                    1.0  ...   NEEDTOBREATHE\n",
              "50600                    1.0  ...          Jungle\n",
              "26535                    1.0  ...         Notaker\n",
              "30855                    1.0  ...          Alex G\n",
              "55053                    1.0  ...       Mac Ayres\n",
              "45280                    1.0  ...   King Princess\n",
              "41306                    1.0  ...          M.I.A.\n",
              "32156                    1.0  ...     Night Riots\n",
              "39011                    1.0  ...    Young Franco\n",
              "55899                    1.0  ...        GoldLink\n",
              "57244                    1.0  ...           Dawes\n",
              "23518                    1.0  ...     Gorgon City\n",
              "44624                    1.0  ...        Big Sean\n",
              "56636                    1.0  ...   Marc E. Bassy\n",
              "37593                    1.0  ...  Tyler Childers\n",
              "47889                    1.0  ...           Tablo\n",
              "12982                    1.0  ...     Rejjie Snow\n",
              "\n",
              "[20 rows x 6 columns]"
            ]
          },
          "metadata": {
            "tags": []
          },
          "execution_count": 58
        }
      ]
    },
    {
      "cell_type": "code",
      "metadata": {
        "colab": {
          "base_uri": "https://localhost:8080/",
          "height": 675
        },
        "id": "512KOR30Trl7",
        "outputId": "ee40c864-2d3d-4083-abd6-a9b3c3717e0e"
      },
      "source": [
        "prediction_frame[prediction_frame['Predicted Correctly'] == 0].drop_duplicates().sort_values(by=\"Prediction Confidence\", ascending=False).head(20)"
      ],
      "execution_count": 57,
      "outputs": [
        {
          "output_type": "execute_result",
          "data": {
            "text/html": [
              "<div>\n",
              "<style scoped>\n",
              "    .dataframe tbody tr th:only-of-type {\n",
              "        vertical-align: middle;\n",
              "    }\n",
              "\n",
              "    .dataframe tbody tr th {\n",
              "        vertical-align: top;\n",
              "    }\n",
              "\n",
              "    .dataframe thead th {\n",
              "        text-align: right;\n",
              "    }\n",
              "</style>\n",
              "<table border=\"1\" class=\"dataframe\">\n",
              "  <thead>\n",
              "    <tr style=\"text-align: right;\">\n",
              "      <th></th>\n",
              "      <th>Prediction Confidence</th>\n",
              "      <th>Predicted Correctly</th>\n",
              "      <th>True Genre</th>\n",
              "      <th>Predicted Genre</th>\n",
              "      <th>Track Name</th>\n",
              "      <th>Artist Name</th>\n",
              "    </tr>\n",
              "  </thead>\n",
              "  <tbody>\n",
              "    <tr>\n",
              "      <th>23018</th>\n",
              "      <td>0.947143</td>\n",
              "      <td>0</td>\n",
              "      <td>pop</td>\n",
              "      <td>house</td>\n",
              "      <td>Stone</td>\n",
              "      <td>Robin Schulz</td>\n",
              "    </tr>\n",
              "    <tr>\n",
              "      <th>8203</th>\n",
              "      <td>0.943571</td>\n",
              "      <td>0</td>\n",
              "      <td>pop</td>\n",
              "      <td>country</td>\n",
              "      <td>Take You Home</td>\n",
              "      <td>Cassadee Pope</td>\n",
              "    </tr>\n",
              "    <tr>\n",
              "      <th>65718</th>\n",
              "      <td>0.936429</td>\n",
              "      <td>0</td>\n",
              "      <td>pop</td>\n",
              "      <td>country</td>\n",
              "      <td>One Little Lie</td>\n",
              "      <td>Simple Creatures</td>\n",
              "    </tr>\n",
              "    <tr>\n",
              "      <th>23704</th>\n",
              "      <td>0.907143</td>\n",
              "      <td>0</td>\n",
              "      <td>pop</td>\n",
              "      <td>house</td>\n",
              "      <td>Wizard - Tchami Remix</td>\n",
              "      <td>Martin Garrix</td>\n",
              "    </tr>\n",
              "    <tr>\n",
              "      <th>45492</th>\n",
              "      <td>0.907143</td>\n",
              "      <td>0</td>\n",
              "      <td>pop</td>\n",
              "      <td>hiphop</td>\n",
              "      <td>Be Careful</td>\n",
              "      <td>Cardi B</td>\n",
              "    </tr>\n",
              "    <tr>\n",
              "      <th>22025</th>\n",
              "      <td>0.899286</td>\n",
              "      <td>0</td>\n",
              "      <td>pop</td>\n",
              "      <td>house</td>\n",
              "      <td>Phat Brahms</td>\n",
              "      <td>Steve Aoki</td>\n",
              "    </tr>\n",
              "    <tr>\n",
              "      <th>21816</th>\n",
              "      <td>0.898571</td>\n",
              "      <td>0</td>\n",
              "      <td>pop</td>\n",
              "      <td>house</td>\n",
              "      <td>Spectrum - Armin Van Buuren Remix</td>\n",
              "      <td>Zedd</td>\n",
              "    </tr>\n",
              "    <tr>\n",
              "      <th>23773</th>\n",
              "      <td>0.897857</td>\n",
              "      <td>0</td>\n",
              "      <td>pop</td>\n",
              "      <td>house</td>\n",
              "      <td>Walk This Way - Alle Farben Remix</td>\n",
              "      <td>MØ</td>\n",
              "    </tr>\n",
              "    <tr>\n",
              "      <th>20339</th>\n",
              "      <td>0.896429</td>\n",
              "      <td>0</td>\n",
              "      <td>pop</td>\n",
              "      <td>house</td>\n",
              "      <td>The Legend of Zelda - Club Mix</td>\n",
              "      <td>Zedd</td>\n",
              "    </tr>\n",
              "    <tr>\n",
              "      <th>30185</th>\n",
              "      <td>0.895000</td>\n",
              "      <td>0</td>\n",
              "      <td>indie</td>\n",
              "      <td>hiphop</td>\n",
              "      <td>Wildfire - OVO Remix</td>\n",
              "      <td>SBTRKT</td>\n",
              "    </tr>\n",
              "    <tr>\n",
              "      <th>9299</th>\n",
              "      <td>0.888571</td>\n",
              "      <td>0</td>\n",
              "      <td>pop</td>\n",
              "      <td>country</td>\n",
              "      <td>If My Heart Had A Heart</td>\n",
              "      <td>Cassadee Pope</td>\n",
              "    </tr>\n",
              "    <tr>\n",
              "      <th>18214</th>\n",
              "      <td>0.887857</td>\n",
              "      <td>0</td>\n",
              "      <td>pop</td>\n",
              "      <td>hiphop</td>\n",
              "      <td>Target</td>\n",
              "      <td>YBN Nahmir</td>\n",
              "    </tr>\n",
              "    <tr>\n",
              "      <th>56126</th>\n",
              "      <td>0.877143</td>\n",
              "      <td>0</td>\n",
              "      <td>pop</td>\n",
              "      <td>hiphop</td>\n",
              "      <td>In The Party</td>\n",
              "      <td>Flo Milli</td>\n",
              "    </tr>\n",
              "    <tr>\n",
              "      <th>51725</th>\n",
              "      <td>0.875714</td>\n",
              "      <td>0</td>\n",
              "      <td>r&amp;b</td>\n",
              "      <td>hiphop</td>\n",
              "      <td>Mary Jane</td>\n",
              "      <td>Rels B</td>\n",
              "    </tr>\n",
              "    <tr>\n",
              "      <th>32669</th>\n",
              "      <td>0.857143</td>\n",
              "      <td>0</td>\n",
              "      <td>pop</td>\n",
              "      <td>house</td>\n",
              "      <td>Moonwalk Away</td>\n",
              "      <td>GoldFish</td>\n",
              "    </tr>\n",
              "    <tr>\n",
              "      <th>2117</th>\n",
              "      <td>0.857143</td>\n",
              "      <td>0</td>\n",
              "      <td>rock</td>\n",
              "      <td>country</td>\n",
              "      <td>Little Victories</td>\n",
              "      <td>Chris Knight</td>\n",
              "    </tr>\n",
              "    <tr>\n",
              "      <th>27584</th>\n",
              "      <td>0.847143</td>\n",
              "      <td>0</td>\n",
              "      <td>pop</td>\n",
              "      <td>house</td>\n",
              "      <td>Tilted Towers</td>\n",
              "      <td>Alesso</td>\n",
              "    </tr>\n",
              "    <tr>\n",
              "      <th>41932</th>\n",
              "      <td>0.842857</td>\n",
              "      <td>0</td>\n",
              "      <td>pop</td>\n",
              "      <td>hiphop</td>\n",
              "      <td>Slow Loud &amp; Bangin</td>\n",
              "      <td>Chamillionaire</td>\n",
              "    </tr>\n",
              "    <tr>\n",
              "      <th>48775</th>\n",
              "      <td>0.841429</td>\n",
              "      <td>0</td>\n",
              "      <td>hiphop</td>\n",
              "      <td>house</td>\n",
              "      <td>Climax - Kaskade Remix</td>\n",
              "      <td>Usher</td>\n",
              "    </tr>\n",
              "    <tr>\n",
              "      <th>23938</th>\n",
              "      <td>0.837857</td>\n",
              "      <td>0</td>\n",
              "      <td>rock</td>\n",
              "      <td>house</td>\n",
              "      <td>Gabriel - Live Garage Mix</td>\n",
              "      <td>Django Django</td>\n",
              "    </tr>\n",
              "  </tbody>\n",
              "</table>\n",
              "</div>"
            ],
            "text/plain": [
              "       Prediction Confidence  ...       Artist Name\n",
              "23018               0.947143  ...      Robin Schulz\n",
              "8203                0.943571  ...     Cassadee Pope\n",
              "65718               0.936429  ...  Simple Creatures\n",
              "23704               0.907143  ...     Martin Garrix\n",
              "45492               0.907143  ...           Cardi B\n",
              "22025               0.899286  ...        Steve Aoki\n",
              "21816               0.898571  ...              Zedd\n",
              "23773               0.897857  ...                MØ\n",
              "20339               0.896429  ...              Zedd\n",
              "30185               0.895000  ...            SBTRKT\n",
              "9299                0.888571  ...     Cassadee Pope\n",
              "18214               0.887857  ...        YBN Nahmir\n",
              "56126               0.877143  ...         Flo Milli\n",
              "51725               0.875714  ...            Rels B\n",
              "32669               0.857143  ...          GoldFish\n",
              "2117                0.857143  ...      Chris Knight\n",
              "27584               0.847143  ...            Alesso\n",
              "41932               0.842857  ...    Chamillionaire\n",
              "48775               0.841429  ...             Usher\n",
              "23938               0.837857  ...     Django Django\n",
              "\n",
              "[20 rows x 6 columns]"
            ]
          },
          "metadata": {
            "tags": []
          },
          "execution_count": 57
        }
      ]
    },
    {
      "cell_type": "markdown",
      "metadata": {
        "id": "Pv6AT1-_L3_7"
      },
      "source": [
        "#Predict 2 Genres"
      ]
    },
    {
      "cell_type": "code",
      "metadata": {
        "id": "vFNNttCe9JE1"
      },
      "source": [
        "# Add prediction of 2nd highest probability genre\n",
        "two_preds = []\n",
        "for prediction in grid_rf_opt.predict_proba(X_test):\n",
        "  prediction = list(prediction)\n",
        "  two_maxes = []\n",
        "  two_maxes.append(prediction.index(max(prediction)))\n",
        "  prediction[prediction.index(max(prediction))] = 0\n",
        "  two_maxes.append(prediction.index(max(prediction)))\n",
        "  two_preds.append(two_maxes)"
      ],
      "execution_count": 65,
      "outputs": []
    },
    {
      "cell_type": "code",
      "metadata": {
        "id": "m_FSe5aACDQo"
      },
      "source": [
        "# Convert probability to genre name\n",
        "for pred in two_preds:\n",
        "  pred[0] = genre_order[pred[0]]\n",
        "  pred[1] = genre_order[pred[1]]"
      ],
      "execution_count": 66,
      "outputs": []
    },
    {
      "cell_type": "code",
      "metadata": {
        "id": "C1yRLa6BKUIP"
      },
      "source": [
        "# Create list to evaluate accuracy\n",
        "in_list = []\n",
        "for i in range(0,len(two_preds)):\n",
        "  in_list.append(int(list(y_test)[i] in two_preds[i]))"
      ],
      "execution_count": 67,
      "outputs": []
    },
    {
      "cell_type": "code",
      "metadata": {
        "colab": {
          "base_uri": "https://localhost:8080/"
        },
        "id": "OsOWRCPTLmDo",
        "outputId": "457e10ea-4823-4b11-f91e-c6d46efa6ead"
      },
      "source": [
        "print(\"Accuracy:\" , sum(in_list) / len(in_list))"
      ],
      "execution_count": 68,
      "outputs": [
        {
          "output_type": "stream",
          "text": [
            "Accuracy: 0.891868734470054\n"
          ],
          "name": "stdout"
        }
      ]
    },
    {
      "cell_type": "code",
      "metadata": {
        "id": "7sTdSCGeMOB5"
      },
      "source": [
        "pred_correctly = []\n",
        "true_genre = []\n",
        "predicted_genre = []\n",
        "\n",
        "for i in range(0,len(y_test)):\n",
        "  pred_correctly.append(in_list[i])\n",
        "  true_genre.append(list(y_test)[i])\n",
        "  predicted_genre.append(two_preds[i])\n",
        "\n",
        "prediction_frame = pd.DataFrame({\"Predicted Correctly\":pred_correctly,\n",
        "                                 \"True Genre\": true_genre,\n",
        "                                 \"Predicted Genres\": predicted_genre,\n",
        "                                 \"Track Name\": track_table.track_name[y_test.index],\n",
        "                                 \"Artist Name\": track_table.art_name[y_test.index]})"
      ],
      "execution_count": 69,
      "outputs": []
    },
    {
      "cell_type": "code",
      "metadata": {
        "colab": {
          "base_uri": "https://localhost:8080/",
          "height": 422
        },
        "id": "tvFTh_EJPZoe",
        "outputId": "fd907c65-4111-4f8a-b6c6-3551d04e8b2d"
      },
      "source": [
        "display(prediction_frame[prediction_frame[\"Predicted Correctly\"] == 0])"
      ],
      "execution_count": 76,
      "outputs": [
        {
          "output_type": "display_data",
          "data": {
            "text/html": [
              "<div>\n",
              "<style scoped>\n",
              "    .dataframe tbody tr th:only-of-type {\n",
              "        vertical-align: middle;\n",
              "    }\n",
              "\n",
              "    .dataframe tbody tr th {\n",
              "        vertical-align: top;\n",
              "    }\n",
              "\n",
              "    .dataframe thead th {\n",
              "        text-align: right;\n",
              "    }\n",
              "</style>\n",
              "<table border=\"1\" class=\"dataframe\">\n",
              "  <thead>\n",
              "    <tr style=\"text-align: right;\">\n",
              "      <th></th>\n",
              "      <th>Predicted Correctly</th>\n",
              "      <th>True Genre</th>\n",
              "      <th>Predicted Genres</th>\n",
              "      <th>Track Name</th>\n",
              "      <th>Artist Name</th>\n",
              "    </tr>\n",
              "  </thead>\n",
              "  <tbody>\n",
              "    <tr>\n",
              "      <th>16204</th>\n",
              "      <td>0</td>\n",
              "      <td>hiphop</td>\n",
              "      <td>[pop, country]</td>\n",
              "      <td>Salute</td>\n",
              "      <td>Future</td>\n",
              "    </tr>\n",
              "    <tr>\n",
              "      <th>5315</th>\n",
              "      <td>0</td>\n",
              "      <td>country</td>\n",
              "      <td>[indie, pop]</td>\n",
              "      <td>The Only Thing Worth Fighting For - From The H...</td>\n",
              "      <td>Lera Lynn</td>\n",
              "    </tr>\n",
              "    <tr>\n",
              "      <th>48002</th>\n",
              "      <td>0</td>\n",
              "      <td>r&amp;b</td>\n",
              "      <td>[country, pop]</td>\n",
              "      <td>Trust in Me Now</td>\n",
              "      <td>Anthony Evans</td>\n",
              "    </tr>\n",
              "    <tr>\n",
              "      <th>66551</th>\n",
              "      <td>0</td>\n",
              "      <td>indie</td>\n",
              "      <td>[country, rock]</td>\n",
              "      <td>Valentine</td>\n",
              "      <td>COIN</td>\n",
              "    </tr>\n",
              "    <tr>\n",
              "      <th>52629</th>\n",
              "      <td>0</td>\n",
              "      <td>r&amp;b</td>\n",
              "      <td>[country, pop]</td>\n",
              "      <td>Trainwreck</td>\n",
              "      <td>BANKS</td>\n",
              "    </tr>\n",
              "    <tr>\n",
              "      <th>...</th>\n",
              "      <td>...</td>\n",
              "      <td>...</td>\n",
              "      <td>...</td>\n",
              "      <td>...</td>\n",
              "      <td>...</td>\n",
              "    </tr>\n",
              "    <tr>\n",
              "      <th>25208</th>\n",
              "      <td>0</td>\n",
              "      <td>indie</td>\n",
              "      <td>[house, rock]</td>\n",
              "      <td>Kiss the Sky (feat. Wyclef Jean)</td>\n",
              "      <td>The Knocks</td>\n",
              "    </tr>\n",
              "    <tr>\n",
              "      <th>32520</th>\n",
              "      <td>0</td>\n",
              "      <td>pop</td>\n",
              "      <td>[rock, indie]</td>\n",
              "      <td>Paracosm</td>\n",
              "      <td>Washed Out</td>\n",
              "    </tr>\n",
              "    <tr>\n",
              "      <th>15727</th>\n",
              "      <td>0</td>\n",
              "      <td>hiphop</td>\n",
              "      <td>[pop, r&amp;b]</td>\n",
              "      <td>Boogieman</td>\n",
              "      <td>Childish Gambino</td>\n",
              "    </tr>\n",
              "    <tr>\n",
              "      <th>53715</th>\n",
              "      <td>0</td>\n",
              "      <td>r&amp;b</td>\n",
              "      <td>[pop, country]</td>\n",
              "      <td>Burn Slow</td>\n",
              "      <td>Ro James</td>\n",
              "    </tr>\n",
              "    <tr>\n",
              "      <th>719</th>\n",
              "      <td>0</td>\n",
              "      <td>country</td>\n",
              "      <td>[rock, pop]</td>\n",
              "      <td>Remind Me (with Carrie Underwood)</td>\n",
              "      <td>Brad Paisley</td>\n",
              "    </tr>\n",
              "  </tbody>\n",
              "</table>\n",
              "<p>2524 rows × 5 columns</p>\n",
              "</div>"
            ],
            "text/plain": [
              "       Predicted Correctly  ...       Artist Name\n",
              "16204                    0  ...            Future\n",
              "5315                     0  ...         Lera Lynn\n",
              "48002                    0  ...     Anthony Evans\n",
              "66551                    0  ...              COIN\n",
              "52629                    0  ...             BANKS\n",
              "...                    ...  ...               ...\n",
              "25208                    0  ...        The Knocks\n",
              "32520                    0  ...        Washed Out\n",
              "15727                    0  ...  Childish Gambino\n",
              "53715                    0  ...          Ro James\n",
              "719                      0  ...      Brad Paisley\n",
              "\n",
              "[2524 rows x 5 columns]"
            ]
          },
          "metadata": {
            "tags": []
          }
        }
      ]
    },
    {
      "cell_type": "markdown",
      "metadata": {
        "id": "XeDtMmIIAmao"
      },
      "source": [
        "Filtering out pop"
      ]
    },
    {
      "cell_type": "code",
      "metadata": {
        "colab": {
          "base_uri": "https://localhost:8080/"
        },
        "id": "nUpUqca1Anyh",
        "outputId": "b764bd98-ec01-4bc0-e50b-39dfce00a5a6"
      },
      "source": [
        "df_nonpop = df_both[track_table_dummies['master_popular_genre']!='pop']\n",
        "df_nonpop.master_popular_genre.value_counts()"
      ],
      "execution_count": 77,
      "outputs": [
        {
          "output_type": "stream",
          "text": [
            "/usr/local/lib/python3.7/dist-packages/ipykernel_launcher.py:1: UserWarning: Boolean Series key will be reindexed to match DataFrame index.\n",
            "  \"\"\"Entry point for launching an IPython kernel.\n"
          ],
          "name": "stderr"
        },
        {
          "output_type": "execute_result",
          "data": {
            "text/plain": [
              "hiphop     10728\n",
              "country    10005\n",
              "house      10000\n",
              "rock       10000\n",
              "r&b        10000\n",
              "indie      10000\n",
              "Name: master_popular_genre, dtype: int64"
            ]
          },
          "metadata": {
            "tags": []
          },
          "execution_count": 77
        }
      ]
    },
    {
      "cell_type": "markdown",
      "metadata": {
        "id": "62yXpe0y5Nzy"
      },
      "source": [
        "NONPOP RF"
      ]
    },
    {
      "cell_type": "code",
      "metadata": {
        "id": "9INRk1VR1RHy",
        "colab": {
          "base_uri": "https://localhost:8080/",
          "height": 1000
        },
        "outputId": "19d5b660-154c-42be-e2f2-34d29847f620"
      },
      "source": [
        "from sklearn.ensemble import RandomForestClassifier\n",
        "X = df_nonpop.iloc[:,1:]\n",
        "y = df_nonpop.iloc[:,0]\n",
        "\n",
        "X_train, X_test, y_train, y_test = train_test_split(X, y, test_size=0.33, random_state=42)\n",
        "gb_param_grid = {\n",
        "          #'bootstrap': [True, False],\n",
        "          'bootstrap': [False],\n",
        "          # 'max_depth': [10, 50, 100, None],\n",
        "          'max_depth': [100],\n",
        "          #'max_features': ['auto', 'sqrt'],\n",
        "          'max_features': ['auto'],\n",
        "          #'n_estimators': [600, 1000, 1400, 1800, 2000]\n",
        "          'n_estimators': [1400]\n",
        "}\n",
        "grid_rf_nonpop = GridSearchCV(RandomForestClassifier(), gb_param_grid, cv=3, verbose=2).fit(X_train, y_train)\n",
        "print_grid_results(grid_rf_nonpop,X_test,y_test)"
      ],
      "execution_count": 78,
      "outputs": [
        {
          "output_type": "stream",
          "text": [
            "Fitting 3 folds for each of 1 candidates, totalling 3 fits\n",
            "[CV] bootstrap=False, max_depth=100, max_features=auto, n_estimators=1400 \n"
          ],
          "name": "stdout"
        },
        {
          "output_type": "stream",
          "text": [
            "[Parallel(n_jobs=1)]: Using backend SequentialBackend with 1 concurrent workers.\n"
          ],
          "name": "stderr"
        },
        {
          "output_type": "stream",
          "text": [
            "[CV]  bootstrap=False, max_depth=100, max_features=auto, n_estimators=1400, total= 2.6min\n"
          ],
          "name": "stdout"
        },
        {
          "output_type": "stream",
          "text": [
            "[Parallel(n_jobs=1)]: Done   1 out of   1 | elapsed:  2.6min remaining:    0.0s\n"
          ],
          "name": "stderr"
        },
        {
          "output_type": "stream",
          "text": [
            "[CV] bootstrap=False, max_depth=100, max_features=auto, n_estimators=1400 \n",
            "[CV]  bootstrap=False, max_depth=100, max_features=auto, n_estimators=1400, total= 2.5min\n",
            "[CV] bootstrap=False, max_depth=100, max_features=auto, n_estimators=1400 \n",
            "[CV]  bootstrap=False, max_depth=100, max_features=auto, n_estimators=1400, total= 2.5min\n"
          ],
          "name": "stdout"
        },
        {
          "output_type": "stream",
          "text": [
            "[Parallel(n_jobs=1)]: Done   3 out of   3 | elapsed:  8.2min finished\n"
          ],
          "name": "stderr"
        },
        {
          "output_type": "stream",
          "text": [
            "The best score is 0.811751903309203\n",
            "The best hyper parameter setting is {'bootstrap': False, 'max_depth': 100, 'max_features': 'auto', 'n_estimators': 1400}\n",
            "Model Accuracy: 0.8618401357149985\n",
            "\n",
            "Accuracy predicting country : 0.8350856112946831\n",
            "Accuracy predicting hiphop : 0.8672742808316719\n",
            "Accuracy predicting house : 0.9096130592503023\n",
            "Accuracy predicting indie : 0.8489296636085627\n",
            "Accuracy predicting pop : nan\n",
            "Accuracy predicting r&b : 0.8896361968816876\n",
            "Accuracy predicting rock : 0.8210557709513868\n"
          ],
          "name": "stdout"
        },
        {
          "output_type": "stream",
          "text": [
            "/usr/local/lib/python3.7/dist-packages/ipykernel_launcher.py:2: RuntimeWarning: invalid value encountered in long_scalars\n",
            "  \n",
            "/usr/local/lib/python3.7/dist-packages/ipykernel_launcher.py:10: RuntimeWarning: invalid value encountered in true_divide\n",
            "  # Remove the CWD from sys.path while we load stuff.\n"
          ],
          "name": "stderr"
        },
        {
          "output_type": "display_data",
          "data": {
            "image/png": "[encoded data removed]",
            "text/plain": [
              "<Figure size 864x720 with 2 Axes>"
            ]
          },
          "metadata": {
            "tags": [],
            "needs_background": "light"
          }
        }
      ]
    }
  ]
}