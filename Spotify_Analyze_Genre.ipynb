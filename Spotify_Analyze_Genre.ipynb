{
  "nbformat": 4,
  "nbformat_minor": 0,
  "metadata": {
    "colab": {
      "name": "Spotify_Analyze_Genre.ipynb",
      "provenance": [],
      "collapsed_sections": []
    },
    "kernelspec": {
      "name": "python3",
      "display_name": "Python 3"
    }
  },
  "cells": [
    {
      "cell_type": "code",
      "metadata": {
        "id": "OlnmJvKn2WiY",
        "colab": {
          "resources": {
            "http://localhost:8080/nbextensions/google.colab/files.js": {
              "data": "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",
              "ok": true,
              "headers": [
                [
                  "content-type",
                  "application/javascript"
                ]
              ],
              "status": 200,
              "status_text": ""
            }
          },
          "base_uri": "https://localhost:8080/",
          "height": 73
        },
        "outputId": "1d00f41e-e3a2-4913-aa2d-de851c8330ae"
      },
      "source": [
        "import pandas as pd\n",
        "import numpy as np\n",
        "from sklearn.model_selection import GridSearchCV\n",
        "from sklearn.model_selection import train_test_split\n",
        "from sklearn.metrics import confusion_matrix\n",
        "from sklearn.metrics import accuracy_score\n",
        "\n",
        "from google.colab import files\n",
        "uploaded = files.upload()"
      ],
      "execution_count": 1,
      "outputs": [
        {
          "output_type": "display_data",
          "data": {
            "text/html": [
              "\n",
              "     <input type=\"file\" id=\"files-effb5cae-9515-439e-afa0-ac8ae632b8f3\" name=\"files[]\" multiple disabled\n",
              "        style=\"border:none\" />\n",
              "     <output id=\"result-effb5cae-9515-439e-afa0-ac8ae632b8f3\">\n",
              "      Upload widget is only available when the cell has been executed in the\n",
              "      current browser session. Please rerun this cell to enable.\n",
              "      </output>\n",
              "      <script src=\"/nbextensions/google.colab/files.js\"></script> "
            ],
            "text/plain": [
              "<IPython.core.display.HTML object>"
            ]
          },
          "metadata": {
            "tags": []
          }
        },
        {
          "output_type": "stream",
          "text": [
            "Saving cleaned_tracks_both.csv to cleaned_tracks_both.csv\n"
          ],
          "name": "stdout"
        }
      ]
    },
    {
      "cell_type": "code",
      "metadata": {
        "id": "CcgrCxCO2vyM"
      },
      "source": [
        "track_table = pd.read_csv(\"cleaned_tracks_both.csv\")\n",
        "track_table.dropna(inplace=True)"
      ],
      "execution_count": 2,
      "outputs": []
    },
    {
      "cell_type": "code",
      "metadata": {
        "id": "pWRXVENGU83A",
        "colab": {
          "base_uri": "https://localhost:8080/"
        },
        "outputId": "667b411f-8c20-4bfc-f561-d46e8eddc9d2"
      },
      "source": [
        "track_table.groupby(\"master_popular_genre\").track_id.count()"
      ],
      "execution_count": 3,
      "outputs": [
        {
          "output_type": "execute_result",
          "data": {
            "text/plain": [
              "master_popular_genre\n",
              "country    10005\n",
              "hiphop     10728\n",
              "house       6529\n",
              "indie       7673\n",
              "pop        17277\n",
              "r&b         5505\n",
              "rock        8967\n",
              "Name: track_id, dtype: int64"
            ]
          },
          "metadata": {
            "tags": []
          },
          "execution_count": 3
        }
      ]
    },
    {
      "cell_type": "code",
      "metadata": {
        "id": "_gkiZCar4Wmh"
      },
      "source": [
        "numerics = ['int16', 'int32', 'int64', 'float16', 'float32', 'float64']\n",
        "data_numerics = pd.concat([track_table.select_dtypes(include=[np.number]),track_table['master_popular_genre']],axis=1, sort=False)"
      ],
      "execution_count": 4,
      "outputs": []
    },
    {
      "cell_type": "code",
      "metadata": {
        "id": "mVWocofD68iC",
        "colab": {
          "base_uri": "https://localhost:8080/",
          "height": 198
        },
        "outputId": "92b44a0d-14ea-4528-ab52-90acaac31627"
      },
      "source": [
        "data_numerics.head()"
      ],
      "execution_count": 5,
      "outputs": [
        {
          "output_type": "execute_result",
          "data": {
            "text/html": [
              "<div>\n",
              "<style scoped>\n",
              "    .dataframe tbody tr th:only-of-type {\n",
              "        vertical-align: middle;\n",
              "    }\n",
              "\n",
              "    .dataframe tbody tr th {\n",
              "        vertical-align: top;\n",
              "    }\n",
              "\n",
              "    .dataframe thead th {\n",
              "        text-align: right;\n",
              "    }\n",
              "</style>\n",
              "<table border=\"1\" class=\"dataframe\">\n",
              "  <thead>\n",
              "    <tr style=\"text-align: right;\">\n",
              "      <th></th>\n",
              "      <th>track_pop</th>\n",
              "      <th>track_year</th>\n",
              "      <th>duration_ms</th>\n",
              "      <th>time_signature</th>\n",
              "      <th>key</th>\n",
              "      <th>loudness</th>\n",
              "      <th>energy</th>\n",
              "      <th>speechiness</th>\n",
              "      <th>acousticness</th>\n",
              "      <th>mode</th>\n",
              "      <th>tempo</th>\n",
              "      <th>valence</th>\n",
              "      <th>danceability</th>\n",
              "      <th>instrumentalness</th>\n",
              "      <th>liveness</th>\n",
              "      <th>master_popular_genre</th>\n",
              "    </tr>\n",
              "  </thead>\n",
              "  <tbody>\n",
              "    <tr>\n",
              "      <th>0</th>\n",
              "      <td>50</td>\n",
              "      <td>2011</td>\n",
              "      <td>247010</td>\n",
              "      <td>4</td>\n",
              "      <td>2</td>\n",
              "      <td>-9.841</td>\n",
              "      <td>0.41200</td>\n",
              "      <td>0.0357</td>\n",
              "      <td>0.94300</td>\n",
              "      <td>1</td>\n",
              "      <td>88.113</td>\n",
              "      <td>0.193</td>\n",
              "      <td>0.167</td>\n",
              "      <td>0.000121</td>\n",
              "      <td>0.7570</td>\n",
              "      <td>pop</td>\n",
              "    </tr>\n",
              "    <tr>\n",
              "      <th>1</th>\n",
              "      <td>44</td>\n",
              "      <td>2011</td>\n",
              "      <td>353667</td>\n",
              "      <td>4</td>\n",
              "      <td>11</td>\n",
              "      <td>-7.257</td>\n",
              "      <td>0.72700</td>\n",
              "      <td>0.0462</td>\n",
              "      <td>0.03010</td>\n",
              "      <td>0</td>\n",
              "      <td>87.349</td>\n",
              "      <td>0.391</td>\n",
              "      <td>0.485</td>\n",
              "      <td>0.758000</td>\n",
              "      <td>0.1630</td>\n",
              "      <td>rock</td>\n",
              "    </tr>\n",
              "    <tr>\n",
              "      <th>2</th>\n",
              "      <td>37</td>\n",
              "      <td>2011</td>\n",
              "      <td>163000</td>\n",
              "      <td>3</td>\n",
              "      <td>9</td>\n",
              "      <td>-35.213</td>\n",
              "      <td>0.00385</td>\n",
              "      <td>0.0449</td>\n",
              "      <td>0.99500</td>\n",
              "      <td>0</td>\n",
              "      <td>141.201</td>\n",
              "      <td>0.117</td>\n",
              "      <td>0.228</td>\n",
              "      <td>0.917000</td>\n",
              "      <td>0.0858</td>\n",
              "      <td>rock</td>\n",
              "    </tr>\n",
              "    <tr>\n",
              "      <th>3</th>\n",
              "      <td>41</td>\n",
              "      <td>2011</td>\n",
              "      <td>253991</td>\n",
              "      <td>3</td>\n",
              "      <td>7</td>\n",
              "      <td>-9.827</td>\n",
              "      <td>0.30500</td>\n",
              "      <td>0.0318</td>\n",
              "      <td>0.93600</td>\n",
              "      <td>1</td>\n",
              "      <td>85.786</td>\n",
              "      <td>0.446</td>\n",
              "      <td>0.230</td>\n",
              "      <td>0.000002</td>\n",
              "      <td>0.7440</td>\n",
              "      <td>pop</td>\n",
              "    </tr>\n",
              "    <tr>\n",
              "      <th>4</th>\n",
              "      <td>42</td>\n",
              "      <td>2011</td>\n",
              "      <td>294613</td>\n",
              "      <td>4</td>\n",
              "      <td>3</td>\n",
              "      <td>-5.242</td>\n",
              "      <td>0.95400</td>\n",
              "      <td>0.0607</td>\n",
              "      <td>0.00894</td>\n",
              "      <td>0</td>\n",
              "      <td>163.995</td>\n",
              "      <td>0.287</td>\n",
              "      <td>0.454</td>\n",
              "      <td>0.000000</td>\n",
              "      <td>0.0659</td>\n",
              "      <td>rock</td>\n",
              "    </tr>\n",
              "  </tbody>\n",
              "</table>\n",
              "</div>"
            ],
            "text/plain": [
              "   track_pop  track_year  ...  liveness  master_popular_genre\n",
              "0         50        2011  ...    0.7570                   pop\n",
              "1         44        2011  ...    0.1630                  rock\n",
              "2         37        2011  ...    0.0858                  rock\n",
              "3         41        2011  ...    0.7440                   pop\n",
              "4         42        2011  ...    0.0659                  rock\n",
              "\n",
              "[5 rows x 16 columns]"
            ]
          },
          "metadata": {
            "tags": []
          },
          "execution_count": 5
        }
      ]
    },
    {
      "cell_type": "code",
      "metadata": {
        "id": "0JwHpKEd4XM1"
      },
      "source": [
        "#track_table_numerics = pd.concat([data_numerics.drop(['master_popular_genre'],axis=1), pd.get_dummies(data_numerics['master_popular_genre'])], axis=1, sort= False)\n",
        "\n",
        "track_table_dummies = pd.get_dummies(data_numerics,columns=['key','time_signature',],drop_first=True)\n",
        "track_table_dummies = track_table_dummies.drop('loudness', axis=1)\n"
      ],
      "execution_count": 6,
      "outputs": []
    },
    {
      "cell_type": "code",
      "metadata": {
        "id": "slaZeGvS92dl",
        "colab": {
          "base_uri": "https://localhost:8080/",
          "height": 218
        },
        "outputId": "3edce47e-0f83-4aed-dfd2-f96a14ebe37e"
      },
      "source": [
        "track_table_dummies.head()"
      ],
      "execution_count": 7,
      "outputs": [
        {
          "output_type": "execute_result",
          "data": {
            "text/html": [
              "<div>\n",
              "<style scoped>\n",
              "    .dataframe tbody tr th:only-of-type {\n",
              "        vertical-align: middle;\n",
              "    }\n",
              "\n",
              "    .dataframe tbody tr th {\n",
              "        vertical-align: top;\n",
              "    }\n",
              "\n",
              "    .dataframe thead th {\n",
              "        text-align: right;\n",
              "    }\n",
              "</style>\n",
              "<table border=\"1\" class=\"dataframe\">\n",
              "  <thead>\n",
              "    <tr style=\"text-align: right;\">\n",
              "      <th></th>\n",
              "      <th>track_pop</th>\n",
              "      <th>track_year</th>\n",
              "      <th>duration_ms</th>\n",
              "      <th>energy</th>\n",
              "      <th>speechiness</th>\n",
              "      <th>acousticness</th>\n",
              "      <th>mode</th>\n",
              "      <th>tempo</th>\n",
              "      <th>valence</th>\n",
              "      <th>danceability</th>\n",
              "      <th>instrumentalness</th>\n",
              "      <th>liveness</th>\n",
              "      <th>master_popular_genre</th>\n",
              "      <th>key_1</th>\n",
              "      <th>key_2</th>\n",
              "      <th>key_3</th>\n",
              "      <th>key_4</th>\n",
              "      <th>key_5</th>\n",
              "      <th>key_6</th>\n",
              "      <th>key_7</th>\n",
              "      <th>key_8</th>\n",
              "      <th>key_9</th>\n",
              "      <th>key_10</th>\n",
              "      <th>key_11</th>\n",
              "      <th>time_signature_1</th>\n",
              "      <th>time_signature_3</th>\n",
              "      <th>time_signature_4</th>\n",
              "      <th>time_signature_5</th>\n",
              "    </tr>\n",
              "  </thead>\n",
              "  <tbody>\n",
              "    <tr>\n",
              "      <th>0</th>\n",
              "      <td>50</td>\n",
              "      <td>2011</td>\n",
              "      <td>247010</td>\n",
              "      <td>0.41200</td>\n",
              "      <td>0.0357</td>\n",
              "      <td>0.94300</td>\n",
              "      <td>1</td>\n",
              "      <td>88.113</td>\n",
              "      <td>0.193</td>\n",
              "      <td>0.167</td>\n",
              "      <td>0.000121</td>\n",
              "      <td>0.7570</td>\n",
              "      <td>pop</td>\n",
              "      <td>0</td>\n",
              "      <td>1</td>\n",
              "      <td>0</td>\n",
              "      <td>0</td>\n",
              "      <td>0</td>\n",
              "      <td>0</td>\n",
              "      <td>0</td>\n",
              "      <td>0</td>\n",
              "      <td>0</td>\n",
              "      <td>0</td>\n",
              "      <td>0</td>\n",
              "      <td>0</td>\n",
              "      <td>0</td>\n",
              "      <td>1</td>\n",
              "      <td>0</td>\n",
              "    </tr>\n",
              "    <tr>\n",
              "      <th>1</th>\n",
              "      <td>44</td>\n",
              "      <td>2011</td>\n",
              "      <td>353667</td>\n",
              "      <td>0.72700</td>\n",
              "      <td>0.0462</td>\n",
              "      <td>0.03010</td>\n",
              "      <td>0</td>\n",
              "      <td>87.349</td>\n",
              "      <td>0.391</td>\n",
              "      <td>0.485</td>\n",
              "      <td>0.758000</td>\n",
              "      <td>0.1630</td>\n",
              "      <td>rock</td>\n",
              "      <td>0</td>\n",
              "      <td>0</td>\n",
              "      <td>0</td>\n",
              "      <td>0</td>\n",
              "      <td>0</td>\n",
              "      <td>0</td>\n",
              "      <td>0</td>\n",
              "      <td>0</td>\n",
              "      <td>0</td>\n",
              "      <td>0</td>\n",
              "      <td>1</td>\n",
              "      <td>0</td>\n",
              "      <td>0</td>\n",
              "      <td>1</td>\n",
              "      <td>0</td>\n",
              "    </tr>\n",
              "    <tr>\n",
              "      <th>2</th>\n",
              "      <td>37</td>\n",
              "      <td>2011</td>\n",
              "      <td>163000</td>\n",
              "      <td>0.00385</td>\n",
              "      <td>0.0449</td>\n",
              "      <td>0.99500</td>\n",
              "      <td>0</td>\n",
              "      <td>141.201</td>\n",
              "      <td>0.117</td>\n",
              "      <td>0.228</td>\n",
              "      <td>0.917000</td>\n",
              "      <td>0.0858</td>\n",
              "      <td>rock</td>\n",
              "      <td>0</td>\n",
              "      <td>0</td>\n",
              "      <td>0</td>\n",
              "      <td>0</td>\n",
              "      <td>0</td>\n",
              "      <td>0</td>\n",
              "      <td>0</td>\n",
              "      <td>0</td>\n",
              "      <td>1</td>\n",
              "      <td>0</td>\n",
              "      <td>0</td>\n",
              "      <td>0</td>\n",
              "      <td>1</td>\n",
              "      <td>0</td>\n",
              "      <td>0</td>\n",
              "    </tr>\n",
              "    <tr>\n",
              "      <th>3</th>\n",
              "      <td>41</td>\n",
              "      <td>2011</td>\n",
              "      <td>253991</td>\n",
              "      <td>0.30500</td>\n",
              "      <td>0.0318</td>\n",
              "      <td>0.93600</td>\n",
              "      <td>1</td>\n",
              "      <td>85.786</td>\n",
              "      <td>0.446</td>\n",
              "      <td>0.230</td>\n",
              "      <td>0.000002</td>\n",
              "      <td>0.7440</td>\n",
              "      <td>pop</td>\n",
              "      <td>0</td>\n",
              "      <td>0</td>\n",
              "      <td>0</td>\n",
              "      <td>0</td>\n",
              "      <td>0</td>\n",
              "      <td>0</td>\n",
              "      <td>1</td>\n",
              "      <td>0</td>\n",
              "      <td>0</td>\n",
              "      <td>0</td>\n",
              "      <td>0</td>\n",
              "      <td>0</td>\n",
              "      <td>1</td>\n",
              "      <td>0</td>\n",
              "      <td>0</td>\n",
              "    </tr>\n",
              "    <tr>\n",
              "      <th>4</th>\n",
              "      <td>42</td>\n",
              "      <td>2011</td>\n",
              "      <td>294613</td>\n",
              "      <td>0.95400</td>\n",
              "      <td>0.0607</td>\n",
              "      <td>0.00894</td>\n",
              "      <td>0</td>\n",
              "      <td>163.995</td>\n",
              "      <td>0.287</td>\n",
              "      <td>0.454</td>\n",
              "      <td>0.000000</td>\n",
              "      <td>0.0659</td>\n",
              "      <td>rock</td>\n",
              "      <td>0</td>\n",
              "      <td>0</td>\n",
              "      <td>1</td>\n",
              "      <td>0</td>\n",
              "      <td>0</td>\n",
              "      <td>0</td>\n",
              "      <td>0</td>\n",
              "      <td>0</td>\n",
              "      <td>0</td>\n",
              "      <td>0</td>\n",
              "      <td>0</td>\n",
              "      <td>0</td>\n",
              "      <td>0</td>\n",
              "      <td>1</td>\n",
              "      <td>0</td>\n",
              "    </tr>\n",
              "  </tbody>\n",
              "</table>\n",
              "</div>"
            ],
            "text/plain": [
              "   track_pop  track_year  ...  time_signature_4  time_signature_5\n",
              "0         50        2011  ...                 1                 0\n",
              "1         44        2011  ...                 1                 0\n",
              "2         37        2011  ...                 0                 0\n",
              "3         41        2011  ...                 0                 0\n",
              "4         42        2011  ...                 1                 0\n",
              "\n",
              "[5 rows x 28 columns]"
            ]
          },
          "metadata": {
            "tags": []
          },
          "execution_count": 7
        }
      ]
    },
    {
      "cell_type": "code",
      "metadata": {
        "id": "50PsH8ALACJ8"
      },
      "source": [
        "genre = track_table_dummies['master_popular_genre']\n",
        "track_table_dummies.drop('master_popular_genre', axis=1,inplace = True)\n",
        "track_table_dummies.insert(0, 'master_popular_genre', genre)"
      ],
      "execution_count": 8,
      "outputs": []
    },
    {
      "cell_type": "code",
      "metadata": {
        "id": "D5tk5mj4AtlX",
        "colab": {
          "base_uri": "https://localhost:8080/",
          "height": 218
        },
        "outputId": "0299e0b3-4178-439a-c95f-3688112e4b42"
      },
      "source": [
        "track_table_dummies.head()"
      ],
      "execution_count": 9,
      "outputs": [
        {
          "output_type": "execute_result",
          "data": {
            "text/html": [
              "<div>\n",
              "<style scoped>\n",
              "    .dataframe tbody tr th:only-of-type {\n",
              "        vertical-align: middle;\n",
              "    }\n",
              "\n",
              "    .dataframe tbody tr th {\n",
              "        vertical-align: top;\n",
              "    }\n",
              "\n",
              "    .dataframe thead th {\n",
              "        text-align: right;\n",
              "    }\n",
              "</style>\n",
              "<table border=\"1\" class=\"dataframe\">\n",
              "  <thead>\n",
              "    <tr style=\"text-align: right;\">\n",
              "      <th></th>\n",
              "      <th>master_popular_genre</th>\n",
              "      <th>track_pop</th>\n",
              "      <th>track_year</th>\n",
              "      <th>duration_ms</th>\n",
              "      <th>energy</th>\n",
              "      <th>speechiness</th>\n",
              "      <th>acousticness</th>\n",
              "      <th>mode</th>\n",
              "      <th>tempo</th>\n",
              "      <th>valence</th>\n",
              "      <th>danceability</th>\n",
              "      <th>instrumentalness</th>\n",
              "      <th>liveness</th>\n",
              "      <th>key_1</th>\n",
              "      <th>key_2</th>\n",
              "      <th>key_3</th>\n",
              "      <th>key_4</th>\n",
              "      <th>key_5</th>\n",
              "      <th>key_6</th>\n",
              "      <th>key_7</th>\n",
              "      <th>key_8</th>\n",
              "      <th>key_9</th>\n",
              "      <th>key_10</th>\n",
              "      <th>key_11</th>\n",
              "      <th>time_signature_1</th>\n",
              "      <th>time_signature_3</th>\n",
              "      <th>time_signature_4</th>\n",
              "      <th>time_signature_5</th>\n",
              "    </tr>\n",
              "  </thead>\n",
              "  <tbody>\n",
              "    <tr>\n",
              "      <th>0</th>\n",
              "      <td>pop</td>\n",
              "      <td>50</td>\n",
              "      <td>2011</td>\n",
              "      <td>247010</td>\n",
              "      <td>0.41200</td>\n",
              "      <td>0.0357</td>\n",
              "      <td>0.94300</td>\n",
              "      <td>1</td>\n",
              "      <td>88.113</td>\n",
              "      <td>0.193</td>\n",
              "      <td>0.167</td>\n",
              "      <td>0.000121</td>\n",
              "      <td>0.7570</td>\n",
              "      <td>0</td>\n",
              "      <td>1</td>\n",
              "      <td>0</td>\n",
              "      <td>0</td>\n",
              "      <td>0</td>\n",
              "      <td>0</td>\n",
              "      <td>0</td>\n",
              "      <td>0</td>\n",
              "      <td>0</td>\n",
              "      <td>0</td>\n",
              "      <td>0</td>\n",
              "      <td>0</td>\n",
              "      <td>0</td>\n",
              "      <td>1</td>\n",
              "      <td>0</td>\n",
              "    </tr>\n",
              "    <tr>\n",
              "      <th>1</th>\n",
              "      <td>rock</td>\n",
              "      <td>44</td>\n",
              "      <td>2011</td>\n",
              "      <td>353667</td>\n",
              "      <td>0.72700</td>\n",
              "      <td>0.0462</td>\n",
              "      <td>0.03010</td>\n",
              "      <td>0</td>\n",
              "      <td>87.349</td>\n",
              "      <td>0.391</td>\n",
              "      <td>0.485</td>\n",
              "      <td>0.758000</td>\n",
              "      <td>0.1630</td>\n",
              "      <td>0</td>\n",
              "      <td>0</td>\n",
              "      <td>0</td>\n",
              "      <td>0</td>\n",
              "      <td>0</td>\n",
              "      <td>0</td>\n",
              "      <td>0</td>\n",
              "      <td>0</td>\n",
              "      <td>0</td>\n",
              "      <td>0</td>\n",
              "      <td>1</td>\n",
              "      <td>0</td>\n",
              "      <td>0</td>\n",
              "      <td>1</td>\n",
              "      <td>0</td>\n",
              "    </tr>\n",
              "    <tr>\n",
              "      <th>2</th>\n",
              "      <td>rock</td>\n",
              "      <td>37</td>\n",
              "      <td>2011</td>\n",
              "      <td>163000</td>\n",
              "      <td>0.00385</td>\n",
              "      <td>0.0449</td>\n",
              "      <td>0.99500</td>\n",
              "      <td>0</td>\n",
              "      <td>141.201</td>\n",
              "      <td>0.117</td>\n",
              "      <td>0.228</td>\n",
              "      <td>0.917000</td>\n",
              "      <td>0.0858</td>\n",
              "      <td>0</td>\n",
              "      <td>0</td>\n",
              "      <td>0</td>\n",
              "      <td>0</td>\n",
              "      <td>0</td>\n",
              "      <td>0</td>\n",
              "      <td>0</td>\n",
              "      <td>0</td>\n",
              "      <td>1</td>\n",
              "      <td>0</td>\n",
              "      <td>0</td>\n",
              "      <td>0</td>\n",
              "      <td>1</td>\n",
              "      <td>0</td>\n",
              "      <td>0</td>\n",
              "    </tr>\n",
              "    <tr>\n",
              "      <th>3</th>\n",
              "      <td>pop</td>\n",
              "      <td>41</td>\n",
              "      <td>2011</td>\n",
              "      <td>253991</td>\n",
              "      <td>0.30500</td>\n",
              "      <td>0.0318</td>\n",
              "      <td>0.93600</td>\n",
              "      <td>1</td>\n",
              "      <td>85.786</td>\n",
              "      <td>0.446</td>\n",
              "      <td>0.230</td>\n",
              "      <td>0.000002</td>\n",
              "      <td>0.7440</td>\n",
              "      <td>0</td>\n",
              "      <td>0</td>\n",
              "      <td>0</td>\n",
              "      <td>0</td>\n",
              "      <td>0</td>\n",
              "      <td>0</td>\n",
              "      <td>1</td>\n",
              "      <td>0</td>\n",
              "      <td>0</td>\n",
              "      <td>0</td>\n",
              "      <td>0</td>\n",
              "      <td>0</td>\n",
              "      <td>1</td>\n",
              "      <td>0</td>\n",
              "      <td>0</td>\n",
              "    </tr>\n",
              "    <tr>\n",
              "      <th>4</th>\n",
              "      <td>rock</td>\n",
              "      <td>42</td>\n",
              "      <td>2011</td>\n",
              "      <td>294613</td>\n",
              "      <td>0.95400</td>\n",
              "      <td>0.0607</td>\n",
              "      <td>0.00894</td>\n",
              "      <td>0</td>\n",
              "      <td>163.995</td>\n",
              "      <td>0.287</td>\n",
              "      <td>0.454</td>\n",
              "      <td>0.000000</td>\n",
              "      <td>0.0659</td>\n",
              "      <td>0</td>\n",
              "      <td>0</td>\n",
              "      <td>1</td>\n",
              "      <td>0</td>\n",
              "      <td>0</td>\n",
              "      <td>0</td>\n",
              "      <td>0</td>\n",
              "      <td>0</td>\n",
              "      <td>0</td>\n",
              "      <td>0</td>\n",
              "      <td>0</td>\n",
              "      <td>0</td>\n",
              "      <td>0</td>\n",
              "      <td>1</td>\n",
              "      <td>0</td>\n",
              "    </tr>\n",
              "  </tbody>\n",
              "</table>\n",
              "</div>"
            ],
            "text/plain": [
              "  master_popular_genre  track_pop  ...  time_signature_4  time_signature_5\n",
              "0                  pop         50  ...                 1                 0\n",
              "1                 rock         44  ...                 1                 0\n",
              "2                 rock         37  ...                 0                 0\n",
              "3                  pop         41  ...                 0                 0\n",
              "4                 rock         42  ...                 1                 0\n",
              "\n",
              "[5 rows x 28 columns]"
            ]
          },
          "metadata": {
            "tags": []
          },
          "execution_count": 9
        }
      ]
    },
    {
      "cell_type": "code",
      "metadata": {
        "id": "itSs59Ct9Jj5"
      },
      "source": [
        "X = track_table_dummies.iloc[:,1:]\n",
        "y = track_table_dummies.iloc[:,0]\n",
        "\n",
        "X_train, X_test, y_train, y_test = train_test_split(X, y, test_size=0.33, random_state=42)"
      ],
      "execution_count": 10,
      "outputs": []
    },
    {
      "cell_type": "code",
      "metadata": {
        "id": "_hBW-wtdFTXv",
        "colab": {
          "base_uri": "https://localhost:8080/"
        },
        "outputId": "af07e3b9-1bf6-41c1-9aab-c3116c3490d5"
      },
      "source": [
        "y_train.unique()"
      ],
      "execution_count": 11,
      "outputs": [
        {
          "output_type": "execute_result",
          "data": {
            "text/plain": [
              "array(['house', 'pop', 'hiphop', 'r&b', 'country', 'rock', 'indie'],\n",
              "      dtype=object)"
            ]
          },
          "metadata": {
            "tags": []
          },
          "execution_count": 11
        }
      ]
    },
    {
      "cell_type": "code",
      "metadata": {
        "id": "oURyx-jh74-m"
      },
      "source": [
        "from sklearn.ensemble import GradientBoostingClassifier"
      ],
      "execution_count": 13,
      "outputs": []
    },
    {
      "cell_type": "code",
      "metadata": {
        "id": "WNo1ESMdP-jc",
        "colab": {
          "base_uri": "https://localhost:8080/"
        },
        "outputId": "299aa665-77d9-43bd-e6a4-158b49e8f085"
      },
      "source": [
        "gb_param_grid = {\n",
        "       #'n_estimators': range(50, 400, 50),\n",
        "       'n_estimators': [350],\n",
        "       #'max_depth':range(3,8),\n",
        "       'max_depth':[6],\n",
        "       #'learning_rate' : [0.1,0.3],\n",
        "       'learning_rate' : [0.1],\n",
        "       #'min_samples_split': [0.05, 0.1]\n",
        "       'min_samples_split': [0.05]\n",
        "\n",
        "}\n",
        "grid = GridSearchCV(GradientBoostingClassifier(), gb_param_grid, cv=3, verbose=2).fit(X_train, y_train)\n",
        "\n",
        "\n",
        "# summarize the results of the grid search\n",
        "print(\"The best score is {}\".format(grid.best_score_))\n",
        "print(\"The best hyper parameter setting is {}\".format(grid.best_params_))\n",
        "print(\"Model Accuracy:\", accuracy_score(y_test,grid.predict(X_test)))"
      ],
      "execution_count": 14,
      "outputs": [
        {
          "output_type": "stream",
          "text": [
            "Fitting 3 folds for each of 1 candidates, totalling 3 fits\n",
            "[CV] learning_rate=0.1, max_depth=6, min_samples_split=0.05, n_estimators=350 \n"
          ],
          "name": "stdout"
        },
        {
          "output_type": "stream",
          "text": [
            "[Parallel(n_jobs=1)]: Using backend SequentialBackend with 1 concurrent workers.\n"
          ],
          "name": "stderr"
        },
        {
          "output_type": "stream",
          "text": [
            "[CV]  learning_rate=0.1, max_depth=6, min_samples_split=0.05, n_estimators=350, total= 7.8min\n",
            "[CV] learning_rate=0.1, max_depth=6, min_samples_split=0.05, n_estimators=350 \n"
          ],
          "name": "stdout"
        },
        {
          "output_type": "stream",
          "text": [
            "[Parallel(n_jobs=1)]: Done   1 out of   1 | elapsed:  7.8min remaining:    0.0s\n"
          ],
          "name": "stderr"
        },
        {
          "output_type": "stream",
          "text": [
            "[CV]  learning_rate=0.1, max_depth=6, min_samples_split=0.05, n_estimators=350, total= 7.8min\n",
            "[CV] learning_rate=0.1, max_depth=6, min_samples_split=0.05, n_estimators=350 \n",
            "[CV]  learning_rate=0.1, max_depth=6, min_samples_split=0.05, n_estimators=350, total= 7.8min\n"
          ],
          "name": "stdout"
        },
        {
          "output_type": "stream",
          "text": [
            "[Parallel(n_jobs=1)]: Done   3 out of   3 | elapsed: 23.4min finished\n"
          ],
          "name": "stderr"
        },
        {
          "output_type": "stream",
          "text": [
            "The best score is 0.578562032708\n",
            "The best hyper parameter setting is {'learning_rate': 0.1, 'max_depth': 6, 'min_samples_split': 0.05, 'n_estimators': 350}\n",
            "Model Accuracy: 0.577933290920658\n"
          ],
          "name": "stdout"
        }
      ]
    },
    {
      "cell_type": "code",
      "metadata": {
        "id": "W69ak9o_4KYV",
        "colab": {
          "base_uri": "https://localhost:8080/",
          "height": 719
        },
        "outputId": "fa1b4806-4d52-42fc-9732-74c01ecd6bb2"
      },
      "source": [
        "from sklearn.metrics import confusion_matrix\n",
        "from sklearn.metrics import plot_confusion_matrix\n",
        "genre_order = ['country', 'hiphop', 'house', 'indie', 'pop', 'r&b', 'rock']\n",
        "\n",
        "conf_matrix = confusion_matrix(y_test, grid.predict(X_test), labels=genre_order)\n",
        "fig, ax = plt.subplots(figsize=(10, 10))\n",
        "print(plot_confusion_matrix(X=X_test,y_true=y_test, labels=genre_order,estimator=grid, ax=ax,values_format = 'd'))\n",
        "print(\"Accuracy predicting Country:\", conf_matrix[0,0]/(sum(conf_matrix[:,0])))\n",
        "print(\"Accuracy predicting HipHop:\", conf_matrix[1,1]/(sum(conf_matrix[:,1])))\n",
        "print(\"Accuracy predicting House:\", conf_matrix[2,2]/(sum(conf_matrix[:,2])))\n",
        "print(\"Accuracy predicting Indie:\", conf_matrix[3,3]/(sum(conf_matrix[:,3])))\n",
        "print(\"Accuracy predicting Pop:\", conf_matrix[4,4]/(sum(conf_matrix[:,4])))\n",
        "print(\"Accuracy predicting R&B:\", conf_matrix[5,5]/(sum(conf_matrix[:,5])))\n",
        "print(\"Accuracy predicting Rock:\", conf_matrix[6,6]/(sum(conf_matrix[:,6])))"
      ],
      "execution_count": 102,
      "outputs": [
        {
          "output_type": "stream",
          "text": [
            "<sklearn.metrics._plot.confusion_matrix.ConfusionMatrixDisplay object at 0x7f81f3a0aa10>\n",
            "Accuracy predicting Country: 0.6492578339747114\n",
            "Accuracy predicting HipHop: 0.6536678483774202\n",
            "Accuracy predicting House: 0.668248694826768\n",
            "Accuracy predicting Indie: 0.5441306266548985\n",
            "Accuracy predicting Pop: 0.5068666140489345\n",
            "Accuracy predicting R&B: 0.476687543493389\n",
            "Accuracy predicting Rock: 0.5563380281690141\n"
          ],
          "name": "stdout"
        },
        {
          "output_type": "display_data",
          "data": {
            "image/png": "[encoded data removed]",
            "text/plain": [
              "<Figure size 720x720 with 2 Axes>"
            ]
          },
          "metadata": {
            "tags": [],
            "needs_background": "light"
          }
        }
      ]
    },
    {
      "cell_type": "code",
      "metadata": {
        "colab": {
          "base_uri": "https://localhost:8080/",
          "height": 639
        },
        "id": "_s7rqXfWpZLt",
        "outputId": "51fa48c8-b437-4a33-ee27-1910e10f7016"
      },
      "source": [
        "fig, ax = plt.subplots(figsize=(12,10)) \n",
        "\n",
        "sns.heatmap(conf_matrix.astype('float') / conf_matrix.sum(axis=1)[:, np.newaxis], annot=True,\n",
        "            fmt='.2%', cmap='Blues',xticklabels=genre_order,yticklabels=genre_order, ax=ax)\n",
        "ax.set(xlabel='Predicted Genre', ylabel='True Genre')\n",
        "ax.set_title(\"Proportional Genre Confusion Matrix\")"
      ],
      "execution_count": 118,
      "outputs": [
        {
          "output_type": "execute_result",
          "data": {
            "text/plain": [
              "Text(0.5, 1.0, 'Proportional Genre Confusion Matrix')"
            ]
          },
          "metadata": {
            "tags": []
          },
          "execution_count": 118
        },
        {
          "output_type": "display_data",
          "data": {
            "image/png": "[encoded data removed]",
            "text/plain": [
              "<Figure size 864x720 with 2 Axes>"
            ]
          },
          "metadata": {
            "tags": [],
            "needs_background": "light"
          }
        }
      ]
    },
    {
      "cell_type": "code",
      "metadata": {
        "colab": {
          "base_uri": "https://localhost:8080/"
        },
        "id": "M-U3rTrBIU1O",
        "outputId": "7f6d21de-7d5f-4b05-eda4-6e86c91169b0"
      },
      "source": [
        "for count,genre_preds in enumerate(conf_matrix):\n",
        "  print(\"True Genre:\", genre_order[count])\n",
        "  genre_preds[list(genre_preds).index(max(genre_preds))] = 0\n",
        "  incorrect_guess = genre_order[list(genre_preds).index(max(genre_preds))]\n",
        "  print(\"Most Common Incorrect Prediction:\", incorrect_guess)\n",
        "  print(\"Percent of All Incorrect Predictions as\", incorrect_guess, (max(genre_preds) / sum(genre_preds)))\n",
        "  print()"
      ],
      "execution_count": 78,
      "outputs": [
        {
          "output_type": "stream",
          "text": [
            "True Genre: country\n",
            "Most Common Incorrect Prediction: pop\n",
            "Percent of All Incorrect Predictions as pop 0.43257261410788383\n",
            "\n",
            "True Genre: hiphop\n",
            "Most Common Incorrect Prediction: pop\n",
            "Percent of All Incorrect Predictions as pop 0.6361085126286249\n",
            "\n",
            "True Genre: house\n",
            "Most Common Incorrect Prediction: pop\n",
            "Percent of All Incorrect Predictions as pop 0.4927536231884058\n",
            "\n",
            "True Genre: indie\n",
            "Most Common Incorrect Prediction: pop\n",
            "Percent of All Incorrect Predictions as pop 0.3436823104693141\n",
            "\n",
            "True Genre: pop\n",
            "Most Common Incorrect Prediction: hiphop\n",
            "Percent of All Incorrect Predictions as hiphop 0.25848142164781907\n",
            "\n",
            "True Genre: r&b\n",
            "Most Common Incorrect Prediction: pop\n",
            "Percent of All Incorrect Predictions as pop 0.4658886894075404\n",
            "\n",
            "True Genre: rock\n",
            "Most Common Incorrect Prediction: pop\n",
            "Percent of All Incorrect Predictions as pop 0.43261012491781725\n",
            "\n"
          ],
          "name": "stdout"
        }
      ]
    },
    {
      "cell_type": "code",
      "metadata": {
        "id": "vFNNttCe9JE1"
      },
      "source": [
        "# Add prediction of 2nd highest probability genre\n",
        "two_preds = []\n",
        "for prediction in grid.predict_proba(X_test):\n",
        "  prediction = list(prediction)\n",
        "  two_maxes = []\n",
        "  two_maxes.append(prediction.index(max(prediction)))\n",
        "  prediction[prediction.index(max(prediction))] = 0\n",
        "  two_maxes.append(prediction.index(max(prediction)))\n",
        "  two_preds.append(two_maxes)"
      ],
      "execution_count": 42,
      "outputs": []
    },
    {
      "cell_type": "code",
      "metadata": {
        "id": "m_FSe5aACDQo"
      },
      "source": [
        "# Convert probability to genre name\n",
        "for pred in two_preds:\n",
        "  pred[0] = genre_order[pred[0]]\n",
        "  pred[1] = genre_order[pred[1]]"
      ],
      "execution_count": 44,
      "outputs": []
    },
    {
      "cell_type": "code",
      "metadata": {
        "id": "C1yRLa6BKUIP"
      },
      "source": [
        "# Create list to evaluate accuracy\n",
        "in_list = []\n",
        "for i in range(0,len(two_preds)):\n",
        "  in_list.append(int(list(y_test)[i] in two_preds[i]))"
      ],
      "execution_count": 45,
      "outputs": []
    },
    {
      "cell_type": "code",
      "metadata": {
        "id": "OsOWRCPTLmDo",
        "colab": {
          "base_uri": "https://localhost:8080/"
        },
        "outputId": "271d609a-5c9b-4d65-af37-9710c5641093"
      },
      "source": [
        "print(\"Accuracy:\" , sum(in_list) / len(in_list))"
      ],
      "execution_count": 46,
      "outputs": [
        {
          "output_type": "stream",
          "text": [
            "Accuracy: 0.7844678723984367\n"
          ],
          "name": "stdout"
        }
      ]
    },
    {
      "cell_type": "code",
      "metadata": {
        "id": "7sTdSCGeMOB5"
      },
      "source": [
        "pred_correctly = []\n",
        "true_genre = []\n",
        "predicted_genre = []\n",
        "\n",
        "for i in range(0,len(y_test)):\n",
        "  pred_correctly.append(in_list[i])\n",
        "  true_genre.append(list(y_test)[i])\n",
        "  predicted_genre.append(two_preds[i])\n",
        "\n",
        "prediction_frame = pd.DataFrame({\"Predicted_Correctly\":pred_correctly,\n",
        "                                 \"True Genre\": true_genre,\n",
        "                                 \"Predicted Genres\": predicted_genre,\n",
        "                                 \"Track Name\": track_table.track_name[y_test.index],\n",
        "                                 \"Artist Name\": track_table.art_name[y_test.index]})"
      ],
      "execution_count": 47,
      "outputs": []
    },
    {
      "cell_type": "code",
      "metadata": {
        "id": "tvFTh_EJPZoe",
        "colab": {
          "base_uri": "https://localhost:8080/",
          "height": 407
        },
        "outputId": "be21b7d1-4da1-4e0d-b2bf-7be7df1282df"
      },
      "source": [
        "display(prediction_frame[prediction_frame.Predicted_Correctly == 0])"
      ],
      "execution_count": 48,
      "outputs": [
        {
          "output_type": "display_data",
          "data": {
            "text/html": [
              "<div>\n",
              "<style scoped>\n",
              "    .dataframe tbody tr th:only-of-type {\n",
              "        vertical-align: middle;\n",
              "    }\n",
              "\n",
              "    .dataframe tbody tr th {\n",
              "        vertical-align: top;\n",
              "    }\n",
              "\n",
              "    .dataframe thead th {\n",
              "        text-align: right;\n",
              "    }\n",
              "</style>\n",
              "<table border=\"1\" class=\"dataframe\">\n",
              "  <thead>\n",
              "    <tr style=\"text-align: right;\">\n",
              "      <th></th>\n",
              "      <th>Predicted_Correctly</th>\n",
              "      <th>True Genre</th>\n",
              "      <th>Predicted Genres</th>\n",
              "      <th>Track Name</th>\n",
              "      <th>Artist Name</th>\n",
              "    </tr>\n",
              "  </thead>\n",
              "  <tbody>\n",
              "    <tr>\n",
              "      <th>2885</th>\n",
              "      <td>0</td>\n",
              "      <td>country</td>\n",
              "      <td>[hiphop, pop]</td>\n",
              "      <td>Smoke Stack</td>\n",
              "      <td>The Lacs</td>\n",
              "    </tr>\n",
              "    <tr>\n",
              "      <th>52843</th>\n",
              "      <td>0</td>\n",
              "      <td>hiphop</td>\n",
              "      <td>[country, house]</td>\n",
              "      <td>Tattoo</td>\n",
              "      <td>Kevin Abstract</td>\n",
              "    </tr>\n",
              "    <tr>\n",
              "      <th>34983</th>\n",
              "      <td>0</td>\n",
              "      <td>pop</td>\n",
              "      <td>[country, rock]</td>\n",
              "      <td>Start A Riot</td>\n",
              "      <td>BANNERS</td>\n",
              "    </tr>\n",
              "    <tr>\n",
              "      <th>65658</th>\n",
              "      <td>0</td>\n",
              "      <td>rock</td>\n",
              "      <td>[country, pop]</td>\n",
              "      <td>Midnight Thoughts</td>\n",
              "      <td>Set It Off</td>\n",
              "    </tr>\n",
              "    <tr>\n",
              "      <th>57048</th>\n",
              "      <td>0</td>\n",
              "      <td>r&amp;b</td>\n",
              "      <td>[pop, hiphop]</td>\n",
              "      <td>Dingo X BIBI - she got it</td>\n",
              "      <td>BIBI</td>\n",
              "    </tr>\n",
              "    <tr>\n",
              "      <th>...</th>\n",
              "      <td>...</td>\n",
              "      <td>...</td>\n",
              "      <td>...</td>\n",
              "      <td>...</td>\n",
              "      <td>...</td>\n",
              "    </tr>\n",
              "    <tr>\n",
              "      <th>32184</th>\n",
              "      <td>0</td>\n",
              "      <td>pop</td>\n",
              "      <td>[rock, country]</td>\n",
              "      <td>Breathless</td>\n",
              "      <td>Small Black</td>\n",
              "    </tr>\n",
              "    <tr>\n",
              "      <th>7861</th>\n",
              "      <td>0</td>\n",
              "      <td>country</td>\n",
              "      <td>[pop, r&amp;b]</td>\n",
              "      <td>Mother</td>\n",
              "      <td>Sugarland</td>\n",
              "    </tr>\n",
              "    <tr>\n",
              "      <th>19231</th>\n",
              "      <td>0</td>\n",
              "      <td>hiphop</td>\n",
              "      <td>[pop, rock]</td>\n",
              "      <td>I've Been Waiting (feat. ILOVEMAKONNEN) - Orig...</td>\n",
              "      <td>Lil Peep</td>\n",
              "    </tr>\n",
              "    <tr>\n",
              "      <th>9693</th>\n",
              "      <td>0</td>\n",
              "      <td>country</td>\n",
              "      <td>[pop, r&amp;b]</td>\n",
              "      <td>A ROCK</td>\n",
              "      <td>HARDY</td>\n",
              "    </tr>\n",
              "    <tr>\n",
              "      <th>31310</th>\n",
              "      <td>0</td>\n",
              "      <td>indie</td>\n",
              "      <td>[pop, rock]</td>\n",
              "      <td>We Must Be Killers</td>\n",
              "      <td>Mikky Ekko</td>\n",
              "    </tr>\n",
              "  </tbody>\n",
              "</table>\n",
              "<p>4743 rows × 5 columns</p>\n",
              "</div>"
            ],
            "text/plain": [
              "       Predicted_Correctly  ...     Artist Name\n",
              "2885                     0  ...        The Lacs\n",
              "52843                    0  ...  Kevin Abstract\n",
              "34983                    0  ...         BANNERS\n",
              "65658                    0  ...      Set It Off\n",
              "57048                    0  ...            BIBI\n",
              "...                    ...  ...             ...\n",
              "32184                    0  ...     Small Black\n",
              "7861                     0  ...       Sugarland\n",
              "19231                    0  ...        Lil Peep\n",
              "9693                     0  ...           HARDY\n",
              "31310                    0  ...      Mikky Ekko\n",
              "\n",
              "[4743 rows x 5 columns]"
            ]
          },
          "metadata": {
            "tags": []
          }
        }
      ]
    },
    {
      "cell_type": "code",
      "metadata": {
        "colab": {
          "base_uri": "https://localhost:8080/"
        },
        "id": "qfjg6E8-RoP3",
        "outputId": "f2d2ce52-45fb-4a44-a188-18e79bf9fd64"
      },
      "source": [
        "from sklearn.preprocessing import StandardScaler\n",
        "from sklearn.decomposition import PCA\n",
        "from sklearn.cluster import KMeans\n",
        "import matplotlib.pyplot as plt\n",
        "\n",
        "track_table_clusters = track_table_dummies.drop('master_popular_genre', axis=1)\n",
        "scaler = StandardScaler()\n",
        "scaled_data = scaler.fit_transform(track_table_clusters)\n",
        "pca = PCA()\n",
        "pca.fit(scaled_data)"
      ],
      "execution_count": 87,
      "outputs": [
        {
          "output_type": "execute_result",
          "data": {
            "text/plain": [
              "PCA(copy=True, iterated_power='auto', n_components=None, random_state=None,\n",
              "    svd_solver='auto', tol=0.0, whiten=False)"
            ]
          },
          "metadata": {
            "tags": []
          },
          "execution_count": 87
        }
      ]
    },
    {
      "cell_type": "code",
      "metadata": {
        "colab": {
          "base_uri": "https://localhost:8080/"
        },
        "id": "rK9gNxeAT5L8",
        "outputId": "bdea82c3-af37-451a-bf4d-986aa4a93dfb"
      },
      "source": [
        "pca.explained_variance_ratio_.cumsum()"
      ],
      "execution_count": 93,
      "outputs": [
        {
          "output_type": "execute_result",
          "data": {
            "text/plain": [
              "array([0.08958415, 0.1575384 , 0.21553338, 0.26477364, 0.30899659,\n",
              "       0.35096779, 0.39212482, 0.4329397 , 0.47362612, 0.51398291,\n",
              "       0.55421736, 0.5943036 , 0.63399609, 0.6725887 , 0.71077431,\n",
              "       0.7483482 , 0.78527038, 0.82005052, 0.85417297, 0.88708408,\n",
              "       0.91616332, 0.94203932, 0.96418348, 0.98500313, 0.99552794,\n",
              "       0.99997824, 1.        ])"
            ]
          },
          "metadata": {
            "tags": []
          },
          "execution_count": 93
        }
      ]
    },
    {
      "cell_type": "code",
      "metadata": {
        "colab": {
          "base_uri": "https://localhost:8080/",
          "height": 313
        },
        "id": "AJOG48EfTFzT",
        "outputId": "884ee4a8-ca1d-4965-c844-143b449c493c"
      },
      "source": [
        "plt.plot(range(1,28), pca.explained_variance_ratio_.cumsum(), marker='o')\n",
        "plt.title('variance by components')\n",
        "plt.xlabel('num of components')\n",
        "plt.ylabel('cumulative explained variance')"
      ],
      "execution_count": 99,
      "outputs": [
        {
          "output_type": "execute_result",
          "data": {
            "text/plain": [
              "Text(0, 0.5, 'cumulative explained variance')"
            ]
          },
          "metadata": {
            "tags": []
          },
          "execution_count": 99
        },
        {
          "output_type": "display_data",
          "data": {
            "image/png": "[encoded data removed]",
            "text/plain": [
              "<Figure size 432x288 with 1 Axes>"
            ]
          },
          "metadata": {
            "tags": [],
            "needs_background": "light"
          }
        }
      ]
    },
    {
      "cell_type": "code",
      "metadata": {
        "id": "c3LvdVktLt_q",
        "colab": {
          "base_uri": "https://localhost:8080/"
        },
        "outputId": "f15dc509-e189-45e0-c8f8-df412a678865"
      },
      "source": [
        "KMeans(n_clusters=8,X_test)"
      ],
      "execution_count": 98,
      "outputs": [
        {
          "output_type": "execute_result",
          "data": {
            "text/plain": [
              "array([[ 0.16276671, -1.57310395,  0.30558392, ..., -0.23247047,\n",
              "         0.26843167, -0.10872003],\n",
              "       [-0.24085285, -1.57310395,  1.85244189, ..., -0.23247047,\n",
              "         0.26843167, -0.10872003],\n",
              "       [-0.71174234, -1.57310395, -0.91282216, ...,  4.30162162,\n",
              "        -3.72534285, -0.10872003],\n",
              "       ...,\n",
              "       [ 0.16276671,  1.5659279 , -0.49127483, ..., -0.23247047,\n",
              "         0.26843167, -0.10872003],\n",
              "       [ 0.6336562 ,  1.5659279 ,  0.52124514, ..., -0.23247047,\n",
              "         0.26843167, -0.10872003],\n",
              "       [ 0.16276671,  1.5659279 ,  0.02529686, ..., -0.23247047,\n",
              "         0.26843167, -0.10872003]])"
            ]
          },
          "metadata": {
            "tags": []
          },
          "execution_count": 98
        }
      ]
    }
  ]
}