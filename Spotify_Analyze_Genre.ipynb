{
  "nbformat": 4,
  "nbformat_minor": 0,
  "metadata": {
    "colab": {
      "name": "Spotify_Analyze_Genre.ipynb",
      "provenance": [],
      "collapsed_sections": []
    },
    "kernelspec": {
      "name": "python3",
      "display_name": "Python 3"
    }
  },
  "cells": [
    {
      "cell_type": "code",
      "metadata": {
        "id": "OlnmJvKn2WiY",
        "colab_type": "code",
        "outputId": "dc259393-ff53-4515-8e66-c9573ed3024b",
        "colab": {
          "resources": {
            "http://localhost:8080/nbextensions/google.colab/files.js": {
              "data": "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",
              "ok": true,
              "headers": [
                [
                  "content-type",
                  "application/javascript"
                ]
              ],
              "status": 200,
              "status_text": ""
            }
          },
          "base_uri": "https://localhost:8080/",
          "height": 74
        }
      },
      "source": [
        "import pandas as pd\n",
        "import numpy as np\n",
        "from sklearn.model_selection import GridSearchCV\n",
        "from sklearn.model_selection import train_test_split\n",
        "from sklearn.metrics import confusion_matrix\n",
        "from sklearn.metrics import accuracy_score\n",
        "\n",
        "from google.colab import files\n",
        "uploaded = files.upload()"
      ],
      "execution_count": 0,
      "outputs": [
        {
          "output_type": "display_data",
          "data": {
            "text/html": [
              "\n",
              "     <input type=\"file\" id=\"files-7764790d-f190-422b-b19f-6e13e71487e9\" name=\"files[]\" multiple disabled />\n",
              "     <output id=\"result-7764790d-f190-422b-b19f-6e13e71487e9\">\n",
              "      Upload widget is only available when the cell has been executed in the\n",
              "      current browser session. Please rerun this cell to enable.\n",
              "      </output>\n",
              "      <script src=\"/nbextensions/google.colab/files.js\"></script> "
            ],
            "text/plain": [
              "<IPython.core.display.HTML object>"
            ]
          },
          "metadata": {
            "tags": []
          }
        },
        {
          "output_type": "stream",
          "text": [
            "Saving cleaned_tracks_genre.csv to cleaned_tracks_genre.csv\n"
          ],
          "name": "stdout"
        }
      ]
    },
    {
      "cell_type": "code",
      "metadata": {
        "id": "CcgrCxCO2vyM",
        "colab_type": "code",
        "colab": {}
      },
      "source": [
        "track_table = pd.read_csv(\"cleaned_tracks_genre.csv\")\n",
        "track_table.dropna(inplace=True)"
      ],
      "execution_count": 0,
      "outputs": []
    },
    {
      "cell_type": "code",
      "metadata": {
        "id": "pWRXVENGU83A",
        "colab_type": "code",
        "outputId": "b37d7e49-1a67-4108-a36b-722e943ff03a",
        "colab": {
          "base_uri": "https://localhost:8080/",
          "height": 187
        }
      },
      "source": [
        "track_table.groupby(\"master_popular_genre\").track_id.count()"
      ],
      "execution_count": 0,
      "outputs": [
        {
          "output_type": "execute_result",
          "data": {
            "text/plain": [
              "master_popular_genre\n",
              "alternative     4545\n",
              "country         7238\n",
              "hip-hop         8144\n",
              "house           5719\n",
              "indie           5741\n",
              "pop            17986\n",
              "r&b             3678\n",
              "rock            5298\n",
              "Name: track_id, dtype: int64"
            ]
          },
          "metadata": {
            "tags": []
          },
          "execution_count": 19
        }
      ]
    },
    {
      "cell_type": "code",
      "metadata": {
        "id": "3G6W88oB2zrk",
        "colab_type": "code",
        "colab": {}
      },
      "source": [
        "track_table.track_year = track_table.track_year.astype(int)"
      ],
      "execution_count": 0,
      "outputs": []
    },
    {
      "cell_type": "code",
      "metadata": {
        "id": "4PWCLM433ben",
        "colab_type": "code",
        "colab": {}
      },
      "source": [
        "#track_table.drop(\"master_popular_genre\", axis=1, inplace=True)\n",
        "#track_table = track_table[(track_table['track_spotify_genre'] != 'trap') & (track_table['track_spotify_genre'] != 'rap')]"
      ],
      "execution_count": 0,
      "outputs": []
    },
    {
      "cell_type": "code",
      "metadata": {
        "id": "_gkiZCar4Wmh",
        "colab_type": "code",
        "colab": {}
      },
      "source": [
        "numerics = ['int16', 'int32', 'int64', 'float16', 'float32', 'float64']\n",
        "data_numerics = pd.concat([track_table.select_dtypes(include=[np.number]),track_table['master_popular_genre']],axis=1, sort=False)"
      ],
      "execution_count": 0,
      "outputs": []
    },
    {
      "cell_type": "code",
      "metadata": {
        "id": "mVWocofD68iC",
        "colab_type": "code",
        "outputId": "1ff2a853-d6fb-48a7-ad0c-aeb8dfe26bd2",
        "colab": {
          "base_uri": "https://localhost:8080/",
          "height": 224
        }
      },
      "source": [
        "data_numerics.head()"
      ],
      "execution_count": 0,
      "outputs": [
        {
          "output_type": "execute_result",
          "data": {
            "text/html": [
              "<div>\n",
              "<style scoped>\n",
              "    .dataframe tbody tr th:only-of-type {\n",
              "        vertical-align: middle;\n",
              "    }\n",
              "\n",
              "    .dataframe tbody tr th {\n",
              "        vertical-align: top;\n",
              "    }\n",
              "\n",
              "    .dataframe thead th {\n",
              "        text-align: right;\n",
              "    }\n",
              "</style>\n",
              "<table border=\"1\" class=\"dataframe\">\n",
              "  <thead>\n",
              "    <tr style=\"text-align: right;\">\n",
              "      <th></th>\n",
              "      <th>track_year</th>\n",
              "      <th>track_pop</th>\n",
              "      <th>duration_ms</th>\n",
              "      <th>time_signature</th>\n",
              "      <th>key</th>\n",
              "      <th>loudness</th>\n",
              "      <th>energy</th>\n",
              "      <th>speechiness</th>\n",
              "      <th>acousticness</th>\n",
              "      <th>mode</th>\n",
              "      <th>tempo</th>\n",
              "      <th>valence</th>\n",
              "      <th>danceability</th>\n",
              "      <th>instrumentalness</th>\n",
              "      <th>liveness</th>\n",
              "      <th>master_popular_genre</th>\n",
              "    </tr>\n",
              "  </thead>\n",
              "  <tbody>\n",
              "    <tr>\n",
              "      <th>0</th>\n",
              "      <td>2011</td>\n",
              "      <td>77</td>\n",
              "      <td>218013.0</td>\n",
              "      <td>4.0</td>\n",
              "      <td>3.0</td>\n",
              "      <td>-5.835</td>\n",
              "      <td>0.936</td>\n",
              "      <td>0.0439</td>\n",
              "      <td>0.00847</td>\n",
              "      <td>1.0</td>\n",
              "      <td>112.960</td>\n",
              "      <td>0.371</td>\n",
              "      <td>0.560</td>\n",
              "      <td>0.000000</td>\n",
              "      <td>0.1610</td>\n",
              "      <td>rock</td>\n",
              "    </tr>\n",
              "    <tr>\n",
              "      <th>1</th>\n",
              "      <td>2011</td>\n",
              "      <td>82</td>\n",
              "      <td>239600.0</td>\n",
              "      <td>4.0</td>\n",
              "      <td>5.0</td>\n",
              "      <td>-5.849</td>\n",
              "      <td>0.710</td>\n",
              "      <td>0.0292</td>\n",
              "      <td>0.14500</td>\n",
              "      <td>0.0</td>\n",
              "      <td>127.975</td>\n",
              "      <td>0.965</td>\n",
              "      <td>0.733</td>\n",
              "      <td>0.115000</td>\n",
              "      <td>0.0956</td>\n",
              "      <td>rock</td>\n",
              "    </tr>\n",
              "    <tr>\n",
              "      <th>2</th>\n",
              "      <td>2011</td>\n",
              "      <td>77</td>\n",
              "      <td>235320.0</td>\n",
              "      <td>4.0</td>\n",
              "      <td>2.0</td>\n",
              "      <td>-6.903</td>\n",
              "      <td>0.427</td>\n",
              "      <td>0.1060</td>\n",
              "      <td>0.05310</td>\n",
              "      <td>1.0</td>\n",
              "      <td>93.004</td>\n",
              "      <td>0.216</td>\n",
              "      <td>0.831</td>\n",
              "      <td>0.000000</td>\n",
              "      <td>0.3070</td>\n",
              "      <td>hip-hop</td>\n",
              "    </tr>\n",
              "    <tr>\n",
              "      <th>3</th>\n",
              "      <td>2011</td>\n",
              "      <td>77</td>\n",
              "      <td>285040.0</td>\n",
              "      <td>4.0</td>\n",
              "      <td>9.0</td>\n",
              "      <td>-8.251</td>\n",
              "      <td>0.330</td>\n",
              "      <td>0.0285</td>\n",
              "      <td>0.89200</td>\n",
              "      <td>1.0</td>\n",
              "      <td>135.109</td>\n",
              "      <td>0.285</td>\n",
              "      <td>0.559</td>\n",
              "      <td>0.000000</td>\n",
              "      <td>0.0975</td>\n",
              "      <td>pop</td>\n",
              "    </tr>\n",
              "    <tr>\n",
              "      <th>4</th>\n",
              "      <td>2011</td>\n",
              "      <td>74</td>\n",
              "      <td>244973.0</td>\n",
              "      <td>4.0</td>\n",
              "      <td>0.0</td>\n",
              "      <td>-7.036</td>\n",
              "      <td>0.495</td>\n",
              "      <td>0.0370</td>\n",
              "      <td>0.59100</td>\n",
              "      <td>1.0</td>\n",
              "      <td>129.062</td>\n",
              "      <td>0.720</td>\n",
              "      <td>0.864</td>\n",
              "      <td>0.000133</td>\n",
              "      <td>0.0992</td>\n",
              "      <td>pop</td>\n",
              "    </tr>\n",
              "  </tbody>\n",
              "</table>\n",
              "</div>"
            ],
            "text/plain": [
              "   track_year  track_pop  ...  liveness  master_popular_genre\n",
              "0        2011         77  ...    0.1610                  rock\n",
              "1        2011         82  ...    0.0956                  rock\n",
              "2        2011         77  ...    0.3070               hip-hop\n",
              "3        2011         77  ...    0.0975                   pop\n",
              "4        2011         74  ...    0.0992                   pop\n",
              "\n",
              "[5 rows x 16 columns]"
            ]
          },
          "metadata": {
            "tags": []
          },
          "execution_count": 58
        }
      ]
    },
    {
      "cell_type": "code",
      "metadata": {
        "id": "0JwHpKEd4XM1",
        "colab_type": "code",
        "colab": {}
      },
      "source": [
        "#track_table_numerics = pd.concat([data_numerics.drop(['master_popular_genre'],axis=1), pd.get_dummies(data_numerics['master_popular_genre'])], axis=1, sort= False)\n",
        "\n",
        "track_table_dummies = pd.get_dummies(data_numerics,columns=['key','time_signature',],drop_first=True)\n",
        "track_table_dummies = track_table_dummies.drop('loudness', axis=1)\n"
      ],
      "execution_count": 0,
      "outputs": []
    },
    {
      "cell_type": "code",
      "metadata": {
        "id": "slaZeGvS92dl",
        "colab_type": "code",
        "outputId": "ae42a851-5d15-44da-9edc-f1f1b9fa4a75",
        "colab": {
          "base_uri": "https://localhost:8080/",
          "height": 224
        }
      },
      "source": [
        "track_table_dummies.head()"
      ],
      "execution_count": 0,
      "outputs": [
        {
          "output_type": "execute_result",
          "data": {
            "text/html": [
              "<div>\n",
              "<style scoped>\n",
              "    .dataframe tbody tr th:only-of-type {\n",
              "        vertical-align: middle;\n",
              "    }\n",
              "\n",
              "    .dataframe tbody tr th {\n",
              "        vertical-align: top;\n",
              "    }\n",
              "\n",
              "    .dataframe thead th {\n",
              "        text-align: right;\n",
              "    }\n",
              "</style>\n",
              "<table border=\"1\" class=\"dataframe\">\n",
              "  <thead>\n",
              "    <tr style=\"text-align: right;\">\n",
              "      <th></th>\n",
              "      <th>track_year</th>\n",
              "      <th>track_pop</th>\n",
              "      <th>duration_ms</th>\n",
              "      <th>energy</th>\n",
              "      <th>speechiness</th>\n",
              "      <th>acousticness</th>\n",
              "      <th>mode</th>\n",
              "      <th>tempo</th>\n",
              "      <th>valence</th>\n",
              "      <th>danceability</th>\n",
              "      <th>instrumentalness</th>\n",
              "      <th>liveness</th>\n",
              "      <th>master_popular_genre</th>\n",
              "      <th>key_1.0</th>\n",
              "      <th>key_2.0</th>\n",
              "      <th>key_3.0</th>\n",
              "      <th>key_4.0</th>\n",
              "      <th>key_5.0</th>\n",
              "      <th>key_6.0</th>\n",
              "      <th>key_7.0</th>\n",
              "      <th>key_8.0</th>\n",
              "      <th>key_9.0</th>\n",
              "      <th>key_10.0</th>\n",
              "      <th>key_11.0</th>\n",
              "      <th>time_signature_1.0</th>\n",
              "      <th>time_signature_3.0</th>\n",
              "      <th>time_signature_4.0</th>\n",
              "      <th>time_signature_5.0</th>\n",
              "    </tr>\n",
              "  </thead>\n",
              "  <tbody>\n",
              "    <tr>\n",
              "      <th>0</th>\n",
              "      <td>2011</td>\n",
              "      <td>77</td>\n",
              "      <td>218013.0</td>\n",
              "      <td>0.936</td>\n",
              "      <td>0.0439</td>\n",
              "      <td>0.00847</td>\n",
              "      <td>1.0</td>\n",
              "      <td>112.960</td>\n",
              "      <td>0.371</td>\n",
              "      <td>0.560</td>\n",
              "      <td>0.000000</td>\n",
              "      <td>0.1610</td>\n",
              "      <td>rock</td>\n",
              "      <td>0</td>\n",
              "      <td>0</td>\n",
              "      <td>1</td>\n",
              "      <td>0</td>\n",
              "      <td>0</td>\n",
              "      <td>0</td>\n",
              "      <td>0</td>\n",
              "      <td>0</td>\n",
              "      <td>0</td>\n",
              "      <td>0</td>\n",
              "      <td>0</td>\n",
              "      <td>0</td>\n",
              "      <td>0</td>\n",
              "      <td>1</td>\n",
              "      <td>0</td>\n",
              "    </tr>\n",
              "    <tr>\n",
              "      <th>1</th>\n",
              "      <td>2011</td>\n",
              "      <td>82</td>\n",
              "      <td>239600.0</td>\n",
              "      <td>0.710</td>\n",
              "      <td>0.0292</td>\n",
              "      <td>0.14500</td>\n",
              "      <td>0.0</td>\n",
              "      <td>127.975</td>\n",
              "      <td>0.965</td>\n",
              "      <td>0.733</td>\n",
              "      <td>0.115000</td>\n",
              "      <td>0.0956</td>\n",
              "      <td>rock</td>\n",
              "      <td>0</td>\n",
              "      <td>0</td>\n",
              "      <td>0</td>\n",
              "      <td>0</td>\n",
              "      <td>1</td>\n",
              "      <td>0</td>\n",
              "      <td>0</td>\n",
              "      <td>0</td>\n",
              "      <td>0</td>\n",
              "      <td>0</td>\n",
              "      <td>0</td>\n",
              "      <td>0</td>\n",
              "      <td>0</td>\n",
              "      <td>1</td>\n",
              "      <td>0</td>\n",
              "    </tr>\n",
              "    <tr>\n",
              "      <th>2</th>\n",
              "      <td>2011</td>\n",
              "      <td>77</td>\n",
              "      <td>235320.0</td>\n",
              "      <td>0.427</td>\n",
              "      <td>0.1060</td>\n",
              "      <td>0.05310</td>\n",
              "      <td>1.0</td>\n",
              "      <td>93.004</td>\n",
              "      <td>0.216</td>\n",
              "      <td>0.831</td>\n",
              "      <td>0.000000</td>\n",
              "      <td>0.3070</td>\n",
              "      <td>hip-hop</td>\n",
              "      <td>0</td>\n",
              "      <td>1</td>\n",
              "      <td>0</td>\n",
              "      <td>0</td>\n",
              "      <td>0</td>\n",
              "      <td>0</td>\n",
              "      <td>0</td>\n",
              "      <td>0</td>\n",
              "      <td>0</td>\n",
              "      <td>0</td>\n",
              "      <td>0</td>\n",
              "      <td>0</td>\n",
              "      <td>0</td>\n",
              "      <td>1</td>\n",
              "      <td>0</td>\n",
              "    </tr>\n",
              "    <tr>\n",
              "      <th>3</th>\n",
              "      <td>2011</td>\n",
              "      <td>77</td>\n",
              "      <td>285040.0</td>\n",
              "      <td>0.330</td>\n",
              "      <td>0.0285</td>\n",
              "      <td>0.89200</td>\n",
              "      <td>1.0</td>\n",
              "      <td>135.109</td>\n",
              "      <td>0.285</td>\n",
              "      <td>0.559</td>\n",
              "      <td>0.000000</td>\n",
              "      <td>0.0975</td>\n",
              "      <td>pop</td>\n",
              "      <td>0</td>\n",
              "      <td>0</td>\n",
              "      <td>0</td>\n",
              "      <td>0</td>\n",
              "      <td>0</td>\n",
              "      <td>0</td>\n",
              "      <td>0</td>\n",
              "      <td>0</td>\n",
              "      <td>1</td>\n",
              "      <td>0</td>\n",
              "      <td>0</td>\n",
              "      <td>0</td>\n",
              "      <td>0</td>\n",
              "      <td>1</td>\n",
              "      <td>0</td>\n",
              "    </tr>\n",
              "    <tr>\n",
              "      <th>4</th>\n",
              "      <td>2011</td>\n",
              "      <td>74</td>\n",
              "      <td>244973.0</td>\n",
              "      <td>0.495</td>\n",
              "      <td>0.0370</td>\n",
              "      <td>0.59100</td>\n",
              "      <td>1.0</td>\n",
              "      <td>129.062</td>\n",
              "      <td>0.720</td>\n",
              "      <td>0.864</td>\n",
              "      <td>0.000133</td>\n",
              "      <td>0.0992</td>\n",
              "      <td>pop</td>\n",
              "      <td>0</td>\n",
              "      <td>0</td>\n",
              "      <td>0</td>\n",
              "      <td>0</td>\n",
              "      <td>0</td>\n",
              "      <td>0</td>\n",
              "      <td>0</td>\n",
              "      <td>0</td>\n",
              "      <td>0</td>\n",
              "      <td>0</td>\n",
              "      <td>0</td>\n",
              "      <td>0</td>\n",
              "      <td>0</td>\n",
              "      <td>1</td>\n",
              "      <td>0</td>\n",
              "    </tr>\n",
              "  </tbody>\n",
              "</table>\n",
              "</div>"
            ],
            "text/plain": [
              "   track_year  track_pop  ...  time_signature_4.0  time_signature_5.0\n",
              "0        2011         77  ...                   1                   0\n",
              "1        2011         82  ...                   1                   0\n",
              "2        2011         77  ...                   1                   0\n",
              "3        2011         77  ...                   1                   0\n",
              "4        2011         74  ...                   1                   0\n",
              "\n",
              "[5 rows x 28 columns]"
            ]
          },
          "metadata": {
            "tags": []
          },
          "execution_count": 60
        }
      ]
    },
    {
      "cell_type": "code",
      "metadata": {
        "id": "50PsH8ALACJ8",
        "colab_type": "code",
        "colab": {}
      },
      "source": [
        "genre = track_table_dummies['master_popular_genre']\n",
        "track_table_dummies.drop('master_popular_genre', axis=1,inplace = True)\n",
        "track_table_dummies.insert(0, 'master_popular_genre', genre)"
      ],
      "execution_count": 0,
      "outputs": []
    },
    {
      "cell_type": "code",
      "metadata": {
        "id": "D5tk5mj4AtlX",
        "colab_type": "code",
        "outputId": "82205ecf-6a83-458d-e15b-6172729a6659",
        "colab": {
          "base_uri": "https://localhost:8080/",
          "height": 224
        }
      },
      "source": [
        "track_table_dummies.head()"
      ],
      "execution_count": 0,
      "outputs": [
        {
          "output_type": "execute_result",
          "data": {
            "text/html": [
              "<div>\n",
              "<style scoped>\n",
              "    .dataframe tbody tr th:only-of-type {\n",
              "        vertical-align: middle;\n",
              "    }\n",
              "\n",
              "    .dataframe tbody tr th {\n",
              "        vertical-align: top;\n",
              "    }\n",
              "\n",
              "    .dataframe thead th {\n",
              "        text-align: right;\n",
              "    }\n",
              "</style>\n",
              "<table border=\"1\" class=\"dataframe\">\n",
              "  <thead>\n",
              "    <tr style=\"text-align: right;\">\n",
              "      <th></th>\n",
              "      <th>master_popular_genre</th>\n",
              "      <th>track_year</th>\n",
              "      <th>track_pop</th>\n",
              "      <th>duration_ms</th>\n",
              "      <th>energy</th>\n",
              "      <th>speechiness</th>\n",
              "      <th>acousticness</th>\n",
              "      <th>mode</th>\n",
              "      <th>tempo</th>\n",
              "      <th>valence</th>\n",
              "      <th>danceability</th>\n",
              "      <th>instrumentalness</th>\n",
              "      <th>liveness</th>\n",
              "      <th>key_1.0</th>\n",
              "      <th>key_2.0</th>\n",
              "      <th>key_3.0</th>\n",
              "      <th>key_4.0</th>\n",
              "      <th>key_5.0</th>\n",
              "      <th>key_6.0</th>\n",
              "      <th>key_7.0</th>\n",
              "      <th>key_8.0</th>\n",
              "      <th>key_9.0</th>\n",
              "      <th>key_10.0</th>\n",
              "      <th>key_11.0</th>\n",
              "      <th>time_signature_1.0</th>\n",
              "      <th>time_signature_3.0</th>\n",
              "      <th>time_signature_4.0</th>\n",
              "      <th>time_signature_5.0</th>\n",
              "    </tr>\n",
              "  </thead>\n",
              "  <tbody>\n",
              "    <tr>\n",
              "      <th>0</th>\n",
              "      <td>rock</td>\n",
              "      <td>2011</td>\n",
              "      <td>77</td>\n",
              "      <td>218013.0</td>\n",
              "      <td>0.936</td>\n",
              "      <td>0.0439</td>\n",
              "      <td>0.00847</td>\n",
              "      <td>1.0</td>\n",
              "      <td>112.960</td>\n",
              "      <td>0.371</td>\n",
              "      <td>0.560</td>\n",
              "      <td>0.000000</td>\n",
              "      <td>0.1610</td>\n",
              "      <td>0</td>\n",
              "      <td>0</td>\n",
              "      <td>1</td>\n",
              "      <td>0</td>\n",
              "      <td>0</td>\n",
              "      <td>0</td>\n",
              "      <td>0</td>\n",
              "      <td>0</td>\n",
              "      <td>0</td>\n",
              "      <td>0</td>\n",
              "      <td>0</td>\n",
              "      <td>0</td>\n",
              "      <td>0</td>\n",
              "      <td>1</td>\n",
              "      <td>0</td>\n",
              "    </tr>\n",
              "    <tr>\n",
              "      <th>1</th>\n",
              "      <td>rock</td>\n",
              "      <td>2011</td>\n",
              "      <td>82</td>\n",
              "      <td>239600.0</td>\n",
              "      <td>0.710</td>\n",
              "      <td>0.0292</td>\n",
              "      <td>0.14500</td>\n",
              "      <td>0.0</td>\n",
              "      <td>127.975</td>\n",
              "      <td>0.965</td>\n",
              "      <td>0.733</td>\n",
              "      <td>0.115000</td>\n",
              "      <td>0.0956</td>\n",
              "      <td>0</td>\n",
              "      <td>0</td>\n",
              "      <td>0</td>\n",
              "      <td>0</td>\n",
              "      <td>1</td>\n",
              "      <td>0</td>\n",
              "      <td>0</td>\n",
              "      <td>0</td>\n",
              "      <td>0</td>\n",
              "      <td>0</td>\n",
              "      <td>0</td>\n",
              "      <td>0</td>\n",
              "      <td>0</td>\n",
              "      <td>1</td>\n",
              "      <td>0</td>\n",
              "    </tr>\n",
              "    <tr>\n",
              "      <th>2</th>\n",
              "      <td>hip-hop</td>\n",
              "      <td>2011</td>\n",
              "      <td>77</td>\n",
              "      <td>235320.0</td>\n",
              "      <td>0.427</td>\n",
              "      <td>0.1060</td>\n",
              "      <td>0.05310</td>\n",
              "      <td>1.0</td>\n",
              "      <td>93.004</td>\n",
              "      <td>0.216</td>\n",
              "      <td>0.831</td>\n",
              "      <td>0.000000</td>\n",
              "      <td>0.3070</td>\n",
              "      <td>0</td>\n",
              "      <td>1</td>\n",
              "      <td>0</td>\n",
              "      <td>0</td>\n",
              "      <td>0</td>\n",
              "      <td>0</td>\n",
              "      <td>0</td>\n",
              "      <td>0</td>\n",
              "      <td>0</td>\n",
              "      <td>0</td>\n",
              "      <td>0</td>\n",
              "      <td>0</td>\n",
              "      <td>0</td>\n",
              "      <td>1</td>\n",
              "      <td>0</td>\n",
              "    </tr>\n",
              "    <tr>\n",
              "      <th>3</th>\n",
              "      <td>pop</td>\n",
              "      <td>2011</td>\n",
              "      <td>77</td>\n",
              "      <td>285040.0</td>\n",
              "      <td>0.330</td>\n",
              "      <td>0.0285</td>\n",
              "      <td>0.89200</td>\n",
              "      <td>1.0</td>\n",
              "      <td>135.109</td>\n",
              "      <td>0.285</td>\n",
              "      <td>0.559</td>\n",
              "      <td>0.000000</td>\n",
              "      <td>0.0975</td>\n",
              "      <td>0</td>\n",
              "      <td>0</td>\n",
              "      <td>0</td>\n",
              "      <td>0</td>\n",
              "      <td>0</td>\n",
              "      <td>0</td>\n",
              "      <td>0</td>\n",
              "      <td>0</td>\n",
              "      <td>1</td>\n",
              "      <td>0</td>\n",
              "      <td>0</td>\n",
              "      <td>0</td>\n",
              "      <td>0</td>\n",
              "      <td>1</td>\n",
              "      <td>0</td>\n",
              "    </tr>\n",
              "    <tr>\n",
              "      <th>4</th>\n",
              "      <td>pop</td>\n",
              "      <td>2011</td>\n",
              "      <td>74</td>\n",
              "      <td>244973.0</td>\n",
              "      <td>0.495</td>\n",
              "      <td>0.0370</td>\n",
              "      <td>0.59100</td>\n",
              "      <td>1.0</td>\n",
              "      <td>129.062</td>\n",
              "      <td>0.720</td>\n",
              "      <td>0.864</td>\n",
              "      <td>0.000133</td>\n",
              "      <td>0.0992</td>\n",
              "      <td>0</td>\n",
              "      <td>0</td>\n",
              "      <td>0</td>\n",
              "      <td>0</td>\n",
              "      <td>0</td>\n",
              "      <td>0</td>\n",
              "      <td>0</td>\n",
              "      <td>0</td>\n",
              "      <td>0</td>\n",
              "      <td>0</td>\n",
              "      <td>0</td>\n",
              "      <td>0</td>\n",
              "      <td>0</td>\n",
              "      <td>1</td>\n",
              "      <td>0</td>\n",
              "    </tr>\n",
              "  </tbody>\n",
              "</table>\n",
              "</div>"
            ],
            "text/plain": [
              "  master_popular_genre  track_year  ...  time_signature_4.0  time_signature_5.0\n",
              "0                 rock        2011  ...                   1                   0\n",
              "1                 rock        2011  ...                   1                   0\n",
              "2              hip-hop        2011  ...                   1                   0\n",
              "3                  pop        2011  ...                   1                   0\n",
              "4                  pop        2011  ...                   1                   0\n",
              "\n",
              "[5 rows x 28 columns]"
            ]
          },
          "metadata": {
            "tags": []
          },
          "execution_count": 62
        }
      ]
    },
    {
      "cell_type": "code",
      "metadata": {
        "id": "itSs59Ct9Jj5",
        "colab_type": "code",
        "colab": {}
      },
      "source": [
        "X = track_table_dummies.iloc[:,1:]\n",
        "y = track_table_dummies.iloc[:,0]\n",
        "\n",
        "X_train, X_test, y_train, y_test = train_test_split(X, y, test_size=0.33, random_state=42)"
      ],
      "execution_count": 0,
      "outputs": []
    },
    {
      "cell_type": "code",
      "metadata": {
        "id": "_hBW-wtdFTXv",
        "colab_type": "code",
        "outputId": "2faf3ae4-7479-422a-ae89-58630228bcd5",
        "colab": {
          "base_uri": "https://localhost:8080/",
          "height": 51
        }
      },
      "source": [
        "y_train.unique()"
      ],
      "execution_count": 0,
      "outputs": [
        {
          "output_type": "execute_result",
          "data": {
            "text/plain": [
              "array(['pop', 'country', 'indie', 'hip-hop', 'rock', 'house',\n",
              "       'alternative', 'r&b'], dtype=object)"
            ]
          },
          "metadata": {
            "tags": []
          },
          "execution_count": 44
        }
      ]
    },
    {
      "cell_type": "markdown",
      "metadata": {
        "id": "8SBnU6Cx73qq",
        "colab_type": "text"
      },
      "source": [
        "## SVC"
      ]
    },
    {
      "cell_type": "code",
      "metadata": {
        "id": "oURyx-jh74-m",
        "colab_type": "code",
        "colab": {}
      },
      "source": [
        "from sklearn.svm import SVC\n",
        "from sklearn.ensemble import GradientBoostingClassifier"
      ],
      "execution_count": 0,
      "outputs": []
    },
    {
      "cell_type": "code",
      "metadata": {
        "id": "aB77KXCQ9eVq",
        "colab_type": "code",
        "outputId": "2a877162-2ce2-484b-ffcb-13b505be28a8",
        "colab": {
          "base_uri": "https://localhost:8080/",
          "height": 51
        }
      },
      "source": [
        "svm_param_grid = {\n",
        "    'degree': [2,3,4,5], #[3],\n",
        "    'kernel': ['rbf'] #['rbf','sigmoid']\n",
        "}\n",
        "\n",
        "svm_grid = GridSearchCV( SVC(), svm_param_grid, cv= 3).fit(X_train, y_train)\n",
        "\n",
        "# summarize the results of the grid search\n",
        "print(\"The best score is {}\".format(svm_grid.best_score_))\n",
        "print(\"The best hyper parameter setting is {}\".format(svm_grid.best_params_))"
      ],
      "execution_count": 0,
      "outputs": [
        {
          "output_type": "stream",
          "text": [
            "The best score is 0.3941434719951388\n",
            "The best hyper parameter setting is {'degree': 2, 'kernel': 'rbf'}\n"
          ],
          "name": "stdout"
        }
      ]
    },
    {
      "cell_type": "code",
      "metadata": {
        "id": "Wl3EN_tIDn-n",
        "colab_type": "code",
        "outputId": "89f1660b-efe8-4a92-ce40-5d40cd12350c",
        "colab": {
          "base_uri": "https://localhost:8080/",
          "height": 51
        }
      },
      "source": [
        "print(\"SVM:\")\n",
        "print(\"Test accuracy:\",accuracy_score(y_test, svm_grid.predict(X_test)))"
      ],
      "execution_count": 0,
      "outputs": [
        {
          "output_type": "stream",
          "text": [
            "SVM:\n",
            "Test accuracy: 0.39719502513892563\n"
          ],
          "name": "stdout"
        }
      ]
    },
    {
      "cell_type": "code",
      "metadata": {
        "id": "WNo1ESMdP-jc",
        "colab_type": "code",
        "colab": {
          "base_uri": "https://localhost:8080/",
          "height": 68
        },
        "outputId": "022e3868-9353-4922-837c-3b7af2f0fa8a"
      },
      "source": [
        "gb_param_grid = {\n",
        "       #'n_estimators': range(80, 150, 20),\n",
        "       'n_estimators': [140],\n",
        "       #'max_depth':range(3,8),\n",
        "       'max_depth':[6],\n",
        "       #'learning_rate' : [0.1,0.3],\n",
        "       'learning_rate' : [0.1],\n",
        "       #'min_samples_split': [0.05, 0.1]\n",
        "       'min_samples_split': [0.05]\n",
        "\n",
        "}\n",
        "grid = GridSearchCV(GradientBoostingClassifier(), gb_param_grid, cv=3).fit(X_train, y_train)\n",
        "\n",
        "\n",
        "# summarize the results of the grid search\n",
        "print(\"The best score is {}\".format(grid.best_score_))\n",
        "print(\"The best hyper parameter setting is {}\".format(grid.best_params_))\n",
        "print(\"Model Accuracy:\", accuracy_score(y_test,grid.predict(X_test)))"
      ],
      "execution_count": 42,
      "outputs": [
        {
          "output_type": "stream",
          "text": [
            "The best score is 0.5263346379147161\n",
            "The best hyper parameter setting is {'learning_rate': 0.1, 'max_depth': 6, 'min_samples_split': 0.05, 'n_estimators': 140}\n",
            "Model Accuracy: 0.5276277523888658\n"
          ],
          "name": "stdout"
        }
      ]
    },
    {
      "cell_type": "code",
      "metadata": {
        "id": "W69ak9o_4KYV",
        "colab_type": "code",
        "outputId": "e70f66c7-ad2d-4628-df99-79291215d1c8",
        "colab": {
          "base_uri": "https://localhost:8080/",
          "height": 289
        }
      },
      "source": [
        "from sklearn.metrics import confusion_matrix\n",
        "genre_order = ['alternative', 'country', 'hip-hop', 'house', 'indie', 'pop', 'r&b', 'rock']\n",
        "\n",
        "conf_matrix = confusion_matrix(y_test, grid.predict(X_test), labels=genre_order)\n",
        "print(conf_matrix)\n",
        "print(\"Accuracy predicting Alternative:\", conf_matrix[0,0]/(sum(conf_matrix[:,0])))\n",
        "print(\"Accuracy predicting Country:\", conf_matrix[1,1]/(sum(conf_matrix[:,1])))\n",
        "print(\"Accuracy predicting Hip-Hop:\", conf_matrix[2,2]/(sum(conf_matrix[:,2])))\n",
        "print(\"Accuracy predicting House:\", conf_matrix[3,3]/(sum(conf_matrix[:,3])))\n",
        "print(\"Accuracy predicting Indie:\", conf_matrix[4,4]/(sum(conf_matrix[:,4])))\n",
        "print(\"Accuracy predicting Pop:\", conf_matrix[5,5]/(sum(conf_matrix[:,5])))\n",
        "print(\"Accuracy predicting R&B:\", conf_matrix[6,6]/(sum(conf_matrix[:,6])))\n",
        "print(\"Accuracy predicting Rock:\", conf_matrix[7,7]/(sum(conf_matrix[:,7])))\n"
      ],
      "execution_count": 43,
      "outputs": [
        {
          "output_type": "stream",
          "text": [
            "[[ 378  145   48   87   97  471   96  166]\n",
            " [  24 1502   55   32   65  600   25   84]\n",
            " [   9   13 1732   47   38  816   44   18]\n",
            " [  29   79   40 1256   57  376   26   35]\n",
            " [  54  134   75  120  463  716  117  210]\n",
            " [ 101  272  641  248  270 4004  184  199]\n",
            " [  20   77   96   50  107  496  396   14]\n",
            " [ 144  174   31   80  144  685   15  429]]\n",
            "Accuracy predicting Alternative: 0.4980237154150198\n",
            "Accuracy predicting Country: 0.6268781302170284\n",
            "Accuracy predicting Hip-Hop: 0.637233259749816\n",
            "Accuracy predicting House: 0.6541666666666667\n",
            "Accuracy predicting Indie: 0.37308622078968573\n",
            "Accuracy predicting Pop: 0.49044585987261147\n",
            "Accuracy predicting R&B: 0.43853820598006643\n",
            "Accuracy predicting Rock: 0.37142857142857144\n"
          ],
          "name": "stdout"
        }
      ]
    },
    {
      "cell_type": "code",
      "metadata": {
        "id": "vFNNttCe9JE1",
        "colab_type": "code",
        "colab": {}
      },
      "source": [
        "# Add prediction of 2nd highest probability genre\n",
        "two_preds = []\n",
        "for prediction in grid.predict_proba(X_test):\n",
        "  prediction = list(prediction)\n",
        "  two_maxes = []\n",
        "  two_maxes.append(prediction.index(max(prediction)))\n",
        "  prediction[prediction.index(max(prediction))] = 0\n",
        "  two_maxes.append(prediction.index(max(prediction)))\n",
        "  two_preds.append(two_maxes)"
      ],
      "execution_count": 0,
      "outputs": []
    },
    {
      "cell_type": "code",
      "metadata": {
        "id": "m_FSe5aACDQo",
        "colab_type": "code",
        "colab": {}
      },
      "source": [
        "# Convert probability to genre name\n",
        "for pred in two_preds:\n",
        "  pred[0] = genre_order[pred[0]]\n",
        "  pred[1] = genre_order[pred[1]]"
      ],
      "execution_count": 0,
      "outputs": []
    },
    {
      "cell_type": "code",
      "metadata": {
        "id": "C1yRLa6BKUIP",
        "colab_type": "code",
        "colab": {}
      },
      "source": [
        "# Create list to evaluate accuracy\n",
        "in_list = []\n",
        "for i in range(0,len(two_preds)):\n",
        "  in_list.append(int(list(y_test)[i] in two_preds[i]))"
      ],
      "execution_count": 0,
      "outputs": []
    },
    {
      "cell_type": "code",
      "metadata": {
        "id": "OsOWRCPTLmDo",
        "colab_type": "code",
        "outputId": "7dee2e97-e3f6-49c3-c3f4-828a485cb24e",
        "colab": {
          "base_uri": "https://localhost:8080/",
          "height": 34
        }
      },
      "source": [
        "print(\"Accuracy:\" , sum(in_list) / len(in_list))"
      ],
      "execution_count": 51,
      "outputs": [
        {
          "output_type": "stream",
          "text": [
            "Accuracy: 0.7333818030743664\n"
          ],
          "name": "stdout"
        }
      ]
    },
    {
      "cell_type": "code",
      "metadata": {
        "id": "7sTdSCGeMOB5",
        "colab_type": "code",
        "colab": {}
      },
      "source": [
        "pred_correctly = []\n",
        "true_genre = []\n",
        "predicted_genre = []\n",
        "\n",
        "for i in range(0,len(y_test)):\n",
        "  pred_correctly.append(in_list[i])\n",
        "  true_genre.append(list(y_test)[i])\n",
        "  predicted_genre.append(two_preds[i])\n",
        "\n",
        "prediction_frame = pd.DataFrame({\"Predicted_Correctly\":pred_correctly,\n",
        "                                 \"True Genre\": true_genre,\n",
        "                                 \"Predicted Genres\": predicted_genre,\n",
        "                                 \"Track Name\": track_table.track_name[y_test.index],\n",
        "                                 \"Artist Name\": track_table.art_name[y_test.index]})"
      ],
      "execution_count": 0,
      "outputs": []
    },
    {
      "cell_type": "code",
      "metadata": {
        "id": "tvFTh_EJPZoe",
        "colab_type": "code",
        "colab": {
          "base_uri": "https://localhost:8080/",
          "height": 419
        },
        "outputId": "4f314f92-f4af-4187-e83e-e08625f90e4e"
      },
      "source": [
        "display(prediction_frame[prediction_frame.Predicted_Correctly == 0])"
      ],
      "execution_count": 71,
      "outputs": [
        {
          "output_type": "display_data",
          "data": {
            "text/html": [
              "<div>\n",
              "<style scoped>\n",
              "    .dataframe tbody tr th:only-of-type {\n",
              "        vertical-align: middle;\n",
              "    }\n",
              "\n",
              "    .dataframe tbody tr th {\n",
              "        vertical-align: top;\n",
              "    }\n",
              "\n",
              "    .dataframe thead th {\n",
              "        text-align: right;\n",
              "    }\n",
              "</style>\n",
              "<table border=\"1\" class=\"dataframe\">\n",
              "  <thead>\n",
              "    <tr style=\"text-align: right;\">\n",
              "      <th></th>\n",
              "      <th>Predicted_Correctly</th>\n",
              "      <th>True Genre</th>\n",
              "      <th>Predicted Genres</th>\n",
              "      <th>Track Name</th>\n",
              "      <th>Artist Name</th>\n",
              "    </tr>\n",
              "  </thead>\n",
              "  <tbody>\n",
              "    <tr>\n",
              "      <th>61641</th>\n",
              "      <td>0</td>\n",
              "      <td>country</td>\n",
              "      <td>[alternative, rock]</td>\n",
              "      <td>Cry Pretty</td>\n",
              "      <td>Carrie Underwood</td>\n",
              "    </tr>\n",
              "    <tr>\n",
              "      <th>55514</th>\n",
              "      <td>0</td>\n",
              "      <td>r&amp;b</td>\n",
              "      <td>[pop, hip-hop]</td>\n",
              "      <td>Lord Is Coming (feat. YBN Cordae)</td>\n",
              "      <td>H.E.R.</td>\n",
              "    </tr>\n",
              "    <tr>\n",
              "      <th>68885</th>\n",
              "      <td>0</td>\n",
              "      <td>house</td>\n",
              "      <td>[hip-hop, pop]</td>\n",
              "      <td>Wait A Minute</td>\n",
              "      <td>Party Favor</td>\n",
              "    </tr>\n",
              "    <tr>\n",
              "      <th>9185</th>\n",
              "      <td>0</td>\n",
              "      <td>rock</td>\n",
              "      <td>[pop, alternative]</td>\n",
              "      <td>A Twist in My Story</td>\n",
              "      <td>Secondhand Serenade</td>\n",
              "    </tr>\n",
              "    <tr>\n",
              "      <th>4388</th>\n",
              "      <td>0</td>\n",
              "      <td>hip-hop</td>\n",
              "      <td>[rock, alternative]</td>\n",
              "      <td>She Will</td>\n",
              "      <td>Lil Wayne</td>\n",
              "    </tr>\n",
              "    <tr>\n",
              "      <th>...</th>\n",
              "      <td>...</td>\n",
              "      <td>...</td>\n",
              "      <td>...</td>\n",
              "      <td>...</td>\n",
              "      <td>...</td>\n",
              "    </tr>\n",
              "    <tr>\n",
              "      <th>72817</th>\n",
              "      <td>0</td>\n",
              "      <td>pop</td>\n",
              "      <td>[rock, country]</td>\n",
              "      <td>Sanitarios</td>\n",
              "      <td>Caramelos De Cianuro</td>\n",
              "    </tr>\n",
              "    <tr>\n",
              "      <th>12621</th>\n",
              "      <td>0</td>\n",
              "      <td>indie</td>\n",
              "      <td>[rock, pop]</td>\n",
              "      <td>Ode to the Bouncer</td>\n",
              "      <td>Studio Killers</td>\n",
              "    </tr>\n",
              "    <tr>\n",
              "      <th>69929</th>\n",
              "      <td>0</td>\n",
              "      <td>house</td>\n",
              "      <td>[hip-hop, r&amp;b]</td>\n",
              "      <td>wilhelm</td>\n",
              "      <td>deadmau5</td>\n",
              "    </tr>\n",
              "    <tr>\n",
              "      <th>57762</th>\n",
              "      <td>0</td>\n",
              "      <td>pop</td>\n",
              "      <td>[house, alternative]</td>\n",
              "      <td>Twist</td>\n",
              "      <td>Knuckle Puck</td>\n",
              "    </tr>\n",
              "    <tr>\n",
              "      <th>74456</th>\n",
              "      <td>0</td>\n",
              "      <td>hip-hop</td>\n",
              "      <td>[pop, r&amp;b]</td>\n",
              "      <td>BGM</td>\n",
              "      <td>Wale</td>\n",
              "    </tr>\n",
              "  </tbody>\n",
              "</table>\n",
              "<p>5134 rows × 5 columns</p>\n",
              "</div>"
            ],
            "text/plain": [
              "       Predicted_Correctly  ...           Artist Name\n",
              "61641                    0  ...      Carrie Underwood\n",
              "55514                    0  ...                H.E.R.\n",
              "68885                    0  ...           Party Favor\n",
              "9185                     0  ...   Secondhand Serenade\n",
              "4388                     0  ...             Lil Wayne\n",
              "...                    ...  ...                   ...\n",
              "72817                    0  ...  Caramelos De Cianuro\n",
              "12621                    0  ...        Studio Killers\n",
              "69929                    0  ...              deadmau5\n",
              "57762                    0  ...          Knuckle Puck\n",
              "74456                    0  ...                  Wale\n",
              "\n",
              "[5134 rows x 5 columns]"
            ]
          },
          "metadata": {
            "tags": []
          }
        }
      ]
    },
    {
      "cell_type": "code",
      "metadata": {
        "id": "c3LvdVktLt_q",
        "colab_type": "code",
        "colab": {}
      },
      "source": [
        ""
      ],
      "execution_count": 0,
      "outputs": []
    }
  ]
}