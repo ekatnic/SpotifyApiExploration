{
  "nbformat": 4,
  "nbformat_minor": 0,
  "metadata": {
    "colab": {
      "name": "Spotify_Analyze_Genre.ipynb",
      "provenance": [],
      "collapsed_sections": []
    },
    "kernelspec": {
      "display_name": "Python 3",
      "name": "python3"
    }
  },
  "cells": [
    {
      "cell_type": "markdown",
      "metadata": {
        "id": "Yxynj67aT9Xq"
      },
      "source": [
        "#Analyze Spotify Genre\n",
        "##In this notebook, I fed the data into a multi-class classification algorithm to predict the genre of a song based on the audible attributes. For the purpose of limiting the genres to classify, I filtered for songs within just the top 7 most popular genres according to the genre analysis done in previous sections. \n",
        "\n",
        "##With some optimizations, the algorithm was able to predict a songs genre with about 68% accuracy in 1 prediction and with about 82% accuracy with 2 predictions. I was fairly satisfied with this result given the difficulty of 7-way classification, especially considering that I started with an accuracy of around 58% before model optimization and data changes. "
      ]
    },
    {
      "cell_type": "markdown",
      "metadata": {
        "id": "SJD7k5KXboZS"
      },
      "source": [
        "## Data Preprocessing:"
      ]
    },
    {
      "cell_type": "code",
      "metadata": {
        "id": "OlnmJvKn2WiY",
        "colab": {
          "resources": {
            "http://localhost:8080/nbextensions/google.colab/files.js": {
              "data": "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",
              "ok": true,
              "headers": [
                [
                  "content-type",
                  "application/javascript"
                ]
              ],
              "status": 200,
              "status_text": ""
            }
          },
          "base_uri": "https://localhost:8080/",
          "height": 73
        },
        "outputId": "fc498a12-7560-4841-c943-7dfdd4a26b8a"
      },
      "source": [
        "import pandas as pd\n",
        "import numpy as np\n",
        "from sklearn.model_selection import GridSearchCV\n",
        "from sklearn.model_selection import train_test_split\n",
        "from sklearn.metrics import confusion_matrix\n",
        "from sklearn.metrics import accuracy_score\n",
        "\n",
        "from google.colab import files\n",
        "uploaded = files.upload()"
      ],
      "execution_count": 1,
      "outputs": [
        {
          "output_type": "display_data",
          "data": {
            "text/html": [
              "\n",
              "     <input type=\"file\" id=\"files-dd44ff01-0d2b-482b-af85-6815d0293cde\" name=\"files[]\" multiple disabled\n",
              "        style=\"border:none\" />\n",
              "     <output id=\"result-dd44ff01-0d2b-482b-af85-6815d0293cde\">\n",
              "      Upload widget is only available when the cell has been executed in the\n",
              "      current browser session. Please rerun this cell to enable.\n",
              "      </output>\n",
              "      <script src=\"/nbextensions/google.colab/files.js\"></script> "
            ],
            "text/plain": [
              "<IPython.core.display.HTML object>"
            ]
          },
          "metadata": {
            "tags": []
          }
        },
        {
          "output_type": "stream",
          "text": [
            "Saving cleaned_tracks_both.csv to cleaned_tracks_both (1).csv\n"
          ],
          "name": "stdout"
        }
      ]
    },
    {
      "cell_type": "code",
      "metadata": {
        "id": "CcgrCxCO2vyM"
      },
      "source": [
        "track_table = pd.read_csv(\"cleaned_tracks_both.csv\")\n",
        "track_table.dropna(inplace=True)"
      ],
      "execution_count": 2,
      "outputs": []
    },
    {
      "cell_type": "markdown",
      "metadata": {
        "id": "BT4Ypz7uXwQ3"
      },
      "source": [
        "A quick reminder about what genres we're trying to classify and the the number of tracks per genre:"
      ]
    },
    {
      "cell_type": "code",
      "metadata": {
        "colab": {
          "base_uri": "https://localhost:8080/"
        },
        "id": "pWRXVENGU83A",
        "outputId": "959e6c57-e7fe-40b5-aa97-4dd3f91417de"
      },
      "source": [
        "track_table.groupby(\"master_popular_genre\").track_id.count()"
      ],
      "execution_count": 3,
      "outputs": [
        {
          "output_type": "execute_result",
          "data": {
            "text/plain": [
              "master_popular_genre\n",
              "country    10005\n",
              "hiphop     10728\n",
              "house       6529\n",
              "indie       7673\n",
              "pop        17277\n",
              "r&b         5505\n",
              "rock        8967\n",
              "Name: track_id, dtype: int64"
            ]
          },
          "metadata": {
            "tags": []
          },
          "execution_count": 3
        }
      ]
    },
    {
      "cell_type": "code",
      "metadata": {
        "id": "_gkiZCar4Wmh"
      },
      "source": [
        "numerics = ['int16', 'int32', 'int64', 'float16', 'float32', 'float64']\n",
        "data_numerics = pd.concat([track_table.select_dtypes(include=[np.number]),track_table['master_popular_genre']],axis=1, sort=False)"
      ],
      "execution_count": 4,
      "outputs": []
    },
    {
      "cell_type": "code",
      "metadata": {
        "id": "50PsH8ALACJ8"
      },
      "source": [
        "#move genre to front\n",
        "track_table_dummies = pd.get_dummies(data_numerics,columns=['key','time_signature',],drop_first=True)\n",
        "track_table_dummies = track_table_dummies.drop('loudness', axis=1)\n",
        "track_table_dummies.head()\n",
        "genre = track_table_dummies['master_popular_genre']\n",
        "track_table_dummies.drop('master_popular_genre', axis=1,inplace = True)\n",
        "track_table_dummies.insert(0, 'master_popular_genre', genre)"
      ],
      "execution_count": 5,
      "outputs": []
    },
    {
      "cell_type": "markdown",
      "metadata": {
        "id": "YwKGxy9jX17Y"
      },
      "source": [
        "One more look at the data we're using to train the model:"
      ]
    },
    {
      "cell_type": "code",
      "metadata": {
        "colab": {
          "base_uri": "https://localhost:8080/",
          "height": 225
        },
        "id": "D5tk5mj4AtlX",
        "outputId": "a6d04b8e-f422-4c75-b263-58600f1bb87a"
      },
      "source": [
        "track_table_dummies.head()"
      ],
      "execution_count": 6,
      "outputs": [
        {
          "output_type": "execute_result",
          "data": {
            "text/html": [
              "<div>\n",
              "<style scoped>\n",
              "    .dataframe tbody tr th:only-of-type {\n",
              "        vertical-align: middle;\n",
              "    }\n",
              "\n",
              "    .dataframe tbody tr th {\n",
              "        vertical-align: top;\n",
              "    }\n",
              "\n",
              "    .dataframe thead th {\n",
              "        text-align: right;\n",
              "    }\n",
              "</style>\n",
              "<table border=\"1\" class=\"dataframe\">\n",
              "  <thead>\n",
              "    <tr style=\"text-align: right;\">\n",
              "      <th></th>\n",
              "      <th>master_popular_genre</th>\n",
              "      <th>track_pop</th>\n",
              "      <th>track_year</th>\n",
              "      <th>duration_ms</th>\n",
              "      <th>energy</th>\n",
              "      <th>speechiness</th>\n",
              "      <th>acousticness</th>\n",
              "      <th>mode</th>\n",
              "      <th>tempo</th>\n",
              "      <th>valence</th>\n",
              "      <th>danceability</th>\n",
              "      <th>instrumentalness</th>\n",
              "      <th>liveness</th>\n",
              "      <th>key_1</th>\n",
              "      <th>key_2</th>\n",
              "      <th>key_3</th>\n",
              "      <th>key_4</th>\n",
              "      <th>key_5</th>\n",
              "      <th>key_6</th>\n",
              "      <th>key_7</th>\n",
              "      <th>key_8</th>\n",
              "      <th>key_9</th>\n",
              "      <th>key_10</th>\n",
              "      <th>key_11</th>\n",
              "      <th>time_signature_1</th>\n",
              "      <th>time_signature_3</th>\n",
              "      <th>time_signature_4</th>\n",
              "      <th>time_signature_5</th>\n",
              "    </tr>\n",
              "  </thead>\n",
              "  <tbody>\n",
              "    <tr>\n",
              "      <th>0</th>\n",
              "      <td>pop</td>\n",
              "      <td>50</td>\n",
              "      <td>2011</td>\n",
              "      <td>247010</td>\n",
              "      <td>0.41200</td>\n",
              "      <td>0.0357</td>\n",
              "      <td>0.94300</td>\n",
              "      <td>1</td>\n",
              "      <td>88.113</td>\n",
              "      <td>0.193</td>\n",
              "      <td>0.167</td>\n",
              "      <td>0.000121</td>\n",
              "      <td>0.7570</td>\n",
              "      <td>0</td>\n",
              "      <td>1</td>\n",
              "      <td>0</td>\n",
              "      <td>0</td>\n",
              "      <td>0</td>\n",
              "      <td>0</td>\n",
              "      <td>0</td>\n",
              "      <td>0</td>\n",
              "      <td>0</td>\n",
              "      <td>0</td>\n",
              "      <td>0</td>\n",
              "      <td>0</td>\n",
              "      <td>0</td>\n",
              "      <td>1</td>\n",
              "      <td>0</td>\n",
              "    </tr>\n",
              "    <tr>\n",
              "      <th>1</th>\n",
              "      <td>rock</td>\n",
              "      <td>44</td>\n",
              "      <td>2011</td>\n",
              "      <td>353667</td>\n",
              "      <td>0.72700</td>\n",
              "      <td>0.0462</td>\n",
              "      <td>0.03010</td>\n",
              "      <td>0</td>\n",
              "      <td>87.349</td>\n",
              "      <td>0.391</td>\n",
              "      <td>0.485</td>\n",
              "      <td>0.758000</td>\n",
              "      <td>0.1630</td>\n",
              "      <td>0</td>\n",
              "      <td>0</td>\n",
              "      <td>0</td>\n",
              "      <td>0</td>\n",
              "      <td>0</td>\n",
              "      <td>0</td>\n",
              "      <td>0</td>\n",
              "      <td>0</td>\n",
              "      <td>0</td>\n",
              "      <td>0</td>\n",
              "      <td>1</td>\n",
              "      <td>0</td>\n",
              "      <td>0</td>\n",
              "      <td>1</td>\n",
              "      <td>0</td>\n",
              "    </tr>\n",
              "    <tr>\n",
              "      <th>2</th>\n",
              "      <td>rock</td>\n",
              "      <td>37</td>\n",
              "      <td>2011</td>\n",
              "      <td>163000</td>\n",
              "      <td>0.00385</td>\n",
              "      <td>0.0449</td>\n",
              "      <td>0.99500</td>\n",
              "      <td>0</td>\n",
              "      <td>141.201</td>\n",
              "      <td>0.117</td>\n",
              "      <td>0.228</td>\n",
              "      <td>0.917000</td>\n",
              "      <td>0.0858</td>\n",
              "      <td>0</td>\n",
              "      <td>0</td>\n",
              "      <td>0</td>\n",
              "      <td>0</td>\n",
              "      <td>0</td>\n",
              "      <td>0</td>\n",
              "      <td>0</td>\n",
              "      <td>0</td>\n",
              "      <td>1</td>\n",
              "      <td>0</td>\n",
              "      <td>0</td>\n",
              "      <td>0</td>\n",
              "      <td>1</td>\n",
              "      <td>0</td>\n",
              "      <td>0</td>\n",
              "    </tr>\n",
              "    <tr>\n",
              "      <th>3</th>\n",
              "      <td>pop</td>\n",
              "      <td>41</td>\n",
              "      <td>2011</td>\n",
              "      <td>253991</td>\n",
              "      <td>0.30500</td>\n",
              "      <td>0.0318</td>\n",
              "      <td>0.93600</td>\n",
              "      <td>1</td>\n",
              "      <td>85.786</td>\n",
              "      <td>0.446</td>\n",
              "      <td>0.230</td>\n",
              "      <td>0.000002</td>\n",
              "      <td>0.7440</td>\n",
              "      <td>0</td>\n",
              "      <td>0</td>\n",
              "      <td>0</td>\n",
              "      <td>0</td>\n",
              "      <td>0</td>\n",
              "      <td>0</td>\n",
              "      <td>1</td>\n",
              "      <td>0</td>\n",
              "      <td>0</td>\n",
              "      <td>0</td>\n",
              "      <td>0</td>\n",
              "      <td>0</td>\n",
              "      <td>1</td>\n",
              "      <td>0</td>\n",
              "      <td>0</td>\n",
              "    </tr>\n",
              "    <tr>\n",
              "      <th>4</th>\n",
              "      <td>rock</td>\n",
              "      <td>42</td>\n",
              "      <td>2011</td>\n",
              "      <td>294613</td>\n",
              "      <td>0.95400</td>\n",
              "      <td>0.0607</td>\n",
              "      <td>0.00894</td>\n",
              "      <td>0</td>\n",
              "      <td>163.995</td>\n",
              "      <td>0.287</td>\n",
              "      <td>0.454</td>\n",
              "      <td>0.000000</td>\n",
              "      <td>0.0659</td>\n",
              "      <td>0</td>\n",
              "      <td>0</td>\n",
              "      <td>1</td>\n",
              "      <td>0</td>\n",
              "      <td>0</td>\n",
              "      <td>0</td>\n",
              "      <td>0</td>\n",
              "      <td>0</td>\n",
              "      <td>0</td>\n",
              "      <td>0</td>\n",
              "      <td>0</td>\n",
              "      <td>0</td>\n",
              "      <td>0</td>\n",
              "      <td>1</td>\n",
              "      <td>0</td>\n",
              "    </tr>\n",
              "  </tbody>\n",
              "</table>\n",
              "</div>"
            ],
            "text/plain": [
              "  master_popular_genre  track_pop  ...  time_signature_4  time_signature_5\n",
              "0                  pop         50  ...                 1                 0\n",
              "1                 rock         44  ...                 1                 0\n",
              "2                 rock         37  ...                 0                 0\n",
              "3                  pop         41  ...                 0                 0\n",
              "4                 rock         42  ...                 1                 0\n",
              "\n",
              "[5 rows x 28 columns]"
            ]
          },
          "metadata": {
            "tags": []
          },
          "execution_count": 6
        }
      ]
    },
    {
      "cell_type": "code",
      "metadata": {
        "id": "itSs59Ct9Jj5"
      },
      "source": [
        "X = track_table_dummies.iloc[:,1:]\n",
        "y = track_table_dummies.iloc[:,0]\n",
        "\n",
        "X_train, X_test, y_train, y_test = train_test_split(X, y, test_size=0.33, random_state=42)"
      ],
      "execution_count": 6,
      "outputs": []
    },
    {
      "cell_type": "markdown",
      "metadata": {
        "id": "GPeTRM4caLjj"
      },
      "source": [
        "## Training the model:"
      ]
    },
    {
      "cell_type": "code",
      "metadata": {
        "id": "oURyx-jh74-m"
      },
      "source": [
        "from sklearn.ensemble import RandomForestClassifier\n",
        "from sklearn.metrics import confusion_matrix\n",
        "from sklearn.metrics import plot_confusion_matrix\n",
        "import matplotlib.pyplot as plt\n",
        "import seaborn as sns\n",
        "genre_order = ['country', 'hiphop', 'house', 'indie', 'pop', 'r&b', 'rock']"
      ],
      "execution_count": 7,
      "outputs": []
    },
    {
      "cell_type": "markdown",
      "metadata": {
        "id": "fNVK_ZFToRX9"
      },
      "source": [
        "(Creating a few helper methods for printing model results before building the models)"
      ]
    },
    {
      "cell_type": "code",
      "metadata": {
        "id": "XnFrEBKxdD7k"
      },
      "source": [
        "def print_accuracy(genre_index, conf_matrix):\n",
        "  print(\"Accuracy predicting\", genre_order[genre_index], \":\", conf_matrix[genre_index,genre_index]/(sum(conf_matrix[genre_index,:])))"
      ],
      "execution_count": 8,
      "outputs": []
    },
    {
      "cell_type": "code",
      "metadata": {
        "id": "HXVOUzmMM8KT"
      },
      "source": [
        "def print_grid_results(grid, x_test, y_test):\n",
        "  conf_matrix = confusion_matrix(y_test, grid.predict(x_test), labels=genre_order)\n",
        "  print(\"The best score is {}\".format(grid.best_score_))\n",
        "  print(\"The best hyper parameter setting is {}\".format(grid.best_params_))\n",
        "  print(\"Model Accuracy:\", accuracy_score(y_test,grid.predict(x_test)))\n",
        "  print()\n",
        "  for i in range(0,len(genre_order)):\n",
        "    print_accuracy(i,conf_matrix)\n",
        "  fig, ax = plt.subplots(figsize=(12,10)) \n",
        "  sns.heatmap(conf_matrix.astype('float') / conf_matrix.sum(axis=1)[:, np.newaxis], annot=True,fmt='.2%', cmap='Blues',xticklabels=genre_order,yticklabels=genre_order, ax=ax)\n",
        "  ax.set(xlabel='Predicted Genre', ylabel='True Genre')\n",
        "  ax.set_title(\"Proportional Genre Confusion Matrix\")\n"
      ],
      "execution_count": 9,
      "outputs": []
    },
    {
      "cell_type": "markdown",
      "metadata": {
        "id": "Sssr7jBkod2Y"
      },
      "source": [
        "### Model Selection"
      ]
    },
    {
      "cell_type": "markdown",
      "metadata": {
        "id": "--YOI1d6oWCm"
      },
      "source": [
        "Piggybacking off the success of the Gradient Boost from the previous exploration, I initially tried using a Gradient Boost classifier for the multi-class classification. However, the Gradient Boost it took 5-10 minutes per iteration. With cross-validation and a grid search of 3-4 different variables, this optimization took hours and yielded a poor testing accuracy of around 58%.\n",
        "\n",
        "From there I trained several other models using different classifiers like logistic regressions, SVMs, different boosting methods, and tree methods. I found random forest to be by far the most accurate in its performance, so I started with just a rudimentary Random Forest model with 500 estimators."
      ]
    },
    {
      "cell_type": "code",
      "metadata": {
        "id": "UxHJrsX4S2K6"
      },
      "source": [
        "X = track_table_dummies.iloc[:,1:]\n",
        "y = track_table_dummies.iloc[:,0]\n",
        "\n",
        "X_train, X_test, y_train, y_test = train_test_split(X, y, test_size=0.33, random_state=42)\n",
        "\n",
        "rf_param_grid = {\n",
        "       #'n_estimators': range(350, 700, 100),\n",
        "       'n_estimators': [500]\n",
        "}\n",
        "grid_rf = GridSearchCV(RandomForestClassifier(), rf_param_grid, cv=3).fit(X_train, y_train)"
      ],
      "execution_count": null,
      "outputs": []
    },
    {
      "cell_type": "markdown",
      "metadata": {
        "id": "qDW4X_emo4bk"
      },
      "source": [
        "Let's look at a confusion matrix of how this crude Random Forest model predicted our genres and how the model performed overall:"
      ]
    },
    {
      "cell_type": "code",
      "metadata": {
        "id": "W69ak9o_4KYV",
        "colab": {
          "base_uri": "https://localhost:8080/",
          "height": 592
        },
        "outputId": "22ea485c-b5e9-4bc2-89a4-2b7f80c11374"
      },
      "source": [
        "conf_matrix = confusion_matrix(y_test, grid_rf.predict(X_test), labels=genre_order)\n",
        "fig, ax = plt.subplots(figsize=(10, 10))\n",
        "print(plot_confusion_matrix(X=X_test,y_true=y_test, labels=genre_order,estimator=grid_rf, ax=ax,values_format = 'd'))"
      ],
      "execution_count": null,
      "outputs": [
        {
          "output_type": "stream",
          "text": [
            "<sklearn.metrics._plot.confusion_matrix.ConfusionMatrixDisplay object at 0x7fc95e096f50>\n"
          ],
          "name": "stdout"
        },
        {
          "output_type": "display_data",
          "data": {
            "image/png": "[encoded data removed]",
            "text/plain": [
              "<Figure size 720x720 with 2 Axes>"
            ]
          },
          "metadata": {
            "tags": [],
            "needs_background": "light"
          }
        }
      ]
    },
    {
      "cell_type": "markdown",
      "metadata": {
        "id": "k1eBXgXepX07"
      },
      "source": [
        "Based on the above confusion matrix, we can see a few things:\n",
        "\n",
        "1. Pop understandbly dominates the dataset. This somewhat obscures the confusion matrix because there are so many more pop rows than any other genre. We can see that based on the vertical light shade on the pop column (,4), our model is just blindly predicting pop in many cases where it's unsure. This poses a bit of an issue that I address on later.\n",
        "2. Conversely, R&B is significantly underrepresented in the dataset. Only 769 tracks are predicted correctly as R&B, while 532 R&B tracks are incorrectly labeled as pop.\n",
        "3. While the absolute number of tracks predicted in each square of the confusion matrix is interesting, it would be more useful to see the proportion of true tracks in each square. For example, I want to see the percentage of true R&B tracks that are predicted as R&B, rather than the absolute number of tracks, so the matrix is more balanced. Thus in the following block, I outputted the accuracy scores as well as the proportional confusion matrix."
      ]
    },
    {
      "cell_type": "code",
      "metadata": {
        "id": "_s7rqXfWpZLt",
        "colab": {
          "base_uri": "https://localhost:8080/",
          "height": 821
        },
        "outputId": "52b2f9b4-fe44-43f8-8620-6e244d64054c"
      },
      "source": [
        "print_grid_results(grid_rf,X_test,y_test)"
      ],
      "execution_count": null,
      "outputs": [
        {
          "output_type": "stream",
          "text": [
            "The best score is 0.6387706791389105\n",
            "The best hyper parameter setting is {'n_estimators': 500}\n",
            "Model Accuracy: 0.6806779969099337\n",
            "\n",
            "Accuracy predicting country : 0.7844257366205653\n",
            "Accuracy predicting hiphop : 0.7706289671090595\n",
            "Accuracy predicting house : 0.6566682048915552\n",
            "Accuracy predicting indie : 0.6363636363636364\n",
            "Accuracy predicting pop : 0.6996659046949182\n",
            "Accuracy predicting r&b : 0.42412451361867703\n",
            "Accuracy predicting rock : 0.6347264695888549\n"
          ],
          "name": "stdout"
        },
        {
          "output_type": "display_data",
          "data": {
            "image/png": "[encoded data removed]",
            "text/plain": [
              "<Figure size 864x720 with 2 Axes>"
            ]
          },
          "metadata": {
            "tags": [],
            "needs_background": "light"
          }
        }
      ]
    },
    {
      "cell_type": "markdown",
      "metadata": {
        "id": "Syn_AZ4Xqy-p"
      },
      "source": [
        "The rudamentary RF model gives us a baseline performance of 68% in predicting the correct genre of a track.\n",
        "\n",
        "Additionally, this proportional confusion matrix is a bit more readable. Additionally, this further emphasizes the model's tendancy to overpredict pop due to its prevalence in the dataset. In fact, when we look at what genre is most often miscategorized for each track, we see the"
      ]
    },
    {
      "cell_type": "code",
      "metadata": {
        "colab": {
          "base_uri": "https://localhost:8080/"
        },
        "id": "M-U3rTrBIU1O",
        "outputId": "8178bb2d-235b-49fe-9879-237bef986ef0"
      },
      "source": [
        "for count,genre_preds in enumerate(conf_matrix):\n",
        "  print(\"True Genre:\", genre_order[count])\n",
        "  genre_preds[list(genre_preds).index(max(genre_preds))] = 0\n",
        "  incorrect_guess = genre_order[list(genre_preds).index(max(genre_preds))]\n",
        "  print(\"Most Common Incorrect Prediction:\", incorrect_guess)\n",
        "  print(\"Percent of All Incorrect Predictions as\", incorrect_guess, (max(genre_preds) / sum(genre_preds)))\n",
        "  print()"
      ],
      "execution_count": null,
      "outputs": [
        {
          "output_type": "stream",
          "text": [
            "True Genre: country\n",
            "Most Common Incorrect Prediction: pop\n",
            "Percent of All Incorrect Predictions as pop 0.5216178521617852\n",
            "\n",
            "True Genre: hiphop\n",
            "Most Common Incorrect Prediction: pop\n",
            "Percent of All Incorrect Predictions as pop 0.6716981132075471\n",
            "\n",
            "True Genre: house\n",
            "Most Common Incorrect Prediction: pop\n",
            "Percent of All Incorrect Predictions as pop 0.510752688172043\n",
            "\n",
            "True Genre: indie\n",
            "Most Common Incorrect Prediction: pop\n",
            "Percent of All Incorrect Predictions as pop 0.3224789915966387\n",
            "\n",
            "True Genre: pop\n",
            "Most Common Incorrect Prediction: hiphop\n",
            "Percent of All Incorrect Predictions as hiphop 0.29449648711943793\n",
            "\n",
            "True Genre: r&b\n",
            "Most Common Incorrect Prediction: pop\n",
            "Percent of All Incorrect Predictions as pop 0.5241312741312741\n",
            "\n",
            "True Genre: rock\n",
            "Most Common Incorrect Prediction: pop\n",
            "Percent of All Incorrect Predictions as pop 0.4046511627906977\n",
            "\n"
          ],
          "name": "stdout"
        }
      ]
    },
    {
      "cell_type": "markdown",
      "metadata": {
        "id": "ElY5nrS7rOAk"
      },
      "source": [
        "Clearly, pop is dominating the dataset and overpowering the importance of less frequently occuring genres like R&B and house. Let's address that..."
      ]
    },
    {
      "cell_type": "markdown",
      "metadata": {
        "id": "oVY4tGR9rVXF"
      },
      "source": [
        "## Balancing the Dataset"
      ]
    },
    {
      "cell_type": "markdown",
      "metadata": {
        "id": "fQsyAPmWf8kt"
      },
      "source": [
        "Before optimizing the model's hyperparameters, I wanted to try to even out the distribution of tracks of each genre. I chose to test several outcomes and monitor how the model performed with each:\n",
        "1. Only undersampling pop tracks\n",
        "2. Upsampling lesser occuring genres to balance the number of tracks for each genre"
      ]
    },
    {
      "cell_type": "markdown",
      "metadata": {
        "id": "x4uGZLVSr2P2"
      },
      "source": [
        "### 1. Undersampling pop to 10,000 tracks\n",
        "\n"
      ]
    },
    {
      "cell_type": "code",
      "metadata": {
        "id": "F7nXAN696jzl"
      },
      "source": [
        "from sklearn.utils import resample"
      ],
      "execution_count": 10,
      "outputs": []
    },
    {
      "cell_type": "code",
      "metadata": {
        "id": "dA99b4KiB5E4"
      },
      "source": [
        "msk = np.random.rand(len(track_table_dummies)) < 0.75\n",
        "train = track_table_dummies[msk]\n",
        "test = track_table_dummies[~msk]"
      ],
      "execution_count": 11,
      "outputs": []
    },
    {
      "cell_type": "code",
      "metadata": {
        "colab": {
          "base_uri": "https://localhost:8080/"
        },
        "id": "D3H43osVCeJ-",
        "outputId": "e834df7a-b560-4254-d2aa-c1b6a9ee76dc"
      },
      "source": [
        "train.master_popular_genre.value_counts()"
      ],
      "execution_count": 12,
      "outputs": [
        {
          "output_type": "execute_result",
          "data": {
            "text/plain": [
              "pop        12885\n",
              "hiphop      7962\n",
              "country     7585\n",
              "rock        6785\n",
              "indie       5740\n",
              "house       4879\n",
              "r&b         4161\n",
              "Name: master_popular_genre, dtype: int64"
            ]
          },
          "metadata": {
            "tags": []
          },
          "execution_count": 12
        }
      ]
    },
    {
      "cell_type": "code",
      "metadata": {
        "colab": {
          "base_uri": "https://localhost:8080/"
        },
        "id": "wZpmH_5wgHvj",
        "outputId": "4c90da17-6690-40be-d516-17cff874edc0"
      },
      "source": [
        "df_nonpop = train[train['master_popular_genre']!='pop']\n",
        "df_pop = train[train['master_popular_genre']=='pop']\n",
        "samp = 8000\n",
        "# Downsample majority class\n",
        "train = resample(df_pop, \n",
        "                 replace=False,    # sample without replacement\n",
        "                 n_samples=samp) # reproducible results\n",
        " \n",
        "# Combine minority class with downsampled majority class\n",
        "train = pd.concat([train, df_nonpop])\n",
        " \n",
        "# Display new class counts\n",
        "train.master_popular_genre.value_counts()"
      ],
      "execution_count": 13,
      "outputs": [
        {
          "output_type": "execute_result",
          "data": {
            "text/plain": [
              "pop        8000\n",
              "hiphop     7962\n",
              "country    7585\n",
              "rock       6785\n",
              "indie      5740\n",
              "house      4879\n",
              "r&b        4161\n",
              "Name: master_popular_genre, dtype: int64"
            ]
          },
          "metadata": {
            "tags": []
          },
          "execution_count": 13
        }
      ]
    },
    {
      "cell_type": "code",
      "metadata": {
        "id": "taLYXyCQFshY"
      },
      "source": [
        "X_train = train.iloc[:,1:]\n",
        "y_train = train.iloc[:,0]\n",
        "X_test = test.iloc[:,1:]\n",
        "y_test = test.iloc[:,0]\n",
        "\n",
        "\n",
        "rf_param_grid = {\n",
        "       #'n_estimators': range(350, 700, 100),\n",
        "       'n_estimators': [1600]\n",
        "}\n",
        "grid_rf_under = GridSearchCV(RandomForestClassifier(), rf_param_grid, cv=3).fit(X_train, y_train)"
      ],
      "execution_count": 14,
      "outputs": []
    },
    {
      "cell_type": "code",
      "metadata": {
        "id": "43hPBadgOmUX",
        "colab": {
          "base_uri": "https://localhost:8080/",
          "height": 839
        },
        "outputId": "89e69d76-8512-4613-856d-76a16d0617f1"
      },
      "source": [
        "print(\"Undersampling pop tracks:\")\n",
        "print_grid_results(grid_rf_under,X_test,y_test)"
      ],
      "execution_count": 15,
      "outputs": [
        {
          "output_type": "stream",
          "text": [
            "Undersampling pop tracks:\n",
            "The best score is 0.44748788869885453\n",
            "The best hyper parameter setting is {'n_estimators': 1600}\n",
            "Model Accuracy: 0.6788518008030203\n",
            "\n",
            "Accuracy predicting country : 0.8107438016528926\n",
            "Accuracy predicting hiphop : 0.8380332610267535\n",
            "Accuracy predicting house : 0.7351515151515151\n",
            "Accuracy predicting indie : 0.6652871184687015\n",
            "Accuracy predicting pop : 0.5277777777777778\n",
            "Accuracy predicting r&b : 0.5476190476190477\n",
            "Accuracy predicting rock : 0.6851512373968836\n"
          ],
          "name": "stdout"
        },
        {
          "output_type": "display_data",
          "data": {
            "image/png": "[encoded data removed]",
            "text/plain": [
              "<Figure size 864x720 with 2 Axes>"
            ]
          },
          "metadata": {
            "tags": [],
            "needs_background": "light"
          }
        }
      ]
    },
    {
      "cell_type": "markdown",
      "metadata": {
        "id": "w7qodvI6sTsh"
      },
      "source": [
        "While the confusion matrix looks a bit more balanced and there isn't a strong overprediction in the pop genre, the accuracy did not improve much -- it's still 68%. Interesting to note, the performance of pop dropped a bit because the model is not just predicting pop when it was unsure of the genre. It was better at predicting country and R&B, though"
      ]
    },
    {
      "cell_type": "markdown",
      "metadata": {
        "id": "eCCOPxLzH3FS"
      },
      "source": [
        "### 2. Oversampling r&b, house, indie, and rock to ~10,000 tracks\n",
        "Next, I used SMOTE in order to generate synthetic rows to train on for the underrepresented classes. This essentially creates a training sample with the same number of tracks for each genre."
      ]
    },
    {
      "cell_type": "code",
      "metadata": {
        "id": "GgoTkzKJvmSJ"
      },
      "source": [
        "from imblearn.over_sampling import SMOTE"
      ],
      "execution_count": 12,
      "outputs": []
    },
    {
      "cell_type": "code",
      "metadata": {
        "id": "I_kaxvpqx7RO"
      },
      "source": [
        "from sklearn import datasets\n",
        "from sklearn.model_selection import cross_val_score\n",
        "from sklearn.metrics import confusion_matrix\n",
        "\n",
        "def evaluate_model(X_train, y_train, model):\n",
        "    preds = model.predict(X_test)\n",
        "    scores = cross_val_score(model, X_train, y_train, cv=3, scoring=\"accuracy\")\n",
        "    diff = scores.mean() - model.score(X_test, y_test)\n",
        "    SD = diff / scores.std()\n",
        "    print(f\"Cross V Score: {scores.mean()} +/- {scores.std()}\")\n",
        "    print(f\"Testing Score: {model.score(X_test, y_test)}\")\n",
        "    print(f\"Cross & Test Diff: {diff}\")\n",
        "    print(f\"Standard Deviations Away: {SD}\")\n",
        "    print(confusion_matrix(y_test, preds))"
      ],
      "execution_count": 18,
      "outputs": []
    },
    {
      "cell_type": "code",
      "metadata": {
        "id": "Exc-CXfxAIih"
      },
      "source": [
        "from warnings import simplefilter\n",
        "# ignore all future warnings\n",
        "simplefilter(action='ignore', category=FutureWarning)"
      ],
      "execution_count": 19,
      "outputs": []
    },
    {
      "cell_type": "markdown",
      "metadata": {
        "id": "Dff4rFM__G0U"
      },
      "source": [
        "I had to employ a bit different of an approach to train this model. Because I did not want validate or test on the oversampled dataset, I used a pipeline to first apply SMOTE to the training data, then validate on non-SMOTE data, then test on non-SMOTE data."
      ]
    },
    {
      "cell_type": "code",
      "metadata": {
        "id": "w75IC0NO70F7"
      },
      "source": [
        "from imblearn.pipeline import make_pipeline\n",
        "X = track_table_dummies.iloc[:,1:]\n",
        "y = track_table_dummies.iloc[:,0]\n",
        "\n",
        "rf = make_pipeline(SMOTE(random_state=0), \n",
        "                    GridSearchCV( RandomForestClassifier(),\n",
        "                                 param_grid={'n_estimators': [1600],'max_depth': [100]},\n",
        "                                 verbose=2,\n",
        "                                 cv=3,\n",
        "                                 refit=True))\n",
        "\n",
        "rf.fit(X_train, y_train)"
      ],
      "execution_count": null,
      "outputs": []
    },
    {
      "cell_type": "code",
      "metadata": {
        "colab": {
          "base_uri": "https://localhost:8080/"
        },
        "id": "nTHiZM6F80rF",
        "outputId": "4bc86c25-10ce-4680-9a5a-150d3dd82d58"
      },
      "source": [
        "preds = rf.predict(X_test)\n",
        "print(f\"Testing Score: {rf.score(X_test, y_test)}\")\n",
        "print(confusion_matrix(y_test, preds))"
      ],
      "execution_count": 23,
      "outputs": [
        {
          "output_type": "stream",
          "text": [
            "Testing Score: 0.6776788148686722\n",
            "[[2649  135   22   91  226   74  129]\n",
            " [  68 2714   92   50  339  168   35]\n",
            " [ 118  110 1517   53  186   65  118]\n",
            " [ 187   69  119 1671  164  142  266]\n",
            " [ 403  587  347  276 3405  332  337]\n",
            " [ 128  217   67   92  275  988   32]\n",
            " [ 298   83  106  192  241   54 1969]]\n"
          ],
          "name": "stdout"
        }
      ]
    },
    {
      "cell_type": "code",
      "metadata": {
        "colab": {
          "base_uri": "https://localhost:8080/",
          "height": 803
        },
        "id": "Yc9JIv1C3fS_",
        "outputId": "5ce3fbfa-8491-4eb0-bd73-dcf4f35d4585"
      },
      "source": [
        "print(\"Model Accuracy:\", accuracy_score(y_test,rf.predict(X_test)))\n",
        "conf_matrix = confusion_matrix(y_test, rf.predict(X_test), labels=genre_order)\n",
        "print()\n",
        "for i in range(0,len(genre_order)):\n",
        "  print_accuracy(i,conf_matrix)\n",
        "fig, ax = plt.subplots(figsize=(12,10)) \n",
        "sns.heatmap(conf_matrix.astype('float') / conf_matrix.sum(axis=1)[:, np.newaxis], annot=True,fmt='.2%', cmap='Blues',xticklabels=genre_order,yticklabels=genre_order, ax=ax)\n",
        "ax.set(xlabel='Predicted Genre', ylabel='True Genre')\n",
        "ax.set_title(\"Proportional Genre Confusion Matrix\")"
      ],
      "execution_count": 24,
      "outputs": [
        {
          "output_type": "stream",
          "text": [
            "Model Accuracy: 0.6776788148686722\n",
            "\n",
            "Accuracy predicting country : 0.796452194828623\n",
            "Accuracy predicting hiphop : 0.7830351990767456\n",
            "Accuracy predicting house : 0.7000461467466543\n",
            "Accuracy predicting indie : 0.6382734912146677\n",
            "Accuracy predicting pop : 0.5987339546333743\n",
            "Accuracy predicting r&b : 0.5491939966648138\n",
            "Accuracy predicting rock : 0.6690451919809718\n"
          ],
          "name": "stdout"
        },
        {
          "output_type": "execute_result",
          "data": {
            "text/plain": [
              "Text(0.5, 1.0, 'Proportional Genre Confusion Matrix')"
            ]
          },
          "metadata": {
            "tags": []
          },
          "execution_count": 24
        },
        {
          "output_type": "display_data",
          "data": {
            "image/png": "[encoded data removed]",
            "text/plain": [
              "<Figure size 864x720 with 2 Axes>"
            ]
          },
          "metadata": {
            "tags": [],
            "needs_background": "light"
          }
        }
      ]
    },
    {
      "cell_type": "markdown",
      "metadata": {
        "id": "7TbDypUk2Bl8"
      },
      "source": [
        "Unfortunately, using this oversampling method surprisingly lowers the accuracy slightly overall, but we can see that the predictions are a bit more balanced. The model does not default to pop as often, but the accuracy in predicting true pop tracks clearly suffered. While the overall accuracy of this approach did not improve much, I feel that its still an improvement on the initial model that just blindly predicts pop for unclear tracks."
      ]
    },
    {
      "cell_type": "markdown",
      "metadata": {
        "id": "uZyGoMjq2CPm"
      },
      "source": [
        "##What model is *best* here?"
      ]
    },
    {
      "cell_type": "markdown",
      "metadata": {
        "id": "CQyg_63-6vuk"
      },
      "source": [
        "One thing to consider here is which of the above datasets to use to train the final model. The following three had roughly the same test accuracy (~68%).\n",
        "* Method #1, no changes to the data. Pop made up by far the most tracks.\n",
        "* Method #2, in which pop was downsampled to the amount of other genres\n",
        "* Method #3, in which underrepresented genres were oversampled synthetically AND pop was downsampled\n",
        "\n",
        "The benefits of using Method #1 is that the model has been trained on a higher proportion of pop relative to the other tracks. Given the prevalance of pop music in general, one might consider this a more accurate representation of the data that this model would typically see if given a real-world sample of tracks on Spotify. So if the use case of the model was to intake random tracks on Spotify to categorize them on genre, this approach would make some sense. The drawbacks of using the initial dataset is that the overemphasis of pop causes the model to just default to pop when in doubt. This feels like a bit of a lazy approach and more likely to fail if we wanted the model to be fed a single unknown track of any genre and get the best result. It generally performs worse on non-pop tracks.\n",
        "\n",
        "Method #2, where pop was downsampled, had the best accuracy for non-pop genres like country and rock, but struggled a bit more for pop. This may lean too far into undermphasizing the importance of pop music. This model likely has a better pure understanding of what audible qualities make up each genre, but struggles to classify pop, which is the most common genre of music on Spotify.\n",
        "\n",
        "The benefits of using Method #3 is that it most likely produces the best blend of emphasizing the imporance of pop tracks while not sacrificing the accuracy of predicting other genres.\n",
        "\n",
        "I chose method #3 to build the model, as my goal was to most accurately predict a single song's genre while still considering the liklihood that a randomly selected song would be pop. I think the approach of balancing all input tracks to around 10,000 makes the most sense for this purpose"
      ]
    },
    {
      "cell_type": "markdown",
      "metadata": {
        "id": "WdaAHENpbRSz"
      },
      "source": [
        "##Let's see some predictions"
      ]
    },
    {
      "cell_type": "markdown",
      "metadata": {
        "id": "DE0zGFuMPRws"
      },
      "source": [
        "Now, let's analyze the performance a bit more and take a look at what tracks the model is right and wrong about. We can even listen to some of them on Spotify and see how we would classify them ourselves."
      ]
    },
    {
      "cell_type": "code",
      "metadata": {
        "id": "GNrp5AtPKlYO"
      },
      "source": [
        "preds = []\n",
        "for prediction in rf.predict_proba(X_test):\n",
        "  pred_ind = []\n",
        "  prediction = list(prediction)\n",
        "  pred_ind.append(max(prediction))\n",
        "  pred_ind.append(prediction.index(max(prediction)))\n",
        "  preds.append(pred_ind)\n",
        "\n",
        "for pred in preds:\n",
        "  pred[1] = genre_order[pred[1]]"
      ],
      "execution_count": 31,
      "outputs": []
    },
    {
      "cell_type": "code",
      "metadata": {
        "id": "1XT5-W-KOGqm"
      },
      "source": [
        "in_list = []\n",
        "for i in range(0,len(preds)):\n",
        "  in_list.append(int(list(y_test)[i] == preds[i][1]))"
      ],
      "execution_count": 32,
      "outputs": []
    },
    {
      "cell_type": "code",
      "metadata": {
        "id": "nBzFjZZdQkbj"
      },
      "source": [
        "prediction_conf = []\n",
        "predicted_genre = []\n",
        "\n",
        "for i in range(0,len(y_test)):\n",
        "  prediction_conf.append(preds[i][0])\n",
        "  predicted_genre.append(preds[i][1])\n",
        "\n",
        "\n",
        "prediction_frame = pd.DataFrame({\"Prediction Confidence\":prediction_conf,\n",
        "                                 \"Predicted Correctly\":in_list,\n",
        "                                 \"True Genre\": y_test,\n",
        "                                 \"Predicted Genre\": predicted_genre,\n",
        "                                 \"Track Name\": track_table.track_name[y_test.index],\n",
        "                                 \"Artist Name\": track_table.art_name[y_test.index]})"
      ],
      "execution_count": 33,
      "outputs": []
    },
    {
      "cell_type": "markdown",
      "metadata": {
        "id": "4D_keT2tRK2y"
      },
      "source": [
        "Let's first look at what songs the model was confident in. There are many songs that the RF outputted a predicted probability of 1, meaning that the model was very confident in these predictions."
      ]
    },
    {
      "cell_type": "code",
      "metadata": {
        "id": "2ikq0bdyRbAO",
        "colab": {
          "base_uri": "https://localhost:8080/",
          "height": 675
        },
        "outputId": "b6aa3d65-cd4a-41b9-d39a-383c2467f74c"
      },
      "source": [
        "prediction_frame.drop_duplicates().sort_values(by=\"Prediction Confidence\", ascending=False).head(20)"
      ],
      "execution_count": 34,
      "outputs": [
        {
          "output_type": "execute_result",
          "data": {
            "text/html": [
              "<div>\n",
              "<style scoped>\n",
              "    .dataframe tbody tr th:only-of-type {\n",
              "        vertical-align: middle;\n",
              "    }\n",
              "\n",
              "    .dataframe tbody tr th {\n",
              "        vertical-align: top;\n",
              "    }\n",
              "\n",
              "    .dataframe thead th {\n",
              "        text-align: right;\n",
              "    }\n",
              "</style>\n",
              "<table border=\"1\" class=\"dataframe\">\n",
              "  <thead>\n",
              "    <tr style=\"text-align: right;\">\n",
              "      <th></th>\n",
              "      <th>Prediction Confidence</th>\n",
              "      <th>Predicted Correctly</th>\n",
              "      <th>True Genre</th>\n",
              "      <th>Predicted Genre</th>\n",
              "      <th>Track Name</th>\n",
              "      <th>Artist Name</th>\n",
              "    </tr>\n",
              "  </thead>\n",
              "  <tbody>\n",
              "    <tr>\n",
              "      <th>56764</th>\n",
              "      <td>1.000000</td>\n",
              "      <td>1</td>\n",
              "      <td>r&amp;b</td>\n",
              "      <td>r&amp;b</td>\n",
              "      <td>Can We (with Kacy Hill)</td>\n",
              "      <td>Jim-E Stack</td>\n",
              "    </tr>\n",
              "    <tr>\n",
              "      <th>15067</th>\n",
              "      <td>0.999375</td>\n",
              "      <td>1</td>\n",
              "      <td>r&amp;b</td>\n",
              "      <td>r&amp;b</td>\n",
              "      <td>Polaroids</td>\n",
              "      <td>Jay Prince</td>\n",
              "    </tr>\n",
              "    <tr>\n",
              "      <th>41737</th>\n",
              "      <td>0.998750</td>\n",
              "      <td>1</td>\n",
              "      <td>indie</td>\n",
              "      <td>indie</td>\n",
              "      <td>Song For Zula</td>\n",
              "      <td>Phosphorescent</td>\n",
              "    </tr>\n",
              "    <tr>\n",
              "      <th>55149</th>\n",
              "      <td>0.997500</td>\n",
              "      <td>1</td>\n",
              "      <td>r&amp;b</td>\n",
              "      <td>r&amp;b</td>\n",
              "      <td>John Redcorn</td>\n",
              "      <td>SiR</td>\n",
              "    </tr>\n",
              "    <tr>\n",
              "      <th>31808</th>\n",
              "      <td>0.997500</td>\n",
              "      <td>1</td>\n",
              "      <td>rock</td>\n",
              "      <td>rock</td>\n",
              "      <td>Out of My League</td>\n",
              "      <td>Fitz and The Tantrums</td>\n",
              "    </tr>\n",
              "    <tr>\n",
              "      <th>62145</th>\n",
              "      <td>0.996875</td>\n",
              "      <td>1</td>\n",
              "      <td>rock</td>\n",
              "      <td>rock</td>\n",
              "      <td>Too Late</td>\n",
              "      <td>The Happy Fits</td>\n",
              "    </tr>\n",
              "    <tr>\n",
              "      <th>41179</th>\n",
              "      <td>0.996875</td>\n",
              "      <td>1</td>\n",
              "      <td>rock</td>\n",
              "      <td>rock</td>\n",
              "      <td>Pompeii</td>\n",
              "      <td>Bastille</td>\n",
              "    </tr>\n",
              "    <tr>\n",
              "      <th>13424</th>\n",
              "      <td>0.996250</td>\n",
              "      <td>1</td>\n",
              "      <td>hiphop</td>\n",
              "      <td>hiphop</td>\n",
              "      <td>I Mean It (feat. Remo)</td>\n",
              "      <td>G-Eazy</td>\n",
              "    </tr>\n",
              "    <tr>\n",
              "      <th>2640</th>\n",
              "      <td>0.996250</td>\n",
              "      <td>1</td>\n",
              "      <td>country</td>\n",
              "      <td>country</td>\n",
              "      <td>This Is How We Roll</td>\n",
              "      <td>Florida Georgia Line</td>\n",
              "    </tr>\n",
              "    <tr>\n",
              "      <th>33747</th>\n",
              "      <td>0.996250</td>\n",
              "      <td>1</td>\n",
              "      <td>indie</td>\n",
              "      <td>indie</td>\n",
              "      <td>Multi-Love</td>\n",
              "      <td>Unknown Mortal Orchestra</td>\n",
              "    </tr>\n",
              "    <tr>\n",
              "      <th>65758</th>\n",
              "      <td>0.995625</td>\n",
              "      <td>1</td>\n",
              "      <td>indie</td>\n",
              "      <td>indie</td>\n",
              "      <td>Rät</td>\n",
              "      <td>Penelope Scott</td>\n",
              "    </tr>\n",
              "    <tr>\n",
              "      <th>52259</th>\n",
              "      <td>0.995625</td>\n",
              "      <td>1</td>\n",
              "      <td>r&amp;b</td>\n",
              "      <td>r&amp;b</td>\n",
              "      <td>Night Drive</td>\n",
              "      <td>Ari Lennox</td>\n",
              "    </tr>\n",
              "    <tr>\n",
              "      <th>36710</th>\n",
              "      <td>0.995625</td>\n",
              "      <td>1</td>\n",
              "      <td>r&amp;b</td>\n",
              "      <td>r&amp;b</td>\n",
              "      <td>Velvet Light</td>\n",
              "      <td>Jakob</td>\n",
              "    </tr>\n",
              "    <tr>\n",
              "      <th>38571</th>\n",
              "      <td>0.995625</td>\n",
              "      <td>1</td>\n",
              "      <td>pop</td>\n",
              "      <td>pop</td>\n",
              "      <td>Heat Waves</td>\n",
              "      <td>Glass Animals</td>\n",
              "    </tr>\n",
              "    <tr>\n",
              "      <th>62910</th>\n",
              "      <td>0.995000</td>\n",
              "      <td>1</td>\n",
              "      <td>rock</td>\n",
              "      <td>rock</td>\n",
              "      <td>Guru</td>\n",
              "      <td>Coast Modern</td>\n",
              "    </tr>\n",
              "    <tr>\n",
              "      <th>52287</th>\n",
              "      <td>0.995000</td>\n",
              "      <td>1</td>\n",
              "      <td>r&amp;b</td>\n",
              "      <td>r&amp;b</td>\n",
              "      <td>If You Let Me</td>\n",
              "      <td>Sinead Harnett</td>\n",
              "    </tr>\n",
              "    <tr>\n",
              "      <th>60054</th>\n",
              "      <td>0.994375</td>\n",
              "      <td>1</td>\n",
              "      <td>indie</td>\n",
              "      <td>indie</td>\n",
              "      <td>Warned You</td>\n",
              "      <td>Good Morning</td>\n",
              "    </tr>\n",
              "    <tr>\n",
              "      <th>1679</th>\n",
              "      <td>0.994375</td>\n",
              "      <td>1</td>\n",
              "      <td>country</td>\n",
              "      <td>country</td>\n",
              "      <td>Round Here</td>\n",
              "      <td>Florida Georgia Line</td>\n",
              "    </tr>\n",
              "    <tr>\n",
              "      <th>43865</th>\n",
              "      <td>0.993750</td>\n",
              "      <td>1</td>\n",
              "      <td>hiphop</td>\n",
              "      <td>hiphop</td>\n",
              "      <td>Broccoli</td>\n",
              "      <td>Shelley FKA DRAM</td>\n",
              "    </tr>\n",
              "    <tr>\n",
              "      <th>58117</th>\n",
              "      <td>0.993750</td>\n",
              "      <td>1</td>\n",
              "      <td>rock</td>\n",
              "      <td>rock</td>\n",
              "      <td>King And Lionheart</td>\n",
              "      <td>Of Monsters and Men</td>\n",
              "    </tr>\n",
              "  </tbody>\n",
              "</table>\n",
              "</div>"
            ],
            "text/plain": [
              "       Prediction Confidence  ...               Artist Name\n",
              "56764               1.000000  ...               Jim-E Stack\n",
              "15067               0.999375  ...                Jay Prince\n",
              "41737               0.998750  ...            Phosphorescent\n",
              "55149               0.997500  ...                       SiR\n",
              "31808               0.997500  ...     Fitz and The Tantrums\n",
              "62145               0.996875  ...            The Happy Fits\n",
              "41179               0.996875  ...                  Bastille\n",
              "13424               0.996250  ...                    G-Eazy\n",
              "2640                0.996250  ...      Florida Georgia Line\n",
              "33747               0.996250  ...  Unknown Mortal Orchestra\n",
              "65758               0.995625  ...            Penelope Scott\n",
              "52259               0.995625  ...                Ari Lennox\n",
              "36710               0.995625  ...                     Jakob\n",
              "38571               0.995625  ...             Glass Animals\n",
              "62910               0.995000  ...              Coast Modern\n",
              "52287               0.995000  ...            Sinead Harnett\n",
              "60054               0.994375  ...              Good Morning\n",
              "1679                0.994375  ...      Florida Georgia Line\n",
              "43865               0.993750  ...          Shelley FKA DRAM\n",
              "58117               0.993750  ...       Of Monsters and Men\n",
              "\n",
              "[20 rows x 6 columns]"
            ]
          },
          "metadata": {
            "tags": []
          },
          "execution_count": 34
        }
      ]
    },
    {
      "cell_type": "markdown",
      "metadata": {
        "id": "WhWI9-iBRUly"
      },
      "source": [
        "Here is the track by Jim-E Stack that the model correctly predicted as R&B: [Can We (with Kacy Hill) - Jim-E Stack](https://open.spotify.com/track/5mVWKI0OgsFIXF8aJccfO8?si=67ac936034124432)\n",
        "\n",
        "Here is a track by Fitz and The Tantrums that the model correctly predicted as Rock: [Out of My League\tFitz and The Tantrums](https://open.spotify.com/track/2AYEOC02WLhUiOoaig2SEH?si=5abe7f31926b4f06)\n",
        "\n",
        "Here is a track by Phosphorescent that the model correctly predicted as Indie: [Song For Zula - Phosphorescent](https://open.spotify.com/track/3zr2s3o2Ye1j6t0ZMdoUYi?si=c32ad6ac6c644a23)\n",
        "\n",
        "These both make sense, as they sound quintessentially R&B, Rock and Indie. More interesting will be looking at what tracks the model predicted *incorrectly*. Let's take a look at a few of those."
      ]
    },
    {
      "cell_type": "code",
      "metadata": {
        "id": "512KOR30Trl7",
        "colab": {
          "base_uri": "https://localhost:8080/",
          "height": 675
        },
        "outputId": "79c89820-03fb-482f-aa21-1f8789027279"
      },
      "source": [
        "prediction_frame[prediction_frame['Predicted Correctly'] == 0].drop_duplicates().sort_values(by=\"Prediction Confidence\", ascending=False).head(20)"
      ],
      "execution_count": 35,
      "outputs": [
        {
          "output_type": "execute_result",
          "data": {
            "text/html": [
              "<div>\n",
              "<style scoped>\n",
              "    .dataframe tbody tr th:only-of-type {\n",
              "        vertical-align: middle;\n",
              "    }\n",
              "\n",
              "    .dataframe tbody tr th {\n",
              "        vertical-align: top;\n",
              "    }\n",
              "\n",
              "    .dataframe thead th {\n",
              "        text-align: right;\n",
              "    }\n",
              "</style>\n",
              "<table border=\"1\" class=\"dataframe\">\n",
              "  <thead>\n",
              "    <tr style=\"text-align: right;\">\n",
              "      <th></th>\n",
              "      <th>Prediction Confidence</th>\n",
              "      <th>Predicted Correctly</th>\n",
              "      <th>True Genre</th>\n",
              "      <th>Predicted Genre</th>\n",
              "      <th>Track Name</th>\n",
              "      <th>Artist Name</th>\n",
              "    </tr>\n",
              "  </thead>\n",
              "  <tbody>\n",
              "    <tr>\n",
              "      <th>5090</th>\n",
              "      <td>0.959375</td>\n",
              "      <td>0</td>\n",
              "      <td>pop</td>\n",
              "      <td>country</td>\n",
              "      <td>Suitcase</td>\n",
              "      <td>Steve Moakler</td>\n",
              "    </tr>\n",
              "    <tr>\n",
              "      <th>22411</th>\n",
              "      <td>0.920625</td>\n",
              "      <td>0</td>\n",
              "      <td>pop</td>\n",
              "      <td>house</td>\n",
              "      <td>Dechorro</td>\n",
              "      <td>Deorro</td>\n",
              "    </tr>\n",
              "    <tr>\n",
              "      <th>46362</th>\n",
              "      <td>0.918750</td>\n",
              "      <td>0</td>\n",
              "      <td>pop</td>\n",
              "      <td>hiphop</td>\n",
              "      <td>Press</td>\n",
              "      <td>Cardi B</td>\n",
              "    </tr>\n",
              "    <tr>\n",
              "      <th>21006</th>\n",
              "      <td>0.913750</td>\n",
              "      <td>0</td>\n",
              "      <td>pop</td>\n",
              "      <td>house</td>\n",
              "      <td>Flying Blind</td>\n",
              "      <td>Cosmic Gate</td>\n",
              "    </tr>\n",
              "    <tr>\n",
              "      <th>20731</th>\n",
              "      <td>0.908750</td>\n",
              "      <td>0</td>\n",
              "      <td>pop</td>\n",
              "      <td>house</td>\n",
              "      <td>Raise Your Head</td>\n",
              "      <td>Alesso</td>\n",
              "    </tr>\n",
              "    <tr>\n",
              "      <th>27593</th>\n",
              "      <td>0.903125</td>\n",
              "      <td>0</td>\n",
              "      <td>house</td>\n",
              "      <td>country</td>\n",
              "      <td>Gonna Be Alright - Man Cub Remix</td>\n",
              "      <td>Tritonal</td>\n",
              "    </tr>\n",
              "    <tr>\n",
              "      <th>21701</th>\n",
              "      <td>0.902500</td>\n",
              "      <td>0</td>\n",
              "      <td>pop</td>\n",
              "      <td>house</td>\n",
              "      <td>Lights</td>\n",
              "      <td>Swedish House Mafia</td>\n",
              "    </tr>\n",
              "    <tr>\n",
              "      <th>23005</th>\n",
              "      <td>0.898750</td>\n",
              "      <td>0</td>\n",
              "      <td>pop</td>\n",
              "      <td>house</td>\n",
              "      <td>This Is What It Feels Like - W&amp;W Remix</td>\n",
              "      <td>Armin van Buuren</td>\n",
              "    </tr>\n",
              "    <tr>\n",
              "      <th>22833</th>\n",
              "      <td>0.893750</td>\n",
              "      <td>0</td>\n",
              "      <td>pop</td>\n",
              "      <td>house</td>\n",
              "      <td>In My Eyes - Original Mix</td>\n",
              "      <td>MitiS</td>\n",
              "    </tr>\n",
              "    <tr>\n",
              "      <th>21121</th>\n",
              "      <td>0.891875</td>\n",
              "      <td>0</td>\n",
              "      <td>pop</td>\n",
              "      <td>house</td>\n",
              "      <td>Fight The Fire - Original Mix</td>\n",
              "      <td>Andy Moor</td>\n",
              "    </tr>\n",
              "    <tr>\n",
              "      <th>23739</th>\n",
              "      <td>0.888750</td>\n",
              "      <td>0</td>\n",
              "      <td>pop</td>\n",
              "      <td>house</td>\n",
              "      <td>Clear Blue Moon</td>\n",
              "      <td>Armin van Buuren</td>\n",
              "    </tr>\n",
              "    <tr>\n",
              "      <th>27667</th>\n",
              "      <td>0.883125</td>\n",
              "      <td>0</td>\n",
              "      <td>pop</td>\n",
              "      <td>country</td>\n",
              "      <td>Lonely (feat. MAX)</td>\n",
              "      <td>Matoma</td>\n",
              "    </tr>\n",
              "    <tr>\n",
              "      <th>21956</th>\n",
              "      <td>0.880000</td>\n",
              "      <td>0</td>\n",
              "      <td>pop</td>\n",
              "      <td>house</td>\n",
              "      <td>ITSA</td>\n",
              "      <td>Martin Garrix</td>\n",
              "    </tr>\n",
              "    <tr>\n",
              "      <th>51191</th>\n",
              "      <td>0.880000</td>\n",
              "      <td>0</td>\n",
              "      <td>pop</td>\n",
              "      <td>house</td>\n",
              "      <td>You're Mine (Eternal) - Gregor Salto &amp; Funkin ...</td>\n",
              "      <td>Mariah Carey</td>\n",
              "    </tr>\n",
              "    <tr>\n",
              "      <th>7100</th>\n",
              "      <td>0.879375</td>\n",
              "      <td>0</td>\n",
              "      <td>pop</td>\n",
              "      <td>country</td>\n",
              "      <td>Suitcase</td>\n",
              "      <td>Steve Moakler</td>\n",
              "    </tr>\n",
              "    <tr>\n",
              "      <th>22862</th>\n",
              "      <td>0.878125</td>\n",
              "      <td>0</td>\n",
              "      <td>pop</td>\n",
              "      <td>house</td>\n",
              "      <td>Stay The Night - Featuring Hayley Williams of ...</td>\n",
              "      <td>Zedd</td>\n",
              "    </tr>\n",
              "    <tr>\n",
              "      <th>27732</th>\n",
              "      <td>0.875000</td>\n",
              "      <td>0</td>\n",
              "      <td>pop</td>\n",
              "      <td>country</td>\n",
              "      <td>Troubled</td>\n",
              "      <td>Elephante</td>\n",
              "    </tr>\n",
              "    <tr>\n",
              "      <th>20610</th>\n",
              "      <td>0.873125</td>\n",
              "      <td>0</td>\n",
              "      <td>pop</td>\n",
              "      <td>house</td>\n",
              "      <td>Thing Called Love - Mat Zo Remix</td>\n",
              "      <td>Above &amp; Beyond</td>\n",
              "    </tr>\n",
              "    <tr>\n",
              "      <th>21495</th>\n",
              "      <td>0.868750</td>\n",
              "      <td>0</td>\n",
              "      <td>pop</td>\n",
              "      <td>house</td>\n",
              "      <td>Orbithing</td>\n",
              "      <td>Andy Moor</td>\n",
              "    </tr>\n",
              "    <tr>\n",
              "      <th>54114</th>\n",
              "      <td>0.865000</td>\n",
              "      <td>0</td>\n",
              "      <td>pop</td>\n",
              "      <td>country</td>\n",
              "      <td>First Time</td>\n",
              "      <td>Ruth B.</td>\n",
              "    </tr>\n",
              "  </tbody>\n",
              "</table>\n",
              "</div>"
            ],
            "text/plain": [
              "       Prediction Confidence  ...          Artist Name\n",
              "5090                0.959375  ...        Steve Moakler\n",
              "22411               0.920625  ...               Deorro\n",
              "46362               0.918750  ...              Cardi B\n",
              "21006               0.913750  ...          Cosmic Gate\n",
              "20731               0.908750  ...               Alesso\n",
              "27593               0.903125  ...             Tritonal\n",
              "21701               0.902500  ...  Swedish House Mafia\n",
              "23005               0.898750  ...     Armin van Buuren\n",
              "22833               0.893750  ...                MitiS\n",
              "21121               0.891875  ...            Andy Moor\n",
              "23739               0.888750  ...     Armin van Buuren\n",
              "27667               0.883125  ...               Matoma\n",
              "21956               0.880000  ...        Martin Garrix\n",
              "51191               0.880000  ...         Mariah Carey\n",
              "7100                0.879375  ...        Steve Moakler\n",
              "22862               0.878125  ...                 Zedd\n",
              "27732               0.875000  ...            Elephante\n",
              "20610               0.873125  ...       Above & Beyond\n",
              "21495               0.868750  ...            Andy Moor\n",
              "54114               0.865000  ...              Ruth B.\n",
              "\n",
              "[20 rows x 6 columns]"
            ]
          },
          "metadata": {
            "tags": []
          },
          "execution_count": 35
        }
      ]
    },
    {
      "cell_type": "markdown",
      "metadata": {
        "id": "kuyQbFQKTcLo"
      },
      "source": [
        "Unsurprisingly, most of these missed predictions are true-genre pop. This is clearly the model's worst category at predicting, thought this was expected after we went with the Method #2 approach. Let's listen to a few of these in particular:\n",
        "\n",
        "The first one in the list sounds a lot like country to me, despite its genre label being pop: [Suitcase -\tSteve Moakler](https://open.spotify.com/track/0uhxXyG4Eb5sIIt3GZxJcn?si=f3c81e3fc9004886) The line between country, pop, and country-pop is certainly a blurry one, and this may be more of a failure of my labeling system rather than one by the model.\n",
        "\n",
        "Let's look at a track that isn't true-genre pop. This one is true-genre house: [Gonna Be Alright - Man Cub Remix\tTritonal](https://open.spotify.com/track/3wJYhSVsFnfKr46ufuZgjA?si=6b74d547dfc34868) This is a surprising one. This is a fairly obvious pop or house track, so it's quite surprising that the model labeled this country. This is a pretty bad miss.\n",
        "\n",
        "Finally, this Cardi B song is a bit of a surprise: [Press - Cardi B](https://open.spotify.com/track/6dPyzkyZwoj9LqjQXOFdVv?si=ab252432ee5f4544). I would definitely have labeled this as hiphop, so this is another understandable mistake by the model. This seems to be more of a case of an unclear distinction between pop/hiphop or a mistake on the genre labeling."
      ]
    },
    {
      "cell_type": "markdown",
      "metadata": {
        "id": "Pv6AT1-_L3_7"
      },
      "source": [
        "#Predict 2 Genres\n",
        "As a last little experiment, I wanted to see how accurate the model would be if it was able to make 2 predictions for a track -- the 2 genres which it views as the most likely for that track."
      ]
    },
    {
      "cell_type": "code",
      "metadata": {
        "id": "vFNNttCe9JE1"
      },
      "source": [
        "# Add prediction of 2nd highest probability genre\n",
        "two_preds = []\n",
        "for prediction in rf.predict_proba(X_test):\n",
        "  prediction = list(prediction)\n",
        "  two_maxes = []\n",
        "  two_maxes.append(prediction.index(max(prediction)))\n",
        "  prediction[prediction.index(max(prediction))] = 0\n",
        "  two_maxes.append(prediction.index(max(prediction)))\n",
        "  two_preds.append(two_maxes)"
      ],
      "execution_count": 37,
      "outputs": []
    },
    {
      "cell_type": "code",
      "metadata": {
        "id": "m_FSe5aACDQo"
      },
      "source": [
        "# Convert probability to genre name\n",
        "for pred in two_preds:\n",
        "  pred[0] = genre_order[pred[0]]\n",
        "  pred[1] = genre_order[pred[1]]"
      ],
      "execution_count": 38,
      "outputs": []
    },
    {
      "cell_type": "code",
      "metadata": {
        "id": "C1yRLa6BKUIP"
      },
      "source": [
        "# Create list to evaluate accuracy\n",
        "in_list = []\n",
        "for i in range(0,len(two_preds)):\n",
        "  in_list.append(int(list(y_test)[i] in two_preds[i]))"
      ],
      "execution_count": 39,
      "outputs": []
    },
    {
      "cell_type": "code",
      "metadata": {
        "colab": {
          "base_uri": "https://localhost:8080/"
        },
        "id": "OsOWRCPTLmDo",
        "outputId": "7b3aead6-047c-4b66-8926-ebe612a4d0b4"
      },
      "source": [
        "print(\"Accuracy:\" , sum(in_list) / len(in_list))"
      ],
      "execution_count": 40,
      "outputs": [
        {
          "output_type": "stream",
          "text": [
            "Accuracy: 0.8220030900663455\n"
          ],
          "name": "stdout"
        }
      ]
    },
    {
      "cell_type": "markdown",
      "metadata": {
        "id": "CRg0CDvbV9Ba"
      },
      "source": [
        "With 2 predictions, the model improves about 14% to an 82% accuracy. That's pretty awesome, considering there are 7 different genres to consider for this multiclass labeling. Pretty cool! I wonder what ~18% of tracks are mislabeled here too. These would be tracks where the model really missed badly."
      ]
    },
    {
      "cell_type": "code",
      "metadata": {
        "id": "7sTdSCGeMOB5"
      },
      "source": [
        "pred_correctly = []\n",
        "true_genre = []\n",
        "predicted_genre = []\n",
        "\n",
        "for i in range(0,len(y_test)):\n",
        "  pred_correctly.append(in_list[i])\n",
        "  true_genre.append(list(y_test)[i])\n",
        "  predicted_genre.append(two_preds[i])\n",
        "\n",
        "prediction_frame = pd.DataFrame({\"Predicted Correctly\":pred_correctly,\n",
        "                                 \"True Genre\": true_genre,\n",
        "                                 \"Predicted Genres\": predicted_genre,\n",
        "                                 \"Track Name\": track_table.track_name[y_test.index],\n",
        "                                 \"Artist Name\": track_table.art_name[y_test.index]})"
      ],
      "execution_count": null,
      "outputs": []
    },
    {
      "cell_type": "code",
      "metadata": {
        "colab": {
          "base_uri": "https://localhost:8080/",
          "height": 422
        },
        "id": "tvFTh_EJPZoe",
        "outputId": "c234f7f0-8277-4ff8-ce9e-a19f4d5c4ba6"
      },
      "source": [
        "display(prediction_frame[prediction_frame[\"Predicted Correctly\"] == 0])"
      ],
      "execution_count": 42,
      "outputs": [
        {
          "output_type": "display_data",
          "data": {
            "text/html": [
              "<div>\n",
              "<style scoped>\n",
              "    .dataframe tbody tr th:only-of-type {\n",
              "        vertical-align: middle;\n",
              "    }\n",
              "\n",
              "    .dataframe tbody tr th {\n",
              "        vertical-align: top;\n",
              "    }\n",
              "\n",
              "    .dataframe thead th {\n",
              "        text-align: right;\n",
              "    }\n",
              "</style>\n",
              "<table border=\"1\" class=\"dataframe\">\n",
              "  <thead>\n",
              "    <tr style=\"text-align: right;\">\n",
              "      <th></th>\n",
              "      <th>Predicted Correctly</th>\n",
              "      <th>True Genre</th>\n",
              "      <th>Predicted Genres</th>\n",
              "      <th>Track Name</th>\n",
              "      <th>Artist Name</th>\n",
              "    </tr>\n",
              "  </thead>\n",
              "  <tbody>\n",
              "    <tr>\n",
              "      <th>2885</th>\n",
              "      <td>0</td>\n",
              "      <td>country</td>\n",
              "      <td>[hiphop, pop]</td>\n",
              "      <td>Smoke Stack</td>\n",
              "      <td>The Lacs</td>\n",
              "    </tr>\n",
              "    <tr>\n",
              "      <th>22986</th>\n",
              "      <td>0</td>\n",
              "      <td>house</td>\n",
              "      <td>[country, pop]</td>\n",
              "      <td>Mono in Love - Radio Edit</td>\n",
              "      <td>Edward Maya</td>\n",
              "    </tr>\n",
              "    <tr>\n",
              "      <th>52843</th>\n",
              "      <td>0</td>\n",
              "      <td>hiphop</td>\n",
              "      <td>[house, rock]</td>\n",
              "      <td>Tattoo</td>\n",
              "      <td>Kevin Abstract</td>\n",
              "    </tr>\n",
              "    <tr>\n",
              "      <th>57048</th>\n",
              "      <td>0</td>\n",
              "      <td>r&amp;b</td>\n",
              "      <td>[pop, hiphop]</td>\n",
              "      <td>Dingo X BIBI - she got it</td>\n",
              "      <td>BIBI</td>\n",
              "    </tr>\n",
              "    <tr>\n",
              "      <th>33048</th>\n",
              "      <td>0</td>\n",
              "      <td>pop</td>\n",
              "      <td>[house, rock]</td>\n",
              "      <td>Gooey Rework</td>\n",
              "      <td>Glass Animals</td>\n",
              "    </tr>\n",
              "    <tr>\n",
              "      <th>...</th>\n",
              "      <td>...</td>\n",
              "      <td>...</td>\n",
              "      <td>...</td>\n",
              "      <td>...</td>\n",
              "      <td>...</td>\n",
              "    </tr>\n",
              "    <tr>\n",
              "      <th>2238</th>\n",
              "      <td>0</td>\n",
              "      <td>country</td>\n",
              "      <td>[r&amp;b, pop]</td>\n",
              "      <td>Telescope</td>\n",
              "      <td>Nashville Cast</td>\n",
              "    </tr>\n",
              "    <tr>\n",
              "      <th>7861</th>\n",
              "      <td>0</td>\n",
              "      <td>country</td>\n",
              "      <td>[r&amp;b, pop]</td>\n",
              "      <td>Mother</td>\n",
              "      <td>Sugarland</td>\n",
              "    </tr>\n",
              "    <tr>\n",
              "      <th>19231</th>\n",
              "      <td>0</td>\n",
              "      <td>hiphop</td>\n",
              "      <td>[pop, house]</td>\n",
              "      <td>I've Been Waiting (feat. ILOVEMAKONNEN) - Orig...</td>\n",
              "      <td>Lil Peep</td>\n",
              "    </tr>\n",
              "    <tr>\n",
              "      <th>31310</th>\n",
              "      <td>0</td>\n",
              "      <td>indie</td>\n",
              "      <td>[pop, rock]</td>\n",
              "      <td>We Must Be Killers</td>\n",
              "      <td>Mikky Ekko</td>\n",
              "    </tr>\n",
              "    <tr>\n",
              "      <th>9287</th>\n",
              "      <td>0</td>\n",
              "      <td>country</td>\n",
              "      <td>[pop, hiphop]</td>\n",
              "      <td>Snow White</td>\n",
              "      <td>Katie Noel</td>\n",
              "    </tr>\n",
              "  </tbody>\n",
              "</table>\n",
              "<p>3917 rows × 5 columns</p>\n",
              "</div>"
            ],
            "text/plain": [
              "       Predicted Correctly  ...     Artist Name\n",
              "2885                     0  ...        The Lacs\n",
              "22986                    0  ...     Edward Maya\n",
              "52843                    0  ...  Kevin Abstract\n",
              "57048                    0  ...            BIBI\n",
              "33048                    0  ...   Glass Animals\n",
              "...                    ...  ...             ...\n",
              "2238                     0  ...  Nashville Cast\n",
              "7861                     0  ...       Sugarland\n",
              "19231                    0  ...        Lil Peep\n",
              "31310                    0  ...      Mikky Ekko\n",
              "9287                     0  ...      Katie Noel\n",
              "\n",
              "[3917 rows x 5 columns]"
            ]
          },
          "metadata": {
            "tags": []
          }
        }
      ]
    },
    {
      "cell_type": "markdown",
      "metadata": {
        "id": "5E5qKWPjWdM3"
      },
      "source": [
        "Let's check some of these out:\n",
        "*   [Smoke Stack - The Lacs](https://open.spotify.com/track/2XBYAG0RgFgzONthKkuaT5?si=d00724b4fac74469) - This one makes sense as a hiphop/pop track, as it's a pretty strange rap country fusion. \n",
        "*   [Tattoo - Kevin Abstrac](https://open.spotify.com/track/2jEkD23p3LVw2D19OiFvMK?si=460fea7143af495b) - This example again makes sense why the model would miss it. The sound features an acoustic guitar and pretty traditional rock drums, although it's strange that the model predicted house and not something like Indie/Rock.\n",
        "*   [Boogieman - Childish Gambino](https://open.spotify.com/track/0SunFlwqT44E0BU0yrgM7u?si=5c52a9b7638143e7) - This one makes sense as just an extremely difficult song to predict. I would personally call this funk, perhaps? Of our genre's, I think hiphop is a fair true labell, but I'm not surprised the model missed this, given its unconventional sound.\n",
        "\n"
      ]
    },
    {
      "cell_type": "markdown",
      "metadata": {
        "id": "7kxl22eEcxRr"
      },
      "source": [
        "## How to improve the model in the future\n",
        "It seems that the best place to focus on for future improvement of the genre predicting model would be to improve the true labeling of the tracks. Detailed in part 1, every track / artist outputted by the Spotify API has a number of genre tags, but there is not a single definitive genre for one track. To allow us to build a genre-predicting algorithm, the track genre tags were pooled into a dictionary and I chose the most occuring gender to determine the True Genre for that track. This is somewhat imperfect and likely lead to some faulty labeling of true genre. However, this was the best option available until Spotify labels the genre of the track themselves, or I come up with some other NLP improvements for the tag text."
      ]
    }
  ]
}