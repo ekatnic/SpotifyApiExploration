{
  "nbformat": 4,
  "nbformat_minor": 0,
  "metadata": {
    "colab": {
      "name": "Spotify_Analyze_Genre.ipynb",
      "provenance": [],
      "collapsed_sections": []
    },
    "kernelspec": {
      "name": "python3",
      "display_name": "Python 3"
    }
  },
  "cells": [
    {
      "cell_type": "markdown",
      "metadata": {
        "id": "Yxynj67aT9Xq"
      },
      "source": [
        "#Analyze Spotify Genre\n",
        "##In this notebook, I fed the data into a multi-class classification algorithm to try to predict the genre of a song based on the audible attributes. For the purpose of limiting the genres to classify, I went with songs within just the top 7 most popular genres according to the genre analysis done in previous secitons. With some optimizations and a little leeway, the algorithm was able to predict a songs genre with about 68% accuracy in 1 prediction and with about 84% accuracy with 2 predictions. I was fairly satisfied with this result given the difficulty of 7-way classification."
      ]
    },
    {
      "cell_type": "markdown",
      "metadata": {
        "id": "SJD7k5KXboZS"
      },
      "source": [
        "## Data Preprocessing:"
      ]
    },
    {
      "cell_type": "code",
      "metadata": {
        "id": "OlnmJvKn2WiY",
        "colab": {
          "resources": {
            "http://localhost:8080/nbextensions/google.colab/files.js": {
              "data": "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",
              "ok": true,
              "headers": [
                [
                  "content-type",
                  "application/javascript"
                ]
              ],
              "status": 200,
              "status_text": ""
            }
          },
          "base_uri": "https://localhost:8080/",
          "height": 73
        },
        "outputId": "924764b2-425a-43fc-cca9-4f83f7f9b65e"
      },
      "source": [
        "import pandas as pd\n",
        "import numpy as np\n",
        "from sklearn.model_selection import GridSearchCV\n",
        "from sklearn.model_selection import train_test_split\n",
        "from sklearn.metrics import confusion_matrix\n",
        "from sklearn.metrics import accuracy_score\n",
        "\n",
        "from google.colab import files\n",
        "uploaded = files.upload()"
      ],
      "execution_count": 1,
      "outputs": [
        {
          "output_type": "display_data",
          "data": {
            "text/html": [
              "\n",
              "     <input type=\"file\" id=\"files-e2054e6b-0a2e-4a05-bfeb-db76d6437aca\" name=\"files[]\" multiple disabled\n",
              "        style=\"border:none\" />\n",
              "     <output id=\"result-e2054e6b-0a2e-4a05-bfeb-db76d6437aca\">\n",
              "      Upload widget is only available when the cell has been executed in the\n",
              "      current browser session. Please rerun this cell to enable.\n",
              "      </output>\n",
              "      <script src=\"/nbextensions/google.colab/files.js\"></script> "
            ],
            "text/plain": [
              "<IPython.core.display.HTML object>"
            ]
          },
          "metadata": {
            "tags": []
          }
        },
        {
          "output_type": "stream",
          "text": [
            "Saving cleaned_tracks_both.csv to cleaned_tracks_both.csv\n"
          ],
          "name": "stdout"
        }
      ]
    },
    {
      "cell_type": "code",
      "metadata": {
        "id": "CcgrCxCO2vyM"
      },
      "source": [
        "track_table = pd.read_csv(\"cleaned_tracks_both.csv\")\n",
        "track_table.dropna(inplace=True)"
      ],
      "execution_count": 2,
      "outputs": []
    },
    {
      "cell_type": "markdown",
      "metadata": {
        "id": "BT4Ypz7uXwQ3"
      },
      "source": [
        "A quick reminder about the number of tracks per genre:"
      ]
    },
    {
      "cell_type": "code",
      "metadata": {
        "id": "pWRXVENGU83A",
        "colab": {
          "base_uri": "https://localhost:8080/"
        },
        "outputId": "c2e1fa52-d620-4f77-9195-edf113e65ac2"
      },
      "source": [
        "track_table.groupby(\"master_popular_genre\").track_id.count()"
      ],
      "execution_count": 3,
      "outputs": [
        {
          "output_type": "execute_result",
          "data": {
            "text/plain": [
              "master_popular_genre\n",
              "country    10005\n",
              "hiphop     10728\n",
              "house       6529\n",
              "indie       7673\n",
              "pop        17277\n",
              "r&b         5505\n",
              "rock        8967\n",
              "Name: track_id, dtype: int64"
            ]
          },
          "metadata": {
            "tags": []
          },
          "execution_count": 3
        }
      ]
    },
    {
      "cell_type": "code",
      "metadata": {
        "id": "_gkiZCar4Wmh"
      },
      "source": [
        "numerics = ['int16', 'int32', 'int64', 'float16', 'float32', 'float64']\n",
        "data_numerics = pd.concat([track_table.select_dtypes(include=[np.number]),track_table['master_popular_genre']],axis=1, sort=False)"
      ],
      "execution_count": 4,
      "outputs": []
    },
    {
      "cell_type": "markdown",
      "metadata": {
        "id": "YwKGxy9jX17Y"
      },
      "source": [
        "One more look at the data:"
      ]
    },
    {
      "cell_type": "code",
      "metadata": {
        "id": "0JwHpKEd4XM1",
        "colab": {
          "base_uri": "https://localhost:8080/",
          "height": 225
        },
        "outputId": "7c4f3568-484e-4cc7-e796-a19edda1bf76"
      },
      "source": [
        "track_table_dummies = pd.get_dummies(data_numerics,columns=['key','time_signature',],drop_first=True)\n",
        "track_table_dummies = track_table_dummies.drop('loudness', axis=1)\n",
        "track_table_dummies.head()"
      ],
      "execution_count": 5,
      "outputs": [
        {
          "output_type": "execute_result",
          "data": {
            "text/html": [
              "<div>\n",
              "<style scoped>\n",
              "    .dataframe tbody tr th:only-of-type {\n",
              "        vertical-align: middle;\n",
              "    }\n",
              "\n",
              "    .dataframe tbody tr th {\n",
              "        vertical-align: top;\n",
              "    }\n",
              "\n",
              "    .dataframe thead th {\n",
              "        text-align: right;\n",
              "    }\n",
              "</style>\n",
              "<table border=\"1\" class=\"dataframe\">\n",
              "  <thead>\n",
              "    <tr style=\"text-align: right;\">\n",
              "      <th></th>\n",
              "      <th>track_pop</th>\n",
              "      <th>track_year</th>\n",
              "      <th>duration_ms</th>\n",
              "      <th>energy</th>\n",
              "      <th>speechiness</th>\n",
              "      <th>acousticness</th>\n",
              "      <th>mode</th>\n",
              "      <th>tempo</th>\n",
              "      <th>valence</th>\n",
              "      <th>danceability</th>\n",
              "      <th>instrumentalness</th>\n",
              "      <th>liveness</th>\n",
              "      <th>master_popular_genre</th>\n",
              "      <th>key_1</th>\n",
              "      <th>key_2</th>\n",
              "      <th>key_3</th>\n",
              "      <th>key_4</th>\n",
              "      <th>key_5</th>\n",
              "      <th>key_6</th>\n",
              "      <th>key_7</th>\n",
              "      <th>key_8</th>\n",
              "      <th>key_9</th>\n",
              "      <th>key_10</th>\n",
              "      <th>key_11</th>\n",
              "      <th>time_signature_1</th>\n",
              "      <th>time_signature_3</th>\n",
              "      <th>time_signature_4</th>\n",
              "      <th>time_signature_5</th>\n",
              "    </tr>\n",
              "  </thead>\n",
              "  <tbody>\n",
              "    <tr>\n",
              "      <th>0</th>\n",
              "      <td>50</td>\n",
              "      <td>2011</td>\n",
              "      <td>247010</td>\n",
              "      <td>0.41200</td>\n",
              "      <td>0.0357</td>\n",
              "      <td>0.94300</td>\n",
              "      <td>1</td>\n",
              "      <td>88.113</td>\n",
              "      <td>0.193</td>\n",
              "      <td>0.167</td>\n",
              "      <td>0.000121</td>\n",
              "      <td>0.7570</td>\n",
              "      <td>pop</td>\n",
              "      <td>0</td>\n",
              "      <td>1</td>\n",
              "      <td>0</td>\n",
              "      <td>0</td>\n",
              "      <td>0</td>\n",
              "      <td>0</td>\n",
              "      <td>0</td>\n",
              "      <td>0</td>\n",
              "      <td>0</td>\n",
              "      <td>0</td>\n",
              "      <td>0</td>\n",
              "      <td>0</td>\n",
              "      <td>0</td>\n",
              "      <td>1</td>\n",
              "      <td>0</td>\n",
              "    </tr>\n",
              "    <tr>\n",
              "      <th>1</th>\n",
              "      <td>44</td>\n",
              "      <td>2011</td>\n",
              "      <td>353667</td>\n",
              "      <td>0.72700</td>\n",
              "      <td>0.0462</td>\n",
              "      <td>0.03010</td>\n",
              "      <td>0</td>\n",
              "      <td>87.349</td>\n",
              "      <td>0.391</td>\n",
              "      <td>0.485</td>\n",
              "      <td>0.758000</td>\n",
              "      <td>0.1630</td>\n",
              "      <td>rock</td>\n",
              "      <td>0</td>\n",
              "      <td>0</td>\n",
              "      <td>0</td>\n",
              "      <td>0</td>\n",
              "      <td>0</td>\n",
              "      <td>0</td>\n",
              "      <td>0</td>\n",
              "      <td>0</td>\n",
              "      <td>0</td>\n",
              "      <td>0</td>\n",
              "      <td>1</td>\n",
              "      <td>0</td>\n",
              "      <td>0</td>\n",
              "      <td>1</td>\n",
              "      <td>0</td>\n",
              "    </tr>\n",
              "    <tr>\n",
              "      <th>2</th>\n",
              "      <td>37</td>\n",
              "      <td>2011</td>\n",
              "      <td>163000</td>\n",
              "      <td>0.00385</td>\n",
              "      <td>0.0449</td>\n",
              "      <td>0.99500</td>\n",
              "      <td>0</td>\n",
              "      <td>141.201</td>\n",
              "      <td>0.117</td>\n",
              "      <td>0.228</td>\n",
              "      <td>0.917000</td>\n",
              "      <td>0.0858</td>\n",
              "      <td>rock</td>\n",
              "      <td>0</td>\n",
              "      <td>0</td>\n",
              "      <td>0</td>\n",
              "      <td>0</td>\n",
              "      <td>0</td>\n",
              "      <td>0</td>\n",
              "      <td>0</td>\n",
              "      <td>0</td>\n",
              "      <td>1</td>\n",
              "      <td>0</td>\n",
              "      <td>0</td>\n",
              "      <td>0</td>\n",
              "      <td>1</td>\n",
              "      <td>0</td>\n",
              "      <td>0</td>\n",
              "    </tr>\n",
              "    <tr>\n",
              "      <th>3</th>\n",
              "      <td>41</td>\n",
              "      <td>2011</td>\n",
              "      <td>253991</td>\n",
              "      <td>0.30500</td>\n",
              "      <td>0.0318</td>\n",
              "      <td>0.93600</td>\n",
              "      <td>1</td>\n",
              "      <td>85.786</td>\n",
              "      <td>0.446</td>\n",
              "      <td>0.230</td>\n",
              "      <td>0.000002</td>\n",
              "      <td>0.7440</td>\n",
              "      <td>pop</td>\n",
              "      <td>0</td>\n",
              "      <td>0</td>\n",
              "      <td>0</td>\n",
              "      <td>0</td>\n",
              "      <td>0</td>\n",
              "      <td>0</td>\n",
              "      <td>1</td>\n",
              "      <td>0</td>\n",
              "      <td>0</td>\n",
              "      <td>0</td>\n",
              "      <td>0</td>\n",
              "      <td>0</td>\n",
              "      <td>1</td>\n",
              "      <td>0</td>\n",
              "      <td>0</td>\n",
              "    </tr>\n",
              "    <tr>\n",
              "      <th>4</th>\n",
              "      <td>42</td>\n",
              "      <td>2011</td>\n",
              "      <td>294613</td>\n",
              "      <td>0.95400</td>\n",
              "      <td>0.0607</td>\n",
              "      <td>0.00894</td>\n",
              "      <td>0</td>\n",
              "      <td>163.995</td>\n",
              "      <td>0.287</td>\n",
              "      <td>0.454</td>\n",
              "      <td>0.000000</td>\n",
              "      <td>0.0659</td>\n",
              "      <td>rock</td>\n",
              "      <td>0</td>\n",
              "      <td>0</td>\n",
              "      <td>1</td>\n",
              "      <td>0</td>\n",
              "      <td>0</td>\n",
              "      <td>0</td>\n",
              "      <td>0</td>\n",
              "      <td>0</td>\n",
              "      <td>0</td>\n",
              "      <td>0</td>\n",
              "      <td>0</td>\n",
              "      <td>0</td>\n",
              "      <td>0</td>\n",
              "      <td>1</td>\n",
              "      <td>0</td>\n",
              "    </tr>\n",
              "  </tbody>\n",
              "</table>\n",
              "</div>"
            ],
            "text/plain": [
              "   track_pop  track_year  ...  time_signature_4  time_signature_5\n",
              "0         50        2011  ...                 1                 0\n",
              "1         44        2011  ...                 1                 0\n",
              "2         37        2011  ...                 0                 0\n",
              "3         41        2011  ...                 0                 0\n",
              "4         42        2011  ...                 1                 0\n",
              "\n",
              "[5 rows x 28 columns]"
            ]
          },
          "metadata": {
            "tags": []
          },
          "execution_count": 5
        }
      ]
    },
    {
      "cell_type": "code",
      "metadata": {
        "id": "50PsH8ALACJ8"
      },
      "source": [
        "#move genre to front\n",
        "genre = track_table_dummies['master_popular_genre']\n",
        "track_table_dummies.drop('master_popular_genre', axis=1,inplace = True)\n",
        "track_table_dummies.insert(0, 'master_popular_genre', genre)"
      ],
      "execution_count": 6,
      "outputs": []
    },
    {
      "cell_type": "code",
      "metadata": {
        "id": "D5tk5mj4AtlX",
        "colab": {
          "base_uri": "https://localhost:8080/",
          "height": 225
        },
        "outputId": "f96fb5a3-d7b8-4f54-9537-794778114135"
      },
      "source": [
        "track_table_dummies.head()"
      ],
      "execution_count": 7,
      "outputs": [
        {
          "output_type": "execute_result",
          "data": {
            "text/html": [
              "<div>\n",
              "<style scoped>\n",
              "    .dataframe tbody tr th:only-of-type {\n",
              "        vertical-align: middle;\n",
              "    }\n",
              "\n",
              "    .dataframe tbody tr th {\n",
              "        vertical-align: top;\n",
              "    }\n",
              "\n",
              "    .dataframe thead th {\n",
              "        text-align: right;\n",
              "    }\n",
              "</style>\n",
              "<table border=\"1\" class=\"dataframe\">\n",
              "  <thead>\n",
              "    <tr style=\"text-align: right;\">\n",
              "      <th></th>\n",
              "      <th>master_popular_genre</th>\n",
              "      <th>track_pop</th>\n",
              "      <th>track_year</th>\n",
              "      <th>duration_ms</th>\n",
              "      <th>energy</th>\n",
              "      <th>speechiness</th>\n",
              "      <th>acousticness</th>\n",
              "      <th>mode</th>\n",
              "      <th>tempo</th>\n",
              "      <th>valence</th>\n",
              "      <th>danceability</th>\n",
              "      <th>instrumentalness</th>\n",
              "      <th>liveness</th>\n",
              "      <th>key_1</th>\n",
              "      <th>key_2</th>\n",
              "      <th>key_3</th>\n",
              "      <th>key_4</th>\n",
              "      <th>key_5</th>\n",
              "      <th>key_6</th>\n",
              "      <th>key_7</th>\n",
              "      <th>key_8</th>\n",
              "      <th>key_9</th>\n",
              "      <th>key_10</th>\n",
              "      <th>key_11</th>\n",
              "      <th>time_signature_1</th>\n",
              "      <th>time_signature_3</th>\n",
              "      <th>time_signature_4</th>\n",
              "      <th>time_signature_5</th>\n",
              "    </tr>\n",
              "  </thead>\n",
              "  <tbody>\n",
              "    <tr>\n",
              "      <th>0</th>\n",
              "      <td>pop</td>\n",
              "      <td>50</td>\n",
              "      <td>2011</td>\n",
              "      <td>247010</td>\n",
              "      <td>0.41200</td>\n",
              "      <td>0.0357</td>\n",
              "      <td>0.94300</td>\n",
              "      <td>1</td>\n",
              "      <td>88.113</td>\n",
              "      <td>0.193</td>\n",
              "      <td>0.167</td>\n",
              "      <td>0.000121</td>\n",
              "      <td>0.7570</td>\n",
              "      <td>0</td>\n",
              "      <td>1</td>\n",
              "      <td>0</td>\n",
              "      <td>0</td>\n",
              "      <td>0</td>\n",
              "      <td>0</td>\n",
              "      <td>0</td>\n",
              "      <td>0</td>\n",
              "      <td>0</td>\n",
              "      <td>0</td>\n",
              "      <td>0</td>\n",
              "      <td>0</td>\n",
              "      <td>0</td>\n",
              "      <td>1</td>\n",
              "      <td>0</td>\n",
              "    </tr>\n",
              "    <tr>\n",
              "      <th>1</th>\n",
              "      <td>rock</td>\n",
              "      <td>44</td>\n",
              "      <td>2011</td>\n",
              "      <td>353667</td>\n",
              "      <td>0.72700</td>\n",
              "      <td>0.0462</td>\n",
              "      <td>0.03010</td>\n",
              "      <td>0</td>\n",
              "      <td>87.349</td>\n",
              "      <td>0.391</td>\n",
              "      <td>0.485</td>\n",
              "      <td>0.758000</td>\n",
              "      <td>0.1630</td>\n",
              "      <td>0</td>\n",
              "      <td>0</td>\n",
              "      <td>0</td>\n",
              "      <td>0</td>\n",
              "      <td>0</td>\n",
              "      <td>0</td>\n",
              "      <td>0</td>\n",
              "      <td>0</td>\n",
              "      <td>0</td>\n",
              "      <td>0</td>\n",
              "      <td>1</td>\n",
              "      <td>0</td>\n",
              "      <td>0</td>\n",
              "      <td>1</td>\n",
              "      <td>0</td>\n",
              "    </tr>\n",
              "    <tr>\n",
              "      <th>2</th>\n",
              "      <td>rock</td>\n",
              "      <td>37</td>\n",
              "      <td>2011</td>\n",
              "      <td>163000</td>\n",
              "      <td>0.00385</td>\n",
              "      <td>0.0449</td>\n",
              "      <td>0.99500</td>\n",
              "      <td>0</td>\n",
              "      <td>141.201</td>\n",
              "      <td>0.117</td>\n",
              "      <td>0.228</td>\n",
              "      <td>0.917000</td>\n",
              "      <td>0.0858</td>\n",
              "      <td>0</td>\n",
              "      <td>0</td>\n",
              "      <td>0</td>\n",
              "      <td>0</td>\n",
              "      <td>0</td>\n",
              "      <td>0</td>\n",
              "      <td>0</td>\n",
              "      <td>0</td>\n",
              "      <td>1</td>\n",
              "      <td>0</td>\n",
              "      <td>0</td>\n",
              "      <td>0</td>\n",
              "      <td>1</td>\n",
              "      <td>0</td>\n",
              "      <td>0</td>\n",
              "    </tr>\n",
              "    <tr>\n",
              "      <th>3</th>\n",
              "      <td>pop</td>\n",
              "      <td>41</td>\n",
              "      <td>2011</td>\n",
              "      <td>253991</td>\n",
              "      <td>0.30500</td>\n",
              "      <td>0.0318</td>\n",
              "      <td>0.93600</td>\n",
              "      <td>1</td>\n",
              "      <td>85.786</td>\n",
              "      <td>0.446</td>\n",
              "      <td>0.230</td>\n",
              "      <td>0.000002</td>\n",
              "      <td>0.7440</td>\n",
              "      <td>0</td>\n",
              "      <td>0</td>\n",
              "      <td>0</td>\n",
              "      <td>0</td>\n",
              "      <td>0</td>\n",
              "      <td>0</td>\n",
              "      <td>1</td>\n",
              "      <td>0</td>\n",
              "      <td>0</td>\n",
              "      <td>0</td>\n",
              "      <td>0</td>\n",
              "      <td>0</td>\n",
              "      <td>1</td>\n",
              "      <td>0</td>\n",
              "      <td>0</td>\n",
              "    </tr>\n",
              "    <tr>\n",
              "      <th>4</th>\n",
              "      <td>rock</td>\n",
              "      <td>42</td>\n",
              "      <td>2011</td>\n",
              "      <td>294613</td>\n",
              "      <td>0.95400</td>\n",
              "      <td>0.0607</td>\n",
              "      <td>0.00894</td>\n",
              "      <td>0</td>\n",
              "      <td>163.995</td>\n",
              "      <td>0.287</td>\n",
              "      <td>0.454</td>\n",
              "      <td>0.000000</td>\n",
              "      <td>0.0659</td>\n",
              "      <td>0</td>\n",
              "      <td>0</td>\n",
              "      <td>1</td>\n",
              "      <td>0</td>\n",
              "      <td>0</td>\n",
              "      <td>0</td>\n",
              "      <td>0</td>\n",
              "      <td>0</td>\n",
              "      <td>0</td>\n",
              "      <td>0</td>\n",
              "      <td>0</td>\n",
              "      <td>0</td>\n",
              "      <td>0</td>\n",
              "      <td>1</td>\n",
              "      <td>0</td>\n",
              "    </tr>\n",
              "  </tbody>\n",
              "</table>\n",
              "</div>"
            ],
            "text/plain": [
              "  master_popular_genre  track_pop  ...  time_signature_4  time_signature_5\n",
              "0                  pop         50  ...                 1                 0\n",
              "1                 rock         44  ...                 1                 0\n",
              "2                 rock         37  ...                 0                 0\n",
              "3                  pop         41  ...                 0                 0\n",
              "4                 rock         42  ...                 1                 0\n",
              "\n",
              "[5 rows x 28 columns]"
            ]
          },
          "metadata": {
            "tags": []
          },
          "execution_count": 7
        }
      ]
    },
    {
      "cell_type": "code",
      "metadata": {
        "id": "itSs59Ct9Jj5"
      },
      "source": [
        "X = track_table_dummies.iloc[:,1:]\n",
        "y = track_table_dummies.iloc[:,0]\n",
        "\n",
        "X_train, X_test, y_train, y_test = train_test_split(X, y, test_size=0.33, random_state=42)"
      ],
      "execution_count": 8,
      "outputs": []
    },
    {
      "cell_type": "markdown",
      "metadata": {
        "id": "17KwZntnY3Rz"
      },
      "source": [
        "Here are the 7 possible genre classifications:"
      ]
    },
    {
      "cell_type": "code",
      "metadata": {
        "id": "_hBW-wtdFTXv",
        "colab": {
          "base_uri": "https://localhost:8080/"
        },
        "outputId": "d88605c2-c3e9-40c1-9cb8-95d559304f30"
      },
      "source": [
        "print(\"Genres:\",y_train.unique())"
      ],
      "execution_count": 9,
      "outputs": [
        {
          "output_type": "stream",
          "text": [
            "Genres: ['house' 'pop' 'hiphop' 'r&b' 'country' 'rock' 'indie']\n"
          ],
          "name": "stdout"
        }
      ]
    },
    {
      "cell_type": "markdown",
      "metadata": {
        "id": "GPeTRM4caLjj"
      },
      "source": [
        "## Training the model:\n",
        "Piggybacking off the success of the Gradient Boost from the previous exploration, I chose to try a Gradient Boost classifier first for the multi-class classification. I chose not to vary a ton of parameters here, as it took 5-10 minutes per iteration. With cross-validation and a grid search of 3-4 different variables, this optimization takes hours."
      ]
    },
    {
      "cell_type": "code",
      "metadata": {
        "id": "oURyx-jh74-m"
      },
      "source": [
        "from sklearn.ensemble import GradientBoostingClassifier"
      ],
      "execution_count": 10,
      "outputs": []
    },
    {
      "cell_type": "code",
      "metadata": {
        "id": "WNo1ESMdP-jc",
        "colab": {
          "base_uri": "https://localhost:8080/"
        },
        "outputId": "6658ee0b-bc1e-4a35-ff54-a1e43754768e"
      },
      "source": [
        "gb_param_grid = {\n",
        "       #'n_estimators': range(350, 700, 100),\n",
        "       'n_estimators': [650],\n",
        "       #'max_depth':range(3,8),\n",
        "       'max_depth':[6],\n",
        "       #'learning_rate' : [0.1,0.3],\n",
        "       'learning_rate' : [0.1],\n",
        "       #'min_samples_split': [0.05, 0.1]\n",
        "       'min_samples_split': [0.05]\n",
        "\n",
        "}\n",
        "#grid = GridSearchCV(GradientBoostingClassifier(), gb_param_grid, cv=3, verbose=2).fit(X_train, y_train)\n",
        "grid = GridSearchCV(GradientBoostingClassifier(), gb_param_grid, cv=2, verbose=2).fit(X_train, y_train)\n",
        "\n",
        "\n",
        "# summarize the results of the grid search\n",
        "print(\"The best score is {}\".format(grid.best_score_))\n",
        "print(\"The best hyper parameter setting is {}\".format(grid.best_params_))\n",
        "print(\"Model Accuracy:\", accuracy_score(y_test,grid.predict(X_test)))"
      ],
      "execution_count": 11,
      "outputs": [
        {
          "output_type": "stream",
          "text": [
            "Fitting 2 folds for each of 1 candidates, totalling 2 fits\n",
            "[CV] learning_rate=0.1, max_depth=6, min_samples_split=0.05, n_estimators=650 \n"
          ],
          "name": "stdout"
        },
        {
          "output_type": "stream",
          "text": [
            "[Parallel(n_jobs=1)]: Using backend SequentialBackend with 1 concurrent workers.\n"
          ],
          "name": "stderr"
        },
        {
          "output_type": "stream",
          "text": [
            "[CV]  learning_rate=0.1, max_depth=6, min_samples_split=0.05, n_estimators=650, total=10.9min\n",
            "[CV] learning_rate=0.1, max_depth=6, min_samples_split=0.05, n_estimators=650 \n"
          ],
          "name": "stdout"
        },
        {
          "output_type": "stream",
          "text": [
            "[Parallel(n_jobs=1)]: Done   1 out of   1 | elapsed: 10.9min remaining:    0.0s\n"
          ],
          "name": "stderr"
        },
        {
          "output_type": "stream",
          "text": [
            "[CV]  learning_rate=0.1, max_depth=6, min_samples_split=0.05, n_estimators=650, total=10.8min\n"
          ],
          "name": "stdout"
        },
        {
          "output_type": "stream",
          "text": [
            "[Parallel(n_jobs=1)]: Done   2 out of   2 | elapsed: 21.7min finished\n"
          ],
          "name": "stderr"
        },
        {
          "output_type": "stream",
          "text": [
            "The best score is 0.5811808943999284\n",
            "The best hyper parameter setting is {'learning_rate': 0.1, 'max_depth': 6, 'min_samples_split': 0.05, 'n_estimators': 650}\n",
            "Model Accuracy: 0.592883758974825\n"
          ],
          "name": "stdout"
        }
      ]
    },
    {
      "cell_type": "code",
      "metadata": {
        "id": "XnFrEBKxdD7k"
      },
      "source": [
        "def print_accuracy(genre_index):\n",
        "  print(\"Accuracy predicting\", genre_order[genre_index], \":\", conf_matrix[genre_index,genre_index]/(sum(conf_matrix[genre_index,:])))"
      ],
      "execution_count": 12,
      "outputs": []
    },
    {
      "cell_type": "code",
      "metadata": {
        "id": "W69ak9o_4KYV",
        "colab": {
          "base_uri": "https://localhost:8080/",
          "height": 719
        },
        "outputId": "184794b1-7ec6-42fc-b8e7-2e525766da2a"
      },
      "source": [
        "from sklearn.metrics import confusion_matrix\n",
        "from sklearn.metrics import plot_confusion_matrix\n",
        "import matplotlib.pyplot as plt\n",
        "import seaborn as sns\n",
        "genre_order = ['country', 'hiphop', 'house', 'indie', 'pop', 'r&b', 'rock']\n",
        "\n",
        "conf_matrix = confusion_matrix(y_test, grid.predict(X_test), labels=genre_order)\n",
        "fig, ax = plt.subplots(figsize=(10, 10))\n",
        "print(plot_confusion_matrix(X=X_test,y_true=y_test, labels=genre_order,estimator=grid, ax=ax,values_format = 'd'))\n",
        "for i in range(0,len(genre_order)):\n",
        "  print_accuracy(i)\n",
        "#print(\"Accuracy predicting Country:\", conf_matrix[0,0]/(sum(conf_matrix[0,:])))\n",
        "#print(\"Accuracy predicting HipHop:\", conf_matrix[1,1]/(sum(conf_matrix[1,:])))\n",
        "#print(\"Accuracy predicting House:\", conf_matrix[2,2]/(sum(conf_matrix[2,:])))\n",
        "#print(\"Accuracy predicting Indie:\", conf_matrix[3,3]/(sum(conf_matrix[3,:])))\n",
        "#print(\"Accuracy predicting Pop:\", conf_matrix[4,4]/(sum(conf_matrix[4,:])))\n",
        "#print(\"Accuracy predicting R&B:\", conf_matrix[5,5]/(sum(conf_matrix[5,:])))\n",
        "#print(\"Accuracy predicting Rock:\", conf_matrix[6,6]/(sum(conf_matrix[6,:])))"
      ],
      "execution_count": 13,
      "outputs": [
        {
          "output_type": "stream",
          "text": [
            "<sklearn.metrics._plot.confusion_matrix.ConfusionMatrixDisplay object at 0x7fee56e3c210>\n",
            "Accuracy predicting country : 0.7239927841250752\n",
            "Accuracy predicting hiphop : 0.6996537795729948\n",
            "Accuracy predicting house : 0.6511305952930319\n",
            "Accuracy predicting indie : 0.49236058059587473\n",
            "Accuracy predicting pop : 0.5746439247406365\n",
            "Accuracy predicting r&b : 0.4085603112840467\n",
            "Accuracy predicting rock : 0.5134216785592932\n"
          ],
          "name": "stdout"
        },
        {
          "output_type": "display_data",
          "data": {
            "image/png": "[encoded data removed]",
            "text/plain": [
              "<Figure size 720x720 with 2 Axes>"
            ]
          },
          "metadata": {
            "tags": [],
            "needs_background": "light"
          }
        }
      ]
    },
    {
      "cell_type": "code",
      "metadata": {
        "colab": {
          "base_uri": "https://localhost:8080/"
        },
        "id": "F8LKRpKey5UZ",
        "outputId": "2c661ce6-1775-4f39-a6f9-54ddc034d131"
      },
      "source": [
        "array= conf_matrix.astype('float') / conf_matrix.sum(axis=1)[:, np.newaxis]\n",
        "type(array)\n",
        "#sns.heatmap(array)"
      ],
      "execution_count": 14,
      "outputs": [
        {
          "output_type": "execute_result",
          "data": {
            "text/plain": [
              "numpy.ndarray"
            ]
          },
          "metadata": {
            "tags": []
          },
          "execution_count": 14
        }
      ]
    },
    {
      "cell_type": "code",
      "metadata": {
        "colab": {
          "base_uri": "https://localhost:8080/",
          "height": 639
        },
        "id": "_s7rqXfWpZLt",
        "outputId": "831e19b4-ff45-4930-f47a-0a9eb596c64a"
      },
      "source": [
        "fig, ax = plt.subplots(figsize=(12,10)) \n",
        "\n",
        "sns.heatmap(conf_matrix.astype('float') / conf_matrix.sum(axis=1)[:, np.newaxis], annot=True,fmt='.2%', cmap='Blues',xticklabels=genre_order,yticklabels=genre_order, ax=ax)\n",
        "ax.set(xlabel='Predicted Genre', ylabel='True Genre')\n",
        "ax.set_title(\"Proportional Genre Confusion Matrix\")"
      ],
      "execution_count": 16,
      "outputs": [
        {
          "output_type": "execute_result",
          "data": {
            "text/plain": [
              "Text(0.5, 1.0, 'Proportional Genre Confusion Matrix')"
            ]
          },
          "metadata": {
            "tags": []
          },
          "execution_count": 16
        },
        {
          "output_type": "display_data",
          "data": {
            "image/png": "[encoded data removed]",
            "text/plain": [
              "<Figure size 864x720 with 2 Axes>"
            ]
          },
          "metadata": {
            "tags": [],
            "needs_background": "light"
          }
        }
      ]
    },
    {
      "cell_type": "code",
      "metadata": {
        "id": "M-U3rTrBIU1O"
      },
      "source": [
        "for count,genre_preds in enumerate(conf_matrix):\n",
        "  print(\"True Genre:\", genre_order[count])\n",
        "  genre_preds[list(genre_preds).index(max(genre_preds))] = 0\n",
        "  incorrect_guess = genre_order[list(genre_preds).index(max(genre_preds))]\n",
        "  print(\"Most Common Incorrect Prediction:\", incorrect_guess)\n",
        "  print(\"Percent of All Incorrect Predictions as\", incorrect_guess, (max(genre_preds) / sum(genre_preds)))\n",
        "  print()"
      ],
      "execution_count": null,
      "outputs": []
    },
    {
      "cell_type": "code",
      "metadata": {
        "id": "vFNNttCe9JE1"
      },
      "source": [
        "# Add prediction of 2nd highest probability genre\n",
        "two_preds = []\n",
        "for prediction in grid.predict_proba(X_test):\n",
        "  prediction = list(prediction)\n",
        "  two_maxes = []\n",
        "  two_maxes.append(prediction.index(max(prediction)))\n",
        "  prediction[prediction.index(max(prediction))] = 0\n",
        "  two_maxes.append(prediction.index(max(prediction)))\n",
        "  two_preds.append(two_maxes)"
      ],
      "execution_count": 59,
      "outputs": []
    },
    {
      "cell_type": "code",
      "metadata": {
        "id": "m_FSe5aACDQo"
      },
      "source": [
        "# Convert probability to genre name\n",
        "for pred in two_preds:\n",
        "  pred[0] = genre_order[pred[0]]\n",
        "  pred[1] = genre_order[pred[1]]"
      ],
      "execution_count": 60,
      "outputs": []
    },
    {
      "cell_type": "code",
      "metadata": {
        "id": "C1yRLa6BKUIP"
      },
      "source": [
        "# Create list to evaluate accuracy\n",
        "in_list = []\n",
        "for i in range(0,len(two_preds)):\n",
        "  in_list.append(int(list(y_test)[i] in two_preds[i]))"
      ],
      "execution_count": 61,
      "outputs": []
    },
    {
      "cell_type": "code",
      "metadata": {
        "id": "OsOWRCPTLmDo",
        "colab": {
          "base_uri": "https://localhost:8080/"
        },
        "outputId": "8e8cbd27-e32f-497a-e9ee-4603d8e44394"
      },
      "source": [
        "print(\"Accuracy:\" , sum(in_list) / len(in_list))"
      ],
      "execution_count": 62,
      "outputs": [
        {
          "output_type": "stream",
          "text": [
            "Accuracy: 0.8414017650586925\n"
          ],
          "name": "stdout"
        }
      ]
    },
    {
      "cell_type": "code",
      "metadata": {
        "id": "7sTdSCGeMOB5"
      },
      "source": [
        "pred_correctly = []\n",
        "true_genre = []\n",
        "predicted_genre = []\n",
        "\n",
        "for i in range(0,len(y_test)):\n",
        "  pred_correctly.append(in_list[i])\n",
        "  true_genre.append(list(y_test)[i])\n",
        "  predicted_genre.append(two_preds[i])\n",
        "\n",
        "prediction_frame = pd.DataFrame({\"Predicted_Correctly\":pred_correctly,\n",
        "                                 \"True Genre\": true_genre,\n",
        "                                 \"Predicted Genres\": predicted_genre,\n",
        "                                 \"Track Name\": track_table.track_name[y_test.index],\n",
        "                                 \"Artist Name\": track_table.art_name[y_test.index]})"
      ],
      "execution_count": 22,
      "outputs": []
    },
    {
      "cell_type": "code",
      "metadata": {
        "id": "tvFTh_EJPZoe",
        "colab": {
          "base_uri": "https://localhost:8080/",
          "height": 422
        },
        "outputId": "ea5a7af9-1d40-410d-d802-7c1f13381307"
      },
      "source": [
        "display(prediction_frame[prediction_frame.Predicted_Correctly == 0])"
      ],
      "execution_count": 23,
      "outputs": [
        {
          "output_type": "display_data",
          "data": {
            "text/html": [
              "<div>\n",
              "<style scoped>\n",
              "    .dataframe tbody tr th:only-of-type {\n",
              "        vertical-align: middle;\n",
              "    }\n",
              "\n",
              "    .dataframe tbody tr th {\n",
              "        vertical-align: top;\n",
              "    }\n",
              "\n",
              "    .dataframe thead th {\n",
              "        text-align: right;\n",
              "    }\n",
              "</style>\n",
              "<table border=\"1\" class=\"dataframe\">\n",
              "  <thead>\n",
              "    <tr style=\"text-align: right;\">\n",
              "      <th></th>\n",
              "      <th>Predicted_Correctly</th>\n",
              "      <th>True Genre</th>\n",
              "      <th>Predicted Genres</th>\n",
              "      <th>Track Name</th>\n",
              "      <th>Artist Name</th>\n",
              "    </tr>\n",
              "  </thead>\n",
              "  <tbody>\n",
              "    <tr>\n",
              "      <th>2885</th>\n",
              "      <td>0</td>\n",
              "      <td>country</td>\n",
              "      <td>[hiphop, pop]</td>\n",
              "      <td>Smoke Stack</td>\n",
              "      <td>The Lacs</td>\n",
              "    </tr>\n",
              "    <tr>\n",
              "      <th>52843</th>\n",
              "      <td>0</td>\n",
              "      <td>hiphop</td>\n",
              "      <td>[house, country]</td>\n",
              "      <td>Tattoo</td>\n",
              "      <td>Kevin Abstract</td>\n",
              "    </tr>\n",
              "    <tr>\n",
              "      <th>34983</th>\n",
              "      <td>0</td>\n",
              "      <td>pop</td>\n",
              "      <td>[rock, country]</td>\n",
              "      <td>Start A Riot</td>\n",
              "      <td>BANNERS</td>\n",
              "    </tr>\n",
              "    <tr>\n",
              "      <th>65658</th>\n",
              "      <td>0</td>\n",
              "      <td>rock</td>\n",
              "      <td>[country, pop]</td>\n",
              "      <td>Midnight Thoughts</td>\n",
              "      <td>Set It Off</td>\n",
              "    </tr>\n",
              "    <tr>\n",
              "      <th>57048</th>\n",
              "      <td>0</td>\n",
              "      <td>r&amp;b</td>\n",
              "      <td>[pop, hiphop]</td>\n",
              "      <td>Dingo X BIBI - she got it</td>\n",
              "      <td>BIBI</td>\n",
              "    </tr>\n",
              "    <tr>\n",
              "      <th>...</th>\n",
              "      <td>...</td>\n",
              "      <td>...</td>\n",
              "      <td>...</td>\n",
              "      <td>...</td>\n",
              "      <td>...</td>\n",
              "    </tr>\n",
              "    <tr>\n",
              "      <th>32184</th>\n",
              "      <td>0</td>\n",
              "      <td>pop</td>\n",
              "      <td>[rock, country]</td>\n",
              "      <td>Breathless</td>\n",
              "      <td>Small Black</td>\n",
              "    </tr>\n",
              "    <tr>\n",
              "      <th>7861</th>\n",
              "      <td>0</td>\n",
              "      <td>country</td>\n",
              "      <td>[pop, r&amp;b]</td>\n",
              "      <td>Mother</td>\n",
              "      <td>Sugarland</td>\n",
              "    </tr>\n",
              "    <tr>\n",
              "      <th>19231</th>\n",
              "      <td>0</td>\n",
              "      <td>hiphop</td>\n",
              "      <td>[pop, rock]</td>\n",
              "      <td>I've Been Waiting (feat. ILOVEMAKONNEN) - Orig...</td>\n",
              "      <td>Lil Peep</td>\n",
              "    </tr>\n",
              "    <tr>\n",
              "      <th>9693</th>\n",
              "      <td>0</td>\n",
              "      <td>country</td>\n",
              "      <td>[pop, r&amp;b]</td>\n",
              "      <td>A ROCK</td>\n",
              "      <td>HARDY</td>\n",
              "    </tr>\n",
              "    <tr>\n",
              "      <th>31310</th>\n",
              "      <td>0</td>\n",
              "      <td>indie</td>\n",
              "      <td>[rock, pop]</td>\n",
              "      <td>We Must Be Killers</td>\n",
              "      <td>Mikky Ekko</td>\n",
              "    </tr>\n",
              "  </tbody>\n",
              "</table>\n",
              "<p>4535 rows × 5 columns</p>\n",
              "</div>"
            ],
            "text/plain": [
              "       Predicted_Correctly  ...     Artist Name\n",
              "2885                     0  ...        The Lacs\n",
              "52843                    0  ...  Kevin Abstract\n",
              "34983                    0  ...         BANNERS\n",
              "65658                    0  ...      Set It Off\n",
              "57048                    0  ...            BIBI\n",
              "...                    ...  ...             ...\n",
              "32184                    0  ...     Small Black\n",
              "7861                     0  ...       Sugarland\n",
              "19231                    0  ...        Lil Peep\n",
              "9693                     0  ...           HARDY\n",
              "31310                    0  ...      Mikky Ekko\n",
              "\n",
              "[4535 rows x 5 columns]"
            ]
          },
          "metadata": {
            "tags": []
          }
        }
      ]
    },
    {
      "cell_type": "markdown",
      "metadata": {
        "id": "fQsyAPmWf8kt"
      },
      "source": [
        "Rebalance dataset, try again:"
      ]
    },
    {
      "cell_type": "code",
      "metadata": {
        "id": "F7nXAN696jzl"
      },
      "source": [
        "from sklearn.utils import resample"
      ],
      "execution_count": 24,
      "outputs": []
    },
    {
      "cell_type": "code",
      "metadata": {
        "colab": {
          "base_uri": "https://localhost:8080/"
        },
        "id": "wZpmH_5wgHvj",
        "outputId": "c0e98a3a-17b6-4be2-d45a-651becc8ef24"
      },
      "source": [
        "df_nonpop = track_table_dummies[track_table_dummies['master_popular_genre']!='pop']\n",
        "df_pop = track_table_dummies[track_table_dummies['master_popular_genre']=='pop']\n",
        "samp = 10000\n",
        "# Downsample majority class\n",
        "df_pop_downsampled = resample(df_pop, \n",
        "                                 replace=False,    # sample without replacement\n",
        "                                 n_samples=10000) # reproducible results\n",
        " \n",
        "# Combine minority class with downsampled majority class\n",
        "df_pop_downsampled = pd.concat([df_pop_downsampled, df_nonpop])\n",
        " \n",
        "# Display new class counts\n",
        "df_pop_downsampled.master_popular_genre.value_counts()"
      ],
      "execution_count": 38,
      "outputs": [
        {
          "output_type": "execute_result",
          "data": {
            "text/plain": [
              "hiphop     10728\n",
              "country    10005\n",
              "pop        10000\n",
              "rock        8967\n",
              "indie       7673\n",
              "house       6529\n",
              "r&b         5505\n",
              "Name: master_popular_genre, dtype: int64"
            ]
          },
          "metadata": {
            "tags": []
          },
          "execution_count": 38
        }
      ]
    },
    {
      "cell_type": "code",
      "metadata": {
        "id": "ApLpZ3LRgAt_"
      },
      "source": [
        "X = df_pop_downsampled.iloc[:,1:]\n",
        "y = df_pop_downsampled.iloc[:,0]\n",
        "\n",
        "X_train, X_test, y_train, y_test = train_test_split(X, y, test_size=0.33, random_state=42)"
      ],
      "execution_count": 26,
      "outputs": []
    },
    {
      "cell_type": "code",
      "metadata": {
        "colab": {
          "base_uri": "https://localhost:8080/"
        },
        "id": "lBSnDXUigzc5",
        "outputId": "4de1c15f-1385-4f62-ef26-3a7107de6e78"
      },
      "source": [
        "gb_param_grid = {\n",
        "       #'n_estimators': range(350, 700, 100),\n",
        "       'n_estimators': [650],\n",
        "       #'max_depth':range(3,8),\n",
        "       'max_depth':[6],\n",
        "       #'learning_rate' : [0.1,0.3],\n",
        "       'learning_rate' : [0.1],\n",
        "       #'min_samples_split': [0.05, 0.1]\n",
        "       'min_samples_split': [0.05]\n",
        "\n",
        "}\n",
        "#grid = GridSearchCV(GradientBoostingClassifier(), gb_param_grid, cv=3, verbose=2).fit(X_train, y_train)\n",
        "grid = GridSearchCV(GradientBoostingClassifier(), gb_param_grid, cv=3, verbose=2).fit(X_train, y_train)\n",
        "\n",
        "\n",
        "# summarize the results of the grid search\n",
        "print(\"The best score is {}\".format(grid.best_score_))\n",
        "print(\"The best hyper parameter setting is {}\".format(grid.best_params_))\n",
        "print(\"Model Accuracy:\", accuracy_score(y_test,grid.predict(X_test)))\n"
      ],
      "execution_count": 27,
      "outputs": [
        {
          "output_type": "stream",
          "text": [
            "Fitting 3 folds for each of 1 candidates, totalling 3 fits\n",
            "[CV] learning_rate=0.1, max_depth=6, min_samples_split=0.05, n_estimators=650 \n"
          ],
          "name": "stdout"
        },
        {
          "output_type": "stream",
          "text": [
            "[Parallel(n_jobs=1)]: Using backend SequentialBackend with 1 concurrent workers.\n"
          ],
          "name": "stderr"
        },
        {
          "output_type": "stream",
          "text": [
            "[CV]  learning_rate=0.1, max_depth=6, min_samples_split=0.05, n_estimators=650, total=12.4min\n",
            "[CV] learning_rate=0.1, max_depth=6, min_samples_split=0.05, n_estimators=650 \n"
          ],
          "name": "stdout"
        },
        {
          "output_type": "stream",
          "text": [
            "[Parallel(n_jobs=1)]: Done   1 out of   1 | elapsed: 12.4min remaining:    0.0s\n"
          ],
          "name": "stderr"
        },
        {
          "output_type": "stream",
          "text": [
            "[CV]  learning_rate=0.1, max_depth=6, min_samples_split=0.05, n_estimators=650, total=12.4min\n",
            "[CV] learning_rate=0.1, max_depth=6, min_samples_split=0.05, n_estimators=650 \n",
            "[CV]  learning_rate=0.1, max_depth=6, min_samples_split=0.05, n_estimators=650, total=12.4min\n"
          ],
          "name": "stdout"
        },
        {
          "output_type": "stream",
          "text": [
            "[Parallel(n_jobs=1)]: Done   3 out of   3 | elapsed: 37.3min finished\n"
          ],
          "name": "stderr"
        },
        {
          "output_type": "stream",
          "text": [
            "The best score is 0.6124705455863694\n",
            "The best hyper parameter setting is {'learning_rate': 0.1, 'max_depth': 6, 'min_samples_split': 0.05, 'n_estimators': 650}\n",
            "Model Accuracy: 0.6146567132793608\n"
          ],
          "name": "stdout"
        }
      ]
    },
    {
      "cell_type": "code",
      "metadata": {
        "colab": {
          "base_uri": "https://localhost:8080/",
          "height": 639
        },
        "id": "jxex0kUzD922",
        "outputId": "b767a934-b2e1-46d1-f937-93253f23636b"
      },
      "source": [
        "fig, ax = plt.subplots(figsize=(12,10)) \n",
        "conf_matrix = confusion_matrix(y_test, grid.predict(X_test), labels=genre_order)\n",
        "sns.heatmap(conf_matrix.astype('float') / conf_matrix.sum(axis=1)[:, np.newaxis], annot=True,fmt='.2%', cmap='Blues',xticklabels=genre_order,yticklabels=genre_order, ax=ax)\n",
        "ax.set(xlabel='Predicted Genre', ylabel='True Genre')\n",
        "ax.set_title(\"Proportional Genre Confusion Matrix\")"
      ],
      "execution_count": 30,
      "outputs": [
        {
          "output_type": "execute_result",
          "data": {
            "text/plain": [
              "Text(0.5, 1.0, 'Proportional Genre Confusion Matrix')"
            ]
          },
          "metadata": {
            "tags": []
          },
          "execution_count": 30
        },
        {
          "output_type": "display_data",
          "data": {
            "image/png": "[encoded data removed]",
            "text/plain": [
              "<Figure size 864x720 with 2 Axes>"
            ]
          },
          "metadata": {
            "tags": [],
            "needs_background": "light"
          }
        }
      ]
    },
    {
      "cell_type": "markdown",
      "metadata": {
        "id": "eCCOPxLzH3FS"
      },
      "source": [
        "Oversampling"
      ]
    },
    {
      "cell_type": "code",
      "metadata": {
        "id": "n1bjs8VhLfmU"
      },
      "source": [
        "def oversample(genre, numTracks):\n",
        "  df = df_pop_downsampled[df_pop_downsampled['master_popular_genre']==genre]\n",
        "  df_upsampled = resample(df, replace=True, n_samples=numTracks)\n",
        "  return df_upsampled"
      ],
      "execution_count": 50,
      "outputs": []
    },
    {
      "cell_type": "code",
      "metadata": {
        "colab": {
          "base_uri": "https://localhost:8080/"
        },
        "id": "lkE7H-TKH5Kd",
        "outputId": "7d06fa98-4363-49de-a8bc-212b9c20966b"
      },
      "source": [
        "df_rb = oversample(\"r&b\", samp)\n",
        "df_house = oversample(\"house\", samp)\n",
        "df_indie = oversample(\"indie\", samp)\n",
        "df_rock = oversample(\"rock\", samp)\n",
        "\n",
        "df_rest = df_pop_downsampled[df_pop_downsampled['master_popular_genre']!='r&b']\n",
        "df_rest = df_rest[df_rest['master_popular_genre']!='house']\n",
        "df_rest = df_rest[df_rest['master_popular_genre']!='indie']\n",
        "df_rest = df_rest[df_rest['master_popular_genre']!='rock']\n",
        "\n",
        "# Combine minority class with downsampled majority class\n",
        "df_balanced = pd.concat([df_rest, df_rb, df_house, df_indie, df_rock])\n",
        " \n",
        "# Display new class counts\n",
        "df_balanced.master_popular_genre.value_counts()"
      ],
      "execution_count": 51,
      "outputs": [
        {
          "output_type": "execute_result",
          "data": {
            "text/plain": [
              "hiphop     10728\n",
              "country    10005\n",
              "house      10000\n",
              "rock       10000\n",
              "r&b        10000\n",
              "pop        10000\n",
              "indie      10000\n",
              "Name: master_popular_genre, dtype: int64"
            ]
          },
          "metadata": {
            "tags": []
          },
          "execution_count": 51
        }
      ]
    },
    {
      "cell_type": "code",
      "metadata": {
        "id": "sV0RTLaxLXnY"
      },
      "source": [
        "X = df_balanced.iloc[:,1:]\n",
        "y = df_balanced.iloc[:,0]\n",
        "\n",
        "X_train, X_test, y_train, y_test = train_test_split(X, y, test_size=0.33, random_state=42)"
      ],
      "execution_count": 53,
      "outputs": []
    },
    {
      "cell_type": "code",
      "metadata": {
        "colab": {
          "base_uri": "https://localhost:8080/"
        },
        "id": "dHUyE00sLUWr",
        "outputId": "ff1469f6-0f65-4547-dd6d-af8a0ce82bd3"
      },
      "source": [
        "gb_param_grid = {\n",
        "       #'n_estimators': range(350, 700, 100),\n",
        "       'n_estimators': [650],\n",
        "       #'max_depth':range(3,8),\n",
        "       'max_depth':[6],\n",
        "       #'learning_rate' : [0.1,0.3],\n",
        "       'learning_rate' : [0.1],\n",
        "       #'min_samples_split': [0.05, 0.1]\n",
        "       'min_samples_split': [0.05]\n",
        "\n",
        "}\n",
        "#grid = GridSearchCV(GradientBoostingClassifier(), gb_param_grid, cv=3, verbose=2).fit(X_train, y_train)\n",
        "grid = GridSearchCV(GradientBoostingClassifier(), gb_param_grid, cv=2, verbose=2).fit(X_train, y_train)\n",
        "\n",
        "\n",
        "# summarize the results of the grid search\n",
        "print(\"The best score is {}\".format(grid.best_score_))\n",
        "print(\"The best hyper parameter setting is {}\".format(grid.best_params_))\n",
        "print(\"Model Accuracy:\", accuracy_score(y_test,grid.predict(X_test)))\n"
      ],
      "execution_count": 54,
      "outputs": [
        {
          "output_type": "stream",
          "text": [
            "Fitting 2 folds for each of 1 candidates, totalling 2 fits\n",
            "[CV] learning_rate=0.1, max_depth=6, min_samples_split=0.05, n_estimators=650 \n"
          ],
          "name": "stdout"
        },
        {
          "output_type": "stream",
          "text": [
            "[Parallel(n_jobs=1)]: Using backend SequentialBackend with 1 concurrent workers.\n"
          ],
          "name": "stderr"
        },
        {
          "output_type": "stream",
          "text": [
            "[CV]  learning_rate=0.1, max_depth=6, min_samples_split=0.05, n_estimators=650, total=11.4min\n",
            "[CV] learning_rate=0.1, max_depth=6, min_samples_split=0.05, n_estimators=650 \n"
          ],
          "name": "stdout"
        },
        {
          "output_type": "stream",
          "text": [
            "[Parallel(n_jobs=1)]: Done   1 out of   1 | elapsed: 11.4min remaining:    0.0s\n"
          ],
          "name": "stderr"
        },
        {
          "output_type": "stream",
          "text": [
            "[CV]  learning_rate=0.1, max_depth=6, min_samples_split=0.05, n_estimators=650, total=11.4min\n"
          ],
          "name": "stdout"
        },
        {
          "output_type": "stream",
          "text": [
            "[Parallel(n_jobs=1)]: Done   2 out of   2 | elapsed: 22.8min finished\n"
          ],
          "name": "stderr"
        },
        {
          "output_type": "stream",
          "text": [
            "The best score is 0.6625941597364892\n",
            "The best hyper parameter setting is {'learning_rate': 0.1, 'max_depth': 6, 'min_samples_split': 0.05, 'n_estimators': 650}\n",
            "Model Accuracy: 0.6834033073429869\n"
          ],
          "name": "stdout"
        }
      ]
    },
    {
      "cell_type": "code",
      "metadata": {
        "colab": {
          "base_uri": "https://localhost:8080/"
        },
        "id": "oCvaqIDJYoPm",
        "outputId": "2c31d95a-4fb8-4fc5-f5d7-2f004c524e50"
      },
      "source": [
        "for i in range(0,len(genre_order)):\n",
        "  print_accuracy(i)"
      ],
      "execution_count": 57,
      "outputs": [
        {
          "output_type": "stream",
          "text": [
            "Accuracy predicting country : 0.7418963950318086\n",
            "Accuracy predicting hiphop : 0.7544209925841415\n",
            "Accuracy predicting house : 0.8343014368694589\n",
            "Accuracy predicting indie : 0.6718417047184171\n",
            "Accuracy predicting pop : 0.374885145482389\n",
            "Accuracy predicting r&b : 0.7587835842928845\n",
            "Accuracy predicting rock : 0.6396152690111211\n"
          ],
          "name": "stdout"
        }
      ]
    },
    {
      "cell_type": "code",
      "metadata": {
        "colab": {
          "base_uri": "https://localhost:8080/",
          "height": 639
        },
        "id": "og7p_CucYgU5",
        "outputId": "72d1aa99-b230-44c2-941b-7e97f9e480ba"
      },
      "source": [
        "fig, ax = plt.subplots(figsize=(12,10)) \n",
        "conf_matrix = confusion_matrix(y_test, grid.predict(X_test), labels=genre_order)\n",
        "sns.heatmap(conf_matrix.astype('float') / conf_matrix.sum(axis=1)[:, np.newaxis], annot=True,fmt='.2%', cmap='Blues',xticklabels=genre_order,yticklabels=genre_order, ax=ax)\n",
        "ax.set(xlabel='Predicted Genre', ylabel='True Genre')\n",
        "ax.set_title(\"Proportional Genre Confusion Matrix\")"
      ],
      "execution_count": 56,
      "outputs": [
        {
          "output_type": "execute_result",
          "data": {
            "text/plain": [
              "Text(0.5, 1.0, 'Proportional Genre Confusion Matrix')"
            ]
          },
          "metadata": {
            "tags": []
          },
          "execution_count": 56
        },
        {
          "output_type": "display_data",
          "data": {
            "image/png": "[encoded data removed]",
            "text/plain": [
              "<Figure size 864x720 with 2 Axes>"
            ]
          },
          "metadata": {
            "tags": [],
            "needs_background": "light"
          }
        }
      ]
    },
    {
      "cell_type": "markdown",
      "metadata": {
        "id": "oK4W47XUf6da"
      },
      "source": [
        "Tried PCA, didn't work:"
      ]
    },
    {
      "cell_type": "code",
      "metadata": {
        "id": "qfjg6E8-RoP3"
      },
      "source": [
        "from sklearn.preprocessing import StandardScaler\n",
        "from sklearn.decomposition import PCA\n",
        "from sklearn.cluster import KMeans\n",
        "import matplotlib.pyplot as plt\n",
        "\n",
        "track_table_clusters = track_table_dummies.drop('master_popular_genre', axis=1)\n",
        "scaler = StandardScaler()\n",
        "track_table_clusters[track_table_clusters.columns] = scaler.fit_transform(track_table_clusters[track_table_clusters.columns])"
      ],
      "execution_count": 28,
      "outputs": []
    },
    {
      "cell_type": "code",
      "metadata": {
        "colab": {
          "base_uri": "https://localhost:8080/",
          "height": 313
        },
        "id": "AJOG48EfTFzT",
        "outputId": "f07ec3f0-330f-42aa-9004-5fb5b4b342c5"
      },
      "source": [
        "pca = PCA()\n",
        "pca.fit(track_table_clusters)\n",
        "plt.plot(range(1,28), pca.explained_variance_ratio_.cumsum(), marker='o')\n",
        "plt.title('variance by components')\n",
        "plt.xlabel('num of components')\n",
        "plt.ylabel('cumulative explained variance')"
      ],
      "execution_count": 29,
      "outputs": [
        {
          "output_type": "execute_result",
          "data": {
            "text/plain": [
              "Text(0, 0.5, 'cumulative explained variance')"
            ]
          },
          "metadata": {
            "tags": []
          },
          "execution_count": 29
        },
        {
          "output_type": "display_data",
          "data": {
            "image/png": "[encoded data removed]",
            "text/plain": [
              "<Figure size 432x288 with 1 Axes>"
            ]
          },
          "metadata": {
            "tags": [],
            "needs_background": "light"
          }
        }
      ]
    },
    {
      "cell_type": "markdown",
      "metadata": {
        "id": "u3CN-LQdaHqq"
      },
      "source": [
        "TODO:\n",
        "Test with JUST oversampling, leave pop the same\n",
        "Clean up multiple sampling changes\n",
        "Compare the 3 models\n",
        "What tracks is it most confident in? Essence of hip hop, pop, house, etc"
      ]
    },
    {
      "cell_type": "code",
      "metadata": {
        "id": "onp_r_GKaHi1"
      },
      "source": [
        ""
      ],
      "execution_count": null,
      "outputs": []
    }
  ]
}