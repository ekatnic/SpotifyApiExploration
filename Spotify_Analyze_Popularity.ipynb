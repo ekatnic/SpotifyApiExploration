{
  "nbformat": 4,
  "nbformat_minor": 0,
  "metadata": {
    "colab": {
      "name": "Spotify_Analyze_Popularity.ipynb",
      "provenance": [],
      "collapsed_sections": []
    },
    "kernelspec": {
      "name": "python3",
      "display_name": "Python 3"
    }
  },
  "cells": [
    {
      "cell_type": "code",
      "metadata": {
        "id": "mh15PpCZii-C"
      },
      "source": [
        "# uploaded = files.upload()\n",
        "# import os\n",
        "# os.environ['GOOGLE_APPLICATION_CREDENTIALS'] = '/content/spotify-f1cf5-firebase-adminsdk-xxrd4-763e07c601.json'\n",
        "# import firebase_admin\n",
        "# from firebase_admin import credentials\n",
        "# from google.cloud import firestore"
      ],
      "execution_count": null,
      "outputs": []
    },
    {
      "cell_type": "code",
      "metadata": {
        "id": "gjuwPvMHh9Ks"
      },
      "source": [
        "# cred = credentials.Certificate('/content/spotify-f1cf5-firebase.json')\n",
        "# firebase_admin.initialize_app(cred, {\n",
        "#     'databaseURL': 'https://spotify-f1cf5.firebaseio.com'\n",
        "# })\n",
        "\n",
        "# db = firestore.Client()\n",
        "\n",
        "# tracks_ref = db.collection(u'tracks')\n",
        "# tracks = tracks_ref.stream()\n",
        "\n",
        "# track_list = []\n",
        "# for track in tracks:\n",
        "#   track_list.append(track.to_dict())\n",
        "# track_table = pd.DataFrame(track_list)"
      ],
      "execution_count": null,
      "outputs": []
    },
    {
      "cell_type": "code",
      "metadata": {
        "id": "1w15iMfYfUBe",
        "colab": {
          "resources": {
            "http://localhost:8080/nbextensions/google.colab/files.js": {
              "data": "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",
              "ok": true,
              "headers": [
                [
                  "content-type",
                  "application/javascript"
                ]
              ],
              "status": 200,
              "status_text": ""
            }
          },
          "base_uri": "https://localhost:8080/",
          "height": 72
        },
        "outputId": "26da21d5-f2ee-442f-f0b5-c089da150db3"
      },
      "source": [
        "import pandas as pd\n",
        "import numpy as np\n",
        "from google.colab import files\n",
        "uploaded = files.upload()"
      ],
      "execution_count": 110,
      "outputs": [
        {
          "output_type": "display_data",
          "data": {
            "text/html": [
              "\n",
              "     <input type=\"file\" id=\"files-ad4352f3-721a-4248-9486-c989a33c910e\" name=\"files[]\" multiple disabled\n",
              "        style=\"border:none\" />\n",
              "     <output id=\"result-ad4352f3-721a-4248-9486-c989a33c910e\">\n",
              "      Upload widget is only available when the cell has been executed in the\n",
              "      current browser session. Please rerun this cell to enable.\n",
              "      </output>\n",
              "      <script src=\"/nbextensions/google.colab/files.js\"></script> "
            ],
            "text/plain": [
              "<IPython.core.display.HTML object>"
            ]
          },
          "metadata": {
            "tags": []
          }
        },
        {
          "output_type": "stream",
          "text": [
            "Saving cleaned_tracks_both.csv to cleaned_tracks_both.csv\n"
          ],
          "name": "stdout"
        }
      ]
    },
    {
      "cell_type": "code",
      "metadata": {
        "id": "LEiY5DPhjkKw"
      },
      "source": [
        "track_table = pd.read_csv(\"cleaned_tracks_both.csv\")"
      ],
      "execution_count": 111,
      "outputs": []
    },
    {
      "cell_type": "code",
      "metadata": {
        "id": "4dIM9lk6J3BP",
        "colab": {
          "base_uri": "https://localhost:8080/",
          "height": 564
        },
        "outputId": "fc544c8e-efc0-4144-8387-8a54ac00b728"
      },
      "source": [
        "track_table.head()"
      ],
      "execution_count": 112,
      "outputs": [
        {
          "output_type": "execute_result",
          "data": {
            "text/html": [
              "<div>\n",
              "<style scoped>\n",
              "    .dataframe tbody tr th:only-of-type {\n",
              "        vertical-align: middle;\n",
              "    }\n",
              "\n",
              "    .dataframe tbody tr th {\n",
              "        vertical-align: top;\n",
              "    }\n",
              "\n",
              "    .dataframe thead th {\n",
              "        text-align: right;\n",
              "    }\n",
              "</style>\n",
              "<table border=\"1\" class=\"dataframe\">\n",
              "  <thead>\n",
              "    <tr style=\"text-align: right;\">\n",
              "      <th></th>\n",
              "      <th>track_pop</th>\n",
              "      <th>track_name</th>\n",
              "      <th>track_id</th>\n",
              "      <th>track_year</th>\n",
              "      <th>track_spotify_genre</th>\n",
              "      <th>art_name</th>\n",
              "      <th>art_id</th>\n",
              "      <th>alb_name</th>\n",
              "      <th>alb_id</th>\n",
              "      <th>art_genre</th>\n",
              "      <th>duration_ms</th>\n",
              "      <th>time_signature</th>\n",
              "      <th>key</th>\n",
              "      <th>loudness</th>\n",
              "      <th>energy</th>\n",
              "      <th>speechiness</th>\n",
              "      <th>acousticness</th>\n",
              "      <th>mode</th>\n",
              "      <th>tempo</th>\n",
              "      <th>valence</th>\n",
              "      <th>danceability</th>\n",
              "      <th>instrumentalness</th>\n",
              "      <th>liveness</th>\n",
              "      <th>genre_words</th>\n",
              "      <th>master_popular_genre</th>\n",
              "    </tr>\n",
              "  </thead>\n",
              "  <tbody>\n",
              "    <tr>\n",
              "      <th>0</th>\n",
              "      <td>50</td>\n",
              "      <td>Turandot / Act 3: Turandot / Act 3: \"Nessun do...</td>\n",
              "      <td>1GqszY8D6qlMHY7KmA5wE8</td>\n",
              "      <td>2011</td>\n",
              "      <td>classical</td>\n",
              "      <td>Andrea Bocelli</td>\n",
              "      <td>3EA9hVIzKfFiQI0Kikz2wo</td>\n",
              "      <td>Concerto: One Night In Central Park (Remastered)</td>\n",
              "      <td>7LkXjMXDhwqXl3l9zqxRRz</td>\n",
              "      <td>['classical tenor', 'italian tenor', 'operatic...</td>\n",
              "      <td>247010</td>\n",
              "      <td>4</td>\n",
              "      <td>2</td>\n",
              "      <td>-9.841</td>\n",
              "      <td>0.41200</td>\n",
              "      <td>0.0357</td>\n",
              "      <td>0.94300</td>\n",
              "      <td>1</td>\n",
              "      <td>88.113</td>\n",
              "      <td>0.193</td>\n",
              "      <td>0.167</td>\n",
              "      <td>0.000121</td>\n",
              "      <td>0.7570</td>\n",
              "      <td>{'classical': 1, 'tenor': 2, 'italian': 1, 'op...</td>\n",
              "      <td>pop</td>\n",
              "    </tr>\n",
              "    <tr>\n",
              "      <th>1</th>\n",
              "      <td>44</td>\n",
              "      <td>Bad Asteroid</td>\n",
              "      <td>5TzCDKy1ZmFZdW8100A8p9</td>\n",
              "      <td>2011</td>\n",
              "      <td>classical</td>\n",
              "      <td>The Aristocrats</td>\n",
              "      <td>1V4jsLjkic1Mxvdke86Qth</td>\n",
              "      <td>The Aristocrats</td>\n",
              "      <td>7GKzcJbW0Qernh0Xab1bIf</td>\n",
              "      <td>['instrumental rock', 'jazz fusion', 'neo clas...</td>\n",
              "      <td>353667</td>\n",
              "      <td>4</td>\n",
              "      <td>11</td>\n",
              "      <td>-7.257</td>\n",
              "      <td>0.72700</td>\n",
              "      <td>0.0462</td>\n",
              "      <td>0.03010</td>\n",
              "      <td>0</td>\n",
              "      <td>87.349</td>\n",
              "      <td>0.391</td>\n",
              "      <td>0.485</td>\n",
              "      <td>0.758000</td>\n",
              "      <td>0.1630</td>\n",
              "      <td>{'instrumental': 1, 'rock': 1, 'jazz': 2, 'fus...</td>\n",
              "      <td>rock</td>\n",
              "    </tr>\n",
              "    <tr>\n",
              "      <th>2</th>\n",
              "      <td>37</td>\n",
              "      <td>The Whispers</td>\n",
              "      <td>4VH3rKj1tmhUZtX3U43jBq</td>\n",
              "      <td>2011</td>\n",
              "      <td>classical</td>\n",
              "      <td>Harold Budd</td>\n",
              "      <td>3uOCouLFR4bVx0XeiQJSbl</td>\n",
              "      <td>In The Mist</td>\n",
              "      <td>3J8bwfrUYrzmuE0IqFLhUS</td>\n",
              "      <td>['ambient', 'american contemporary classical',...</td>\n",
              "      <td>163000</td>\n",
              "      <td>3</td>\n",
              "      <td>9</td>\n",
              "      <td>-35.213</td>\n",
              "      <td>0.00385</td>\n",
              "      <td>0.0449</td>\n",
              "      <td>0.99500</td>\n",
              "      <td>0</td>\n",
              "      <td>141.201</td>\n",
              "      <td>0.117</td>\n",
              "      <td>0.228</td>\n",
              "      <td>0.917000</td>\n",
              "      <td>0.0858</td>\n",
              "      <td>{'ambient': 2, 'american': 1, 'contemporary': ...</td>\n",
              "      <td>rock</td>\n",
              "    </tr>\n",
              "    <tr>\n",
              "      <th>3</th>\n",
              "      <td>41</td>\n",
              "      <td>Time To Say Goodbye - Live At Central Park, Ne...</td>\n",
              "      <td>1Jw2mwSScPEROBomYw6L0g</td>\n",
              "      <td>2011</td>\n",
              "      <td>classical</td>\n",
              "      <td>Andrea Bocelli</td>\n",
              "      <td>3EA9hVIzKfFiQI0Kikz2wo</td>\n",
              "      <td>Concerto: One Night In Central Park (Remastered)</td>\n",
              "      <td>7LkXjMXDhwqXl3l9zqxRRz</td>\n",
              "      <td>['classical tenor', 'italian tenor', 'operatic...</td>\n",
              "      <td>253991</td>\n",
              "      <td>3</td>\n",
              "      <td>7</td>\n",
              "      <td>-9.827</td>\n",
              "      <td>0.30500</td>\n",
              "      <td>0.0318</td>\n",
              "      <td>0.93600</td>\n",
              "      <td>1</td>\n",
              "      <td>85.786</td>\n",
              "      <td>0.446</td>\n",
              "      <td>0.230</td>\n",
              "      <td>0.000002</td>\n",
              "      <td>0.7440</td>\n",
              "      <td>{'classical': 1, 'tenor': 2, 'italian': 1, 'op...</td>\n",
              "      <td>pop</td>\n",
              "    </tr>\n",
              "    <tr>\n",
              "      <th>4</th>\n",
              "      <td>42</td>\n",
              "      <td>Anthem</td>\n",
              "      <td>0ZUPWnw89a0iLfNdcUiIm3</td>\n",
              "      <td>2011</td>\n",
              "      <td>classical</td>\n",
              "      <td>Iced Earth</td>\n",
              "      <td>3KEixcRfBS5K3E91Vn1Kdy</td>\n",
              "      <td>Dystopia</td>\n",
              "      <td>6la9AnaFIgSo4faEDcnHQx</td>\n",
              "      <td>['hard rock', 'melodic metal', 'metal', 'neo c...</td>\n",
              "      <td>294613</td>\n",
              "      <td>4</td>\n",
              "      <td>3</td>\n",
              "      <td>-5.242</td>\n",
              "      <td>0.95400</td>\n",
              "      <td>0.0607</td>\n",
              "      <td>0.00894</td>\n",
              "      <td>0</td>\n",
              "      <td>163.995</td>\n",
              "      <td>0.287</td>\n",
              "      <td>0.454</td>\n",
              "      <td>0.000000</td>\n",
              "      <td>0.0659</td>\n",
              "      <td>{'hard': 1, 'rock': 1, 'melodic': 1, 'metal': ...</td>\n",
              "      <td>rock</td>\n",
              "    </tr>\n",
              "  </tbody>\n",
              "</table>\n",
              "</div>"
            ],
            "text/plain": [
              "   track_pop  ... master_popular_genre\n",
              "0         50  ...                  pop\n",
              "1         44  ...                 rock\n",
              "2         37  ...                 rock\n",
              "3         41  ...                  pop\n",
              "4         42  ...                 rock\n",
              "\n",
              "[5 rows x 25 columns]"
            ]
          },
          "metadata": {
            "tags": []
          },
          "execution_count": 112
        }
      ]
    },
    {
      "cell_type": "code",
      "metadata": {
        "id": "JgGTl0m1nnVQ"
      },
      "source": [
        "numerics = ['int16', 'int32', 'int64', 'float16', 'float32', 'float64']\n",
        "track_table_numerics = track_table.select_dtypes(include=[np.number])"
      ],
      "execution_count": 113,
      "outputs": []
    },
    {
      "cell_type": "code",
      "metadata": {
        "id": "BLBw81FYvXgB",
        "colab": {
          "base_uri": "https://localhost:8080/",
          "height": 625
        },
        "outputId": "1893a5f3-d54e-4ce2-b0b3-fdd41d6a347c"
      },
      "source": [
        "import seaborn as sns\n",
        "import matplotlib.pyplot as plt\n",
        " \n",
        "f, axes = plt.subplots(3, 5, figsize=(10, 10))\n",
        "plt.subplots_adjust(wspace=.85, hspace=.6)\n",
        "sns.histplot( track_table_numerics[\"acousticness\"] , ax=axes[0, 0])\n",
        "sns.histplot( track_table_numerics[\"danceability\"] , ax=axes[0, 1])\n",
        "sns.histplot( track_table_numerics[\"duration_ms\"] , ax=axes[0, 2])\n",
        "sns.histplot( track_table_numerics[\"energy\"] , ax=axes[0, 3])\n",
        "sns.histplot( track_table_numerics[\"track_pop\"] , ax=axes[0, 4])\n",
        "sns.histplot( track_table_numerics[\"liveness\"] , ax=axes[1, 0])\n",
        "sns.histplot( track_table_numerics[\"loudness\"] , ax=axes[1, 1])\n",
        "sns.histplot( track_table_numerics[\"valence\"] , ax=axes[1, 2])\n",
        "sns.histplot( track_table_numerics[\"speechiness\"] , ax=axes[1, 3])\n",
        "sns.histplot( track_table_numerics[\"tempo\"] , ax=axes[1, 4])\n",
        "sns.histplot( track_table_numerics[\"instrumentalness\"] , ax=axes[2, 0])\n",
        "sns.histplot( track_table_numerics[\"time_signature\"] , ax=axes[2, 1])\n",
        "sns.histplot( track_table_numerics[\"mode\"] , ax=axes[2, 2])\n",
        "sns.histplot( track_table_numerics[\"key\"] , ax=axes[2, 3])\n",
        "sns.histplot( track_table_numerics[\"track_year\"] , ax=axes[2, 4])"
      ],
      "execution_count": 114,
      "outputs": [
        {
          "output_type": "execute_result",
          "data": {
            "text/plain": [
              "<matplotlib.axes._subplots.AxesSubplot at 0x7f3bc09ead90>"
            ]
          },
          "metadata": {
            "tags": []
          },
          "execution_count": 114
        },
        {
          "output_type": "display_data",
          "data": {
            "image/png": "[encoded data removed]",
            "text/plain": [
              "<Figure size 720x720 with 15 Axes>"
            ]
          },
          "metadata": {
            "tags": [],
            "needs_background": "light"
          }
        }
      ]
    },
    {
      "cell_type": "code",
      "metadata": {
        "id": "vxbb4OJQIGAA"
      },
      "source": [
        "#rescaling target variable\n",
        "\n",
        "#from sklearn.preprocessing import MinMaxScaler\n",
        "#min_max_scaler = MinMaxScaler()\n",
        "#track_table[[\"track_pop\"]] = min_max_scaler.fit_transform(track_table[[\"track_pop\"]])"
      ],
      "execution_count": 36,
      "outputs": []
    },
    {
      "cell_type": "code",
      "metadata": {
        "colab": {
          "base_uri": "https://localhost:8080/",
          "height": 351
        },
        "id": "RmifQJlEOpeX",
        "outputId": "72a7cf88-a3c0-48a4-bd6d-ac78f74196b2"
      },
      "source": [
        "sns.distplot( track_table_numerics[\"track_pop\"])"
      ],
      "execution_count": 115,
      "outputs": [
        {
          "output_type": "stream",
          "text": [
            "/usr/local/lib/python3.7/dist-packages/seaborn/distributions.py:2557: FutureWarning: `distplot` is a deprecated function and will be removed in a future version. Please adapt your code to use either `displot` (a figure-level function with similar flexibility) or `histplot` (an axes-level function for histograms).\n",
            "  warnings.warn(msg, FutureWarning)\n"
          ],
          "name": "stderr"
        },
        {
          "output_type": "execute_result",
          "data": {
            "text/plain": [
              "<matplotlib.axes._subplots.AxesSubplot at 0x7f3bb9611b90>"
            ]
          },
          "metadata": {
            "tags": []
          },
          "execution_count": 115
        },
        {
          "output_type": "display_data",
          "data": {
            "image/png": "[encoded data removed]",
            "text/plain": [
              "<Figure size 432x288 with 1 Axes>"
            ]
          },
          "metadata": {
            "tags": [],
            "needs_background": "light"
          }
        }
      ]
    },
    {
      "cell_type": "code",
      "metadata": {
        "id": "o-YdXPEwD4ux",
        "colab": {
          "base_uri": "https://localhost:8080/",
          "height": 363
        },
        "outputId": "355f7bd7-5ad1-4e0f-fbea-cd5661499c5c"
      },
      "source": [
        "sns.heatmap(track_table_numerics.corr())"
      ],
      "execution_count": 116,
      "outputs": [
        {
          "output_type": "execute_result",
          "data": {
            "text/plain": [
              "<matplotlib.axes._subplots.AxesSubplot at 0x7f3bb9cc1c50>"
            ]
          },
          "metadata": {
            "tags": []
          },
          "execution_count": 116
        },
        {
          "output_type": "display_data",
          "data": {
            "image/png": "[encoded data removed]",
            "text/plain": [
              "<Figure size 432x288 with 2 Axes>"
            ]
          },
          "metadata": {
            "tags": [],
            "needs_background": "light"
          }
        }
      ]
    },
    {
      "cell_type": "markdown",
      "metadata": {
        "id": "Zuj2GVVWJBSL"
      },
      "source": [
        "Might be worth dropping Instrumentalness, high p-value anyway. or Loudness?\n"
      ]
    },
    {
      "cell_type": "code",
      "metadata": {
        "id": "CuRE8P-N47sa"
      },
      "source": [
        "track_table_dummies = pd.get_dummies(track_table,columns=['key','time_signature','track_spotify_genre'],drop_first=True)\n",
        "track_table_dummies.drop(['loudness', 'master_popular_genre'], axis=1, inplace=True)\n",
        "track_table_dummies = track_table_dummies.select_dtypes(include=[np.number])\n",
        "track_table_dummies.dropna(inplace=True)\n",
        "#track_table_dummies = pd.get_dummies(track_table_numerics,columns=['time_signature','mode'],drop_first=True)"
      ],
      "execution_count": 93,
      "outputs": []
    },
    {
      "cell_type": "code",
      "metadata": {
        "id": "t_BI7lT2A2nR"
      },
      "source": [
        "from sklearn.metrics import mean_squared_error\n",
        "from sklearn.metrics import mean_absolute_error\n",
        "from sklearn.ensemble import GradientBoostingRegressor\n",
        "\n",
        "from sklearn.ensemble import RandomForestRegressor\n",
        "from sklearn.model_selection import GridSearchCV\n",
        "from sklearn.model_selection import train_test_split\n",
        "from sklearn.neural_network import MLPRegressor\n",
        "import statsmodels.api as sm"
      ],
      "execution_count": 94,
      "outputs": []
    },
    {
      "cell_type": "code",
      "metadata": {
        "id": "gHKlFygPAdIN"
      },
      "source": [
        "X = track_table_dummies.iloc[:,1:]\n",
        "y = track_table_dummies.iloc[:,0]\n",
        "\n",
        "X_train, X_test, y_train, y_test = train_test_split(X, y, test_size=0.33, random_state=42)"
      ],
      "execution_count": 95,
      "outputs": []
    },
    {
      "cell_type": "code",
      "metadata": {
        "colab": {
          "base_uri": "https://localhost:8080/",
          "height": 456
        },
        "id": "oEjY8aQhoSxH",
        "outputId": "51f61912-664c-4c15-e5bd-4b150d165b41"
      },
      "source": [
        "track_table_dummies"
      ],
      "execution_count": 96,
      "outputs": [
        {
          "output_type": "execute_result",
          "data": {
            "text/html": [
              "<div>\n",
              "<style scoped>\n",
              "    .dataframe tbody tr th:only-of-type {\n",
              "        vertical-align: middle;\n",
              "    }\n",
              "\n",
              "    .dataframe tbody tr th {\n",
              "        vertical-align: top;\n",
              "    }\n",
              "\n",
              "    .dataframe thead th {\n",
              "        text-align: right;\n",
              "    }\n",
              "</style>\n",
              "<table border=\"1\" class=\"dataframe\">\n",
              "  <thead>\n",
              "    <tr style=\"text-align: right;\">\n",
              "      <th></th>\n",
              "      <th>track_pop</th>\n",
              "      <th>track_year</th>\n",
              "      <th>duration_ms</th>\n",
              "      <th>energy</th>\n",
              "      <th>speechiness</th>\n",
              "      <th>acousticness</th>\n",
              "      <th>mode</th>\n",
              "      <th>tempo</th>\n",
              "      <th>valence</th>\n",
              "      <th>danceability</th>\n",
              "      <th>instrumentalness</th>\n",
              "      <th>liveness</th>\n",
              "      <th>key_1</th>\n",
              "      <th>key_2</th>\n",
              "      <th>key_3</th>\n",
              "      <th>key_4</th>\n",
              "      <th>key_5</th>\n",
              "      <th>key_6</th>\n",
              "      <th>key_7</th>\n",
              "      <th>key_8</th>\n",
              "      <th>key_9</th>\n",
              "      <th>key_10</th>\n",
              "      <th>key_11</th>\n",
              "      <th>time_signature_1</th>\n",
              "      <th>time_signature_3</th>\n",
              "      <th>time_signature_4</th>\n",
              "      <th>time_signature_5</th>\n",
              "      <th>track_spotify_genre_country</th>\n",
              "      <th>track_spotify_genre_hip-hop</th>\n",
              "      <th>track_spotify_genre_house</th>\n",
              "      <th>track_spotify_genre_indie</th>\n",
              "      <th>track_spotify_genre_pop</th>\n",
              "      <th>track_spotify_genre_r&amp;b</th>\n",
              "      <th>track_spotify_genre_rock</th>\n",
              "    </tr>\n",
              "  </thead>\n",
              "  <tbody>\n",
              "    <tr>\n",
              "      <th>0</th>\n",
              "      <td>50</td>\n",
              "      <td>2011</td>\n",
              "      <td>247010</td>\n",
              "      <td>0.41200</td>\n",
              "      <td>0.0357</td>\n",
              "      <td>0.94300</td>\n",
              "      <td>1</td>\n",
              "      <td>88.113</td>\n",
              "      <td>0.1930</td>\n",
              "      <td>0.1670</td>\n",
              "      <td>0.000121</td>\n",
              "      <td>0.7570</td>\n",
              "      <td>0</td>\n",
              "      <td>1</td>\n",
              "      <td>0</td>\n",
              "      <td>0</td>\n",
              "      <td>0</td>\n",
              "      <td>0</td>\n",
              "      <td>0</td>\n",
              "      <td>0</td>\n",
              "      <td>0</td>\n",
              "      <td>0</td>\n",
              "      <td>0</td>\n",
              "      <td>0</td>\n",
              "      <td>0</td>\n",
              "      <td>1</td>\n",
              "      <td>0</td>\n",
              "      <td>0</td>\n",
              "      <td>0</td>\n",
              "      <td>0</td>\n",
              "      <td>0</td>\n",
              "      <td>0</td>\n",
              "      <td>0</td>\n",
              "      <td>0</td>\n",
              "    </tr>\n",
              "    <tr>\n",
              "      <th>1</th>\n",
              "      <td>44</td>\n",
              "      <td>2011</td>\n",
              "      <td>353667</td>\n",
              "      <td>0.72700</td>\n",
              "      <td>0.0462</td>\n",
              "      <td>0.03010</td>\n",
              "      <td>0</td>\n",
              "      <td>87.349</td>\n",
              "      <td>0.3910</td>\n",
              "      <td>0.4850</td>\n",
              "      <td>0.758000</td>\n",
              "      <td>0.1630</td>\n",
              "      <td>0</td>\n",
              "      <td>0</td>\n",
              "      <td>0</td>\n",
              "      <td>0</td>\n",
              "      <td>0</td>\n",
              "      <td>0</td>\n",
              "      <td>0</td>\n",
              "      <td>0</td>\n",
              "      <td>0</td>\n",
              "      <td>0</td>\n",
              "      <td>1</td>\n",
              "      <td>0</td>\n",
              "      <td>0</td>\n",
              "      <td>1</td>\n",
              "      <td>0</td>\n",
              "      <td>0</td>\n",
              "      <td>0</td>\n",
              "      <td>0</td>\n",
              "      <td>0</td>\n",
              "      <td>0</td>\n",
              "      <td>0</td>\n",
              "      <td>0</td>\n",
              "    </tr>\n",
              "    <tr>\n",
              "      <th>2</th>\n",
              "      <td>39</td>\n",
              "      <td>2011</td>\n",
              "      <td>400626</td>\n",
              "      <td>0.07450</td>\n",
              "      <td>0.0361</td>\n",
              "      <td>0.93600</td>\n",
              "      <td>0</td>\n",
              "      <td>72.547</td>\n",
              "      <td>0.0322</td>\n",
              "      <td>0.0722</td>\n",
              "      <td>0.840000</td>\n",
              "      <td>0.1130</td>\n",
              "      <td>0</td>\n",
              "      <td>0</td>\n",
              "      <td>0</td>\n",
              "      <td>0</td>\n",
              "      <td>0</td>\n",
              "      <td>0</td>\n",
              "      <td>0</td>\n",
              "      <td>0</td>\n",
              "      <td>0</td>\n",
              "      <td>1</td>\n",
              "      <td>0</td>\n",
              "      <td>0</td>\n",
              "      <td>0</td>\n",
              "      <td>1</td>\n",
              "      <td>0</td>\n",
              "      <td>0</td>\n",
              "      <td>0</td>\n",
              "      <td>0</td>\n",
              "      <td>0</td>\n",
              "      <td>0</td>\n",
              "      <td>0</td>\n",
              "      <td>0</td>\n",
              "    </tr>\n",
              "    <tr>\n",
              "      <th>3</th>\n",
              "      <td>37</td>\n",
              "      <td>2011</td>\n",
              "      <td>163000</td>\n",
              "      <td>0.00385</td>\n",
              "      <td>0.0449</td>\n",
              "      <td>0.99500</td>\n",
              "      <td>0</td>\n",
              "      <td>141.201</td>\n",
              "      <td>0.1170</td>\n",
              "      <td>0.2280</td>\n",
              "      <td>0.917000</td>\n",
              "      <td>0.0858</td>\n",
              "      <td>0</td>\n",
              "      <td>0</td>\n",
              "      <td>0</td>\n",
              "      <td>0</td>\n",
              "      <td>0</td>\n",
              "      <td>0</td>\n",
              "      <td>0</td>\n",
              "      <td>0</td>\n",
              "      <td>1</td>\n",
              "      <td>0</td>\n",
              "      <td>0</td>\n",
              "      <td>0</td>\n",
              "      <td>1</td>\n",
              "      <td>0</td>\n",
              "      <td>0</td>\n",
              "      <td>0</td>\n",
              "      <td>0</td>\n",
              "      <td>0</td>\n",
              "      <td>0</td>\n",
              "      <td>0</td>\n",
              "      <td>0</td>\n",
              "      <td>0</td>\n",
              "    </tr>\n",
              "    <tr>\n",
              "      <th>4</th>\n",
              "      <td>41</td>\n",
              "      <td>2011</td>\n",
              "      <td>253991</td>\n",
              "      <td>0.30500</td>\n",
              "      <td>0.0318</td>\n",
              "      <td>0.93600</td>\n",
              "      <td>1</td>\n",
              "      <td>85.786</td>\n",
              "      <td>0.4460</td>\n",
              "      <td>0.2300</td>\n",
              "      <td>0.000002</td>\n",
              "      <td>0.7440</td>\n",
              "      <td>0</td>\n",
              "      <td>0</td>\n",
              "      <td>0</td>\n",
              "      <td>0</td>\n",
              "      <td>0</td>\n",
              "      <td>0</td>\n",
              "      <td>1</td>\n",
              "      <td>0</td>\n",
              "      <td>0</td>\n",
              "      <td>0</td>\n",
              "      <td>0</td>\n",
              "      <td>0</td>\n",
              "      <td>1</td>\n",
              "      <td>0</td>\n",
              "      <td>0</td>\n",
              "      <td>0</td>\n",
              "      <td>0</td>\n",
              "      <td>0</td>\n",
              "      <td>0</td>\n",
              "      <td>0</td>\n",
              "      <td>0</td>\n",
              "      <td>0</td>\n",
              "    </tr>\n",
              "    <tr>\n",
              "      <th>...</th>\n",
              "      <td>...</td>\n",
              "      <td>...</td>\n",
              "      <td>...</td>\n",
              "      <td>...</td>\n",
              "      <td>...</td>\n",
              "      <td>...</td>\n",
              "      <td>...</td>\n",
              "      <td>...</td>\n",
              "      <td>...</td>\n",
              "      <td>...</td>\n",
              "      <td>...</td>\n",
              "      <td>...</td>\n",
              "      <td>...</td>\n",
              "      <td>...</td>\n",
              "      <td>...</td>\n",
              "      <td>...</td>\n",
              "      <td>...</td>\n",
              "      <td>...</td>\n",
              "      <td>...</td>\n",
              "      <td>...</td>\n",
              "      <td>...</td>\n",
              "      <td>...</td>\n",
              "      <td>...</td>\n",
              "      <td>...</td>\n",
              "      <td>...</td>\n",
              "      <td>...</td>\n",
              "      <td>...</td>\n",
              "      <td>...</td>\n",
              "      <td>...</td>\n",
              "      <td>...</td>\n",
              "      <td>...</td>\n",
              "      <td>...</td>\n",
              "      <td>...</td>\n",
              "      <td>...</td>\n",
              "    </tr>\n",
              "    <tr>\n",
              "      <th>66766</th>\n",
              "      <td>52</td>\n",
              "      <td>2020</td>\n",
              "      <td>270476</td>\n",
              "      <td>0.90800</td>\n",
              "      <td>0.0415</td>\n",
              "      <td>0.00001</td>\n",
              "      <td>0</td>\n",
              "      <td>110.936</td>\n",
              "      <td>0.2700</td>\n",
              "      <td>0.2970</td>\n",
              "      <td>0.848000</td>\n",
              "      <td>0.1400</td>\n",
              "      <td>0</td>\n",
              "      <td>0</td>\n",
              "      <td>0</td>\n",
              "      <td>0</td>\n",
              "      <td>1</td>\n",
              "      <td>0</td>\n",
              "      <td>0</td>\n",
              "      <td>0</td>\n",
              "      <td>0</td>\n",
              "      <td>0</td>\n",
              "      <td>0</td>\n",
              "      <td>0</td>\n",
              "      <td>0</td>\n",
              "      <td>0</td>\n",
              "      <td>1</td>\n",
              "      <td>0</td>\n",
              "      <td>0</td>\n",
              "      <td>0</td>\n",
              "      <td>0</td>\n",
              "      <td>0</td>\n",
              "      <td>0</td>\n",
              "      <td>1</td>\n",
              "    </tr>\n",
              "    <tr>\n",
              "      <th>66767</th>\n",
              "      <td>49</td>\n",
              "      <td>2020</td>\n",
              "      <td>194989</td>\n",
              "      <td>0.33100</td>\n",
              "      <td>0.0323</td>\n",
              "      <td>0.82500</td>\n",
              "      <td>1</td>\n",
              "      <td>99.093</td>\n",
              "      <td>0.5600</td>\n",
              "      <td>0.7700</td>\n",
              "      <td>0.019500</td>\n",
              "      <td>0.1580</td>\n",
              "      <td>0</td>\n",
              "      <td>0</td>\n",
              "      <td>0</td>\n",
              "      <td>1</td>\n",
              "      <td>0</td>\n",
              "      <td>0</td>\n",
              "      <td>0</td>\n",
              "      <td>0</td>\n",
              "      <td>0</td>\n",
              "      <td>0</td>\n",
              "      <td>0</td>\n",
              "      <td>0</td>\n",
              "      <td>0</td>\n",
              "      <td>1</td>\n",
              "      <td>0</td>\n",
              "      <td>0</td>\n",
              "      <td>0</td>\n",
              "      <td>0</td>\n",
              "      <td>0</td>\n",
              "      <td>0</td>\n",
              "      <td>0</td>\n",
              "      <td>1</td>\n",
              "    </tr>\n",
              "    <tr>\n",
              "      <th>66768</th>\n",
              "      <td>50</td>\n",
              "      <td>2020</td>\n",
              "      <td>192066</td>\n",
              "      <td>0.83700</td>\n",
              "      <td>0.0520</td>\n",
              "      <td>0.00324</td>\n",
              "      <td>1</td>\n",
              "      <td>121.901</td>\n",
              "      <td>0.2300</td>\n",
              "      <td>0.4760</td>\n",
              "      <td>0.000000</td>\n",
              "      <td>0.1050</td>\n",
              "      <td>0</td>\n",
              "      <td>0</td>\n",
              "      <td>0</td>\n",
              "      <td>0</td>\n",
              "      <td>0</td>\n",
              "      <td>0</td>\n",
              "      <td>0</td>\n",
              "      <td>0</td>\n",
              "      <td>0</td>\n",
              "      <td>0</td>\n",
              "      <td>0</td>\n",
              "      <td>0</td>\n",
              "      <td>0</td>\n",
              "      <td>1</td>\n",
              "      <td>0</td>\n",
              "      <td>0</td>\n",
              "      <td>0</td>\n",
              "      <td>0</td>\n",
              "      <td>0</td>\n",
              "      <td>0</td>\n",
              "      <td>0</td>\n",
              "      <td>1</td>\n",
              "    </tr>\n",
              "    <tr>\n",
              "      <th>66769</th>\n",
              "      <td>57</td>\n",
              "      <td>2020</td>\n",
              "      <td>261880</td>\n",
              "      <td>0.37100</td>\n",
              "      <td>0.0272</td>\n",
              "      <td>0.54700</td>\n",
              "      <td>1</td>\n",
              "      <td>66.853</td>\n",
              "      <td>0.1960</td>\n",
              "      <td>0.4310</td>\n",
              "      <td>0.015400</td>\n",
              "      <td>0.0921</td>\n",
              "      <td>0</td>\n",
              "      <td>0</td>\n",
              "      <td>0</td>\n",
              "      <td>0</td>\n",
              "      <td>0</td>\n",
              "      <td>0</td>\n",
              "      <td>1</td>\n",
              "      <td>0</td>\n",
              "      <td>0</td>\n",
              "      <td>0</td>\n",
              "      <td>0</td>\n",
              "      <td>0</td>\n",
              "      <td>0</td>\n",
              "      <td>1</td>\n",
              "      <td>0</td>\n",
              "      <td>0</td>\n",
              "      <td>0</td>\n",
              "      <td>0</td>\n",
              "      <td>0</td>\n",
              "      <td>0</td>\n",
              "      <td>0</td>\n",
              "      <td>1</td>\n",
              "    </tr>\n",
              "    <tr>\n",
              "      <th>66770</th>\n",
              "      <td>50</td>\n",
              "      <td>2020</td>\n",
              "      <td>227684</td>\n",
              "      <td>0.42700</td>\n",
              "      <td>0.2320</td>\n",
              "      <td>0.77100</td>\n",
              "      <td>1</td>\n",
              "      <td>115.988</td>\n",
              "      <td>0.3200</td>\n",
              "      <td>0.6320</td>\n",
              "      <td>0.001470</td>\n",
              "      <td>0.1110</td>\n",
              "      <td>0</td>\n",
              "      <td>0</td>\n",
              "      <td>0</td>\n",
              "      <td>0</td>\n",
              "      <td>0</td>\n",
              "      <td>0</td>\n",
              "      <td>0</td>\n",
              "      <td>0</td>\n",
              "      <td>0</td>\n",
              "      <td>0</td>\n",
              "      <td>0</td>\n",
              "      <td>0</td>\n",
              "      <td>0</td>\n",
              "      <td>1</td>\n",
              "      <td>0</td>\n",
              "      <td>0</td>\n",
              "      <td>0</td>\n",
              "      <td>0</td>\n",
              "      <td>0</td>\n",
              "      <td>0</td>\n",
              "      <td>0</td>\n",
              "      <td>1</td>\n",
              "    </tr>\n",
              "  </tbody>\n",
              "</table>\n",
              "<p>66771 rows × 34 columns</p>\n",
              "</div>"
            ],
            "text/plain": [
              "       track_pop  track_year  ...  track_spotify_genre_r&b  track_spotify_genre_rock\n",
              "0             50        2011  ...                        0                         0\n",
              "1             44        2011  ...                        0                         0\n",
              "2             39        2011  ...                        0                         0\n",
              "3             37        2011  ...                        0                         0\n",
              "4             41        2011  ...                        0                         0\n",
              "...          ...         ...  ...                      ...                       ...\n",
              "66766         52        2020  ...                        0                         1\n",
              "66767         49        2020  ...                        0                         1\n",
              "66768         50        2020  ...                        0                         1\n",
              "66769         57        2020  ...                        0                         1\n",
              "66770         50        2020  ...                        0                         1\n",
              "\n",
              "[66771 rows x 34 columns]"
            ]
          },
          "metadata": {
            "tags": []
          },
          "execution_count": 96
        }
      ]
    },
    {
      "cell_type": "markdown",
      "metadata": {
        "id": "6bLaplFjOTKS"
      },
      "source": [
        "## Linear Regression"
      ]
    },
    {
      "cell_type": "code",
      "metadata": {
        "id": "Qg2eSiL85_Kg",
        "colab": {
          "base_uri": "https://localhost:8080/",
          "height": 1000
        },
        "outputId": "f7c3bb5d-289e-45fb-f3d6-dab44be300d1"
      },
      "source": [
        "model = sm.OLS(y_train,X_train)\n",
        "results = model.fit()\n",
        "results.summary()"
      ],
      "execution_count": 117,
      "outputs": [
        {
          "output_type": "execute_result",
          "data": {
            "text/html": [
              "<table class=\"simpletable\">\n",
              "<caption>OLS Regression Results</caption>\n",
              "<tr>\n",
              "  <th>Dep. Variable:</th>        <td>track_pop</td>    <th>  R-squared (uncentered):</th>       <td>   0.927</td>  \n",
              "</tr>\n",
              "<tr>\n",
              "  <th>Model:</th>                   <td>OLS</td>       <th>  Adj. R-squared (uncentered):</th>  <td>   0.927</td>  \n",
              "</tr>\n",
              "<tr>\n",
              "  <th>Method:</th>             <td>Least Squares</td>  <th>  F-statistic:       </th>           <td>1.713e+04</td> \n",
              "</tr>\n",
              "<tr>\n",
              "  <th>Date:</th>             <td>Sat, 12 Jun 2021</td> <th>  Prob (F-statistic):</th>            <td>  0.00</td>   \n",
              "</tr>\n",
              "<tr>\n",
              "  <th>Time:</th>                 <td>01:27:55</td>     <th>  Log-Likelihood:    </th>          <td>-1.7989e+05</td>\n",
              "</tr>\n",
              "<tr>\n",
              "  <th>No. Observations:</th>      <td> 44736</td>      <th>  AIC:               </th>           <td>3.599e+05</td> \n",
              "</tr>\n",
              "<tr>\n",
              "  <th>Df Residuals:</th>          <td> 44703</td>      <th>  BIC:               </th>           <td>3.601e+05</td> \n",
              "</tr>\n",
              "<tr>\n",
              "  <th>Df Model:</th>              <td>    33</td>      <th>                     </th>               <td> </td>     \n",
              "</tr>\n",
              "<tr>\n",
              "  <th>Covariance Type:</th>      <td>nonrobust</td>    <th>                     </th>               <td> </td>     \n",
              "</tr>\n",
              "</table>\n",
              "<table class=\"simpletable\">\n",
              "<tr>\n",
              "               <td></td>                  <th>coef</th>     <th>std err</th>      <th>t</th>      <th>P>|t|</th>  <th>[0.025</th>    <th>0.975]</th>  \n",
              "</tr>\n",
              "<tr>\n",
              "  <th>track_year</th>                  <td>    0.0467</td> <td>    0.003</td> <td>   14.054</td> <td> 0.000</td> <td>    0.040</td> <td>    0.053</td>\n",
              "</tr>\n",
              "<tr>\n",
              "  <th>duration_ms</th>                 <td> -1.06e-05</td> <td> 9.64e-07</td> <td>  -11.000</td> <td> 0.000</td> <td>-1.25e-05</td> <td>-8.72e-06</td>\n",
              "</tr>\n",
              "<tr>\n",
              "  <th>energy</th>                      <td>   -5.4438</td> <td>    0.482</td> <td>  -11.300</td> <td> 0.000</td> <td>   -6.388</td> <td>   -4.500</td>\n",
              "</tr>\n",
              "<tr>\n",
              "  <th>speechiness</th>                 <td>    3.2250</td> <td>    0.737</td> <td>    4.374</td> <td> 0.000</td> <td>    1.780</td> <td>    4.670</td>\n",
              "</tr>\n",
              "<tr>\n",
              "  <th>acousticness</th>                <td>    0.4705</td> <td>    0.333</td> <td>    1.415</td> <td> 0.157</td> <td>   -0.181</td> <td>    1.122</td>\n",
              "</tr>\n",
              "<tr>\n",
              "  <th>mode</th>                        <td>   -0.5027</td> <td>    0.143</td> <td>   -3.525</td> <td> 0.000</td> <td>   -0.782</td> <td>   -0.223</td>\n",
              "</tr>\n",
              "<tr>\n",
              "  <th>tempo</th>                       <td>    0.0039</td> <td>    0.002</td> <td>    1.664</td> <td> 0.096</td> <td>   -0.001</td> <td>    0.008</td>\n",
              "</tr>\n",
              "<tr>\n",
              "  <th>valence</th>                     <td>   -1.5247</td> <td>    0.338</td> <td>   -4.507</td> <td> 0.000</td> <td>   -2.188</td> <td>   -0.862</td>\n",
              "</tr>\n",
              "<tr>\n",
              "  <th>danceability</th>                <td>   14.9511</td> <td>    0.545</td> <td>   27.448</td> <td> 0.000</td> <td>   13.883</td> <td>   16.019</td>\n",
              "</tr>\n",
              "<tr>\n",
              "  <th>instrumentalness</th>            <td>  -11.1429</td> <td>    0.335</td> <td>  -33.256</td> <td> 0.000</td> <td>  -11.800</td> <td>  -10.486</td>\n",
              "</tr>\n",
              "<tr>\n",
              "  <th>liveness</th>                    <td>   -9.4745</td> <td>    0.417</td> <td>  -22.741</td> <td> 0.000</td> <td>  -10.291</td> <td>   -8.658</td>\n",
              "</tr>\n",
              "<tr>\n",
              "  <th>key_1</th>                       <td>    0.1715</td> <td>    0.269</td> <td>    0.637</td> <td> 0.524</td> <td>   -0.357</td> <td>    0.700</td>\n",
              "</tr>\n",
              "<tr>\n",
              "  <th>key_2</th>                       <td>   -0.5530</td> <td>    0.285</td> <td>   -1.942</td> <td> 0.052</td> <td>   -1.111</td> <td>    0.005</td>\n",
              "</tr>\n",
              "<tr>\n",
              "  <th>key_3</th>                       <td>    0.5323</td> <td>    0.414</td> <td>    1.285</td> <td> 0.199</td> <td>   -0.280</td> <td>    1.345</td>\n",
              "</tr>\n",
              "<tr>\n",
              "  <th>key_4</th>                       <td>   -0.4761</td> <td>    0.307</td> <td>   -1.552</td> <td> 0.121</td> <td>   -1.077</td> <td>    0.125</td>\n",
              "</tr>\n",
              "<tr>\n",
              "  <th>key_5</th>                       <td>    0.4666</td> <td>    0.298</td> <td>    1.564</td> <td> 0.118</td> <td>   -0.118</td> <td>    1.051</td>\n",
              "</tr>\n",
              "<tr>\n",
              "  <th>key_6</th>                       <td>   -0.0435</td> <td>    0.302</td> <td>   -0.144</td> <td> 0.886</td> <td>   -0.636</td> <td>    0.549</td>\n",
              "</tr>\n",
              "<tr>\n",
              "  <th>key_7</th>                       <td>   -0.4246</td> <td>    0.275</td> <td>   -1.546</td> <td> 0.122</td> <td>   -0.963</td> <td>    0.114</td>\n",
              "</tr>\n",
              "<tr>\n",
              "  <th>key_8</th>                       <td>    0.8210</td> <td>    0.304</td> <td>    2.705</td> <td> 0.007</td> <td>    0.226</td> <td>    1.416</td>\n",
              "</tr>\n",
              "<tr>\n",
              "  <th>key_9</th>                       <td>   -0.9772</td> <td>    0.286</td> <td>   -3.415</td> <td> 0.001</td> <td>   -1.538</td> <td>   -0.416</td>\n",
              "</tr>\n",
              "<tr>\n",
              "  <th>key_10</th>                      <td>    0.3668</td> <td>    0.321</td> <td>    1.142</td> <td> 0.254</td> <td>   -0.263</td> <td>    0.996</td>\n",
              "</tr>\n",
              "<tr>\n",
              "  <th>key_11</th>                      <td>   -0.0979</td> <td>    0.292</td> <td>   -0.335</td> <td> 0.738</td> <td>   -0.671</td> <td>    0.475</td>\n",
              "</tr>\n",
              "<tr>\n",
              "  <th>time_signature_1</th>            <td>  -56.0646</td> <td>    6.778</td> <td>   -8.272</td> <td> 0.000</td> <td>  -69.349</td> <td>  -42.781</td>\n",
              "</tr>\n",
              "<tr>\n",
              "  <th>time_signature_3</th>            <td>  -57.4242</td> <td>    6.708</td> <td>   -8.561</td> <td> 0.000</td> <td>  -70.571</td> <td>  -44.277</td>\n",
              "</tr>\n",
              "<tr>\n",
              "  <th>time_signature_4</th>            <td>  -57.3409</td> <td>    6.704</td> <td>   -8.553</td> <td> 0.000</td> <td>  -70.481</td> <td>  -44.201</td>\n",
              "</tr>\n",
              "<tr>\n",
              "  <th>time_signature_5</th>            <td>  -57.5226</td> <td>    6.726</td> <td>   -8.552</td> <td> 0.000</td> <td>  -70.706</td> <td>  -44.339</td>\n",
              "</tr>\n",
              "<tr>\n",
              "  <th>track_spotify_genre_country</th> <td>    4.6970</td> <td>    0.662</td> <td>    7.100</td> <td> 0.000</td> <td>    3.400</td> <td>    5.994</td>\n",
              "</tr>\n",
              "<tr>\n",
              "  <th>track_spotify_genre_hip-hop</th> <td>   12.5855</td> <td>    0.677</td> <td>   18.587</td> <td> 0.000</td> <td>   11.258</td> <td>   13.913</td>\n",
              "</tr>\n",
              "<tr>\n",
              "  <th>track_spotify_genre_house</th>   <td>    9.5413</td> <td>    0.662</td> <td>   14.417</td> <td> 0.000</td> <td>    8.244</td> <td>   10.838</td>\n",
              "</tr>\n",
              "<tr>\n",
              "  <th>track_spotify_genre_indie</th>   <td>   15.2240</td> <td>    0.654</td> <td>   23.268</td> <td> 0.000</td> <td>   13.942</td> <td>   16.506</td>\n",
              "</tr>\n",
              "<tr>\n",
              "  <th>track_spotify_genre_pop</th>     <td>   14.6844</td> <td>    0.665</td> <td>   22.097</td> <td> 0.000</td> <td>   13.382</td> <td>   15.987</td>\n",
              "</tr>\n",
              "<tr>\n",
              "  <th>track_spotify_genre_r&b</th>     <td>    3.2876</td> <td>    0.663</td> <td>    4.957</td> <td> 0.000</td> <td>    1.988</td> <td>    4.588</td>\n",
              "</tr>\n",
              "<tr>\n",
              "  <th>track_spotify_genre_rock</th>    <td>   15.7864</td> <td>    0.657</td> <td>   24.015</td> <td> 0.000</td> <td>   14.498</td> <td>   17.075</td>\n",
              "</tr>\n",
              "</table>\n",
              "<table class=\"simpletable\">\n",
              "<tr>\n",
              "  <th>Omnibus:</th>       <td>5239.777</td> <th>  Durbin-Watson:     </th> <td>   1.996</td> \n",
              "</tr>\n",
              "<tr>\n",
              "  <th>Prob(Omnibus):</th>  <td> 0.000</td>  <th>  Jarque-Bera (JB):  </th> <td>11186.265</td>\n",
              "</tr>\n",
              "<tr>\n",
              "  <th>Skew:</th>           <td>-0.728</td>  <th>  Prob(JB):          </th> <td>    0.00</td> \n",
              "</tr>\n",
              "<tr>\n",
              "  <th>Kurtosis:</th>       <td> 4.970</td>  <th>  Cond. No.          </th> <td>4.97e+07</td> \n",
              "</tr>\n",
              "</table><br/><br/>Warnings:<br/>[1] Standard Errors assume that the covariance matrix of the errors is correctly specified.<br/>[2] The condition number is large, 4.97e+07. This might indicate that there are<br/>strong multicollinearity or other numerical problems."
            ],
            "text/plain": [
              "<class 'statsmodels.iolib.summary.Summary'>\n",
              "\"\"\"\n",
              "                                 OLS Regression Results                                \n",
              "=======================================================================================\n",
              "Dep. Variable:              track_pop   R-squared (uncentered):                   0.927\n",
              "Model:                            OLS   Adj. R-squared (uncentered):              0.927\n",
              "Method:                 Least Squares   F-statistic:                          1.713e+04\n",
              "Date:                Sat, 12 Jun 2021   Prob (F-statistic):                        0.00\n",
              "Time:                        01:27:55   Log-Likelihood:                     -1.7989e+05\n",
              "No. Observations:               44736   AIC:                                  3.599e+05\n",
              "Df Residuals:                   44703   BIC:                                  3.601e+05\n",
              "Df Model:                          33                                                  \n",
              "Covariance Type:            nonrobust                                                  \n",
              "===============================================================================================\n",
              "                                  coef    std err          t      P>|t|      [0.025      0.975]\n",
              "-----------------------------------------------------------------------------------------------\n",
              "track_year                      0.0467      0.003     14.054      0.000       0.040       0.053\n",
              "duration_ms                  -1.06e-05   9.64e-07    -11.000      0.000   -1.25e-05   -8.72e-06\n",
              "energy                         -5.4438      0.482    -11.300      0.000      -6.388      -4.500\n",
              "speechiness                     3.2250      0.737      4.374      0.000       1.780       4.670\n",
              "acousticness                    0.4705      0.333      1.415      0.157      -0.181       1.122\n",
              "mode                           -0.5027      0.143     -3.525      0.000      -0.782      -0.223\n",
              "tempo                           0.0039      0.002      1.664      0.096      -0.001       0.008\n",
              "valence                        -1.5247      0.338     -4.507      0.000      -2.188      -0.862\n",
              "danceability                   14.9511      0.545     27.448      0.000      13.883      16.019\n",
              "instrumentalness              -11.1429      0.335    -33.256      0.000     -11.800     -10.486\n",
              "liveness                       -9.4745      0.417    -22.741      0.000     -10.291      -8.658\n",
              "key_1                           0.1715      0.269      0.637      0.524      -0.357       0.700\n",
              "key_2                          -0.5530      0.285     -1.942      0.052      -1.111       0.005\n",
              "key_3                           0.5323      0.414      1.285      0.199      -0.280       1.345\n",
              "key_4                          -0.4761      0.307     -1.552      0.121      -1.077       0.125\n",
              "key_5                           0.4666      0.298      1.564      0.118      -0.118       1.051\n",
              "key_6                          -0.0435      0.302     -0.144      0.886      -0.636       0.549\n",
              "key_7                          -0.4246      0.275     -1.546      0.122      -0.963       0.114\n",
              "key_8                           0.8210      0.304      2.705      0.007       0.226       1.416\n",
              "key_9                          -0.9772      0.286     -3.415      0.001      -1.538      -0.416\n",
              "key_10                          0.3668      0.321      1.142      0.254      -0.263       0.996\n",
              "key_11                         -0.0979      0.292     -0.335      0.738      -0.671       0.475\n",
              "time_signature_1              -56.0646      6.778     -8.272      0.000     -69.349     -42.781\n",
              "time_signature_3              -57.4242      6.708     -8.561      0.000     -70.571     -44.277\n",
              "time_signature_4              -57.3409      6.704     -8.553      0.000     -70.481     -44.201\n",
              "time_signature_5              -57.5226      6.726     -8.552      0.000     -70.706     -44.339\n",
              "track_spotify_genre_country     4.6970      0.662      7.100      0.000       3.400       5.994\n",
              "track_spotify_genre_hip-hop    12.5855      0.677     18.587      0.000      11.258      13.913\n",
              "track_spotify_genre_house       9.5413      0.662     14.417      0.000       8.244      10.838\n",
              "track_spotify_genre_indie      15.2240      0.654     23.268      0.000      13.942      16.506\n",
              "track_spotify_genre_pop        14.6844      0.665     22.097      0.000      13.382      15.987\n",
              "track_spotify_genre_r&b         3.2876      0.663      4.957      0.000       1.988       4.588\n",
              "track_spotify_genre_rock       15.7864      0.657     24.015      0.000      14.498      17.075\n",
              "==============================================================================\n",
              "Omnibus:                     5239.777   Durbin-Watson:                   1.996\n",
              "Prob(Omnibus):                  0.000   Jarque-Bera (JB):            11186.265\n",
              "Skew:                          -0.728   Prob(JB):                         0.00\n",
              "Kurtosis:                       4.970   Cond. No.                     4.97e+07\n",
              "==============================================================================\n",
              "\n",
              "Warnings:\n",
              "[1] Standard Errors assume that the covariance matrix of the errors is correctly specified.\n",
              "[2] The condition number is large, 4.97e+07. This might indicate that there are\n",
              "strong multicollinearity or other numerical problems.\n",
              "\"\"\""
            ]
          },
          "metadata": {
            "tags": []
          },
          "execution_count": 117
        }
      ]
    },
    {
      "cell_type": "code",
      "metadata": {
        "id": "o0pkz8xIG9JH",
        "colab": {
          "base_uri": "https://localhost:8080/"
        },
        "outputId": "50f17bbf-6189-4b5e-d3b5-6f42e10257df"
      },
      "source": [
        "print(\"Linear Regression:\")\n",
        "print(\"Test mean absolute error:\", mean_absolute_error(y_test, results.predict(X_test)))\n",
        "lr_mse = mean_squared_error(y_test,results.predict(X_test))\n",
        "print(\"Test mean-squared error:\", lr_mse)\n",
        "print(\"Test root mean squared error:\", np.sqrt(lr_mse))\n"
      ],
      "execution_count": 99,
      "outputs": [
        {
          "output_type": "stream",
          "text": [
            "Linear Regression:\n",
            "Test mean absolute error: 9.958025075640368\n",
            "Test mean-squared error: 177.63600840222045\n",
            "Test root mean squared error: 13.328015921442338\n"
          ],
          "name": "stdout"
        }
      ]
    },
    {
      "cell_type": "markdown",
      "metadata": {
        "id": "_iAQmz1kOsIx"
      },
      "source": [
        "## Random Forest"
      ]
    },
    {
      "cell_type": "code",
      "metadata": {
        "id": "60wD-MvsOw2-",
        "colab": {
          "base_uri": "https://localhost:8080/"
        },
        "outputId": "df0310d0-2875-43ac-85f6-096c75014967"
      },
      "source": [
        "rf_param_grid = {\n",
        "              'n_estimators':range(50,140, 20),\n",
        "              'max_depth':range(3,10, 2),\n",
        "              'min_samples_split': [0.05, 0.1]\n",
        "}\n",
        "rf_grid = GridSearchCV(RandomForestRegressor(), rf_param_grid, cv=3, verbose=2).fit(X_train, y_train)\n",
        "# summarize the results of the grid search"
      ],
      "execution_count": 11,
      "outputs": [
        {
          "output_type": "stream",
          "text": [
            "Fitting 3 folds for each of 40 candidates, totalling 120 fits\n",
            "[CV] max_depth=3, min_samples_split=0.05, n_estimators=50 ............\n"
          ],
          "name": "stdout"
        },
        {
          "output_type": "stream",
          "text": [
            "[Parallel(n_jobs=1)]: Using backend SequentialBackend with 1 concurrent workers.\n"
          ],
          "name": "stderr"
        },
        {
          "output_type": "stream",
          "text": [
            "[CV]  max_depth=3, min_samples_split=0.05, n_estimators=50, total=   4.3s\n",
            "[CV] max_depth=3, min_samples_split=0.05, n_estimators=50 ............\n"
          ],
          "name": "stdout"
        },
        {
          "output_type": "stream",
          "text": [
            "[Parallel(n_jobs=1)]: Done   1 out of   1 | elapsed:    4.3s remaining:    0.0s\n"
          ],
          "name": "stderr"
        },
        {
          "output_type": "stream",
          "text": [
            "[CV]  max_depth=3, min_samples_split=0.05, n_estimators=50, total=   4.2s\n",
            "[CV] max_depth=3, min_samples_split=0.05, n_estimators=50 ............\n",
            "[CV]  max_depth=3, min_samples_split=0.05, n_estimators=50, total=   4.2s\n",
            "[CV] max_depth=3, min_samples_split=0.05, n_estimators=70 ............\n",
            "[CV]  max_depth=3, min_samples_split=0.05, n_estimators=70, total=   5.9s\n",
            "[CV] max_depth=3, min_samples_split=0.05, n_estimators=70 ............\n",
            "[CV]  max_depth=3, min_samples_split=0.05, n_estimators=70, total=   5.9s\n",
            "[CV] max_depth=3, min_samples_split=0.05, n_estimators=70 ............\n",
            "[CV]  max_depth=3, min_samples_split=0.05, n_estimators=70, total=   5.9s\n",
            "[CV] max_depth=3, min_samples_split=0.05, n_estimators=90 ............\n",
            "[CV]  max_depth=3, min_samples_split=0.05, n_estimators=90, total=   7.5s\n",
            "[CV] max_depth=3, min_samples_split=0.05, n_estimators=90 ............\n",
            "[CV]  max_depth=3, min_samples_split=0.05, n_estimators=90, total=   7.1s\n",
            "[CV] max_depth=3, min_samples_split=0.05, n_estimators=90 ............\n",
            "[CV]  max_depth=3, min_samples_split=0.05, n_estimators=90, total=   7.2s\n",
            "[CV] max_depth=3, min_samples_split=0.05, n_estimators=110 ...........\n",
            "[CV]  max_depth=3, min_samples_split=0.05, n_estimators=110, total=   8.9s\n",
            "[CV] max_depth=3, min_samples_split=0.05, n_estimators=110 ...........\n",
            "[CV]  max_depth=3, min_samples_split=0.05, n_estimators=110, total=   9.0s\n",
            "[CV] max_depth=3, min_samples_split=0.05, n_estimators=110 ...........\n",
            "[CV]  max_depth=3, min_samples_split=0.05, n_estimators=110, total=   9.0s\n",
            "[CV] max_depth=3, min_samples_split=0.05, n_estimators=130 ...........\n",
            "[CV]  max_depth=3, min_samples_split=0.05, n_estimators=130, total=  10.7s\n",
            "[CV] max_depth=3, min_samples_split=0.05, n_estimators=130 ...........\n",
            "[CV]  max_depth=3, min_samples_split=0.05, n_estimators=130, total=  10.4s\n",
            "[CV] max_depth=3, min_samples_split=0.05, n_estimators=130 ...........\n",
            "[CV]  max_depth=3, min_samples_split=0.05, n_estimators=130, total=  10.2s\n",
            "[CV] max_depth=3, min_samples_split=0.1, n_estimators=50 .............\n",
            "[CV]  max_depth=3, min_samples_split=0.1, n_estimators=50, total=   3.9s\n",
            "[CV] max_depth=3, min_samples_split=0.1, n_estimators=50 .............\n",
            "[CV]  max_depth=3, min_samples_split=0.1, n_estimators=50, total=   3.9s\n",
            "[CV] max_depth=3, min_samples_split=0.1, n_estimators=50 .............\n",
            "[CV]  max_depth=3, min_samples_split=0.1, n_estimators=50, total=   4.1s\n",
            "[CV] max_depth=3, min_samples_split=0.1, n_estimators=70 .............\n",
            "[CV]  max_depth=3, min_samples_split=0.1, n_estimators=70, total=   5.6s\n",
            "[CV] max_depth=3, min_samples_split=0.1, n_estimators=70 .............\n",
            "[CV]  max_depth=3, min_samples_split=0.1, n_estimators=70, total=   5.5s\n",
            "[CV] max_depth=3, min_samples_split=0.1, n_estimators=70 .............\n",
            "[CV]  max_depth=3, min_samples_split=0.1, n_estimators=70, total=   5.5s\n",
            "[CV] max_depth=3, min_samples_split=0.1, n_estimators=90 .............\n",
            "[CV]  max_depth=3, min_samples_split=0.1, n_estimators=90, total=   7.1s\n",
            "[CV] max_depth=3, min_samples_split=0.1, n_estimators=90 .............\n",
            "[CV]  max_depth=3, min_samples_split=0.1, n_estimators=90, total=   7.1s\n",
            "[CV] max_depth=3, min_samples_split=0.1, n_estimators=90 .............\n",
            "[CV]  max_depth=3, min_samples_split=0.1, n_estimators=90, total=   7.0s\n",
            "[CV] max_depth=3, min_samples_split=0.1, n_estimators=110 ............\n",
            "[CV]  max_depth=3, min_samples_split=0.1, n_estimators=110, total=   8.7s\n",
            "[CV] max_depth=3, min_samples_split=0.1, n_estimators=110 ............\n",
            "[CV]  max_depth=3, min_samples_split=0.1, n_estimators=110, total=   8.5s\n",
            "[CV] max_depth=3, min_samples_split=0.1, n_estimators=110 ............\n",
            "[CV]  max_depth=3, min_samples_split=0.1, n_estimators=110, total=   8.6s\n",
            "[CV] max_depth=3, min_samples_split=0.1, n_estimators=130 ............\n",
            "[CV]  max_depth=3, min_samples_split=0.1, n_estimators=130, total=  10.1s\n",
            "[CV] max_depth=3, min_samples_split=0.1, n_estimators=130 ............\n",
            "[CV]  max_depth=3, min_samples_split=0.1, n_estimators=130, total=  10.1s\n",
            "[CV] max_depth=3, min_samples_split=0.1, n_estimators=130 ............\n",
            "[CV]  max_depth=3, min_samples_split=0.1, n_estimators=130, total=  10.1s\n",
            "[CV] max_depth=5, min_samples_split=0.05, n_estimators=50 ............\n",
            "[CV]  max_depth=5, min_samples_split=0.05, n_estimators=50, total=   6.4s\n",
            "[CV] max_depth=5, min_samples_split=0.05, n_estimators=50 ............\n",
            "[CV]  max_depth=5, min_samples_split=0.05, n_estimators=50, total=   6.6s\n",
            "[CV] max_depth=5, min_samples_split=0.05, n_estimators=50 ............\n",
            "[CV]  max_depth=5, min_samples_split=0.05, n_estimators=50, total=   6.3s\n",
            "[CV] max_depth=5, min_samples_split=0.05, n_estimators=70 ............\n",
            "[CV]  max_depth=5, min_samples_split=0.05, n_estimators=70, total=   8.9s\n",
            "[CV] max_depth=5, min_samples_split=0.05, n_estimators=70 ............\n",
            "[CV]  max_depth=5, min_samples_split=0.05, n_estimators=70, total=   9.1s\n",
            "[CV] max_depth=5, min_samples_split=0.05, n_estimators=70 ............\n",
            "[CV]  max_depth=5, min_samples_split=0.05, n_estimators=70, total=   9.3s\n",
            "[CV] max_depth=5, min_samples_split=0.05, n_estimators=90 ............\n",
            "[CV]  max_depth=5, min_samples_split=0.05, n_estimators=90, total=  12.0s\n",
            "[CV] max_depth=5, min_samples_split=0.05, n_estimators=90 ............\n",
            "[CV]  max_depth=5, min_samples_split=0.05, n_estimators=90, total=  12.1s\n",
            "[CV] max_depth=5, min_samples_split=0.05, n_estimators=90 ............\n",
            "[CV]  max_depth=5, min_samples_split=0.05, n_estimators=90, total=  12.0s\n",
            "[CV] max_depth=5, min_samples_split=0.05, n_estimators=110 ...........\n",
            "[CV]  max_depth=5, min_samples_split=0.05, n_estimators=110, total=  14.0s\n",
            "[CV] max_depth=5, min_samples_split=0.05, n_estimators=110 ...........\n",
            "[CV]  max_depth=5, min_samples_split=0.05, n_estimators=110, total=  14.1s\n",
            "[CV] max_depth=5, min_samples_split=0.05, n_estimators=110 ...........\n",
            "[CV]  max_depth=5, min_samples_split=0.05, n_estimators=110, total=  14.4s\n",
            "[CV] max_depth=5, min_samples_split=0.05, n_estimators=130 ...........\n",
            "[CV]  max_depth=5, min_samples_split=0.05, n_estimators=130, total=  17.0s\n",
            "[CV] max_depth=5, min_samples_split=0.05, n_estimators=130 ...........\n",
            "[CV]  max_depth=5, min_samples_split=0.05, n_estimators=130, total=  17.0s\n",
            "[CV] max_depth=5, min_samples_split=0.05, n_estimators=130 ...........\n",
            "[CV]  max_depth=5, min_samples_split=0.05, n_estimators=130, total=  17.1s\n",
            "[CV] max_depth=5, min_samples_split=0.1, n_estimators=50 .............\n",
            "[CV]  max_depth=5, min_samples_split=0.1, n_estimators=50, total=   5.9s\n",
            "[CV] max_depth=5, min_samples_split=0.1, n_estimators=50 .............\n",
            "[CV]  max_depth=5, min_samples_split=0.1, n_estimators=50, total=   5.9s\n",
            "[CV] max_depth=5, min_samples_split=0.1, n_estimators=50 .............\n",
            "[CV]  max_depth=5, min_samples_split=0.1, n_estimators=50, total=   5.7s\n",
            "[CV] max_depth=5, min_samples_split=0.1, n_estimators=70 .............\n",
            "[CV]  max_depth=5, min_samples_split=0.1, n_estimators=70, total=   8.1s\n",
            "[CV] max_depth=5, min_samples_split=0.1, n_estimators=70 .............\n",
            "[CV]  max_depth=5, min_samples_split=0.1, n_estimators=70, total=   8.2s\n",
            "[CV] max_depth=5, min_samples_split=0.1, n_estimators=70 .............\n",
            "[CV]  max_depth=5, min_samples_split=0.1, n_estimators=70, total=   8.2s\n",
            "[CV] max_depth=5, min_samples_split=0.1, n_estimators=90 .............\n",
            "[CV]  max_depth=5, min_samples_split=0.1, n_estimators=90, total=  10.3s\n",
            "[CV] max_depth=5, min_samples_split=0.1, n_estimators=90 .............\n",
            "[CV]  max_depth=5, min_samples_split=0.1, n_estimators=90, total=  10.4s\n",
            "[CV] max_depth=5, min_samples_split=0.1, n_estimators=90 .............\n",
            "[CV]  max_depth=5, min_samples_split=0.1, n_estimators=90, total=  10.3s\n",
            "[CV] max_depth=5, min_samples_split=0.1, n_estimators=110 ............\n",
            "[CV]  max_depth=5, min_samples_split=0.1, n_estimators=110, total=  13.0s\n",
            "[CV] max_depth=5, min_samples_split=0.1, n_estimators=110 ............\n",
            "[CV]  max_depth=5, min_samples_split=0.1, n_estimators=110, total=  12.8s\n",
            "[CV] max_depth=5, min_samples_split=0.1, n_estimators=110 ............\n",
            "[CV]  max_depth=5, min_samples_split=0.1, n_estimators=110, total=  12.6s\n",
            "[CV] max_depth=5, min_samples_split=0.1, n_estimators=130 ............\n",
            "[CV]  max_depth=5, min_samples_split=0.1, n_estimators=130, total=  15.1s\n",
            "[CV] max_depth=5, min_samples_split=0.1, n_estimators=130 ............\n",
            "[CV]  max_depth=5, min_samples_split=0.1, n_estimators=130, total=  15.3s\n",
            "[CV] max_depth=5, min_samples_split=0.1, n_estimators=130 ............\n",
            "[CV]  max_depth=5, min_samples_split=0.1, n_estimators=130, total=  14.9s\n",
            "[CV] max_depth=7, min_samples_split=0.05, n_estimators=50 ............\n",
            "[CV]  max_depth=7, min_samples_split=0.05, n_estimators=50, total=   8.7s\n",
            "[CV] max_depth=7, min_samples_split=0.05, n_estimators=50 ............\n",
            "[CV]  max_depth=7, min_samples_split=0.05, n_estimators=50, total=   8.8s\n",
            "[CV] max_depth=7, min_samples_split=0.05, n_estimators=50 ............\n",
            "[CV]  max_depth=7, min_samples_split=0.05, n_estimators=50, total=   8.4s\n",
            "[CV] max_depth=7, min_samples_split=0.05, n_estimators=70 ............\n",
            "[CV]  max_depth=7, min_samples_split=0.05, n_estimators=70, total=  12.1s\n",
            "[CV] max_depth=7, min_samples_split=0.05, n_estimators=70 ............\n",
            "[CV]  max_depth=7, min_samples_split=0.05, n_estimators=70, total=  12.1s\n",
            "[CV] max_depth=7, min_samples_split=0.05, n_estimators=70 ............\n",
            "[CV]  max_depth=7, min_samples_split=0.05, n_estimators=70, total=  12.0s\n",
            "[CV] max_depth=7, min_samples_split=0.05, n_estimators=90 ............\n",
            "[CV]  max_depth=7, min_samples_split=0.05, n_estimators=90, total=  14.9s\n",
            "[CV] max_depth=7, min_samples_split=0.05, n_estimators=90 ............\n",
            "[CV]  max_depth=7, min_samples_split=0.05, n_estimators=90, total=  15.5s\n",
            "[CV] max_depth=7, min_samples_split=0.05, n_estimators=90 ............\n",
            "[CV]  max_depth=7, min_samples_split=0.05, n_estimators=90, total=  15.1s\n",
            "[CV] max_depth=7, min_samples_split=0.05, n_estimators=110 ...........\n",
            "[CV]  max_depth=7, min_samples_split=0.05, n_estimators=110, total=  18.8s\n",
            "[CV] max_depth=7, min_samples_split=0.05, n_estimators=110 ...........\n",
            "[CV]  max_depth=7, min_samples_split=0.05, n_estimators=110, total=  19.2s\n",
            "[CV] max_depth=7, min_samples_split=0.05, n_estimators=110 ...........\n",
            "[CV]  max_depth=7, min_samples_split=0.05, n_estimators=110, total=  18.5s\n",
            "[CV] max_depth=7, min_samples_split=0.05, n_estimators=130 ...........\n",
            "[CV]  max_depth=7, min_samples_split=0.05, n_estimators=130, total=  21.9s\n",
            "[CV] max_depth=7, min_samples_split=0.05, n_estimators=130 ...........\n",
            "[CV]  max_depth=7, min_samples_split=0.05, n_estimators=130, total=  21.6s\n",
            "[CV] max_depth=7, min_samples_split=0.05, n_estimators=130 ...........\n",
            "[CV]  max_depth=7, min_samples_split=0.05, n_estimators=130, total=  21.1s\n",
            "[CV] max_depth=7, min_samples_split=0.1, n_estimators=50 .............\n",
            "[CV]  max_depth=7, min_samples_split=0.1, n_estimators=50, total=   6.8s\n",
            "[CV] max_depth=7, min_samples_split=0.1, n_estimators=50 .............\n",
            "[CV]  max_depth=7, min_samples_split=0.1, n_estimators=50, total=   6.9s\n",
            "[CV] max_depth=7, min_samples_split=0.1, n_estimators=50 .............\n",
            "[CV]  max_depth=7, min_samples_split=0.1, n_estimators=50, total=   7.0s\n",
            "[CV] max_depth=7, min_samples_split=0.1, n_estimators=70 .............\n",
            "[CV]  max_depth=7, min_samples_split=0.1, n_estimators=70, total=   9.6s\n",
            "[CV] max_depth=7, min_samples_split=0.1, n_estimators=70 .............\n",
            "[CV]  max_depth=7, min_samples_split=0.1, n_estimators=70, total=   9.9s\n",
            "[CV] max_depth=7, min_samples_split=0.1, n_estimators=70 .............\n",
            "[CV]  max_depth=7, min_samples_split=0.1, n_estimators=70, total=   9.7s\n",
            "[CV] max_depth=7, min_samples_split=0.1, n_estimators=90 .............\n",
            "[CV]  max_depth=7, min_samples_split=0.1, n_estimators=90, total=  12.5s\n",
            "[CV] max_depth=7, min_samples_split=0.1, n_estimators=90 .............\n",
            "[CV]  max_depth=7, min_samples_split=0.1, n_estimators=90, total=  12.7s\n",
            "[CV] max_depth=7, min_samples_split=0.1, n_estimators=90 .............\n",
            "[CV]  max_depth=7, min_samples_split=0.1, n_estimators=90, total=  12.6s\n",
            "[CV] max_depth=7, min_samples_split=0.1, n_estimators=110 ............\n",
            "[CV]  max_depth=7, min_samples_split=0.1, n_estimators=110, total=  15.6s\n",
            "[CV] max_depth=7, min_samples_split=0.1, n_estimators=110 ............\n",
            "[CV]  max_depth=7, min_samples_split=0.1, n_estimators=110, total=  15.1s\n",
            "[CV] max_depth=7, min_samples_split=0.1, n_estimators=110 ............\n",
            "[CV]  max_depth=7, min_samples_split=0.1, n_estimators=110, total=  15.0s\n",
            "[CV] max_depth=7, min_samples_split=0.1, n_estimators=130 ............\n",
            "[CV]  max_depth=7, min_samples_split=0.1, n_estimators=130, total=  18.3s\n",
            "[CV] max_depth=7, min_samples_split=0.1, n_estimators=130 ............\n",
            "[CV]  max_depth=7, min_samples_split=0.1, n_estimators=130, total=  18.3s\n",
            "[CV] max_depth=7, min_samples_split=0.1, n_estimators=130 ............\n",
            "[CV]  max_depth=7, min_samples_split=0.1, n_estimators=130, total=  18.4s\n",
            "[CV] max_depth=9, min_samples_split=0.05, n_estimators=50 ............\n",
            "[CV]  max_depth=9, min_samples_split=0.05, n_estimators=50, total=  10.1s\n",
            "[CV] max_depth=9, min_samples_split=0.05, n_estimators=50 ............\n",
            "[CV]  max_depth=9, min_samples_split=0.05, n_estimators=50, total=  10.0s\n",
            "[CV] max_depth=9, min_samples_split=0.05, n_estimators=50 ............\n",
            "[CV]  max_depth=9, min_samples_split=0.05, n_estimators=50, total=   9.8s\n",
            "[CV] max_depth=9, min_samples_split=0.05, n_estimators=70 ............\n",
            "[CV]  max_depth=9, min_samples_split=0.05, n_estimators=70, total=  14.2s\n",
            "[CV] max_depth=9, min_samples_split=0.05, n_estimators=70 ............\n",
            "[CV]  max_depth=9, min_samples_split=0.05, n_estimators=70, total=  13.9s\n",
            "[CV] max_depth=9, min_samples_split=0.05, n_estimators=70 ............\n",
            "[CV]  max_depth=9, min_samples_split=0.05, n_estimators=70, total=  13.6s\n",
            "[CV] max_depth=9, min_samples_split=0.05, n_estimators=90 ............\n",
            "[CV]  max_depth=9, min_samples_split=0.05, n_estimators=90, total=  17.9s\n",
            "[CV] max_depth=9, min_samples_split=0.05, n_estimators=90 ............\n",
            "[CV]  max_depth=9, min_samples_split=0.05, n_estimators=90, total=  17.9s\n",
            "[CV] max_depth=9, min_samples_split=0.05, n_estimators=90 ............\n",
            "[CV]  max_depth=9, min_samples_split=0.05, n_estimators=90, total=  17.9s\n",
            "[CV] max_depth=9, min_samples_split=0.05, n_estimators=110 ...........\n",
            "[CV]  max_depth=9, min_samples_split=0.05, n_estimators=110, total=  21.7s\n",
            "[CV] max_depth=9, min_samples_split=0.05, n_estimators=110 ...........\n",
            "[CV]  max_depth=9, min_samples_split=0.05, n_estimators=110, total=  21.5s\n",
            "[CV] max_depth=9, min_samples_split=0.05, n_estimators=110 ...........\n",
            "[CV]  max_depth=9, min_samples_split=0.05, n_estimators=110, total=  21.4s\n",
            "[CV] max_depth=9, min_samples_split=0.05, n_estimators=130 ...........\n",
            "[CV]  max_depth=9, min_samples_split=0.05, n_estimators=130, total=  26.2s\n",
            "[CV] max_depth=9, min_samples_split=0.05, n_estimators=130 ...........\n",
            "[CV]  max_depth=9, min_samples_split=0.05, n_estimators=130, total=  26.0s\n",
            "[CV] max_depth=9, min_samples_split=0.05, n_estimators=130 ...........\n",
            "[CV]  max_depth=9, min_samples_split=0.05, n_estimators=130, total=  26.4s\n",
            "[CV] max_depth=9, min_samples_split=0.1, n_estimators=50 .............\n",
            "[CV]  max_depth=9, min_samples_split=0.1, n_estimators=50, total=   8.1s\n",
            "[CV] max_depth=9, min_samples_split=0.1, n_estimators=50 .............\n",
            "[CV]  max_depth=9, min_samples_split=0.1, n_estimators=50, total=   8.2s\n",
            "[CV] max_depth=9, min_samples_split=0.1, n_estimators=50 .............\n",
            "[CV]  max_depth=9, min_samples_split=0.1, n_estimators=50, total=   8.2s\n",
            "[CV] max_depth=9, min_samples_split=0.1, n_estimators=70 .............\n",
            "[CV]  max_depth=9, min_samples_split=0.1, n_estimators=70, total=  11.7s\n",
            "[CV] max_depth=9, min_samples_split=0.1, n_estimators=70 .............\n",
            "[CV]  max_depth=9, min_samples_split=0.1, n_estimators=70, total=  11.8s\n",
            "[CV] max_depth=9, min_samples_split=0.1, n_estimators=70 .............\n",
            "[CV]  max_depth=9, min_samples_split=0.1, n_estimators=70, total=  11.6s\n",
            "[CV] max_depth=9, min_samples_split=0.1, n_estimators=90 .............\n",
            "[CV]  max_depth=9, min_samples_split=0.1, n_estimators=90, total=  15.0s\n",
            "[CV] max_depth=9, min_samples_split=0.1, n_estimators=90 .............\n",
            "[CV]  max_depth=9, min_samples_split=0.1, n_estimators=90, total=  14.5s\n",
            "[CV] max_depth=9, min_samples_split=0.1, n_estimators=90 .............\n",
            "[CV]  max_depth=9, min_samples_split=0.1, n_estimators=90, total=  14.3s\n",
            "[CV] max_depth=9, min_samples_split=0.1, n_estimators=110 ............\n",
            "[CV]  max_depth=9, min_samples_split=0.1, n_estimators=110, total=  18.0s\n",
            "[CV] max_depth=9, min_samples_split=0.1, n_estimators=110 ............\n",
            "[CV]  max_depth=9, min_samples_split=0.1, n_estimators=110, total=  17.8s\n",
            "[CV] max_depth=9, min_samples_split=0.1, n_estimators=110 ............\n",
            "[CV]  max_depth=9, min_samples_split=0.1, n_estimators=110, total=  17.7s\n",
            "[CV] max_depth=9, min_samples_split=0.1, n_estimators=130 ............\n",
            "[CV]  max_depth=9, min_samples_split=0.1, n_estimators=130, total=  20.3s\n",
            "[CV] max_depth=9, min_samples_split=0.1, n_estimators=130 ............\n",
            "[CV]  max_depth=9, min_samples_split=0.1, n_estimators=130, total=  20.6s\n",
            "[CV] max_depth=9, min_samples_split=0.1, n_estimators=130 ............\n",
            "[CV]  max_depth=9, min_samples_split=0.1, n_estimators=130, total=  20.8s\n"
          ],
          "name": "stdout"
        },
        {
          "output_type": "stream",
          "text": [
            "[Parallel(n_jobs=1)]: Done 120 out of 120 | elapsed: 24.2min finished\n"
          ],
          "name": "stderr"
        }
      ]
    },
    {
      "cell_type": "code",
      "metadata": {
        "id": "eOB2JqrCThRP",
        "colab": {
          "base_uri": "https://localhost:8080/"
        },
        "outputId": "da1f7cde-2783-47af-c028-ee3c0de027e0"
      },
      "source": [
        "print(\"The best score is {}\".format(rf_grid.best_score_))\n",
        "print(\"The best hyper parameter setting is {}\".format(rf_grid.best_params_))"
      ],
      "execution_count": 12,
      "outputs": [
        {
          "output_type": "stream",
          "text": [
            "The best score is 0.31544239998897977\n",
            "The best hyper parameter setting is {'max_depth': 9, 'min_samples_split': 0.05, 'n_estimators': 90}\n"
          ],
          "name": "stdout"
        }
      ]
    },
    {
      "cell_type": "code",
      "metadata": {
        "id": "wB8BpQBEOw-K",
        "colab": {
          "base_uri": "https://localhost:8080/"
        },
        "outputId": "1107c103-7c44-41b1-93c1-1230f348d8c7"
      },
      "source": [
        "print(\"Random Forest:\")\n",
        "print(\"Test mean absolute error:\", mean_absolute_error(y_test, rf_grid.predict(X_test)))\n",
        "rf_mse = mean_squared_error(y_test,rf_grid.predict(X_test))\n",
        "print(\"Test mean-squared error:\", rf_mse)\n",
        "print(\"Test root mean squared error:\", np.sqrt(rf_mse))"
      ],
      "execution_count": 13,
      "outputs": [
        {
          "output_type": "stream",
          "text": [
            "Random Forest:\n",
            "Test mean absolute error: 9.994666435671931\n",
            "Test mean-squared error: 184.8183583245701\n",
            "Test root mean squared error: 13.594791588125583\n"
          ],
          "name": "stdout"
        }
      ]
    },
    {
      "cell_type": "markdown",
      "metadata": {
        "id": "agMiJQeWODb0"
      },
      "source": [
        "## Gradient Boost"
      ]
    },
    {
      "cell_type": "code",
      "metadata": {
        "id": "qo6mv0hA9FjN",
        "colab": {
          "base_uri": "https://localhost:8080/"
        },
        "outputId": "74225b73-8692-44ea-bed2-5fa2b09fd7df"
      },
      "source": [
        "gb_param_grid = {\n",
        "     #'learning_rate': [.01,.1,1],\n",
        "     'learning_rate':[.1],\n",
        "     #'max_depth': [4,5,6,7],\n",
        "     'max_depth':[7],\n",
        "     #'n_estimators': range(50,150,20),\n",
        "     'n_estimators':[130],\n",
        "     #'min_samples_split': [0.01, 0.05, 0.1]\n",
        "     'min_samples_split':[.01] \n",
        "}\n",
        "\n",
        "gb_grid = GridSearchCV(GradientBoostingRegressor(), gb_param_grid, cv=3, verbose=2).fit(X_train, y_train)\n",
        "\n",
        "# summarize the results of the grid search\n",
        "print(\"The best score is {}\".format(gb_grid.best_score_))\n",
        "print(\"The best hyper parameter setting is {}\".format(gb_grid.best_params_))"
      ],
      "execution_count": 100,
      "outputs": [
        {
          "output_type": "stream",
          "text": [
            "Fitting 3 folds for each of 1 candidates, totalling 3 fits\n",
            "[CV] learning_rate=0.1, max_depth=7, min_samples_split=0.01, n_estimators=130 \n"
          ],
          "name": "stdout"
        },
        {
          "output_type": "stream",
          "text": [
            "[Parallel(n_jobs=1)]: Using backend SequentialBackend with 1 concurrent workers.\n"
          ],
          "name": "stderr"
        },
        {
          "output_type": "stream",
          "text": [
            "[CV]  learning_rate=0.1, max_depth=7, min_samples_split=0.01, n_estimators=130, total=  24.7s\n",
            "[CV] learning_rate=0.1, max_depth=7, min_samples_split=0.01, n_estimators=130 \n"
          ],
          "name": "stdout"
        },
        {
          "output_type": "stream",
          "text": [
            "[Parallel(n_jobs=1)]: Done   1 out of   1 | elapsed:   24.7s remaining:    0.0s\n"
          ],
          "name": "stderr"
        },
        {
          "output_type": "stream",
          "text": [
            "[CV]  learning_rate=0.1, max_depth=7, min_samples_split=0.01, n_estimators=130, total=  24.8s\n",
            "[CV] learning_rate=0.1, max_depth=7, min_samples_split=0.01, n_estimators=130 \n",
            "[CV]  learning_rate=0.1, max_depth=7, min_samples_split=0.01, n_estimators=130, total=  24.9s\n"
          ],
          "name": "stdout"
        },
        {
          "output_type": "stream",
          "text": [
            "[Parallel(n_jobs=1)]: Done   3 out of   3 | elapsed:  1.2min finished\n"
          ],
          "name": "stderr"
        },
        {
          "output_type": "stream",
          "text": [
            "The best score is 0.4963690809306304\n",
            "The best hyper parameter setting is {'learning_rate': 0.1, 'max_depth': 7, 'min_samples_split': 0.01, 'n_estimators': 130}\n"
          ],
          "name": "stdout"
        }
      ]
    },
    {
      "cell_type": "code",
      "metadata": {
        "id": "MfmZHy1XFuMq",
        "colab": {
          "base_uri": "https://localhost:8080/"
        },
        "outputId": "5e268150-20ad-460a-bdb4-751b5fc0daf3"
      },
      "source": [
        "print(\"Gradient Boost:\")\n",
        "print(\"Test mean absolute error:\", mean_absolute_error(y_test, gb_grid.predict(X_test)))\n",
        "gb_mse = mean_squared_error(y_test,gb_grid.predict(X_test))\n",
        "print(\"Test mean-squared error:\", gb_mse)\n",
        "print(\"Test root mean squared error:\", np.sqrt(gb_mse))"
      ],
      "execution_count": 103,
      "outputs": [
        {
          "output_type": "stream",
          "text": [
            "Gradient Boost:\n",
            "Test mean absolute error: 7.640747876010466\n",
            "Test mean-squared error: 107.3892953807622\n",
            "Test root mean squared error: 10.362880650705295\n"
          ],
          "name": "stdout"
        }
      ]
    },
    {
      "cell_type": "code",
      "metadata": {
        "colab": {
          "base_uri": "https://localhost:8080/"
        },
        "id": "cat7qVArpNTX",
        "outputId": "74698832-dccb-4f0e-d485-deabbb16984f"
      },
      "source": [
        "print(max(gb_grid.predict(X_test)))\n",
        "print(max(y_test))"
      ],
      "execution_count": 104,
      "outputs": [
        {
          "output_type": "stream",
          "text": [
            "75.35197011107665\n",
            "94\n"
          ],
          "name": "stdout"
        }
      ]
    },
    {
      "cell_type": "markdown",
      "metadata": {
        "id": "rXEJmiK-P2hU"
      },
      "source": [
        "## Neural Network"
      ]
    },
    {
      "cell_type": "code",
      "metadata": {
        "id": "BjoFeQzrUHoX",
        "colab": {
          "base_uri": "https://localhost:8080/"
        },
        "outputId": "82c30b25-62ca-46c0-f2a2-249c3f1bdc69"
      },
      "source": [
        "from sklearn.utils.testing import ignore_warnings\n",
        "from sklearn.exceptions import ConvergenceWarning"
      ],
      "execution_count": null,
      "outputs": [
        {
          "output_type": "stream",
          "text": [
            "/usr/local/lib/python3.7/dist-packages/sklearn/utils/deprecation.py:144: FutureWarning: The sklearn.utils.testing module is  deprecated in version 0.22 and will be removed in version 0.24. The corresponding classes / functions should instead be imported from sklearn.utils. Anything that cannot be imported from sklearn.utils is now part of the private API.\n",
            "  warnings.warn(message, FutureWarning)\n"
          ],
          "name": "stderr"
        }
      ]
    },
    {
      "cell_type": "code",
      "metadata": {
        "id": "CDnFHM_DP1hM",
        "colab": {
          "base_uri": "https://localhost:8080/"
        },
        "outputId": "c867e520-653c-4bec-df78-343cf9aa750e"
      },
      "source": [
        "nn_param_grid = {\n",
        "     'activation': ['logistic', 'relu'],\n",
        "     'learning_rate': ['constant','adaptive'],\n",
        "     'learning_rate_init': [.001,.01],\n",
        "     'hidden_layer_sizes': [3,5,10,50,100],\n",
        "     'max_iter': [400]\n",
        "\n",
        "}\n",
        "\n",
        "nn_grid = GridSearchCV(MLPRegressor(), nn_param_grid, cv=3).fit(X_train, y_train)\n",
        "\n",
        "# summarize the results of the grid search\n",
        "print(\"The best score is {}\".format(nn_grid.best_score_))\n",
        "print(\"The best hyper parameter setting is {}\".format(nn_grid.best_params_))"
      ],
      "execution_count": null,
      "outputs": [
        {
          "output_type": "stream",
          "text": [
            "The best score is -8.038546307857312e-07\n",
            "The best hyper parameter setting is {'activation': 'logistic', 'hidden_layer_sizes': 10, 'learning_rate': 'adaptive', 'learning_rate_init': 0.01, 'max_iter': 400}\n"
          ],
          "name": "stdout"
        }
      ]
    },
    {
      "cell_type": "code",
      "metadata": {
        "id": "FS-qjdAuP1zp",
        "colab": {
          "base_uri": "https://localhost:8080/"
        },
        "outputId": "864bf3f5-f155-455c-bb62-e9033821eab6"
      },
      "source": [
        "print(\"Neural Network:\")\n",
        "print(\"Test mean absolute error:\", mean_absolute_error(y_test, nn_grid.predict(X_test)))\n",
        "nn_mse = mean_squared_error(y_test,nn_grid.predict(X_test))\n",
        "print(\"Test mean-squared error:\", mse)\n",
        "print(\"Test root mean squared error:\", np.sqrt(mse))"
      ],
      "execution_count": null,
      "outputs": [
        {
          "output_type": "stream",
          "text": [
            "Neural Network:\n",
            "Test mean absolute error: 13.12576867922241\n",
            "Test mean-squared error: 271.698105917296\n",
            "Test root mean squared error: 16.483267452701725\n"
          ],
          "name": "stdout"
        }
      ]
    },
    {
      "cell_type": "markdown",
      "metadata": {
        "id": "Ke__uG8PmrJo"
      },
      "source": [
        "## SVM"
      ]
    },
    {
      "cell_type": "code",
      "metadata": {
        "id": "e4QPGj8dmutY"
      },
      "source": [
        "from sklearn.svm import SVR"
      ],
      "execution_count": null,
      "outputs": []
    },
    {
      "cell_type": "code",
      "metadata": {
        "id": "fQBtZsIoooJC",
        "colab": {
          "base_uri": "https://localhost:8080/"
        },
        "outputId": "751a86d9-35b3-4845-a5ae-487921160fe6"
      },
      "source": [
        "svm_param_grid = {\n",
        "    #'degree': [1],\n",
        "    #'degree': [1,2,3,4],\n",
        "    'kernel': ['linear']\n",
        "}\n",
        "\n",
        "svm_grid = GridSearchCV( SVR(), svm_param_grid, cv= 3, verbose=2).fit(X_train, y_train)\n",
        "\n",
        "# summarize the results of the grid search\n",
        "print(\"The best score is {}\".format(svm_grid.best_score_))\n",
        "print(\"The best hyper parameter setting is {}\".format(svm_grid.best_params_))"
      ],
      "execution_count": null,
      "outputs": [
        {
          "output_type": "stream",
          "text": [
            "Fitting 3 folds for each of 1 candidates, totalling 3 fits\n",
            "[CV] kernel=linear ...................................................\n"
          ],
          "name": "stdout"
        },
        {
          "output_type": "stream",
          "text": [
            "[Parallel(n_jobs=1)]: Using backend SequentialBackend with 1 concurrent workers.\n"
          ],
          "name": "stderr"
        }
      ]
    },
    {
      "cell_type": "code",
      "metadata": {
        "id": "mnGe-bT8pSTg"
      },
      "source": [
        "print(\"SVM:\")\n",
        "print(\"Test mean absolute error:\", mean_absolute_error(y_test, svm_grid.predict(X_test)))\n",
        "mse = mean_squared_error(y_test,svm_grid.predict(X_test))\n",
        "print(\"Test mean-squared error:\", mse)\n",
        "print(\"Test root mean squared error:\", np.sqrt(mse))"
      ],
      "execution_count": null,
      "outputs": []
    },
    {
      "cell_type": "code",
      "metadata": {
        "id": "l_ZUO3mp0H3K"
      },
      "source": [
        "gb_pred = svm_grid.predict(X_test)\n",
        "plt.scatter(x=gb_pred, y=y_test, alpha=.5, color = 'b', label = \"Gradient Boost\")\n",
        "#plt.scatter(x=ada_pred, y=test_y, alpha=.5, color = 'r', label = \"Ada Boost\")\n",
        "plt.plot(y_test, y_test, color = 'g', label = 'Perfect Fit')\n",
        "plt.xlabel('Predicted Popularity')\n",
        "plt.ylabel('Actual Popularity')\n",
        "plt.legend(loc='upper left')\n",
        "plt.title(\"Predicted Popularity vs. Actual Popularity\")\n",
        "plt.figure(figsize=(12,8))"
      ],
      "execution_count": null,
      "outputs": []
    },
    {
      "cell_type": "markdown",
      "metadata": {
        "id": "_isTopufOI_J"
      },
      "source": [
        "## Visualizing Error"
      ]
    },
    {
      "cell_type": "code",
      "metadata": {
        "id": "YdqoJdL2ORmn",
        "colab": {
          "base_uri": "https://localhost:8080/",
          "height": 329
        },
        "outputId": "f0b50b6a-d7c8-42ff-97ef-1630f8ff109e"
      },
      "source": [
        "gb_pred = gb_grid.predict(X_test)\n",
        "plt.scatter(x=gb_pred, y=y_test, alpha=.5, color = 'b', label = \"Gradient Boost\")\n",
        "#plt.scatter(x=ada_pred, y=test_y, alpha=.5, color = 'r', label = \"Ada Boost\")\n",
        "plt.plot(y_test, y_test, color = 'g', label = 'Perfect Fit')\n",
        "plt.xlabel('Predicted Popularity')\n",
        "plt.ylabel('Actual Popularity')\n",
        "plt.legend(loc='upper left')\n",
        "plt.title(\"Predicted Popularity vs. Actual Popularity\")\n",
        "plt.figure(figsize=(12,8))"
      ],
      "execution_count": 105,
      "outputs": [
        {
          "output_type": "execute_result",
          "data": {
            "text/plain": [
              "<Figure size 864x576 with 0 Axes>"
            ]
          },
          "metadata": {
            "tags": []
          },
          "execution_count": 105
        },
        {
          "output_type": "display_data",
          "data": {
            "image/png": "[encoded data removed]",
            "text/plain": [
              "<Figure size 432x288 with 1 Axes>"
            ]
          },
          "metadata": {
            "tags": [],
            "needs_background": "light"
          }
        },
        {
          "output_type": "display_data",
          "data": {
            "text/plain": [
              "<Figure size 864x576 with 0 Axes>"
            ]
          },
          "metadata": {
            "tags": []
          }
        }
      ]
    },
    {
      "cell_type": "code",
      "metadata": {
        "id": "mDjcTOhiO0XP",
        "colab": {
          "base_uri": "https://localhost:8080/",
          "height": 329
        },
        "outputId": "85e6ed22-e153-4f46-89e3-82d30c6a2cc9"
      },
      "source": [
        "reg_pred = results.predict(X_test)\n",
        "plt.scatter(x=reg_pred, y=y_test, alpha=.5, color = 'b', label = \"Linear Regression\")\n",
        "#plt.scatter(x=ada_pred, y=test_y, alpha=.5, color = 'r', label = \"Ada Boost\")\n",
        "plt.plot(y_test, y_test, color = 'g', label = 'Perfect Fit')\n",
        "plt.xlabel('Predicted Popularity')\n",
        "plt.ylabel('Actual Popularity')\n",
        "plt.legend(loc='upper left')\n",
        "plt.title(\"Predicted Popularity vs. Actual Popularity\")\n",
        "plt.figure(figsize=(12,8))"
      ],
      "execution_count": 106,
      "outputs": [
        {
          "output_type": "execute_result",
          "data": {
            "text/plain": [
              "<Figure size 864x576 with 0 Axes>"
            ]
          },
          "metadata": {
            "tags": []
          },
          "execution_count": 106
        },
        {
          "output_type": "display_data",
          "data": {
            "image/png": "[encoded data removed]",
            "text/plain": [
              "<Figure size 432x288 with 1 Axes>"
            ]
          },
          "metadata": {
            "tags": [],
            "needs_background": "light"
          }
        },
        {
          "output_type": "display_data",
          "data": {
            "text/plain": [
              "<Figure size 864x576 with 0 Axes>"
            ]
          },
          "metadata": {
            "tags": []
          }
        }
      ]
    },
    {
      "cell_type": "markdown",
      "metadata": {
        "id": "bPxGNENX001i"
      },
      "source": [
        "Add error analysis per genre (violin)\n",
        "\n",
        "histogram of error"
      ]
    },
    {
      "cell_type": "code",
      "metadata": {
        "id": "_6lfMA9K1NAr"
      },
      "source": [
        ""
      ],
      "execution_count": null,
      "outputs": []
    }
  ]
}