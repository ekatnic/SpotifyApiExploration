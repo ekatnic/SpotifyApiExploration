{
  "nbformat": 4,
  "nbformat_minor": 0,
  "metadata": {
    "colab": {
      "name": "Spotify_Analyze_Popularity.ipynb",
      "provenance": [],
      "collapsed_sections": []
    },
    "kernelspec": {
      "name": "python3",
      "display_name": "Python 3"
    }
  },
  "cells": [
    {
      "cell_type": "markdown",
      "metadata": {
        "id": "k3_Ql7wAg9VX"
      },
      "source": [
        "#Analyze Spotify Track Data\n",
        "##In this notebook, I'll be exploring the data we scraped and cleaned in previous steps. I made some data changes based on early exploration of track features and ran the data through several ML models to try to find the most accurate way of predicting a track's popularity."
      ]
    },
    {
      "cell_type": "markdown",
      "metadata": {
        "id": "Fo1vcUFghZOi"
      },
      "source": [
        "## Initialize data and see what we're working with"
      ]
    },
    {
      "cell_type": "code",
      "metadata": {
        "id": "mh15PpCZii-C"
      },
      "source": [
        "# uploaded = files.upload()\n",
        "# import os\n",
        "# os.environ['GOOGLE_APPLICATION_CREDENTIALS'] = '/content/spotify-f1cf5-firebase-adminsdk-xxrd4-763e07c601.json'\n",
        "# import firebase_admin\n",
        "# from firebase_admin import credentials\n",
        "# from google.cloud import firestore"
      ],
      "execution_count": null,
      "outputs": []
    },
    {
      "cell_type": "code",
      "metadata": {
        "id": "gjuwPvMHh9Ks"
      },
      "source": [
        "# cred = credentials.Certificate('/content/spotify-f1cf5-firebase.json')\n",
        "# firebase_admin.initialize_app(cred, {\n",
        "#     'databaseURL': 'https://spotify-f1cf5.firebaseio.com'\n",
        "# })\n",
        "\n",
        "# db = firestore.Client()\n",
        "\n",
        "# tracks_ref = db.collection(u'tracks')\n",
        "# tracks = tracks_ref.stream()\n",
        "\n",
        "# track_list = []\n",
        "# for track in tracks:\n",
        "#   track_list.append(track.to_dict())\n",
        "# track_table = pd.DataFrame(track_list)"
      ],
      "execution_count": null,
      "outputs": []
    },
    {
      "cell_type": "code",
      "metadata": {
        "id": "1w15iMfYfUBe",
        "colab": {
          "resources": {
            "http://localhost:8080/nbextensions/google.colab/files.js": {
              "data": "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",
              "ok": true,
              "headers": [
                [
                  "content-type",
                  "application/javascript"
                ]
              ],
              "status": 200,
              "status_text": ""
            }
          },
          "base_uri": "https://localhost:8080/",
          "height": 72
        },
        "outputId": "12091323-a703-41c1-9d01-594aab5283fa"
      },
      "source": [
        "import pandas as pd\n",
        "import numpy as np\n",
        "from google.colab import files\n",
        "uploaded = files.upload()"
      ],
      "execution_count": 3,
      "outputs": [
        {
          "output_type": "display_data",
          "data": {
            "text/html": [
              "\n",
              "     <input type=\"file\" id=\"files-e0dc3fd8-1aca-4bbf-a4ea-047f09fbfda6\" name=\"files[]\" multiple disabled\n",
              "        style=\"border:none\" />\n",
              "     <output id=\"result-e0dc3fd8-1aca-4bbf-a4ea-047f09fbfda6\">\n",
              "      Upload widget is only available when the cell has been executed in the\n",
              "      current browser session. Please rerun this cell to enable.\n",
              "      </output>\n",
              "      <script src=\"/nbextensions/google.colab/files.js\"></script> "
            ],
            "text/plain": [
              "<IPython.core.display.HTML object>"
            ]
          },
          "metadata": {
            "tags": []
          }
        },
        {
          "output_type": "stream",
          "text": [
            "Saving cleaned_tracks_both.csv to cleaned_tracks_both.csv\n"
          ],
          "name": "stdout"
        }
      ]
    },
    {
      "cell_type": "code",
      "metadata": {
        "id": "LEiY5DPhjkKw"
      },
      "source": [
        "track_table = pd.read_csv(\"cleaned_tracks_both.csv\")"
      ],
      "execution_count": 4,
      "outputs": []
    },
    {
      "cell_type": "code",
      "metadata": {
        "id": "4dIM9lk6J3BP",
        "colab": {
          "base_uri": "https://localhost:8080/",
          "height": 564
        },
        "outputId": "4439f8db-fac4-4431-8c0a-cfd10c2aefa5"
      },
      "source": [
        "track_table.head()"
      ],
      "execution_count": 3,
      "outputs": [
        {
          "output_type": "execute_result",
          "data": {
            "text/html": [
              "<div>\n",
              "<style scoped>\n",
              "    .dataframe tbody tr th:only-of-type {\n",
              "        vertical-align: middle;\n",
              "    }\n",
              "\n",
              "    .dataframe tbody tr th {\n",
              "        vertical-align: top;\n",
              "    }\n",
              "\n",
              "    .dataframe thead th {\n",
              "        text-align: right;\n",
              "    }\n",
              "</style>\n",
              "<table border=\"1\" class=\"dataframe\">\n",
              "  <thead>\n",
              "    <tr style=\"text-align: right;\">\n",
              "      <th></th>\n",
              "      <th>track_pop</th>\n",
              "      <th>track_name</th>\n",
              "      <th>track_id</th>\n",
              "      <th>track_year</th>\n",
              "      <th>track_spotify_genre</th>\n",
              "      <th>art_name</th>\n",
              "      <th>art_id</th>\n",
              "      <th>alb_name</th>\n",
              "      <th>alb_id</th>\n",
              "      <th>art_genre</th>\n",
              "      <th>duration_ms</th>\n",
              "      <th>time_signature</th>\n",
              "      <th>key</th>\n",
              "      <th>loudness</th>\n",
              "      <th>energy</th>\n",
              "      <th>speechiness</th>\n",
              "      <th>acousticness</th>\n",
              "      <th>mode</th>\n",
              "      <th>tempo</th>\n",
              "      <th>valence</th>\n",
              "      <th>danceability</th>\n",
              "      <th>instrumentalness</th>\n",
              "      <th>liveness</th>\n",
              "      <th>genre_words</th>\n",
              "      <th>master_popular_genre</th>\n",
              "    </tr>\n",
              "  </thead>\n",
              "  <tbody>\n",
              "    <tr>\n",
              "      <th>0</th>\n",
              "      <td>50</td>\n",
              "      <td>Turandot / Act 3: Turandot / Act 3: \"Nessun do...</td>\n",
              "      <td>1GqszY8D6qlMHY7KmA5wE8</td>\n",
              "      <td>2011</td>\n",
              "      <td>classical</td>\n",
              "      <td>Andrea Bocelli</td>\n",
              "      <td>3EA9hVIzKfFiQI0Kikz2wo</td>\n",
              "      <td>Concerto: One Night In Central Park (Remastered)</td>\n",
              "      <td>7LkXjMXDhwqXl3l9zqxRRz</td>\n",
              "      <td>['classical tenor', 'italian tenor', 'operatic...</td>\n",
              "      <td>247010</td>\n",
              "      <td>4</td>\n",
              "      <td>2</td>\n",
              "      <td>-9.841</td>\n",
              "      <td>0.41200</td>\n",
              "      <td>0.0357</td>\n",
              "      <td>0.94300</td>\n",
              "      <td>1</td>\n",
              "      <td>88.113</td>\n",
              "      <td>0.193</td>\n",
              "      <td>0.167</td>\n",
              "      <td>0.000121</td>\n",
              "      <td>0.7570</td>\n",
              "      <td>{'classical': 1, 'tenor': 2, 'italian': 1, 'op...</td>\n",
              "      <td>pop</td>\n",
              "    </tr>\n",
              "    <tr>\n",
              "      <th>1</th>\n",
              "      <td>44</td>\n",
              "      <td>Bad Asteroid</td>\n",
              "      <td>5TzCDKy1ZmFZdW8100A8p9</td>\n",
              "      <td>2011</td>\n",
              "      <td>classical</td>\n",
              "      <td>The Aristocrats</td>\n",
              "      <td>1V4jsLjkic1Mxvdke86Qth</td>\n",
              "      <td>The Aristocrats</td>\n",
              "      <td>7GKzcJbW0Qernh0Xab1bIf</td>\n",
              "      <td>['instrumental rock', 'jazz fusion', 'neo clas...</td>\n",
              "      <td>353667</td>\n",
              "      <td>4</td>\n",
              "      <td>11</td>\n",
              "      <td>-7.257</td>\n",
              "      <td>0.72700</td>\n",
              "      <td>0.0462</td>\n",
              "      <td>0.03010</td>\n",
              "      <td>0</td>\n",
              "      <td>87.349</td>\n",
              "      <td>0.391</td>\n",
              "      <td>0.485</td>\n",
              "      <td>0.758000</td>\n",
              "      <td>0.1630</td>\n",
              "      <td>{'instrumental': 1, 'rock': 1, 'jazz': 2, 'fus...</td>\n",
              "      <td>rock</td>\n",
              "    </tr>\n",
              "    <tr>\n",
              "      <th>2</th>\n",
              "      <td>37</td>\n",
              "      <td>The Whispers</td>\n",
              "      <td>4VH3rKj1tmhUZtX3U43jBq</td>\n",
              "      <td>2011</td>\n",
              "      <td>classical</td>\n",
              "      <td>Harold Budd</td>\n",
              "      <td>3uOCouLFR4bVx0XeiQJSbl</td>\n",
              "      <td>In The Mist</td>\n",
              "      <td>3J8bwfrUYrzmuE0IqFLhUS</td>\n",
              "      <td>['ambient', 'american contemporary classical',...</td>\n",
              "      <td>163000</td>\n",
              "      <td>3</td>\n",
              "      <td>9</td>\n",
              "      <td>-35.213</td>\n",
              "      <td>0.00385</td>\n",
              "      <td>0.0449</td>\n",
              "      <td>0.99500</td>\n",
              "      <td>0</td>\n",
              "      <td>141.201</td>\n",
              "      <td>0.117</td>\n",
              "      <td>0.228</td>\n",
              "      <td>0.917000</td>\n",
              "      <td>0.0858</td>\n",
              "      <td>{'ambient': 2, 'american': 1, 'contemporary': ...</td>\n",
              "      <td>rock</td>\n",
              "    </tr>\n",
              "    <tr>\n",
              "      <th>3</th>\n",
              "      <td>41</td>\n",
              "      <td>Time To Say Goodbye - Live At Central Park, Ne...</td>\n",
              "      <td>1Jw2mwSScPEROBomYw6L0g</td>\n",
              "      <td>2011</td>\n",
              "      <td>classical</td>\n",
              "      <td>Andrea Bocelli</td>\n",
              "      <td>3EA9hVIzKfFiQI0Kikz2wo</td>\n",
              "      <td>Concerto: One Night In Central Park (Remastered)</td>\n",
              "      <td>7LkXjMXDhwqXl3l9zqxRRz</td>\n",
              "      <td>['classical tenor', 'italian tenor', 'operatic...</td>\n",
              "      <td>253991</td>\n",
              "      <td>3</td>\n",
              "      <td>7</td>\n",
              "      <td>-9.827</td>\n",
              "      <td>0.30500</td>\n",
              "      <td>0.0318</td>\n",
              "      <td>0.93600</td>\n",
              "      <td>1</td>\n",
              "      <td>85.786</td>\n",
              "      <td>0.446</td>\n",
              "      <td>0.230</td>\n",
              "      <td>0.000002</td>\n",
              "      <td>0.7440</td>\n",
              "      <td>{'classical': 1, 'tenor': 2, 'italian': 1, 'op...</td>\n",
              "      <td>pop</td>\n",
              "    </tr>\n",
              "    <tr>\n",
              "      <th>4</th>\n",
              "      <td>42</td>\n",
              "      <td>Anthem</td>\n",
              "      <td>0ZUPWnw89a0iLfNdcUiIm3</td>\n",
              "      <td>2011</td>\n",
              "      <td>classical</td>\n",
              "      <td>Iced Earth</td>\n",
              "      <td>3KEixcRfBS5K3E91Vn1Kdy</td>\n",
              "      <td>Dystopia</td>\n",
              "      <td>6la9AnaFIgSo4faEDcnHQx</td>\n",
              "      <td>['hard rock', 'melodic metal', 'metal', 'neo c...</td>\n",
              "      <td>294613</td>\n",
              "      <td>4</td>\n",
              "      <td>3</td>\n",
              "      <td>-5.242</td>\n",
              "      <td>0.95400</td>\n",
              "      <td>0.0607</td>\n",
              "      <td>0.00894</td>\n",
              "      <td>0</td>\n",
              "      <td>163.995</td>\n",
              "      <td>0.287</td>\n",
              "      <td>0.454</td>\n",
              "      <td>0.000000</td>\n",
              "      <td>0.0659</td>\n",
              "      <td>{'hard': 1, 'rock': 1, 'melodic': 1, 'metal': ...</td>\n",
              "      <td>rock</td>\n",
              "    </tr>\n",
              "  </tbody>\n",
              "</table>\n",
              "</div>"
            ],
            "text/plain": [
              "   track_pop  ... master_popular_genre\n",
              "0         50  ...                  pop\n",
              "1         44  ...                 rock\n",
              "2         37  ...                 rock\n",
              "3         41  ...                  pop\n",
              "4         42  ...                 rock\n",
              "\n",
              "[5 rows x 25 columns]"
            ]
          },
          "metadata": {
            "tags": []
          },
          "execution_count": 3
        }
      ]
    },
    {
      "cell_type": "markdown",
      "metadata": {
        "id": "af97bqNYhdEL"
      },
      "source": [
        "##Explore Numeric Variables\n",
        "In this section, I'll be selecting just the numeric columns in our data and exploring their distributions, correlations, and more."
      ]
    },
    {
      "cell_type": "code",
      "metadata": {
        "id": "JgGTl0m1nnVQ"
      },
      "source": [
        "numerics = ['int16', 'int32', 'int64', 'float16', 'float32', 'float64']\n",
        "track_table_numerics = track_table.select_dtypes(include=[np.number])"
      ],
      "execution_count": 19,
      "outputs": []
    },
    {
      "cell_type": "code",
      "metadata": {
        "id": "BLBw81FYvXgB",
        "colab": {
          "base_uri": "https://localhost:8080/",
          "height": 625
        },
        "outputId": "d06c7116-6be6-4999-e691-7ec91a080a2b"
      },
      "source": [
        "import seaborn as sns\n",
        "import matplotlib.pyplot as plt\n",
        " \n",
        "f, axes = plt.subplots(3, 5, figsize=(10, 10))\n",
        "plt.subplots_adjust(wspace=.85, hspace=.6)\n",
        "sns.histplot( track_table_numerics[\"acousticness\"] , ax=axes[0, 0])\n",
        "sns.histplot( track_table_numerics[\"danceability\"] , ax=axes[0, 1])\n",
        "sns.histplot( track_table_numerics[\"duration_ms\"] , ax=axes[0, 2])\n",
        "sns.histplot( track_table_numerics[\"energy\"] , ax=axes[0, 3])\n",
        "sns.histplot( track_table_numerics[\"track_pop\"] , ax=axes[0, 4])\n",
        "sns.histplot( track_table_numerics[\"liveness\"] , ax=axes[1, 0])\n",
        "sns.histplot( track_table_numerics[\"loudness\"] , ax=axes[1, 1])\n",
        "sns.histplot( track_table_numerics[\"valence\"] , ax=axes[1, 2])\n",
        "sns.histplot( track_table_numerics[\"speechiness\"] , ax=axes[1, 3])\n",
        "sns.histplot( track_table_numerics[\"tempo\"] , ax=axes[1, 4])\n",
        "sns.histplot( track_table_numerics[\"instrumentalness\"] , ax=axes[2, 0])\n",
        "sns.histplot( track_table_numerics[\"time_signature\"] , ax=axes[2, 1])\n",
        "sns.histplot( track_table_numerics[\"mode\"] , ax=axes[2, 2])\n",
        "sns.histplot( track_table_numerics[\"key\"] , ax=axes[2, 3])\n",
        "sns.histplot( track_table_numerics[\"track_year\"] , ax=axes[2, 4])"
      ],
      "execution_count": 20,
      "outputs": [
        {
          "output_type": "execute_result",
          "data": {
            "text/plain": [
              "<matplotlib.axes._subplots.AxesSubplot at 0x7f7072728d10>"
            ]
          },
          "metadata": {
            "tags": []
          },
          "execution_count": 20
        },
        {
          "output_type": "display_data",
          "data": {
            "image/png": "[encoded data removed]",
            "text/plain": [
              "<Figure size 720x720 with 15 Axes>"
            ]
          },
          "metadata": {
            "tags": [],
            "needs_background": "light"
          }
        }
      ]
    },
    {
      "cell_type": "markdown",
      "metadata": {
        "id": "UvRwkLD1hopx"
      },
      "source": [
        "I was pleased to see that our outcome variable, Track Popularity, had a mostly normal distribution. Since we were pulling tracks from Spotify based on simple queries, I was a bit concerned it would overselect songs with high popularity,  but this doesn't seem to be the case. The only non-normal feature of this histogram is the small spike at popularity 0."
      ]
    },
    {
      "cell_type": "code",
      "metadata": {
        "colab": {
          "base_uri": "https://localhost:8080/",
          "height": 298
        },
        "id": "RmifQJlEOpeX",
        "outputId": "2146dbc5-898d-4124-fe72-564a5b873fb1"
      },
      "source": [
        "import matplotlib.pyplot as plt\n",
        "plt.hist(track_table_numerics[\"track_pop\"], bins=47)  #Chose 47 because it results in bins of size 2 (0-2,2-4, etc)\n",
        "plt.title(\"Track Popularity\")"
      ],
      "execution_count": 21,
      "outputs": [
        {
          "output_type": "execute_result",
          "data": {
            "text/plain": [
              "Text(0.5, 1.0, 'Track Popularity')"
            ]
          },
          "metadata": {
            "tags": []
          },
          "execution_count": 21
        },
        {
          "output_type": "display_data",
          "data": {
            "image/png": "[encoded data removed]",
            "text/plain": [
              "<Figure size 432x288 with 1 Axes>"
            ]
          },
          "metadata": {
            "tags": [],
            "needs_background": "light"
          }
        }
      ]
    },
    {
      "cell_type": "markdown",
      "metadata": {
        "id": "BMxr9skfiBmW"
      },
      "source": [
        "Next, I wanted to see if there were any variables with extremely high correlations."
      ]
    },
    {
      "cell_type": "code",
      "metadata": {
        "id": "o-YdXPEwD4ux",
        "colab": {
          "base_uri": "https://localhost:8080/",
          "height": 363
        },
        "outputId": "1bcb8d51-80b0-4403-d4a1-b8724743dfb3"
      },
      "source": [
        "sns.heatmap(track_table_numerics.corr())"
      ],
      "execution_count": 7,
      "outputs": [
        {
          "output_type": "execute_result",
          "data": {
            "text/plain": [
              "<matplotlib.axes._subplots.AxesSubplot at 0x7f4c0d8c27d0>"
            ]
          },
          "metadata": {
            "tags": []
          },
          "execution_count": 7
        },
        {
          "output_type": "display_data",
          "data": {
            "image/png": "[encoded data removed]",
            "text/plain": [
              "<Figure size 432x288 with 2 Axes>"
            ]
          },
          "metadata": {
            "tags": [],
            "needs_background": "light"
          }
        }
      ]
    },
    {
      "cell_type": "markdown",
      "metadata": {
        "id": "Zuj2GVVWJBSL"
      },
      "source": [
        "Based on this heatmap, I determined that loudness and energy were clearly highly correlative, so I chose to drop energy, as this also had a high negative correlation with acousticness."
      ]
    },
    {
      "cell_type": "code",
      "metadata": {
        "colab": {
          "base_uri": "https://localhost:8080/"
        },
        "id": "1GBfpGzmjNhJ",
        "outputId": "0528938b-4631-4d49-df11-974a80a6de50"
      },
      "source": [
        "print(\"Energy/Loudness correlation:\", np.corrcoef(track_table_numerics.energy, track_table_numerics.loudness))\n",
        "print(\"Loudness/Accousticness correlation:\", np.corrcoef(track_table_numerics.loudness, track_table_numerics.acousticness))\n",
        "print(\"Energy/Accousticness correlation:\", np.corrcoef(track_table_numerics.energy, track_table_numerics.acousticness))"
      ],
      "execution_count": 10,
      "outputs": [
        {
          "output_type": "stream",
          "text": [
            "Energy/Loudness correlation: [[1.         0.75027295]\n",
            " [0.75027295 1.        ]]\n",
            "Loudness/Accousticness correlation: [[ 1.         -0.53300453]\n",
            " [-0.53300453  1.        ]]\n",
            "Energy/Accousticness correlation: [[ 1.         -0.64270152]\n",
            " [-0.64270152  1.        ]]\n"
          ],
          "name": "stdout"
        }
      ]
    },
    {
      "cell_type": "markdown",
      "metadata": {
        "id": "HhrVPjX2QsHR"
      },
      "source": [
        "I then converted my categorical variables mode, key, time_signature, and both genres to dummies. I dropped columns like the artist name, album name, original genre list, and more. I did this because each of these had so many possible values in the dataset that it was completely impractical to create dummies for each of these values. I also felt that it would be a bit unfair to include things like artist name, as this would likely be hugely predictive in determining the track's popularity and would defeat the purpose of analysing the audible qualities."
      ]
    },
    {
      "cell_type": "code",
      "metadata": {
        "id": "CuRE8P-N47sa"
      },
      "source": [
        "track_table_dummies = pd.get_dummies(track_table,columns=['mode','key','time_signature','track_spotify_genre','master_popular_genre'],drop_first=True)\n",
        "#track_table_dummies = pd.get_dummies(track_table,columns=['mode','time_signature','track_spotify_genre','master_popular_genre'],drop_first=True)\n",
        "\n",
        "track_table_dummies.drop(['energy'], axis=1, inplace=True)\n",
        "track_table_dummies = track_table_dummies.select_dtypes(include=[np.number])\n",
        "track_table_dummies.dropna(inplace=True)\n"
      ],
      "execution_count": 38,
      "outputs": []
    },
    {
      "cell_type": "markdown",
      "metadata": {
        "id": "Rgy6K6-eQ665"
      },
      "source": [
        "At this point, I was confident in my dataset and wanted to start trying to predict the target variable track_pop."
      ]
    },
    {
      "cell_type": "code",
      "metadata": {
        "colab": {
          "base_uri": "https://localhost:8080/",
          "height": 564
        },
        "id": "dgeqxa3fQ_gn",
        "outputId": "aa2faac2-b708-4717-ddfc-f4aecae3ea93"
      },
      "source": [
        "track_table.tail(10)"
      ],
      "execution_count": 12,
      "outputs": [
        {
          "output_type": "execute_result",
          "data": {
            "text/html": [
              "<div>\n",
              "<style scoped>\n",
              "    .dataframe tbody tr th:only-of-type {\n",
              "        vertical-align: middle;\n",
              "    }\n",
              "\n",
              "    .dataframe tbody tr th {\n",
              "        vertical-align: top;\n",
              "    }\n",
              "\n",
              "    .dataframe thead th {\n",
              "        text-align: right;\n",
              "    }\n",
              "</style>\n",
              "<table border=\"1\" class=\"dataframe\">\n",
              "  <thead>\n",
              "    <tr style=\"text-align: right;\">\n",
              "      <th></th>\n",
              "      <th>track_pop</th>\n",
              "      <th>track_name</th>\n",
              "      <th>track_id</th>\n",
              "      <th>track_year</th>\n",
              "      <th>track_spotify_genre</th>\n",
              "      <th>art_name</th>\n",
              "      <th>art_id</th>\n",
              "      <th>alb_name</th>\n",
              "      <th>alb_id</th>\n",
              "      <th>art_genre</th>\n",
              "      <th>duration_ms</th>\n",
              "      <th>time_signature</th>\n",
              "      <th>key</th>\n",
              "      <th>loudness</th>\n",
              "      <th>energy</th>\n",
              "      <th>speechiness</th>\n",
              "      <th>acousticness</th>\n",
              "      <th>mode</th>\n",
              "      <th>tempo</th>\n",
              "      <th>valence</th>\n",
              "      <th>danceability</th>\n",
              "      <th>instrumentalness</th>\n",
              "      <th>liveness</th>\n",
              "      <th>genre_words</th>\n",
              "      <th>master_popular_genre</th>\n",
              "    </tr>\n",
              "  </thead>\n",
              "  <tbody>\n",
              "    <tr>\n",
              "      <th>0</th>\n",
              "      <td>50</td>\n",
              "      <td>Turandot / Act 3: Turandot / Act 3: \"Nessun do...</td>\n",
              "      <td>1GqszY8D6qlMHY7KmA5wE8</td>\n",
              "      <td>2011</td>\n",
              "      <td>classical</td>\n",
              "      <td>Andrea Bocelli</td>\n",
              "      <td>3EA9hVIzKfFiQI0Kikz2wo</td>\n",
              "      <td>Concerto: One Night In Central Park (Remastered)</td>\n",
              "      <td>7LkXjMXDhwqXl3l9zqxRRz</td>\n",
              "      <td>['classical tenor', 'italian tenor', 'operatic...</td>\n",
              "      <td>247010</td>\n",
              "      <td>4</td>\n",
              "      <td>2</td>\n",
              "      <td>-9.841</td>\n",
              "      <td>0.41200</td>\n",
              "      <td>0.0357</td>\n",
              "      <td>0.94300</td>\n",
              "      <td>1</td>\n",
              "      <td>88.113</td>\n",
              "      <td>0.193</td>\n",
              "      <td>0.167</td>\n",
              "      <td>0.000121</td>\n",
              "      <td>0.7570</td>\n",
              "      <td>{'classical': 1, 'tenor': 2, 'italian': 1, 'op...</td>\n",
              "      <td>pop</td>\n",
              "    </tr>\n",
              "    <tr>\n",
              "      <th>1</th>\n",
              "      <td>44</td>\n",
              "      <td>Bad Asteroid</td>\n",
              "      <td>5TzCDKy1ZmFZdW8100A8p9</td>\n",
              "      <td>2011</td>\n",
              "      <td>classical</td>\n",
              "      <td>The Aristocrats</td>\n",
              "      <td>1V4jsLjkic1Mxvdke86Qth</td>\n",
              "      <td>The Aristocrats</td>\n",
              "      <td>7GKzcJbW0Qernh0Xab1bIf</td>\n",
              "      <td>['instrumental rock', 'jazz fusion', 'neo clas...</td>\n",
              "      <td>353667</td>\n",
              "      <td>4</td>\n",
              "      <td>11</td>\n",
              "      <td>-7.257</td>\n",
              "      <td>0.72700</td>\n",
              "      <td>0.0462</td>\n",
              "      <td>0.03010</td>\n",
              "      <td>0</td>\n",
              "      <td>87.349</td>\n",
              "      <td>0.391</td>\n",
              "      <td>0.485</td>\n",
              "      <td>0.758000</td>\n",
              "      <td>0.1630</td>\n",
              "      <td>{'instrumental': 1, 'rock': 1, 'jazz': 2, 'fus...</td>\n",
              "      <td>rock</td>\n",
              "    </tr>\n",
              "    <tr>\n",
              "      <th>2</th>\n",
              "      <td>37</td>\n",
              "      <td>The Whispers</td>\n",
              "      <td>4VH3rKj1tmhUZtX3U43jBq</td>\n",
              "      <td>2011</td>\n",
              "      <td>classical</td>\n",
              "      <td>Harold Budd</td>\n",
              "      <td>3uOCouLFR4bVx0XeiQJSbl</td>\n",
              "      <td>In The Mist</td>\n",
              "      <td>3J8bwfrUYrzmuE0IqFLhUS</td>\n",
              "      <td>['ambient', 'american contemporary classical',...</td>\n",
              "      <td>163000</td>\n",
              "      <td>3</td>\n",
              "      <td>9</td>\n",
              "      <td>-35.213</td>\n",
              "      <td>0.00385</td>\n",
              "      <td>0.0449</td>\n",
              "      <td>0.99500</td>\n",
              "      <td>0</td>\n",
              "      <td>141.201</td>\n",
              "      <td>0.117</td>\n",
              "      <td>0.228</td>\n",
              "      <td>0.917000</td>\n",
              "      <td>0.0858</td>\n",
              "      <td>{'ambient': 2, 'american': 1, 'contemporary': ...</td>\n",
              "      <td>rock</td>\n",
              "    </tr>\n",
              "    <tr>\n",
              "      <th>3</th>\n",
              "      <td>41</td>\n",
              "      <td>Time To Say Goodbye - Live At Central Park, Ne...</td>\n",
              "      <td>1Jw2mwSScPEROBomYw6L0g</td>\n",
              "      <td>2011</td>\n",
              "      <td>classical</td>\n",
              "      <td>Andrea Bocelli</td>\n",
              "      <td>3EA9hVIzKfFiQI0Kikz2wo</td>\n",
              "      <td>Concerto: One Night In Central Park (Remastered)</td>\n",
              "      <td>7LkXjMXDhwqXl3l9zqxRRz</td>\n",
              "      <td>['classical tenor', 'italian tenor', 'operatic...</td>\n",
              "      <td>253991</td>\n",
              "      <td>3</td>\n",
              "      <td>7</td>\n",
              "      <td>-9.827</td>\n",
              "      <td>0.30500</td>\n",
              "      <td>0.0318</td>\n",
              "      <td>0.93600</td>\n",
              "      <td>1</td>\n",
              "      <td>85.786</td>\n",
              "      <td>0.446</td>\n",
              "      <td>0.230</td>\n",
              "      <td>0.000002</td>\n",
              "      <td>0.7440</td>\n",
              "      <td>{'classical': 1, 'tenor': 2, 'italian': 1, 'op...</td>\n",
              "      <td>pop</td>\n",
              "    </tr>\n",
              "    <tr>\n",
              "      <th>4</th>\n",
              "      <td>42</td>\n",
              "      <td>Anthem</td>\n",
              "      <td>0ZUPWnw89a0iLfNdcUiIm3</td>\n",
              "      <td>2011</td>\n",
              "      <td>classical</td>\n",
              "      <td>Iced Earth</td>\n",
              "      <td>3KEixcRfBS5K3E91Vn1Kdy</td>\n",
              "      <td>Dystopia</td>\n",
              "      <td>6la9AnaFIgSo4faEDcnHQx</td>\n",
              "      <td>['hard rock', 'melodic metal', 'metal', 'neo c...</td>\n",
              "      <td>294613</td>\n",
              "      <td>4</td>\n",
              "      <td>3</td>\n",
              "      <td>-5.242</td>\n",
              "      <td>0.95400</td>\n",
              "      <td>0.0607</td>\n",
              "      <td>0.00894</td>\n",
              "      <td>0</td>\n",
              "      <td>163.995</td>\n",
              "      <td>0.287</td>\n",
              "      <td>0.454</td>\n",
              "      <td>0.000000</td>\n",
              "      <td>0.0659</td>\n",
              "      <td>{'hard': 1, 'rock': 1, 'melodic': 1, 'metal': ...</td>\n",
              "      <td>rock</td>\n",
              "    </tr>\n",
              "  </tbody>\n",
              "</table>\n",
              "</div>"
            ],
            "text/plain": [
              "   track_pop  ... master_popular_genre\n",
              "0         50  ...                  pop\n",
              "1         44  ...                 rock\n",
              "2         37  ...                 rock\n",
              "3         41  ...                  pop\n",
              "4         42  ...                 rock\n",
              "\n",
              "[5 rows x 25 columns]"
            ]
          },
          "metadata": {
            "tags": []
          },
          "execution_count": 12
        }
      ]
    },
    {
      "cell_type": "markdown",
      "metadata": {
        "id": "292Hsm2lUdk4"
      },
      "source": [
        "##Creating and Tuning Models"
      ]
    },
    {
      "cell_type": "code",
      "metadata": {
        "id": "t_BI7lT2A2nR"
      },
      "source": [
        "from sklearn.metrics import mean_squared_error\n",
        "from sklearn.metrics import mean_absolute_error\n",
        "from sklearn.model_selection import GridSearchCV\n",
        "from sklearn.model_selection import train_test_split\n",
        "import statsmodels.api as sm\n",
        "from sklearn import linear_model"
      ],
      "execution_count": 24,
      "outputs": []
    },
    {
      "cell_type": "markdown",
      "metadata": {
        "id": "z-jcVQwJUq2n"
      },
      "source": [
        "I started by splitting the dataset into a training set (67%) and a test set (33%)."
      ]
    },
    {
      "cell_type": "code",
      "metadata": {
        "id": "gHKlFygPAdIN"
      },
      "source": [
        "X = track_table_dummies.iloc[:,1:]\n",
        "y = track_table_dummies.iloc[:,0]\n",
        "\n",
        "X_train, X_test, y_train, y_test = train_test_split(X, y, test_size=0.33, random_state=42)"
      ],
      "execution_count": 39,
      "outputs": []
    },
    {
      "cell_type": "markdown",
      "metadata": {
        "id": "Ttcw_MrurHK-"
      },
      "source": [
        "I created a small helper method to print out model statistics / results."
      ]
    },
    {
      "cell_type": "code",
      "metadata": {
        "id": "S61sGtvI6kHO"
      },
      "source": [
        "def print_score(modelName, grid):\n",
        "  print(modelName)\n",
        "  print(\"The best score is {}\".format(grid.best_score_))\n",
        "  print(\"The best hyper parameter setting is {}\".format(grid.best_params_))\n",
        "  mae = mean_absolute_error(y_test, grid.predict(X_test))\n",
        "  print(\"Test mean absolute error:\", mae)\n",
        "  mse = mean_squared_error(y_test,grid.predict(X_test))\n",
        "  print(\"Test mean-squared error:\", mse)\n",
        "  rmse = np.sqrt(mse)\n",
        "  print(\"Test root mean squared error:\", np.sqrt(mse))\n",
        "  return [modelName, mae, rmse]"
      ],
      "execution_count": 13,
      "outputs": []
    },
    {
      "cell_type": "markdown",
      "metadata": {
        "id": "6bLaplFjOTKS"
      },
      "source": [
        "## Linear Models\n",
        "### Simple linear regression\n",
        "I started by performing a simple multivariate linear regression, as this basic model would serve as a baseline for what to expect for our more complex models."
      ]
    },
    {
      "cell_type": "code",
      "metadata": {
        "id": "Qg2eSiL85_Kg",
        "colab": {
          "base_uri": "https://localhost:8080/",
          "height": 1000
        },
        "outputId": "0681cef4-d169-4ef2-fc36-dda465c39099"
      },
      "source": [
        "model = sm.OLS(y_train,X_train)\n",
        "results = model.fit()\n",
        "results.summary()"
      ],
      "execution_count": 27,
      "outputs": [
        {
          "output_type": "execute_result",
          "data": {
            "text/html": [
              "<table class=\"simpletable\">\n",
              "<caption>OLS Regression Results</caption>\n",
              "<tr>\n",
              "  <th>Dep. Variable:</th>        <td>track_pop</td>    <th>  R-squared (uncentered):</th>       <td>   0.928</td>  \n",
              "</tr>\n",
              "<tr>\n",
              "  <th>Model:</th>                   <td>OLS</td>       <th>  Adj. R-squared (uncentered):</th>  <td>   0.928</td>  \n",
              "</tr>\n",
              "<tr>\n",
              "  <th>Method:</th>             <td>Least Squares</td>  <th>  F-statistic:       </th>           <td>1.475e+04</td> \n",
              "</tr>\n",
              "<tr>\n",
              "  <th>Date:</th>             <td>Tue, 15 Jun 2021</td> <th>  Prob (F-statistic):</th>            <td>  0.00</td>   \n",
              "</tr>\n",
              "<tr>\n",
              "  <th>Time:</th>                 <td>07:11:13</td>     <th>  Log-Likelihood:    </th>          <td>-1.7929e+05</td>\n",
              "</tr>\n",
              "<tr>\n",
              "  <th>No. Observations:</th>      <td> 44678</td>      <th>  AIC:               </th>           <td>3.587e+05</td> \n",
              "</tr>\n",
              "<tr>\n",
              "  <th>Df Residuals:</th>          <td> 44639</td>      <th>  BIC:               </th>           <td>3.590e+05</td> \n",
              "</tr>\n",
              "<tr>\n",
              "  <th>Df Model:</th>              <td>    39</td>      <th>                     </th>               <td> </td>     \n",
              "</tr>\n",
              "<tr>\n",
              "  <th>Covariance Type:</th>      <td>nonrobust</td>    <th>                     </th>               <td> </td>     \n",
              "</tr>\n",
              "</table>\n",
              "<table class=\"simpletable\">\n",
              "<tr>\n",
              "               <td></td>                  <th>coef</th>     <th>std err</th>      <th>t</th>      <th>P>|t|</th>  <th>[0.025</th>    <th>0.975]</th>  \n",
              "</tr>\n",
              "<tr>\n",
              "  <th>track_year</th>                  <td>    0.0489</td> <td>    0.003</td> <td>   14.806</td> <td> 0.000</td> <td>    0.042</td> <td>    0.055</td>\n",
              "</tr>\n",
              "<tr>\n",
              "  <th>duration_ms</th>                 <td>-7.258e-06</td> <td> 9.28e-07</td> <td>   -7.823</td> <td> 0.000</td> <td>-9.08e-06</td> <td>-5.44e-06</td>\n",
              "</tr>\n",
              "<tr>\n",
              "  <th>loudness</th>                    <td>    0.4966</td> <td>    0.028</td> <td>   17.862</td> <td> 0.000</td> <td>    0.442</td> <td>    0.551</td>\n",
              "</tr>\n",
              "<tr>\n",
              "  <th>speechiness</th>                 <td>    1.7271</td> <td>    0.746</td> <td>    2.314</td> <td> 0.021</td> <td>    0.264</td> <td>    3.190</td>\n",
              "</tr>\n",
              "<tr>\n",
              "  <th>acousticness</th>                <td>    5.1878</td> <td>    0.302</td> <td>   17.197</td> <td> 0.000</td> <td>    4.597</td> <td>    5.779</td>\n",
              "</tr>\n",
              "<tr>\n",
              "  <th>tempo</th>                       <td>    0.0008</td> <td>    0.002</td> <td>    0.361</td> <td> 0.718</td> <td>   -0.004</td> <td>    0.005</td>\n",
              "</tr>\n",
              "<tr>\n",
              "  <th>valence</th>                     <td>   -3.5675</td> <td>    0.322</td> <td>  -11.090</td> <td> 0.000</td> <td>   -4.198</td> <td>   -2.937</td>\n",
              "</tr>\n",
              "<tr>\n",
              "  <th>danceability</th>                <td>   17.5364</td> <td>    0.539</td> <td>   32.555</td> <td> 0.000</td> <td>   16.481</td> <td>   18.592</td>\n",
              "</tr>\n",
              "<tr>\n",
              "  <th>instrumentalness</th>            <td>   -9.8620</td> <td>    0.346</td> <td>  -28.528</td> <td> 0.000</td> <td>  -10.540</td> <td>   -9.184</td>\n",
              "</tr>\n",
              "<tr>\n",
              "  <th>liveness</th>                    <td>  -10.4296</td> <td>    0.412</td> <td>  -25.326</td> <td> 0.000</td> <td>  -11.237</td> <td>   -9.622</td>\n",
              "</tr>\n",
              "<tr>\n",
              "  <th>mode_1</th>                      <td>   -0.3075</td> <td>    0.142</td> <td>   -2.163</td> <td> 0.031</td> <td>   -0.586</td> <td>   -0.029</td>\n",
              "</tr>\n",
              "<tr>\n",
              "  <th>key_1</th>                       <td>   -0.0540</td> <td>    0.267</td> <td>   -0.203</td> <td> 0.839</td> <td>   -0.577</td> <td>    0.469</td>\n",
              "</tr>\n",
              "<tr>\n",
              "  <th>key_2</th>                       <td>   -0.4519</td> <td>    0.281</td> <td>   -1.606</td> <td> 0.108</td> <td>   -1.003</td> <td>    0.100</td>\n",
              "</tr>\n",
              "<tr>\n",
              "  <th>key_3</th>                       <td>    0.7739</td> <td>    0.410</td> <td>    1.887</td> <td> 0.059</td> <td>   -0.030</td> <td>    1.578</td>\n",
              "</tr>\n",
              "<tr>\n",
              "  <th>key_4</th>                       <td>   -0.3939</td> <td>    0.304</td> <td>   -1.296</td> <td> 0.195</td> <td>   -0.990</td> <td>    0.202</td>\n",
              "</tr>\n",
              "<tr>\n",
              "  <th>key_5</th>                       <td>    0.8387</td> <td>    0.296</td> <td>    2.833</td> <td> 0.005</td> <td>    0.259</td> <td>    1.419</td>\n",
              "</tr>\n",
              "<tr>\n",
              "  <th>key_6</th>                       <td>    0.0367</td> <td>    0.300</td> <td>    0.123</td> <td> 0.902</td> <td>   -0.551</td> <td>    0.624</td>\n",
              "</tr>\n",
              "<tr>\n",
              "  <th>key_7</th>                       <td>   -0.3977</td> <td>    0.273</td> <td>   -1.456</td> <td> 0.145</td> <td>   -0.933</td> <td>    0.138</td>\n",
              "</tr>\n",
              "<tr>\n",
              "  <th>key_8</th>                       <td>    0.4151</td> <td>    0.301</td> <td>    1.378</td> <td> 0.168</td> <td>   -0.175</td> <td>    1.006</td>\n",
              "</tr>\n",
              "<tr>\n",
              "  <th>key_9</th>                       <td>   -1.0577</td> <td>    0.283</td> <td>   -3.733</td> <td> 0.000</td> <td>   -1.613</td> <td>   -0.502</td>\n",
              "</tr>\n",
              "<tr>\n",
              "  <th>key_10</th>                      <td>    0.2087</td> <td>    0.319</td> <td>    0.655</td> <td> 0.512</td> <td>   -0.416</td> <td>    0.833</td>\n",
              "</tr>\n",
              "<tr>\n",
              "  <th>key_11</th>                      <td>   -0.2323</td> <td>    0.293</td> <td>   -0.794</td> <td> 0.427</td> <td>   -0.806</td> <td>    0.341</td>\n",
              "</tr>\n",
              "<tr>\n",
              "  <th>time_signature_1</th>            <td>  -61.3608</td> <td>    6.713</td> <td>   -9.141</td> <td> 0.000</td> <td>  -74.518</td> <td>  -48.204</td>\n",
              "</tr>\n",
              "<tr>\n",
              "  <th>time_signature_3</th>            <td>  -61.1911</td> <td>    6.649</td> <td>   -9.203</td> <td> 0.000</td> <td>  -74.223</td> <td>  -48.159</td>\n",
              "</tr>\n",
              "<tr>\n",
              "  <th>time_signature_4</th>            <td>  -61.8123</td> <td>    6.645</td> <td>   -9.303</td> <td> 0.000</td> <td>  -74.836</td> <td>  -48.789</td>\n",
              "</tr>\n",
              "<tr>\n",
              "  <th>time_signature_5</th>            <td>  -61.3730</td> <td>    6.667</td> <td>   -9.205</td> <td> 0.000</td> <td>  -74.441</td> <td>  -48.305</td>\n",
              "</tr>\n",
              "<tr>\n",
              "  <th>track_spotify_genre_country</th> <td>    2.5872</td> <td>    0.734</td> <td>    3.526</td> <td> 0.000</td> <td>    1.149</td> <td>    4.025</td>\n",
              "</tr>\n",
              "<tr>\n",
              "  <th>track_spotify_genre_hip-hop</th> <td>    8.4786</td> <td>    0.735</td> <td>   11.543</td> <td> 0.000</td> <td>    7.039</td> <td>    9.918</td>\n",
              "</tr>\n",
              "<tr>\n",
              "  <th>track_spotify_genre_house</th>   <td>    8.9183</td> <td>    0.727</td> <td>   12.275</td> <td> 0.000</td> <td>    7.494</td> <td>   10.342</td>\n",
              "</tr>\n",
              "<tr>\n",
              "  <th>track_spotify_genre_indie</th>   <td>   13.9114</td> <td>    0.680</td> <td>   20.467</td> <td> 0.000</td> <td>   12.579</td> <td>   15.244</td>\n",
              "</tr>\n",
              "<tr>\n",
              "  <th>track_spotify_genre_pop</th>     <td>   12.7292</td> <td>    0.687</td> <td>   18.537</td> <td> 0.000</td> <td>   11.383</td> <td>   14.075</td>\n",
              "</tr>\n",
              "<tr>\n",
              "  <th>track_spotify_genre_r&b</th>     <td>    0.7398</td> <td>    0.702</td> <td>    1.054</td> <td> 0.292</td> <td>   -0.636</td> <td>    2.116</td>\n",
              "</tr>\n",
              "<tr>\n",
              "  <th>track_spotify_genre_rock</th>    <td>   15.3225</td> <td>    0.671</td> <td>   22.835</td> <td> 0.000</td> <td>   14.007</td> <td>   16.638</td>\n",
              "</tr>\n",
              "<tr>\n",
              "  <th>master_popular_genre_hiphop</th> <td>    2.4432</td> <td>    0.456</td> <td>    5.363</td> <td> 0.000</td> <td>    1.550</td> <td>    3.336</td>\n",
              "</tr>\n",
              "<tr>\n",
              "  <th>master_popular_genre_house</th>  <td>   -3.3727</td> <td>    0.511</td> <td>   -6.602</td> <td> 0.000</td> <td>   -4.374</td> <td>   -2.371</td>\n",
              "</tr>\n",
              "<tr>\n",
              "  <th>master_popular_genre_indie</th>  <td>   -0.1607</td> <td>    0.406</td> <td>   -0.396</td> <td> 0.692</td> <td>   -0.956</td> <td>    0.634</td>\n",
              "</tr>\n",
              "<tr>\n",
              "  <th>master_popular_genre_pop</th>    <td>   -0.3584</td> <td>    0.386</td> <td>   -0.930</td> <td> 0.353</td> <td>   -1.114</td> <td>    0.397</td>\n",
              "</tr>\n",
              "<tr>\n",
              "  <th>master_popular_genre_r&b</th>    <td>    1.4465</td> <td>    0.469</td> <td>    3.086</td> <td> 0.002</td> <td>    0.528</td> <td>    2.365</td>\n",
              "</tr>\n",
              "<tr>\n",
              "  <th>master_popular_genre_rock</th>   <td>   -3.0339</td> <td>    0.362</td> <td>   -8.372</td> <td> 0.000</td> <td>   -3.744</td> <td>   -2.324</td>\n",
              "</tr>\n",
              "</table>\n",
              "<table class=\"simpletable\">\n",
              "<tr>\n",
              "  <th>Omnibus:</th>       <td>4635.951</td> <th>  Durbin-Watson:     </th> <td>   2.006</td>\n",
              "</tr>\n",
              "<tr>\n",
              "  <th>Prob(Omnibus):</th>  <td> 0.000</td>  <th>  Jarque-Bera (JB):  </th> <td>9343.240</td>\n",
              "</tr>\n",
              "<tr>\n",
              "  <th>Skew:</th>           <td>-0.675</td>  <th>  Prob(JB):          </th> <td>    0.00</td>\n",
              "</tr>\n",
              "<tr>\n",
              "  <th>Kurtosis:</th>       <td> 4.788</td>  <th>  Cond. No.          </th> <td>4.98e+07</td>\n",
              "</tr>\n",
              "</table><br/><br/>Warnings:<br/>[1] Standard Errors assume that the covariance matrix of the errors is correctly specified.<br/>[2] The condition number is large, 4.98e+07. This might indicate that there are<br/>strong multicollinearity or other numerical problems."
            ],
            "text/plain": [
              "<class 'statsmodels.iolib.summary.Summary'>\n",
              "\"\"\"\n",
              "                                 OLS Regression Results                                \n",
              "=======================================================================================\n",
              "Dep. Variable:              track_pop   R-squared (uncentered):                   0.928\n",
              "Model:                            OLS   Adj. R-squared (uncentered):              0.928\n",
              "Method:                 Least Squares   F-statistic:                          1.475e+04\n",
              "Date:                Tue, 15 Jun 2021   Prob (F-statistic):                        0.00\n",
              "Time:                        07:11:13   Log-Likelihood:                     -1.7929e+05\n",
              "No. Observations:               44678   AIC:                                  3.587e+05\n",
              "Df Residuals:                   44639   BIC:                                  3.590e+05\n",
              "Df Model:                          39                                                  \n",
              "Covariance Type:            nonrobust                                                  \n",
              "===============================================================================================\n",
              "                                  coef    std err          t      P>|t|      [0.025      0.975]\n",
              "-----------------------------------------------------------------------------------------------\n",
              "track_year                      0.0489      0.003     14.806      0.000       0.042       0.055\n",
              "duration_ms                 -7.258e-06   9.28e-07     -7.823      0.000   -9.08e-06   -5.44e-06\n",
              "loudness                        0.4966      0.028     17.862      0.000       0.442       0.551\n",
              "speechiness                     1.7271      0.746      2.314      0.021       0.264       3.190\n",
              "acousticness                    5.1878      0.302     17.197      0.000       4.597       5.779\n",
              "tempo                           0.0008      0.002      0.361      0.718      -0.004       0.005\n",
              "valence                        -3.5675      0.322    -11.090      0.000      -4.198      -2.937\n",
              "danceability                   17.5364      0.539     32.555      0.000      16.481      18.592\n",
              "instrumentalness               -9.8620      0.346    -28.528      0.000     -10.540      -9.184\n",
              "liveness                      -10.4296      0.412    -25.326      0.000     -11.237      -9.622\n",
              "mode_1                         -0.3075      0.142     -2.163      0.031      -0.586      -0.029\n",
              "key_1                          -0.0540      0.267     -0.203      0.839      -0.577       0.469\n",
              "key_2                          -0.4519      0.281     -1.606      0.108      -1.003       0.100\n",
              "key_3                           0.7739      0.410      1.887      0.059      -0.030       1.578\n",
              "key_4                          -0.3939      0.304     -1.296      0.195      -0.990       0.202\n",
              "key_5                           0.8387      0.296      2.833      0.005       0.259       1.419\n",
              "key_6                           0.0367      0.300      0.123      0.902      -0.551       0.624\n",
              "key_7                          -0.3977      0.273     -1.456      0.145      -0.933       0.138\n",
              "key_8                           0.4151      0.301      1.378      0.168      -0.175       1.006\n",
              "key_9                          -1.0577      0.283     -3.733      0.000      -1.613      -0.502\n",
              "key_10                          0.2087      0.319      0.655      0.512      -0.416       0.833\n",
              "key_11                         -0.2323      0.293     -0.794      0.427      -0.806       0.341\n",
              "time_signature_1              -61.3608      6.713     -9.141      0.000     -74.518     -48.204\n",
              "time_signature_3              -61.1911      6.649     -9.203      0.000     -74.223     -48.159\n",
              "time_signature_4              -61.8123      6.645     -9.303      0.000     -74.836     -48.789\n",
              "time_signature_5              -61.3730      6.667     -9.205      0.000     -74.441     -48.305\n",
              "track_spotify_genre_country     2.5872      0.734      3.526      0.000       1.149       4.025\n",
              "track_spotify_genre_hip-hop     8.4786      0.735     11.543      0.000       7.039       9.918\n",
              "track_spotify_genre_house       8.9183      0.727     12.275      0.000       7.494      10.342\n",
              "track_spotify_genre_indie      13.9114      0.680     20.467      0.000      12.579      15.244\n",
              "track_spotify_genre_pop        12.7292      0.687     18.537      0.000      11.383      14.075\n",
              "track_spotify_genre_r&b         0.7398      0.702      1.054      0.292      -0.636       2.116\n",
              "track_spotify_genre_rock       15.3225      0.671     22.835      0.000      14.007      16.638\n",
              "master_popular_genre_hiphop     2.4432      0.456      5.363      0.000       1.550       3.336\n",
              "master_popular_genre_house     -3.3727      0.511     -6.602      0.000      -4.374      -2.371\n",
              "master_popular_genre_indie     -0.1607      0.406     -0.396      0.692      -0.956       0.634\n",
              "master_popular_genre_pop       -0.3584      0.386     -0.930      0.353      -1.114       0.397\n",
              "master_popular_genre_r&b        1.4465      0.469      3.086      0.002       0.528       2.365\n",
              "master_popular_genre_rock      -3.0339      0.362     -8.372      0.000      -3.744      -2.324\n",
              "==============================================================================\n",
              "Omnibus:                     4635.951   Durbin-Watson:                   2.006\n",
              "Prob(Omnibus):                  0.000   Jarque-Bera (JB):             9343.240\n",
              "Skew:                          -0.675   Prob(JB):                         0.00\n",
              "Kurtosis:                       4.788   Cond. No.                     4.98e+07\n",
              "==============================================================================\n",
              "\n",
              "Warnings:\n",
              "[1] Standard Errors assume that the covariance matrix of the errors is correctly specified.\n",
              "[2] The condition number is large, 4.98e+07. This might indicate that there are\n",
              "strong multicollinearity or other numerical problems.\n",
              "\"\"\""
            ]
          },
          "metadata": {
            "tags": []
          },
          "execution_count": 27
        }
      ]
    },
    {
      "cell_type": "code",
      "metadata": {
        "id": "o0pkz8xIG9JH",
        "colab": {
          "base_uri": "https://localhost:8080/"
        },
        "outputId": "0331db08-68de-48b8-f845-7ef86de2def0"
      },
      "source": [
        "print(\"Linear Regression:\")\n",
        "print(\"Test mean absolute error:\", mean_absolute_error(y_test, results.predict(X_test)))\n",
        "lr_mse = mean_squared_error(y_test,results.predict(X_test))\n",
        "print(\"Test mean-squared error:\", lr_mse)\n",
        "print(\"Test root mean squared error:\", np.sqrt(lr_mse))"
      ],
      "execution_count": 16,
      "outputs": [
        {
          "output_type": "stream",
          "text": [
            "Linear Regression:\n",
            "Test mean absolute error: 10.029822469860644\n",
            "Test mean-squared error: 178.29099249548347\n",
            "Test root mean squared error: 13.35256501558721\n"
          ],
          "name": "stdout"
        }
      ]
    },
    {
      "cell_type": "markdown",
      "metadata": {
        "id": "e5EKuzPcVtUJ"
      },
      "source": [
        "The linear regression provided a few interesting insights. \n",
        "\n",
        "Firstly, our baseline MAE will be about 10, meaning that the popularity predictions of a simple linear regression are off by about 10 popularity per prediction (scale is 1-100).\n",
        "\n",
        "Secondly, our linear regression model has quite a high R-squared at .928, suggesting that almost 93% of the variation in popularity can be determined by the variables in the model. This is promising and a lot higher than I expected.\n",
        "\n",
        "The regression also showed that a large number of our variables are significant, with most of the p-values falling below .05. One set of features, though, that did not seem very useful was *tempo* with a p-value of 0.718 and a coefficient of 0.0008. \n",
        "\n",
        "I chose to drop this from the dataset, re-partition the training and test set, and see how it affected the Linear Regression model. I'm hoping for and expecting little drop in the R-Squared."
      ]
    },
    {
      "cell_type": "code",
      "metadata": {
        "id": "d0rQ-YahQa2T"
      },
      "source": [
        "track_table_dummies.drop(['tempo'], axis=1, inplace=True)\n",
        "X = track_table_dummies.iloc[:,1:]\n",
        "y = track_table_dummies.iloc[:,0]\n",
        "\n",
        "X_train, X_test, y_train, y_test = train_test_split(X, y, test_size=0.33, random_state=42)"
      ],
      "execution_count": 40,
      "outputs": []
    },
    {
      "cell_type": "code",
      "metadata": {
        "colab": {
          "base_uri": "https://localhost:8080/",
          "height": 1000
        },
        "id": "rCEioXBbRi0z",
        "outputId": "2ba8049d-af78-444d-f1d8-5a23ad533fbf"
      },
      "source": [
        "model = sm.OLS(y_train,X_train)\n",
        "results = model.fit()\n",
        "results.summary()"
      ],
      "execution_count": 42,
      "outputs": [
        {
          "output_type": "execute_result",
          "data": {
            "text/html": [
              "<table class=\"simpletable\">\n",
              "<caption>OLS Regression Results</caption>\n",
              "<tr>\n",
              "  <th>Dep. Variable:</th>        <td>track_pop</td>    <th>  R-squared (uncentered):</th>       <td>   0.928</td>  \n",
              "</tr>\n",
              "<tr>\n",
              "  <th>Model:</th>                   <td>OLS</td>       <th>  Adj. R-squared (uncentered):</th>  <td>   0.928</td>  \n",
              "</tr>\n",
              "<tr>\n",
              "  <th>Method:</th>             <td>Least Squares</td>  <th>  F-statistic:       </th>           <td>1.514e+04</td> \n",
              "</tr>\n",
              "<tr>\n",
              "  <th>Date:</th>             <td>Tue, 15 Jun 2021</td> <th>  Prob (F-statistic):</th>            <td>  0.00</td>   \n",
              "</tr>\n",
              "<tr>\n",
              "  <th>Time:</th>                 <td>07:24:13</td>     <th>  Log-Likelihood:    </th>          <td>-1.7929e+05</td>\n",
              "</tr>\n",
              "<tr>\n",
              "  <th>No. Observations:</th>      <td> 44678</td>      <th>  AIC:               </th>           <td>3.586e+05</td> \n",
              "</tr>\n",
              "<tr>\n",
              "  <th>Df Residuals:</th>          <td> 44640</td>      <th>  BIC:               </th>           <td>3.590e+05</td> \n",
              "</tr>\n",
              "<tr>\n",
              "  <th>Df Model:</th>              <td>    38</td>      <th>                     </th>               <td> </td>     \n",
              "</tr>\n",
              "<tr>\n",
              "  <th>Covariance Type:</th>      <td>nonrobust</td>    <th>                     </th>               <td> </td>     \n",
              "</tr>\n",
              "</table>\n",
              "<table class=\"simpletable\">\n",
              "<tr>\n",
              "               <td></td>                  <th>coef</th>     <th>std err</th>      <th>t</th>      <th>P>|t|</th>  <th>[0.025</th>    <th>0.975]</th>  \n",
              "</tr>\n",
              "<tr>\n",
              "  <th>track_year</th>                  <td>    0.0489</td> <td>    0.003</td> <td>   14.807</td> <td> 0.000</td> <td>    0.042</td> <td>    0.055</td>\n",
              "</tr>\n",
              "<tr>\n",
              "  <th>duration_ms</th>                 <td>-7.264e-06</td> <td> 9.28e-07</td> <td>   -7.831</td> <td> 0.000</td> <td>-9.08e-06</td> <td>-5.45e-06</td>\n",
              "</tr>\n",
              "<tr>\n",
              "  <th>loudness</th>                    <td>    0.4970</td> <td>    0.028</td> <td>   17.890</td> <td> 0.000</td> <td>    0.443</td> <td>    0.551</td>\n",
              "</tr>\n",
              "<tr>\n",
              "  <th>speechiness</th>                 <td>    1.7504</td> <td>    0.744</td> <td>    2.354</td> <td> 0.019</td> <td>    0.293</td> <td>    3.208</td>\n",
              "</tr>\n",
              "<tr>\n",
              "  <th>acousticness</th>                <td>    5.1783</td> <td>    0.301</td> <td>   17.232</td> <td> 0.000</td> <td>    4.589</td> <td>    5.767</td>\n",
              "</tr>\n",
              "<tr>\n",
              "  <th>valence</th>                     <td>   -3.5605</td> <td>    0.321</td> <td>  -11.089</td> <td> 0.000</td> <td>   -4.190</td> <td>   -2.931</td>\n",
              "</tr>\n",
              "<tr>\n",
              "  <th>danceability</th>                <td>   17.5053</td> <td>    0.532</td> <td>   32.922</td> <td> 0.000</td> <td>   16.463</td> <td>   18.548</td>\n",
              "</tr>\n",
              "<tr>\n",
              "  <th>instrumentalness</th>            <td>   -9.8580</td> <td>    0.346</td> <td>  -28.532</td> <td> 0.000</td> <td>  -10.535</td> <td>   -9.181</td>\n",
              "</tr>\n",
              "<tr>\n",
              "  <th>liveness</th>                    <td>  -10.4336</td> <td>    0.412</td> <td>  -25.345</td> <td> 0.000</td> <td>  -11.240</td> <td>   -9.627</td>\n",
              "</tr>\n",
              "<tr>\n",
              "  <th>mode_1</th>                      <td>   -0.3071</td> <td>    0.142</td> <td>   -2.160</td> <td> 0.031</td> <td>   -0.586</td> <td>   -0.028</td>\n",
              "</tr>\n",
              "<tr>\n",
              "  <th>key_1</th>                       <td>   -0.0540</td> <td>    0.267</td> <td>   -0.203</td> <td> 0.840</td> <td>   -0.577</td> <td>    0.469</td>\n",
              "</tr>\n",
              "<tr>\n",
              "  <th>key_2</th>                       <td>   -0.4518</td> <td>    0.281</td> <td>   -1.606</td> <td> 0.108</td> <td>   -1.003</td> <td>    0.100</td>\n",
              "</tr>\n",
              "<tr>\n",
              "  <th>key_3</th>                       <td>    0.7733</td> <td>    0.410</td> <td>    1.885</td> <td> 0.059</td> <td>   -0.031</td> <td>    1.577</td>\n",
              "</tr>\n",
              "<tr>\n",
              "  <th>key_4</th>                       <td>   -0.3936</td> <td>    0.304</td> <td>   -1.295</td> <td> 0.195</td> <td>   -0.989</td> <td>    0.202</td>\n",
              "</tr>\n",
              "<tr>\n",
              "  <th>key_5</th>                       <td>    0.8388</td> <td>    0.296</td> <td>    2.834</td> <td> 0.005</td> <td>    0.259</td> <td>    1.419</td>\n",
              "</tr>\n",
              "<tr>\n",
              "  <th>key_6</th>                       <td>    0.0359</td> <td>    0.300</td> <td>    0.120</td> <td> 0.905</td> <td>   -0.551</td> <td>    0.623</td>\n",
              "</tr>\n",
              "<tr>\n",
              "  <th>key_7</th>                       <td>   -0.3982</td> <td>    0.273</td> <td>   -1.458</td> <td> 0.145</td> <td>   -0.933</td> <td>    0.137</td>\n",
              "</tr>\n",
              "<tr>\n",
              "  <th>key_8</th>                       <td>    0.4159</td> <td>    0.301</td> <td>    1.381</td> <td> 0.167</td> <td>   -0.175</td> <td>    1.006</td>\n",
              "</tr>\n",
              "<tr>\n",
              "  <th>key_9</th>                       <td>   -1.0579</td> <td>    0.283</td> <td>   -3.733</td> <td> 0.000</td> <td>   -1.613</td> <td>   -0.502</td>\n",
              "</tr>\n",
              "<tr>\n",
              "  <th>key_10</th>                      <td>    0.2091</td> <td>    0.319</td> <td>    0.656</td> <td> 0.512</td> <td>   -0.415</td> <td>    0.833</td>\n",
              "</tr>\n",
              "<tr>\n",
              "  <th>key_11</th>                      <td>   -0.2321</td> <td>    0.293</td> <td>   -0.793</td> <td> 0.427</td> <td>   -0.805</td> <td>    0.341</td>\n",
              "</tr>\n",
              "<tr>\n",
              "  <th>time_signature_1</th>            <td>  -61.2638</td> <td>    6.707</td> <td>   -9.134</td> <td> 0.000</td> <td>  -74.410</td> <td>  -48.118</td>\n",
              "</tr>\n",
              "<tr>\n",
              "  <th>time_signature_3</th>            <td>  -61.0743</td> <td>    6.641</td> <td>   -9.197</td> <td> 0.000</td> <td>  -74.091</td> <td>  -48.058</td>\n",
              "</tr>\n",
              "<tr>\n",
              "  <th>time_signature_4</th>            <td>  -61.7025</td> <td>    6.638</td> <td>   -9.296</td> <td> 0.000</td> <td>  -74.712</td> <td>  -48.693</td>\n",
              "</tr>\n",
              "<tr>\n",
              "  <th>time_signature_5</th>            <td>  -61.2699</td> <td>    6.661</td> <td>   -9.198</td> <td> 0.000</td> <td>  -74.326</td> <td>  -48.214</td>\n",
              "</tr>\n",
              "<tr>\n",
              "  <th>track_spotify_genre_country</th> <td>    2.5938</td> <td>    0.733</td> <td>    3.537</td> <td> 0.000</td> <td>    1.156</td> <td>    4.031</td>\n",
              "</tr>\n",
              "<tr>\n",
              "  <th>track_spotify_genre_hip-hop</th> <td>    8.4841</td> <td>    0.734</td> <td>   11.553</td> <td> 0.000</td> <td>    7.045</td> <td>    9.923</td>\n",
              "</tr>\n",
              "<tr>\n",
              "  <th>track_spotify_genre_house</th>   <td>    8.9258</td> <td>    0.726</td> <td>   12.290</td> <td> 0.000</td> <td>    7.502</td> <td>   10.349</td>\n",
              "</tr>\n",
              "<tr>\n",
              "  <th>track_spotify_genre_indie</th>   <td>   13.9174</td> <td>    0.679</td> <td>   20.482</td> <td> 0.000</td> <td>   12.586</td> <td>   15.249</td>\n",
              "</tr>\n",
              "<tr>\n",
              "  <th>track_spotify_genre_pop</th>     <td>   12.7355</td> <td>    0.686</td> <td>   18.553</td> <td> 0.000</td> <td>   11.390</td> <td>   14.081</td>\n",
              "</tr>\n",
              "<tr>\n",
              "  <th>track_spotify_genre_r&b</th>     <td>    0.7430</td> <td>    0.702</td> <td>    1.059</td> <td> 0.290</td> <td>   -0.633</td> <td>    2.119</td>\n",
              "</tr>\n",
              "<tr>\n",
              "  <th>track_spotify_genre_rock</th>    <td>   15.3281</td> <td>    0.671</td> <td>   22.850</td> <td> 0.000</td> <td>   14.013</td> <td>   16.643</td>\n",
              "</tr>\n",
              "<tr>\n",
              "  <th>master_popular_genre_hiphop</th> <td>    2.4429</td> <td>    0.456</td> <td>    5.363</td> <td> 0.000</td> <td>    1.550</td> <td>    3.336</td>\n",
              "</tr>\n",
              "<tr>\n",
              "  <th>master_popular_genre_house</th>  <td>   -3.3715</td> <td>    0.511</td> <td>   -6.600</td> <td> 0.000</td> <td>   -4.373</td> <td>   -2.370</td>\n",
              "</tr>\n",
              "<tr>\n",
              "  <th>master_popular_genre_indie</th>  <td>   -0.1638</td> <td>    0.406</td> <td>   -0.404</td> <td> 0.686</td> <td>   -0.959</td> <td>    0.631</td>\n",
              "</tr>\n",
              "<tr>\n",
              "  <th>master_popular_genre_pop</th>    <td>   -0.3596</td> <td>    0.386</td> <td>   -0.933</td> <td> 0.351</td> <td>   -1.115</td> <td>    0.396</td>\n",
              "</tr>\n",
              "<tr>\n",
              "  <th>master_popular_genre_r&b</th>    <td>    1.4438</td> <td>    0.469</td> <td>    3.081</td> <td> 0.002</td> <td>    0.525</td> <td>    2.362</td>\n",
              "</tr>\n",
              "<tr>\n",
              "  <th>master_popular_genre_rock</th>   <td>   -3.0359</td> <td>    0.362</td> <td>   -8.379</td> <td> 0.000</td> <td>   -3.746</td> <td>   -2.326</td>\n",
              "</tr>\n",
              "</table>\n",
              "<table class=\"simpletable\">\n",
              "<tr>\n",
              "  <th>Omnibus:</th>       <td>4635.435</td> <th>  Durbin-Watson:     </th> <td>   2.006</td>\n",
              "</tr>\n",
              "<tr>\n",
              "  <th>Prob(Omnibus):</th>  <td> 0.000</td>  <th>  Jarque-Bera (JB):  </th> <td>9341.336</td>\n",
              "</tr>\n",
              "<tr>\n",
              "  <th>Skew:</th>           <td>-0.675</td>  <th>  Prob(JB):          </th> <td>    0.00</td>\n",
              "</tr>\n",
              "<tr>\n",
              "  <th>Kurtosis:</th>       <td> 4.788</td>  <th>  Cond. No.          </th> <td>4.97e+07</td>\n",
              "</tr>\n",
              "</table><br/><br/>Warnings:<br/>[1] Standard Errors assume that the covariance matrix of the errors is correctly specified.<br/>[2] The condition number is large, 4.97e+07. This might indicate that there are<br/>strong multicollinearity or other numerical problems."
            ],
            "text/plain": [
              "<class 'statsmodels.iolib.summary.Summary'>\n",
              "\"\"\"\n",
              "                                 OLS Regression Results                                \n",
              "=======================================================================================\n",
              "Dep. Variable:              track_pop   R-squared (uncentered):                   0.928\n",
              "Model:                            OLS   Adj. R-squared (uncentered):              0.928\n",
              "Method:                 Least Squares   F-statistic:                          1.514e+04\n",
              "Date:                Tue, 15 Jun 2021   Prob (F-statistic):                        0.00\n",
              "Time:                        07:24:13   Log-Likelihood:                     -1.7929e+05\n",
              "No. Observations:               44678   AIC:                                  3.586e+05\n",
              "Df Residuals:                   44640   BIC:                                  3.590e+05\n",
              "Df Model:                          38                                                  \n",
              "Covariance Type:            nonrobust                                                  \n",
              "===============================================================================================\n",
              "                                  coef    std err          t      P>|t|      [0.025      0.975]\n",
              "-----------------------------------------------------------------------------------------------\n",
              "track_year                      0.0489      0.003     14.807      0.000       0.042       0.055\n",
              "duration_ms                 -7.264e-06   9.28e-07     -7.831      0.000   -9.08e-06   -5.45e-06\n",
              "loudness                        0.4970      0.028     17.890      0.000       0.443       0.551\n",
              "speechiness                     1.7504      0.744      2.354      0.019       0.293       3.208\n",
              "acousticness                    5.1783      0.301     17.232      0.000       4.589       5.767\n",
              "valence                        -3.5605      0.321    -11.089      0.000      -4.190      -2.931\n",
              "danceability                   17.5053      0.532     32.922      0.000      16.463      18.548\n",
              "instrumentalness               -9.8580      0.346    -28.532      0.000     -10.535      -9.181\n",
              "liveness                      -10.4336      0.412    -25.345      0.000     -11.240      -9.627\n",
              "mode_1                         -0.3071      0.142     -2.160      0.031      -0.586      -0.028\n",
              "key_1                          -0.0540      0.267     -0.203      0.840      -0.577       0.469\n",
              "key_2                          -0.4518      0.281     -1.606      0.108      -1.003       0.100\n",
              "key_3                           0.7733      0.410      1.885      0.059      -0.031       1.577\n",
              "key_4                          -0.3936      0.304     -1.295      0.195      -0.989       0.202\n",
              "key_5                           0.8388      0.296      2.834      0.005       0.259       1.419\n",
              "key_6                           0.0359      0.300      0.120      0.905      -0.551       0.623\n",
              "key_7                          -0.3982      0.273     -1.458      0.145      -0.933       0.137\n",
              "key_8                           0.4159      0.301      1.381      0.167      -0.175       1.006\n",
              "key_9                          -1.0579      0.283     -3.733      0.000      -1.613      -0.502\n",
              "key_10                          0.2091      0.319      0.656      0.512      -0.415       0.833\n",
              "key_11                         -0.2321      0.293     -0.793      0.427      -0.805       0.341\n",
              "time_signature_1              -61.2638      6.707     -9.134      0.000     -74.410     -48.118\n",
              "time_signature_3              -61.0743      6.641     -9.197      0.000     -74.091     -48.058\n",
              "time_signature_4              -61.7025      6.638     -9.296      0.000     -74.712     -48.693\n",
              "time_signature_5              -61.2699      6.661     -9.198      0.000     -74.326     -48.214\n",
              "track_spotify_genre_country     2.5938      0.733      3.537      0.000       1.156       4.031\n",
              "track_spotify_genre_hip-hop     8.4841      0.734     11.553      0.000       7.045       9.923\n",
              "track_spotify_genre_house       8.9258      0.726     12.290      0.000       7.502      10.349\n",
              "track_spotify_genre_indie      13.9174      0.679     20.482      0.000      12.586      15.249\n",
              "track_spotify_genre_pop        12.7355      0.686     18.553      0.000      11.390      14.081\n",
              "track_spotify_genre_r&b         0.7430      0.702      1.059      0.290      -0.633       2.119\n",
              "track_spotify_genre_rock       15.3281      0.671     22.850      0.000      14.013      16.643\n",
              "master_popular_genre_hiphop     2.4429      0.456      5.363      0.000       1.550       3.336\n",
              "master_popular_genre_house     -3.3715      0.511     -6.600      0.000      -4.373      -2.370\n",
              "master_popular_genre_indie     -0.1638      0.406     -0.404      0.686      -0.959       0.631\n",
              "master_popular_genre_pop       -0.3596      0.386     -0.933      0.351      -1.115       0.396\n",
              "master_popular_genre_r&b        1.4438      0.469      3.081      0.002       0.525       2.362\n",
              "master_popular_genre_rock      -3.0359      0.362     -8.379      0.000      -3.746      -2.326\n",
              "==============================================================================\n",
              "Omnibus:                     4635.435   Durbin-Watson:                   2.006\n",
              "Prob(Omnibus):                  0.000   Jarque-Bera (JB):             9341.336\n",
              "Skew:                          -0.675   Prob(JB):                         0.00\n",
              "Kurtosis:                       4.788   Cond. No.                     4.97e+07\n",
              "==============================================================================\n",
              "\n",
              "Warnings:\n",
              "[1] Standard Errors assume that the covariance matrix of the errors is correctly specified.\n",
              "[2] The condition number is large, 4.97e+07. This might indicate that there are\n",
              "strong multicollinearity or other numerical problems.\n",
              "\"\"\""
            ]
          },
          "metadata": {
            "tags": []
          },
          "execution_count": 42
        }
      ]
    },
    {
      "cell_type": "markdown",
      "metadata": {
        "id": "kaR-7eQ9Roek"
      },
      "source": [
        "As expected, no change in the R-squared. The only other variables I considered dropping were key and master_popular_genre because several of the categories for these features are insignificant. However, since I would also have to drop the significant categories if I wanted to drop the insignificant ones, I chose to leave them in."
      ]
    },
    {
      "cell_type": "code",
      "metadata": {
        "colab": {
          "base_uri": "https://localhost:8080/"
        },
        "id": "eRLPlnlxSIj8",
        "outputId": "d7cc6408-d2e4-4b01-bd52-11ff7ed7f917"
      },
      "source": [
        "print(\"Linear Regression:\")\n",
        "lr_mae = mean_absolute_error(y_test, results.predict(X_test))\n",
        "print(\"Test mean absolute error:\", mean_absolute_error(y_test, results.predict(X_test)))\n",
        "lr_mse = mean_squared_error(y_test,results.predict(X_test))\n",
        "print(\"Test mean-squared error:\", lr_mse)\n",
        "lr_rmse = np.sqrt(lr_mse)\n",
        "print(\"Test root mean squared error:\", np.sqrt(lr_mse))\n",
        "lr_stats = [\"Linear Regression\", lr_mae, lr_rmse ]"
      ],
      "execution_count": 30,
      "outputs": [
        {
          "output_type": "stream",
          "text": [
            "Linear Regression:\n",
            "Test mean absolute error: 10.029911884302587\n",
            "Test mean-squared error: 178.2921427513868\n",
            "Test root mean squared error: 13.35260808798741\n"
          ],
          "name": "stdout"
        }
      ]
    },
    {
      "cell_type": "markdown",
      "metadata": {
        "id": "pfJ9OJpJVyWF"
      },
      "source": [
        "### Regularized Linear Models\n",
        "I also tried a Ridge regression and a Lasso regression to check out how regularization would improve the linear model. For both of these regressions, I varied the regularization strength to see what alpha performed the best:"
      ]
    },
    {
      "cell_type": "code",
      "metadata": {
        "colab": {
          "base_uri": "https://localhost:8080/"
        },
        "id": "r4o5sYHQWCGe",
        "outputId": "16649065-3bde-48d4-c7bc-9b0f126edc68"
      },
      "source": [
        "alphas = np.array([1, 0.5, .01, 0.05, .001, 0.005, 0.001, 0.0005])\n",
        "ridge_grid = GridSearchCV(estimator=linear_model.Ridge(), param_grid=dict(alpha=alphas), cv=3)\n",
        "ridge_grid.fit(X_train,y_train)"
      ],
      "execution_count": 24,
      "outputs": [
        {
          "output_type": "execute_result",
          "data": {
            "text/plain": [
              "GridSearchCV(cv=3, error_score=nan,\n",
              "             estimator=Ridge(alpha=1.0, copy_X=True, fit_intercept=True,\n",
              "                             max_iter=None, normalize=False, random_state=None,\n",
              "                             solver='auto', tol=0.001),\n",
              "             iid='deprecated', n_jobs=None,\n",
              "             param_grid={'alpha': array([1.e+00, 5.e-01, 1.e-02, 5.e-02, 1.e-03, 5.e-03, 1.e-03, 5.e-04])},\n",
              "             pre_dispatch='2*n_jobs', refit=True, return_train_score=False,\n",
              "             scoring=None, verbose=0)"
            ]
          },
          "metadata": {
            "tags": []
          },
          "execution_count": 24
        }
      ]
    },
    {
      "cell_type": "code",
      "metadata": {
        "colab": {
          "base_uri": "https://localhost:8080/"
        },
        "id": "sdvG_gs9WdAj",
        "outputId": "14a5974c-57be-4351-b090-08515a9307e3"
      },
      "source": [
        "ridge_stats = print_score(\"Ridge Regression\",ridge_grid)"
      ],
      "execution_count": 74,
      "outputs": [
        {
          "output_type": "stream",
          "text": [
            "Ridge Regression\n",
            "The best score is 0.29565428158944934\n",
            "The best hyper parameter setting is {'alpha': 1.0}\n",
            "Test mean absolute error: 8.96323766730061\n",
            "Test mean-squared error: 156.80695750657955\n",
            "Test root mean squared error: 12.522258482661167\n"
          ],
          "name": "stdout"
        }
      ]
    },
    {
      "cell_type": "code",
      "metadata": {
        "colab": {
          "base_uri": "https://localhost:8080/"
        },
        "id": "ea7YQxvrS4Ca",
        "outputId": "c23d80a7-afe7-4d9a-d6de-a309bb64087b"
      },
      "source": [
        "alphas = np.array([1, 0.5, .01, 0.05, .001, 0.005, 0.001, 0.0005])\n",
        "lasso_grid = GridSearchCV(estimator=linear_model.Lasso(), param_grid=dict(alpha=alphas), cv=3)\n",
        "lasso_grid.fit(X_train,y_train)"
      ],
      "execution_count": 26,
      "outputs": [
        {
          "output_type": "execute_result",
          "data": {
            "text/plain": [
              "GridSearchCV(cv=3, error_score=nan,\n",
              "             estimator=Lasso(alpha=1.0, copy_X=True, fit_intercept=True,\n",
              "                             max_iter=1000, normalize=False, positive=False,\n",
              "                             precompute=False, random_state=None,\n",
              "                             selection='cyclic', tol=0.0001, warm_start=False),\n",
              "             iid='deprecated', n_jobs=None,\n",
              "             param_grid={'alpha': array([1.e+00, 5.e-01, 1.e-02, 5.e-02, 1.e-03, 5.e-03, 1.e-03, 5.e-04])},\n",
              "             pre_dispatch='2*n_jobs', refit=True, return_train_score=False,\n",
              "             scoring=None, verbose=0)"
            ]
          },
          "metadata": {
            "tags": []
          },
          "execution_count": 26
        }
      ]
    },
    {
      "cell_type": "code",
      "metadata": {
        "colab": {
          "base_uri": "https://localhost:8080/"
        },
        "id": "IyookyCOTKx7",
        "outputId": "ffd3c268-982b-4d6c-e214-6e32dc0150f1"
      },
      "source": [
        "lasso_stats = print_score(\"Lasso Regression\",lasso_grid)"
      ],
      "execution_count": 82,
      "outputs": [
        {
          "output_type": "stream",
          "text": [
            "Lasso Regression\n",
            "The best score is 0.2957197876221089\n",
            "The best hyper parameter setting is {'alpha': 0.001}\n",
            "Test mean absolute error: 8.964674773868138\n",
            "Test mean-squared error: 156.8194017031554\n",
            "Test root mean squared error: 12.522755355877372\n"
          ],
          "name": "stdout"
        }
      ]
    },
    {
      "cell_type": "markdown",
      "metadata": {
        "id": "vour72emW6Vq"
      },
      "source": [
        "These models performed a bit better, suggesting that the original linear model was overfitting a bit. We'll see if we can improve over this 9 MSE using more complex ML Models below."
      ]
    },
    {
      "cell_type": "markdown",
      "metadata": {
        "id": "QUI9KYTlR8mV"
      },
      "source": [
        "##Machine Learning Models\n",
        "For each of these models, I used GridSearchCV to try a number of hyperparameters that could potentially improve performance of each of the models.\n",
        "\n",
        "I tried a Decision Tree, Random Forest, Gradient Boost, Ada Boost, XG Boost, and Neural Network. At the end, I summarized all of the models' performances.\n",
        "\n",
        "I waited to scale the data until this point, as I wanted to be able to directly interpret the coefficients of the linear regression. While not all of the below Machine Learning models require scaling, it will speed up at least the neural network's performance, so why not."
      ]
    },
    {
      "cell_type": "code",
      "metadata": {
        "id": "MWSQpNPT0_LD"
      },
      "source": [
        "from sklearn.ensemble import RandomForestRegressor\n",
        "from sklearn.ensemble import GradientBoostingRegressor\n",
        "from sklearn.ensemble import AdaBoostRegressor\n",
        "from sklearn.tree import DecisionTreeRegressor\n",
        "from xgboost import XGBRegressor\n",
        "from sklearn.neural_network import MLPRegressor"
      ],
      "execution_count": 11,
      "outputs": []
    },
    {
      "cell_type": "code",
      "metadata": {
        "id": "uclo4es_baSp"
      },
      "source": [
        "from sklearn.preprocessing import MinMaxScaler\n",
        "scaler = MinMaxScaler()\n",
        "\n",
        "track_table_dummies[track_table_dummies.columns] = scaler.fit_transform(track_table_dummies[track_table_dummies.columns])\n",
        "X = track_table_dummies.iloc[:,1:]\n",
        "y = track_table_dummies.iloc[:,0]\n",
        "\n",
        "X_train, X_test, y_train, y_test = train_test_split(X, y, test_size=0.33, random_state=42)"
      ],
      "execution_count": 34,
      "outputs": []
    },
    {
      "cell_type": "code",
      "metadata": {
        "id": "GgM2Uw-LcLmT"
      },
      "source": [
        "X_train"
      ],
      "execution_count": null,
      "outputs": []
    },
    {
      "cell_type": "markdown",
      "metadata": {
        "id": "oCi94iaN0p8k"
      },
      "source": [
        "####Decision Tree"
      ]
    },
    {
      "cell_type": "code",
      "metadata": {
        "id": "9J838LIT0AY3"
      },
      "source": [
        "dt_param_grid = {\n",
        "              'max_depth':range(1,16),\n",
        "              #'max_depth': 9,\n",
        "              'min_samples_split':range(2,20)#,\n",
        "              #'min_samples_split': 8\n",
        "}\n",
        "dt_grid = GridSearchCV(DecisionTreeRegressor(), dt_param_grid, cv=3, verbose=2).fit(X_train, y_train)\n",
        "# summarize the results of the grid search"
      ],
      "execution_count": null,
      "outputs": []
    },
    {
      "cell_type": "code",
      "metadata": {
        "colab": {
          "base_uri": "https://localhost:8080/"
        },
        "id": "C4QcYEP64hJY",
        "outputId": "c2d97990-5771-4e23-ed7d-6f93ac664f82"
      },
      "source": [
        "dt_stats = print_score('Decision Tree', dt_grid)"
      ],
      "execution_count": 76,
      "outputs": [
        {
          "output_type": "stream",
          "text": [
            "Decision Tree\n",
            "The best score is 0.4236098809968887\n",
            "The best hyper parameter setting is {'max_depth': 10, 'min_samples_split': 17}\n",
            "Test mean absolute error: 8.051317515301367\n",
            "Test mean-squared error: 129.3120016105052\n",
            "Test root mean squared error: 11.371543501675804\n"
          ],
          "name": "stdout"
        }
      ]
    },
    {
      "cell_type": "markdown",
      "metadata": {
        "id": "_iAQmz1kOsIx"
      },
      "source": [
        "###Random Forest"
      ]
    },
    {
      "cell_type": "code",
      "metadata": {
        "id": "60wD-MvsOw2-"
      },
      "source": [
        "rf_param_grid = {#'bootstrap': [True, False],\n",
        "                 'bootstrap': [True],\n",
        "              #'n_estimators':range(50,400, 50),\n",
        "              'n_estimators': 250\n",
        "              #'max_depth':range(3,12, 2),\n",
        "              'max_depth': 11\n",
        "              #'min_samples_split': [2,3,4]\n",
        "              'min_samples_split': 4\n",
        "}\n",
        "rf_grid = GridSearchCV(RandomForestRegressor(), rf_param_grid, cv=3).fit(X_train, y_train)\n",
        "# summarize the results of the grid search"
      ],
      "execution_count": 33,
      "outputs": []
    },
    {
      "cell_type": "code",
      "metadata": {
        "id": "wB8BpQBEOw-K",
        "colab": {
          "base_uri": "https://localhost:8080/"
        },
        "outputId": "aab71321-ef04-4fe1-e29f-c4d785f26234"
      },
      "source": [
        "rf_stats = print_score('Random Forest', rf_grid)"
      ],
      "execution_count": 75,
      "outputs": [
        {
          "output_type": "stream",
          "text": [
            "Random Forest\n",
            "The best score is 0.5057538748354612\n",
            "The best hyper parameter setting is {'bootstrap': True, 'max_depth': 11, 'min_samples_split': 4, 'n_estimators': 250}\n",
            "Test mean absolute error: 7.625212497196012\n",
            "Test mean-squared error: 110.41720691864234\n",
            "Test root mean squared error: 10.507959217595124\n"
          ],
          "name": "stdout"
        }
      ]
    },
    {
      "cell_type": "markdown",
      "metadata": {
        "id": "agMiJQeWODb0"
      },
      "source": [
        "### Gradient Boost"
      ]
    },
    {
      "cell_type": "code",
      "metadata": {
        "id": "qo6mv0hA9FjN",
        "colab": {
          "base_uri": "https://localhost:8080/"
        },
        "outputId": "20c16063-fec5-46b1-d6c4-0b3b02b04f81"
      },
      "source": [
        "gb_param_grid = {\n",
        "     #'learning_rate': [.01,.1,1],\n",
        "     'learning_rate':[.1],\n",
        "     #'max_depth': range(8,16,2),\n",
        "     'max_depth':[14],\n",
        "     #'n_estimators': range(250,400,50),\n",
        "     'n_estimators':[350],\n",
        "     #'min_samples_split': [0.01, 0.05, 0.1]\n",
        "     'min_samples_split':[.01] \n",
        "}\n",
        "\n",
        "gb_grid = GridSearchCV(GradientBoostingRegressor(), gb_param_grid, cv=3, verbose=2).fit(X_train, y_train)"
      ],
      "execution_count": 41,
      "outputs": [
        {
          "output_type": "stream",
          "text": [
            "Fitting 3 folds for each of 1 candidates, totalling 3 fits\n",
            "[CV] learning_rate=0.1, max_depth=14, min_samples_split=0.01, n_estimators=350 \n"
          ],
          "name": "stdout"
        },
        {
          "output_type": "stream",
          "text": [
            "[Parallel(n_jobs=1)]: Using backend SequentialBackend with 1 concurrent workers.\n"
          ],
          "name": "stderr"
        },
        {
          "output_type": "stream",
          "text": [
            "[CV]  learning_rate=0.1, max_depth=14, min_samples_split=0.01, n_estimators=350, total= 2.1min\n",
            "[CV] learning_rate=0.1, max_depth=14, min_samples_split=0.01, n_estimators=350 \n"
          ],
          "name": "stdout"
        },
        {
          "output_type": "stream",
          "text": [
            "[Parallel(n_jobs=1)]: Done   1 out of   1 | elapsed:  2.1min remaining:    0.0s\n"
          ],
          "name": "stderr"
        },
        {
          "output_type": "stream",
          "text": [
            "[CV]  learning_rate=0.1, max_depth=14, min_samples_split=0.01, n_estimators=350, total= 2.1min\n",
            "[CV] learning_rate=0.1, max_depth=14, min_samples_split=0.01, n_estimators=350 \n",
            "[CV]  learning_rate=0.1, max_depth=14, min_samples_split=0.01, n_estimators=350, total= 2.1min\n"
          ],
          "name": "stdout"
        },
        {
          "output_type": "stream",
          "text": [
            "[Parallel(n_jobs=1)]: Done   3 out of   3 | elapsed:  6.2min finished\n"
          ],
          "name": "stderr"
        }
      ]
    },
    {
      "cell_type": "code",
      "metadata": {
        "id": "MfmZHy1XFuMq",
        "colab": {
          "base_uri": "https://localhost:8080/"
        },
        "outputId": "66b86f68-89e4-4f16-d3da-19e3c1b66697"
      },
      "source": [
        "gb_stats = print_score('Gradient Boost', gb_grid)"
      ],
      "execution_count": 47,
      "outputs": [
        {
          "output_type": "stream",
          "text": [
            "Gradient Boost\n",
            "The best score is 0.5356951848210351\n",
            "The best hyper parameter setting is {'learning_rate': 0.1, 'max_depth': 14, 'min_samples_split': 0.01, 'n_estimators': 350}\n",
            "Test mean absolute error: 7.5000444778252096\n",
            "Test mean-squared error: 101.70676061507417\n",
            "Test root mean squared error: 10.084976976427571\n"
          ],
          "name": "stdout"
        }
      ]
    },
    {
      "cell_type": "markdown",
      "metadata": {
        "id": "9lX5SfbJVB29"
      },
      "source": [
        "### ADA Boost"
      ]
    },
    {
      "cell_type": "code",
      "metadata": {
        "id": "kcBWC6D9VBKo",
        "colab": {
          "base_uri": "https://localhost:8080/"
        },
        "outputId": "9a1fd092-36d6-49a0-c685-18f2b37f2f52"
      },
      "source": [
        "ab_param_grid = {\n",
        "  'n_estimators': range(50,500,50),\n",
        "  'learning_rate' : [0.01,0.05,0.1,0.3,1],\n",
        "  'loss' : ['linear', 'square', 'exponential']\n",
        "}\n",
        "\n",
        "ab_grid = GridSearchCV(AdaBoostRegressor(), ab_param_grid, cv=3, verbose=2).fit(X_train, y_train)"
      ],
      "execution_count": 41,
      "outputs": [
        {
          "output_type": "stream",
          "text": [
            "Fitting 3 folds for each of 75 candidates, totalling 225 fits\n",
            "[CV] learning_rate=0.01, loss=linear, n_estimators=50 ................\n"
          ],
          "name": "stdout"
        },
        {
          "output_type": "stream",
          "text": [
            "[Parallel(n_jobs=1)]: Using backend SequentialBackend with 1 concurrent workers.\n"
          ],
          "name": "stderr"
        },
        {
          "output_type": "stream",
          "text": [
            "[CV] . learning_rate=0.01, loss=linear, n_estimators=50, total=   5.5s\n",
            "[CV] learning_rate=0.01, loss=linear, n_estimators=50 ................\n"
          ],
          "name": "stdout"
        },
        {
          "output_type": "stream",
          "text": [
            "[Parallel(n_jobs=1)]: Done   1 out of   1 | elapsed:    5.5s remaining:    0.0s\n"
          ],
          "name": "stderr"
        },
        {
          "output_type": "stream",
          "text": [
            "[CV] . learning_rate=0.01, loss=linear, n_estimators=50, total=   5.5s\n",
            "[CV] learning_rate=0.01, loss=linear, n_estimators=50 ................\n",
            "[CV] . learning_rate=0.01, loss=linear, n_estimators=50, total=   5.5s\n",
            "[CV] learning_rate=0.01, loss=linear, n_estimators=70 ................\n",
            "[CV] . learning_rate=0.01, loss=linear, n_estimators=70, total=   7.6s\n",
            "[CV] learning_rate=0.01, loss=linear, n_estimators=70 ................\n",
            "[CV] . learning_rate=0.01, loss=linear, n_estimators=70, total=   7.6s\n",
            "[CV] learning_rate=0.01, loss=linear, n_estimators=70 ................\n",
            "[CV] . learning_rate=0.01, loss=linear, n_estimators=70, total=   7.6s\n",
            "[CV] learning_rate=0.01, loss=linear, n_estimators=90 ................\n",
            "[CV] . learning_rate=0.01, loss=linear, n_estimators=90, total=   9.7s\n",
            "[CV] learning_rate=0.01, loss=linear, n_estimators=90 ................\n",
            "[CV] . learning_rate=0.01, loss=linear, n_estimators=90, total=   9.7s\n",
            "[CV] learning_rate=0.01, loss=linear, n_estimators=90 ................\n",
            "[CV] . learning_rate=0.01, loss=linear, n_estimators=90, total=   9.7s\n",
            "[CV] learning_rate=0.01, loss=linear, n_estimators=110 ...............\n",
            "[CV]  learning_rate=0.01, loss=linear, n_estimators=110, total=  11.9s\n",
            "[CV] learning_rate=0.01, loss=linear, n_estimators=110 ...............\n",
            "[CV]  learning_rate=0.01, loss=linear, n_estimators=110, total=  11.9s\n",
            "[CV] learning_rate=0.01, loss=linear, n_estimators=110 ...............\n",
            "[CV]  learning_rate=0.01, loss=linear, n_estimators=110, total=  11.9s\n",
            "[CV] learning_rate=0.01, loss=linear, n_estimators=130 ...............\n",
            "[CV]  learning_rate=0.01, loss=linear, n_estimators=130, total=  14.1s\n",
            "[CV] learning_rate=0.01, loss=linear, n_estimators=130 ...............\n",
            "[CV]  learning_rate=0.01, loss=linear, n_estimators=130, total=  14.1s\n",
            "[CV] learning_rate=0.01, loss=linear, n_estimators=130 ...............\n",
            "[CV]  learning_rate=0.01, loss=linear, n_estimators=130, total=  14.0s\n",
            "[CV] learning_rate=0.01, loss=square, n_estimators=50 ................\n",
            "[CV] . learning_rate=0.01, loss=square, n_estimators=50, total=   5.4s\n",
            "[CV] learning_rate=0.01, loss=square, n_estimators=50 ................\n",
            "[CV] . learning_rate=0.01, loss=square, n_estimators=50, total=   5.4s\n",
            "[CV] learning_rate=0.01, loss=square, n_estimators=50 ................\n",
            "[CV] . learning_rate=0.01, loss=square, n_estimators=50, total=   5.4s\n",
            "[CV] learning_rate=0.01, loss=square, n_estimators=70 ................\n",
            "[CV] . learning_rate=0.01, loss=square, n_estimators=70, total=   7.6s\n",
            "[CV] learning_rate=0.01, loss=square, n_estimators=70 ................\n",
            "[CV] . learning_rate=0.01, loss=square, n_estimators=70, total=   7.5s\n",
            "[CV] learning_rate=0.01, loss=square, n_estimators=70 ................\n",
            "[CV] . learning_rate=0.01, loss=square, n_estimators=70, total=   7.5s\n",
            "[CV] learning_rate=0.01, loss=square, n_estimators=90 ................\n",
            "[CV] . learning_rate=0.01, loss=square, n_estimators=90, total=   9.7s\n",
            "[CV] learning_rate=0.01, loss=square, n_estimators=90 ................\n",
            "[CV] . learning_rate=0.01, loss=square, n_estimators=90, total=   9.8s\n",
            "[CV] learning_rate=0.01, loss=square, n_estimators=90 ................\n",
            "[CV] . learning_rate=0.01, loss=square, n_estimators=90, total=   9.7s\n",
            "[CV] learning_rate=0.01, loss=square, n_estimators=110 ...............\n",
            "[CV]  learning_rate=0.01, loss=square, n_estimators=110, total=  11.9s\n",
            "[CV] learning_rate=0.01, loss=square, n_estimators=110 ...............\n",
            "[CV]  learning_rate=0.01, loss=square, n_estimators=110, total=  11.9s\n",
            "[CV] learning_rate=0.01, loss=square, n_estimators=110 ...............\n",
            "[CV]  learning_rate=0.01, loss=square, n_estimators=110, total=  11.9s\n",
            "[CV] learning_rate=0.01, loss=square, n_estimators=130 ...............\n",
            "[CV]  learning_rate=0.01, loss=square, n_estimators=130, total=  14.0s\n",
            "[CV] learning_rate=0.01, loss=square, n_estimators=130 ...............\n",
            "[CV]  learning_rate=0.01, loss=square, n_estimators=130, total=  14.1s\n",
            "[CV] learning_rate=0.01, loss=square, n_estimators=130 ...............\n",
            "[CV]  learning_rate=0.01, loss=square, n_estimators=130, total=  14.1s\n",
            "[CV] learning_rate=0.01, loss=exponential, n_estimators=50 ...........\n",
            "[CV]  learning_rate=0.01, loss=exponential, n_estimators=50, total=   5.4s\n",
            "[CV] learning_rate=0.01, loss=exponential, n_estimators=50 ...........\n",
            "[CV]  learning_rate=0.01, loss=exponential, n_estimators=50, total=   5.5s\n",
            "[CV] learning_rate=0.01, loss=exponential, n_estimators=50 ...........\n",
            "[CV]  learning_rate=0.01, loss=exponential, n_estimators=50, total=   5.4s\n",
            "[CV] learning_rate=0.01, loss=exponential, n_estimators=70 ...........\n",
            "[CV]  learning_rate=0.01, loss=exponential, n_estimators=70, total=   7.6s\n",
            "[CV] learning_rate=0.01, loss=exponential, n_estimators=70 ...........\n",
            "[CV]  learning_rate=0.01, loss=exponential, n_estimators=70, total=   7.6s\n",
            "[CV] learning_rate=0.01, loss=exponential, n_estimators=70 ...........\n",
            "[CV]  learning_rate=0.01, loss=exponential, n_estimators=70, total=   7.6s\n",
            "[CV] learning_rate=0.01, loss=exponential, n_estimators=90 ...........\n",
            "[CV]  learning_rate=0.01, loss=exponential, n_estimators=90, total=   9.8s\n",
            "[CV] learning_rate=0.01, loss=exponential, n_estimators=90 ...........\n",
            "[CV]  learning_rate=0.01, loss=exponential, n_estimators=90, total=   9.8s\n",
            "[CV] learning_rate=0.01, loss=exponential, n_estimators=90 ...........\n",
            "[CV]  learning_rate=0.01, loss=exponential, n_estimators=90, total=   9.7s\n",
            "[CV] learning_rate=0.01, loss=exponential, n_estimators=110 ..........\n",
            "[CV]  learning_rate=0.01, loss=exponential, n_estimators=110, total=  12.0s\n",
            "[CV] learning_rate=0.01, loss=exponential, n_estimators=110 ..........\n",
            "[CV]  learning_rate=0.01, loss=exponential, n_estimators=110, total=  11.9s\n",
            "[CV] learning_rate=0.01, loss=exponential, n_estimators=110 ..........\n",
            "[CV]  learning_rate=0.01, loss=exponential, n_estimators=110, total=  12.0s\n",
            "[CV] learning_rate=0.01, loss=exponential, n_estimators=130 ..........\n",
            "[CV]  learning_rate=0.01, loss=exponential, n_estimators=130, total=  14.2s\n",
            "[CV] learning_rate=0.01, loss=exponential, n_estimators=130 ..........\n",
            "[CV]  learning_rate=0.01, loss=exponential, n_estimators=130, total=  14.1s\n",
            "[CV] learning_rate=0.01, loss=exponential, n_estimators=130 ..........\n",
            "[CV]  learning_rate=0.01, loss=exponential, n_estimators=130, total=  14.1s\n",
            "[CV] learning_rate=0.05, loss=linear, n_estimators=50 ................\n",
            "[CV] . learning_rate=0.05, loss=linear, n_estimators=50, total=   5.4s\n",
            "[CV] learning_rate=0.05, loss=linear, n_estimators=50 ................\n",
            "[CV] . learning_rate=0.05, loss=linear, n_estimators=50, total=   5.4s\n",
            "[CV] learning_rate=0.05, loss=linear, n_estimators=50 ................\n",
            "[CV] . learning_rate=0.05, loss=linear, n_estimators=50, total=   5.4s\n",
            "[CV] learning_rate=0.05, loss=linear, n_estimators=70 ................\n",
            "[CV] . learning_rate=0.05, loss=linear, n_estimators=70, total=   7.6s\n",
            "[CV] learning_rate=0.05, loss=linear, n_estimators=70 ................\n",
            "[CV] . learning_rate=0.05, loss=linear, n_estimators=70, total=   7.6s\n",
            "[CV] learning_rate=0.05, loss=linear, n_estimators=70 ................\n",
            "[CV] . learning_rate=0.05, loss=linear, n_estimators=70, total=   7.5s\n",
            "[CV] learning_rate=0.05, loss=linear, n_estimators=90 ................\n",
            "[CV] . learning_rate=0.05, loss=linear, n_estimators=90, total=   9.6s\n",
            "[CV] learning_rate=0.05, loss=linear, n_estimators=90 ................\n",
            "[CV] . learning_rate=0.05, loss=linear, n_estimators=90, total=   9.6s\n",
            "[CV] learning_rate=0.05, loss=linear, n_estimators=90 ................\n",
            "[CV] . learning_rate=0.05, loss=linear, n_estimators=90, total=   9.6s\n",
            "[CV] learning_rate=0.05, loss=linear, n_estimators=110 ...............\n",
            "[CV]  learning_rate=0.05, loss=linear, n_estimators=110, total=  11.7s\n",
            "[CV] learning_rate=0.05, loss=linear, n_estimators=110 ...............\n",
            "[CV]  learning_rate=0.05, loss=linear, n_estimators=110, total=  11.7s\n",
            "[CV] learning_rate=0.05, loss=linear, n_estimators=110 ...............\n",
            "[CV]  learning_rate=0.05, loss=linear, n_estimators=110, total=  11.7s\n",
            "[CV] learning_rate=0.05, loss=linear, n_estimators=130 ...............\n",
            "[CV]  learning_rate=0.05, loss=linear, n_estimators=130, total=  13.8s\n",
            "[CV] learning_rate=0.05, loss=linear, n_estimators=130 ...............\n",
            "[CV]  learning_rate=0.05, loss=linear, n_estimators=130, total=  13.8s\n",
            "[CV] learning_rate=0.05, loss=linear, n_estimators=130 ...............\n",
            "[CV]  learning_rate=0.05, loss=linear, n_estimators=130, total=  13.8s\n",
            "[CV] learning_rate=0.05, loss=square, n_estimators=50 ................\n",
            "[CV] . learning_rate=0.05, loss=square, n_estimators=50, total=   5.4s\n",
            "[CV] learning_rate=0.05, loss=square, n_estimators=50 ................\n",
            "[CV] . learning_rate=0.05, loss=square, n_estimators=50, total=   5.4s\n",
            "[CV] learning_rate=0.05, loss=square, n_estimators=50 ................\n",
            "[CV] . learning_rate=0.05, loss=square, n_estimators=50, total=   5.4s\n",
            "[CV] learning_rate=0.05, loss=square, n_estimators=70 ................\n",
            "[CV] . learning_rate=0.05, loss=square, n_estimators=70, total=   7.5s\n",
            "[CV] learning_rate=0.05, loss=square, n_estimators=70 ................\n",
            "[CV] . learning_rate=0.05, loss=square, n_estimators=70, total=   7.4s\n",
            "[CV] learning_rate=0.05, loss=square, n_estimators=70 ................\n",
            "[CV] . learning_rate=0.05, loss=square, n_estimators=70, total=   7.4s\n",
            "[CV] learning_rate=0.05, loss=square, n_estimators=90 ................\n",
            "[CV] . learning_rate=0.05, loss=square, n_estimators=90, total=   9.5s\n",
            "[CV] learning_rate=0.05, loss=square, n_estimators=90 ................\n",
            "[CV] . learning_rate=0.05, loss=square, n_estimators=90, total=   9.5s\n",
            "[CV] learning_rate=0.05, loss=square, n_estimators=90 ................\n",
            "[CV] . learning_rate=0.05, loss=square, n_estimators=90, total=   9.5s\n",
            "[CV] learning_rate=0.05, loss=square, n_estimators=110 ...............\n",
            "[CV]  learning_rate=0.05, loss=square, n_estimators=110, total=  11.5s\n",
            "[CV] learning_rate=0.05, loss=square, n_estimators=110 ...............\n",
            "[CV]  learning_rate=0.05, loss=square, n_estimators=110, total=  11.6s\n",
            "[CV] learning_rate=0.05, loss=square, n_estimators=110 ...............\n",
            "[CV]  learning_rate=0.05, loss=square, n_estimators=110, total=  11.5s\n",
            "[CV] learning_rate=0.05, loss=square, n_estimators=130 ...............\n",
            "[CV]  learning_rate=0.05, loss=square, n_estimators=130, total=  13.4s\n",
            "[CV] learning_rate=0.05, loss=square, n_estimators=130 ...............\n",
            "[CV]  learning_rate=0.05, loss=square, n_estimators=130, total=  13.4s\n",
            "[CV] learning_rate=0.05, loss=square, n_estimators=130 ...............\n",
            "[CV]  learning_rate=0.05, loss=square, n_estimators=130, total=  13.3s\n",
            "[CV] learning_rate=0.05, loss=exponential, n_estimators=50 ...........\n",
            "[CV]  learning_rate=0.05, loss=exponential, n_estimators=50, total=   5.5s\n",
            "[CV] learning_rate=0.05, loss=exponential, n_estimators=50 ...........\n",
            "[CV]  learning_rate=0.05, loss=exponential, n_estimators=50, total=   5.4s\n",
            "[CV] learning_rate=0.05, loss=exponential, n_estimators=50 ...........\n",
            "[CV]  learning_rate=0.05, loss=exponential, n_estimators=50, total=   5.4s\n",
            "[CV] learning_rate=0.05, loss=exponential, n_estimators=70 ...........\n",
            "[CV]  learning_rate=0.05, loss=exponential, n_estimators=70, total=   7.6s\n",
            "[CV] learning_rate=0.05, loss=exponential, n_estimators=70 ...........\n",
            "[CV]  learning_rate=0.05, loss=exponential, n_estimators=70, total=   7.6s\n",
            "[CV] learning_rate=0.05, loss=exponential, n_estimators=70 ...........\n",
            "[CV]  learning_rate=0.05, loss=exponential, n_estimators=70, total=   7.6s\n",
            "[CV] learning_rate=0.05, loss=exponential, n_estimators=90 ...........\n",
            "[CV]  learning_rate=0.05, loss=exponential, n_estimators=90, total=   9.8s\n",
            "[CV] learning_rate=0.05, loss=exponential, n_estimators=90 ...........\n",
            "[CV]  learning_rate=0.05, loss=exponential, n_estimators=90, total=   9.7s\n",
            "[CV] learning_rate=0.05, loss=exponential, n_estimators=90 ...........\n",
            "[CV]  learning_rate=0.05, loss=exponential, n_estimators=90, total=   9.8s\n",
            "[CV] learning_rate=0.05, loss=exponential, n_estimators=110 ..........\n",
            "[CV]  learning_rate=0.05, loss=exponential, n_estimators=110, total=  11.8s\n",
            "[CV] learning_rate=0.05, loss=exponential, n_estimators=110 ..........\n",
            "[CV]  learning_rate=0.05, loss=exponential, n_estimators=110, total=  11.9s\n",
            "[CV] learning_rate=0.05, loss=exponential, n_estimators=110 ..........\n",
            "[CV]  learning_rate=0.05, loss=exponential, n_estimators=110, total=  11.8s\n",
            "[CV] learning_rate=0.05, loss=exponential, n_estimators=130 ..........\n",
            "[CV]  learning_rate=0.05, loss=exponential, n_estimators=130, total=  13.9s\n",
            "[CV] learning_rate=0.05, loss=exponential, n_estimators=130 ..........\n",
            "[CV]  learning_rate=0.05, loss=exponential, n_estimators=130, total=  13.9s\n",
            "[CV] learning_rate=0.05, loss=exponential, n_estimators=130 ..........\n",
            "[CV]  learning_rate=0.05, loss=exponential, n_estimators=130, total=  13.9s\n",
            "[CV] learning_rate=0.1, loss=linear, n_estimators=50 .................\n",
            "[CV] .. learning_rate=0.1, loss=linear, n_estimators=50, total=   5.3s\n",
            "[CV] learning_rate=0.1, loss=linear, n_estimators=50 .................\n",
            "[CV] .. learning_rate=0.1, loss=linear, n_estimators=50, total=   5.3s\n",
            "[CV] learning_rate=0.1, loss=linear, n_estimators=50 .................\n",
            "[CV] .. learning_rate=0.1, loss=linear, n_estimators=50, total=   5.4s\n",
            "[CV] learning_rate=0.1, loss=linear, n_estimators=70 .................\n",
            "[CV] .. learning_rate=0.1, loss=linear, n_estimators=70, total=   7.4s\n",
            "[CV] learning_rate=0.1, loss=linear, n_estimators=70 .................\n",
            "[CV] .. learning_rate=0.1, loss=linear, n_estimators=70, total=   7.4s\n",
            "[CV] learning_rate=0.1, loss=linear, n_estimators=70 .................\n",
            "[CV] .. learning_rate=0.1, loss=linear, n_estimators=70, total=   7.4s\n",
            "[CV] learning_rate=0.1, loss=linear, n_estimators=90 .................\n",
            "[CV] .. learning_rate=0.1, loss=linear, n_estimators=90, total=   9.3s\n",
            "[CV] learning_rate=0.1, loss=linear, n_estimators=90 .................\n",
            "[CV] .. learning_rate=0.1, loss=linear, n_estimators=90, total=   9.4s\n",
            "[CV] learning_rate=0.1, loss=linear, n_estimators=90 .................\n",
            "[CV] .. learning_rate=0.1, loss=linear, n_estimators=90, total=   9.3s\n",
            "[CV] learning_rate=0.1, loss=linear, n_estimators=110 ................\n",
            "[CV] . learning_rate=0.1, loss=linear, n_estimators=110, total=  11.3s\n",
            "[CV] learning_rate=0.1, loss=linear, n_estimators=110 ................\n",
            "[CV] . learning_rate=0.1, loss=linear, n_estimators=110, total=  11.3s\n",
            "[CV] learning_rate=0.1, loss=linear, n_estimators=110 ................\n",
            "[CV] . learning_rate=0.1, loss=linear, n_estimators=110, total=  11.3s\n",
            "[CV] learning_rate=0.1, loss=linear, n_estimators=130 ................\n",
            "[CV] . learning_rate=0.1, loss=linear, n_estimators=130, total=  13.2s\n",
            "[CV] learning_rate=0.1, loss=linear, n_estimators=130 ................\n",
            "[CV] . learning_rate=0.1, loss=linear, n_estimators=130, total=  13.0s\n",
            "[CV] learning_rate=0.1, loss=linear, n_estimators=130 ................\n",
            "[CV] . learning_rate=0.1, loss=linear, n_estimators=130, total=  13.2s\n",
            "[CV] learning_rate=0.1, loss=square, n_estimators=50 .................\n",
            "[CV] .. learning_rate=0.1, loss=square, n_estimators=50, total=   5.2s\n",
            "[CV] learning_rate=0.1, loss=square, n_estimators=50 .................\n",
            "[CV] .. learning_rate=0.1, loss=square, n_estimators=50, total=   5.2s\n",
            "[CV] learning_rate=0.1, loss=square, n_estimators=50 .................\n",
            "[CV] .. learning_rate=0.1, loss=square, n_estimators=50, total=   5.2s\n",
            "[CV] learning_rate=0.1, loss=square, n_estimators=70 .................\n",
            "[CV] .. learning_rate=0.1, loss=square, n_estimators=70, total=   7.2s\n",
            "[CV] learning_rate=0.1, loss=square, n_estimators=70 .................\n",
            "[CV] .. learning_rate=0.1, loss=square, n_estimators=70, total=   7.2s\n",
            "[CV] learning_rate=0.1, loss=square, n_estimators=70 .................\n",
            "[CV] .. learning_rate=0.1, loss=square, n_estimators=70, total=   7.2s\n",
            "[CV] learning_rate=0.1, loss=square, n_estimators=90 .................\n",
            "[CV] .. learning_rate=0.1, loss=square, n_estimators=90, total=   9.1s\n",
            "[CV] learning_rate=0.1, loss=square, n_estimators=90 .................\n",
            "[CV] .. learning_rate=0.1, loss=square, n_estimators=90, total=   9.1s\n",
            "[CV] learning_rate=0.1, loss=square, n_estimators=90 .................\n",
            "[CV] .. learning_rate=0.1, loss=square, n_estimators=90, total=   9.0s\n",
            "[CV] learning_rate=0.1, loss=square, n_estimators=110 ................\n",
            "[CV] . learning_rate=0.1, loss=square, n_estimators=110, total=  10.7s\n",
            "[CV] learning_rate=0.1, loss=square, n_estimators=110 ................\n",
            "[CV] . learning_rate=0.1, loss=square, n_estimators=110, total=  10.6s\n",
            "[CV] learning_rate=0.1, loss=square, n_estimators=110 ................\n",
            "[CV] . learning_rate=0.1, loss=square, n_estimators=110, total=  10.6s\n",
            "[CV] learning_rate=0.1, loss=square, n_estimators=130 ................\n",
            "[CV] . learning_rate=0.1, loss=square, n_estimators=130, total=  12.3s\n",
            "[CV] learning_rate=0.1, loss=square, n_estimators=130 ................\n",
            "[CV] . learning_rate=0.1, loss=square, n_estimators=130, total=  12.4s\n",
            "[CV] learning_rate=0.1, loss=square, n_estimators=130 ................\n",
            "[CV] . learning_rate=0.1, loss=square, n_estimators=130, total=  12.3s\n",
            "[CV] learning_rate=0.1, loss=exponential, n_estimators=50 ............\n",
            "[CV]  learning_rate=0.1, loss=exponential, n_estimators=50, total=   5.4s\n",
            "[CV] learning_rate=0.1, loss=exponential, n_estimators=50 ............\n",
            "[CV]  learning_rate=0.1, loss=exponential, n_estimators=50, total=   5.4s\n",
            "[CV] learning_rate=0.1, loss=exponential, n_estimators=50 ............\n",
            "[CV]  learning_rate=0.1, loss=exponential, n_estimators=50, total=   5.4s\n",
            "[CV] learning_rate=0.1, loss=exponential, n_estimators=70 ............\n",
            "[CV]  learning_rate=0.1, loss=exponential, n_estimators=70, total=   7.4s\n",
            "[CV] learning_rate=0.1, loss=exponential, n_estimators=70 ............\n",
            "[CV]  learning_rate=0.1, loss=exponential, n_estimators=70, total=   7.4s\n",
            "[CV] learning_rate=0.1, loss=exponential, n_estimators=70 ............\n",
            "[CV]  learning_rate=0.1, loss=exponential, n_estimators=70, total=   7.4s\n",
            "[CV] learning_rate=0.1, loss=exponential, n_estimators=90 ............\n",
            "[CV]  learning_rate=0.1, loss=exponential, n_estimators=90, total=   9.5s\n",
            "[CV] learning_rate=0.1, loss=exponential, n_estimators=90 ............\n",
            "[CV]  learning_rate=0.1, loss=exponential, n_estimators=90, total=   9.4s\n",
            "[CV] learning_rate=0.1, loss=exponential, n_estimators=90 ............\n",
            "[CV]  learning_rate=0.1, loss=exponential, n_estimators=90, total=   9.4s\n",
            "[CV] learning_rate=0.1, loss=exponential, n_estimators=110 ...........\n",
            "[CV]  learning_rate=0.1, loss=exponential, n_estimators=110, total=  11.4s\n",
            "[CV] learning_rate=0.1, loss=exponential, n_estimators=110 ...........\n",
            "[CV]  learning_rate=0.1, loss=exponential, n_estimators=110, total=  11.5s\n",
            "[CV] learning_rate=0.1, loss=exponential, n_estimators=110 ...........\n",
            "[CV]  learning_rate=0.1, loss=exponential, n_estimators=110, total=  11.4s\n",
            "[CV] learning_rate=0.1, loss=exponential, n_estimators=130 ...........\n",
            "[CV]  learning_rate=0.1, loss=exponential, n_estimators=130, total=  13.3s\n",
            "[CV] learning_rate=0.1, loss=exponential, n_estimators=130 ...........\n",
            "[CV]  learning_rate=0.1, loss=exponential, n_estimators=130, total=  13.3s\n",
            "[CV] learning_rate=0.1, loss=exponential, n_estimators=130 ...........\n",
            "[CV]  learning_rate=0.1, loss=exponential, n_estimators=130, total=  13.4s\n",
            "[CV] learning_rate=0.3, loss=linear, n_estimators=50 .................\n",
            "[CV] .. learning_rate=0.3, loss=linear, n_estimators=50, total=   5.0s\n",
            "[CV] learning_rate=0.3, loss=linear, n_estimators=50 .................\n",
            "[CV] .. learning_rate=0.3, loss=linear, n_estimators=50, total=   5.0s\n",
            "[CV] learning_rate=0.3, loss=linear, n_estimators=50 .................\n",
            "[CV] .. learning_rate=0.3, loss=linear, n_estimators=50, total=   4.9s\n",
            "[CV] learning_rate=0.3, loss=linear, n_estimators=70 .................\n",
            "[CV] .. learning_rate=0.3, loss=linear, n_estimators=70, total=   5.4s\n",
            "[CV] learning_rate=0.3, loss=linear, n_estimators=70 .................\n",
            "[CV] .. learning_rate=0.3, loss=linear, n_estimators=70, total=   5.4s\n",
            "[CV] learning_rate=0.3, loss=linear, n_estimators=70 .................\n",
            "[CV] .. learning_rate=0.3, loss=linear, n_estimators=70, total=   5.3s\n",
            "[CV] learning_rate=0.3, loss=linear, n_estimators=90 .................\n",
            "[CV] .. learning_rate=0.3, loss=linear, n_estimators=90, total=   6.1s\n",
            "[CV] learning_rate=0.3, loss=linear, n_estimators=90 .................\n",
            "[CV] .. learning_rate=0.3, loss=linear, n_estimators=90, total=   6.2s\n",
            "[CV] learning_rate=0.3, loss=linear, n_estimators=90 .................\n",
            "[CV] .. learning_rate=0.3, loss=linear, n_estimators=90, total=   5.5s\n",
            "[CV] learning_rate=0.3, loss=linear, n_estimators=110 ................\n",
            "[CV] . learning_rate=0.3, loss=linear, n_estimators=110, total=   6.1s\n",
            "[CV] learning_rate=0.3, loss=linear, n_estimators=110 ................\n",
            "[CV] . learning_rate=0.3, loss=linear, n_estimators=110, total=   5.3s\n",
            "[CV] learning_rate=0.3, loss=linear, n_estimators=110 ................\n",
            "[CV] . learning_rate=0.3, loss=linear, n_estimators=110, total=   5.6s\n",
            "[CV] learning_rate=0.3, loss=linear, n_estimators=130 ................\n",
            "[CV] . learning_rate=0.3, loss=linear, n_estimators=130, total=   5.8s\n",
            "[CV] learning_rate=0.3, loss=linear, n_estimators=130 ................\n",
            "[CV] . learning_rate=0.3, loss=linear, n_estimators=130, total=   5.6s\n",
            "[CV] learning_rate=0.3, loss=linear, n_estimators=130 ................\n",
            "[CV] . learning_rate=0.3, loss=linear, n_estimators=130, total=   5.6s\n",
            "[CV] learning_rate=0.3, loss=square, n_estimators=50 .................\n",
            "[CV] .. learning_rate=0.3, loss=square, n_estimators=50, total=   4.6s\n",
            "[CV] learning_rate=0.3, loss=square, n_estimators=50 .................\n",
            "[CV] .. learning_rate=0.3, loss=square, n_estimators=50, total=   4.6s\n",
            "[CV] learning_rate=0.3, loss=square, n_estimators=50 .................\n",
            "[CV] .. learning_rate=0.3, loss=square, n_estimators=50, total=   4.6s\n",
            "[CV] learning_rate=0.3, loss=square, n_estimators=70 .................\n",
            "[CV] .. learning_rate=0.3, loss=square, n_estimators=70, total=   6.0s\n",
            "[CV] learning_rate=0.3, loss=square, n_estimators=70 .................\n",
            "[CV] .. learning_rate=0.3, loss=square, n_estimators=70, total=   6.0s\n",
            "[CV] learning_rate=0.3, loss=square, n_estimators=70 .................\n",
            "[CV] .. learning_rate=0.3, loss=square, n_estimators=70, total=   6.0s\n",
            "[CV] learning_rate=0.3, loss=square, n_estimators=90 .................\n",
            "[CV] .. learning_rate=0.3, loss=square, n_estimators=90, total=   7.3s\n",
            "[CV] learning_rate=0.3, loss=square, n_estimators=90 .................\n",
            "[CV] .. learning_rate=0.3, loss=square, n_estimators=90, total=   7.3s\n",
            "[CV] learning_rate=0.3, loss=square, n_estimators=90 .................\n",
            "[CV] .. learning_rate=0.3, loss=square, n_estimators=90, total=   7.4s\n",
            "[CV] learning_rate=0.3, loss=square, n_estimators=110 ................\n",
            "[CV] . learning_rate=0.3, loss=square, n_estimators=110, total=   8.6s\n",
            "[CV] learning_rate=0.3, loss=square, n_estimators=110 ................\n",
            "[CV] . learning_rate=0.3, loss=square, n_estimators=110, total=   8.6s\n",
            "[CV] learning_rate=0.3, loss=square, n_estimators=110 ................\n",
            "[CV] . learning_rate=0.3, loss=square, n_estimators=110, total=   8.6s\n",
            "[CV] learning_rate=0.3, loss=square, n_estimators=130 ................\n",
            "[CV] . learning_rate=0.3, loss=square, n_estimators=130, total=   9.7s\n",
            "[CV] learning_rate=0.3, loss=square, n_estimators=130 ................\n",
            "[CV] . learning_rate=0.3, loss=square, n_estimators=130, total=   9.8s\n",
            "[CV] learning_rate=0.3, loss=square, n_estimators=130 ................\n",
            "[CV] . learning_rate=0.3, loss=square, n_estimators=130, total=   9.8s\n",
            "[CV] learning_rate=0.3, loss=exponential, n_estimators=50 ............\n",
            "[CV]  learning_rate=0.3, loss=exponential, n_estimators=50, total=   5.1s\n",
            "[CV] learning_rate=0.3, loss=exponential, n_estimators=50 ............\n",
            "[CV]  learning_rate=0.3, loss=exponential, n_estimators=50, total=   5.1s\n",
            "[CV] learning_rate=0.3, loss=exponential, n_estimators=50 ............\n",
            "[CV]  learning_rate=0.3, loss=exponential, n_estimators=50, total=   5.1s\n",
            "[CV] learning_rate=0.3, loss=exponential, n_estimators=70 ............\n",
            "[CV]  learning_rate=0.3, loss=exponential, n_estimators=70, total=   6.9s\n",
            "[CV] learning_rate=0.3, loss=exponential, n_estimators=70 ............\n",
            "[CV]  learning_rate=0.3, loss=exponential, n_estimators=70, total=   6.9s\n",
            "[CV] learning_rate=0.3, loss=exponential, n_estimators=70 ............\n",
            "[CV]  learning_rate=0.3, loss=exponential, n_estimators=70, total=   6.9s\n",
            "[CV] learning_rate=0.3, loss=exponential, n_estimators=90 ............\n",
            "[CV]  learning_rate=0.3, loss=exponential, n_estimators=90, total=   8.6s\n",
            "[CV] learning_rate=0.3, loss=exponential, n_estimators=90 ............\n",
            "[CV]  learning_rate=0.3, loss=exponential, n_estimators=90, total=   8.6s\n",
            "[CV] learning_rate=0.3, loss=exponential, n_estimators=90 ............\n",
            "[CV]  learning_rate=0.3, loss=exponential, n_estimators=90, total=   8.5s\n",
            "[CV] learning_rate=0.3, loss=exponential, n_estimators=110 ...........\n",
            "[CV]  learning_rate=0.3, loss=exponential, n_estimators=110, total=  10.3s\n",
            "[CV] learning_rate=0.3, loss=exponential, n_estimators=110 ...........\n",
            "[CV]  learning_rate=0.3, loss=exponential, n_estimators=110, total=  10.1s\n",
            "[CV] learning_rate=0.3, loss=exponential, n_estimators=110 ...........\n",
            "[CV]  learning_rate=0.3, loss=exponential, n_estimators=110, total=  10.2s\n",
            "[CV] learning_rate=0.3, loss=exponential, n_estimators=130 ...........\n",
            "[CV]  learning_rate=0.3, loss=exponential, n_estimators=130, total=  11.7s\n",
            "[CV] learning_rate=0.3, loss=exponential, n_estimators=130 ...........\n",
            "[CV]  learning_rate=0.3, loss=exponential, n_estimators=130, total=  11.9s\n",
            "[CV] learning_rate=0.3, loss=exponential, n_estimators=130 ...........\n",
            "[CV]  learning_rate=0.3, loss=exponential, n_estimators=130, total=  11.8s\n",
            "[CV] learning_rate=1, loss=linear, n_estimators=50 ...................\n",
            "[CV] .... learning_rate=1, loss=linear, n_estimators=50, total=   2.1s\n",
            "[CV] learning_rate=1, loss=linear, n_estimators=50 ...................\n",
            "[CV] .... learning_rate=1, loss=linear, n_estimators=50, total=   1.6s\n",
            "[CV] learning_rate=1, loss=linear, n_estimators=50 ...................\n",
            "[CV] .... learning_rate=1, loss=linear, n_estimators=50, total=   1.4s\n",
            "[CV] learning_rate=1, loss=linear, n_estimators=70 ...................\n",
            "[CV] .... learning_rate=1, loss=linear, n_estimators=70, total=   2.0s\n",
            "[CV] learning_rate=1, loss=linear, n_estimators=70 ...................\n",
            "[CV] .... learning_rate=1, loss=linear, n_estimators=70, total=   1.6s\n",
            "[CV] learning_rate=1, loss=linear, n_estimators=70 ...................\n",
            "[CV] .... learning_rate=1, loss=linear, n_estimators=70, total=   1.7s\n",
            "[CV] learning_rate=1, loss=linear, n_estimators=90 ...................\n",
            "[CV] .... learning_rate=1, loss=linear, n_estimators=90, total=   2.2s\n",
            "[CV] learning_rate=1, loss=linear, n_estimators=90 ...................\n",
            "[CV] .... learning_rate=1, loss=linear, n_estimators=90, total=   1.6s\n",
            "[CV] learning_rate=1, loss=linear, n_estimators=90 ...................\n",
            "[CV] .... learning_rate=1, loss=linear, n_estimators=90, total=   2.2s\n",
            "[CV] learning_rate=1, loss=linear, n_estimators=110 ..................\n",
            "[CV] ... learning_rate=1, loss=linear, n_estimators=110, total=   1.6s\n",
            "[CV] learning_rate=1, loss=linear, n_estimators=110 ..................\n",
            "[CV] ... learning_rate=1, loss=linear, n_estimators=110, total=   2.0s\n",
            "[CV] learning_rate=1, loss=linear, n_estimators=110 ..................\n",
            "[CV] ... learning_rate=1, loss=linear, n_estimators=110, total=   2.1s\n",
            "[CV] learning_rate=1, loss=linear, n_estimators=130 ..................\n",
            "[CV] ... learning_rate=1, loss=linear, n_estimators=130, total=   2.0s\n",
            "[CV] learning_rate=1, loss=linear, n_estimators=130 ..................\n",
            "[CV] ... learning_rate=1, loss=linear, n_estimators=130, total=   1.9s\n",
            "[CV] learning_rate=1, loss=linear, n_estimators=130 ..................\n",
            "[CV] ... learning_rate=1, loss=linear, n_estimators=130, total=   1.7s\n",
            "[CV] learning_rate=1, loss=square, n_estimators=50 ...................\n",
            "[CV] .... learning_rate=1, loss=square, n_estimators=50, total=   3.5s\n",
            "[CV] learning_rate=1, loss=square, n_estimators=50 ...................\n",
            "[CV] .... learning_rate=1, loss=square, n_estimators=50, total=   3.5s\n",
            "[CV] learning_rate=1, loss=square, n_estimators=50 ...................\n",
            "[CV] .... learning_rate=1, loss=square, n_estimators=50, total=   3.5s\n",
            "[CV] learning_rate=1, loss=square, n_estimators=70 ...................\n",
            "[CV] .... learning_rate=1, loss=square, n_estimators=70, total=   4.6s\n",
            "[CV] learning_rate=1, loss=square, n_estimators=70 ...................\n",
            "[CV] .... learning_rate=1, loss=square, n_estimators=70, total=   4.6s\n",
            "[CV] learning_rate=1, loss=square, n_estimators=70 ...................\n",
            "[CV] .... learning_rate=1, loss=square, n_estimators=70, total=   4.6s\n",
            "[CV] learning_rate=1, loss=square, n_estimators=90 ...................\n",
            "[CV] .... learning_rate=1, loss=square, n_estimators=90, total=   5.7s\n",
            "[CV] learning_rate=1, loss=square, n_estimators=90 ...................\n",
            "[CV] .... learning_rate=1, loss=square, n_estimators=90, total=   5.7s\n",
            "[CV] learning_rate=1, loss=square, n_estimators=90 ...................\n",
            "[CV] .... learning_rate=1, loss=square, n_estimators=90, total=   5.7s\n",
            "[CV] learning_rate=1, loss=square, n_estimators=110 ..................\n",
            "[CV] ... learning_rate=1, loss=square, n_estimators=110, total=   6.8s\n",
            "[CV] learning_rate=1, loss=square, n_estimators=110 ..................\n",
            "[CV] ... learning_rate=1, loss=square, n_estimators=110, total=   6.8s\n",
            "[CV] learning_rate=1, loss=square, n_estimators=110 ..................\n",
            "[CV] ... learning_rate=1, loss=square, n_estimators=110, total=   6.8s\n",
            "[CV] learning_rate=1, loss=square, n_estimators=130 ..................\n",
            "[CV] ... learning_rate=1, loss=square, n_estimators=130, total=   7.9s\n",
            "[CV] learning_rate=1, loss=square, n_estimators=130 ..................\n",
            "[CV] ... learning_rate=1, loss=square, n_estimators=130, total=   7.9s\n",
            "[CV] learning_rate=1, loss=square, n_estimators=130 ..................\n",
            "[CV] ... learning_rate=1, loss=square, n_estimators=130, total=   7.9s\n",
            "[CV] learning_rate=1, loss=exponential, n_estimators=50 ..............\n",
            "[CV]  learning_rate=1, loss=exponential, n_estimators=50, total=   4.3s\n",
            "[CV] learning_rate=1, loss=exponential, n_estimators=50 ..............\n",
            "[CV]  learning_rate=1, loss=exponential, n_estimators=50, total=   4.3s\n",
            "[CV] learning_rate=1, loss=exponential, n_estimators=50 ..............\n",
            "[CV]  learning_rate=1, loss=exponential, n_estimators=50, total=   4.3s\n",
            "[CV] learning_rate=1, loss=exponential, n_estimators=70 ..............\n",
            "[CV]  learning_rate=1, loss=exponential, n_estimators=70, total=   5.6s\n",
            "[CV] learning_rate=1, loss=exponential, n_estimators=70 ..............\n",
            "[CV]  learning_rate=1, loss=exponential, n_estimators=70, total=   5.6s\n",
            "[CV] learning_rate=1, loss=exponential, n_estimators=70 ..............\n",
            "[CV]  learning_rate=1, loss=exponential, n_estimators=70, total=   5.7s\n",
            "[CV] learning_rate=1, loss=exponential, n_estimators=90 ..............\n",
            "[CV]  learning_rate=1, loss=exponential, n_estimators=90, total=   6.9s\n",
            "[CV] learning_rate=1, loss=exponential, n_estimators=90 ..............\n",
            "[CV]  learning_rate=1, loss=exponential, n_estimators=90, total=   6.9s\n",
            "[CV] learning_rate=1, loss=exponential, n_estimators=90 ..............\n",
            "[CV]  learning_rate=1, loss=exponential, n_estimators=90, total=   6.9s\n",
            "[CV] learning_rate=1, loss=exponential, n_estimators=110 .............\n",
            "[CV]  learning_rate=1, loss=exponential, n_estimators=110, total=   8.1s\n",
            "[CV] learning_rate=1, loss=exponential, n_estimators=110 .............\n",
            "[CV]  learning_rate=1, loss=exponential, n_estimators=110, total=   8.1s\n",
            "[CV] learning_rate=1, loss=exponential, n_estimators=110 .............\n",
            "[CV]  learning_rate=1, loss=exponential, n_estimators=110, total=   8.2s\n",
            "[CV] learning_rate=1, loss=exponential, n_estimators=130 .............\n",
            "[CV]  learning_rate=1, loss=exponential, n_estimators=130, total=   9.4s\n",
            "[CV] learning_rate=1, loss=exponential, n_estimators=130 .............\n",
            "[CV]  learning_rate=1, loss=exponential, n_estimators=130, total=   9.4s\n",
            "[CV] learning_rate=1, loss=exponential, n_estimators=130 .............\n",
            "[CV]  learning_rate=1, loss=exponential, n_estimators=130, total=   9.3s\n"
          ],
          "name": "stdout"
        },
        {
          "output_type": "stream",
          "text": [
            "[Parallel(n_jobs=1)]: Done 225 out of 225 | elapsed: 30.3min finished\n"
          ],
          "name": "stderr"
        }
      ]
    },
    {
      "cell_type": "code",
      "metadata": {
        "colab": {
          "base_uri": "https://localhost:8080/"
        },
        "id": "uzkjT7bOVI_X",
        "outputId": "a97538ef-5dd1-4e69-a4a9-895b787f9951"
      },
      "source": [
        "ab_stats = print_score('Ada Boost', ab_grid)"
      ],
      "execution_count": 78,
      "outputs": [
        {
          "output_type": "stream",
          "text": [
            "Ada Boost\n",
            "The best score is 0.2629483400211395\n",
            "The best hyper parameter setting is {'learning_rate': 0.05, 'loss': 'exponential', 'n_estimators': 110}\n",
            "Test mean absolute error: 9.691451110053967\n",
            "Test mean-squared error: 164.46199346385464\n",
            "Test root mean squared error: 12.824273603750608\n"
          ],
          "name": "stdout"
        }
      ]
    },
    {
      "cell_type": "markdown",
      "metadata": {
        "id": "U8TwWTYzlltn"
      },
      "source": [
        "### XG Boost"
      ]
    },
    {
      "cell_type": "code",
      "metadata": {
        "id": "lvCM2pfBb4eD",
        "colab": {
          "base_uri": "https://localhost:8080/"
        },
        "outputId": "d516b324-4014-4b8f-ba0a-a7ac29ffd360"
      },
      "source": [
        "xg_param_grid = {\n",
        "    'clf__n_estimators': range(50,500,50),\n",
        "    #'clf__n_estimators': [50],\n",
        "    #'clf__learning_rate': [0.01, 0.1, 0.2, 0.3],\n",
        "    'clf__learning_rate': [0.01],\n",
        "    'clf__max_depth': range(3,20,5),\n",
        "    #'clf__max_depth': [3],\n",
        "    'fs__score_func': [\"chi2\"],\n",
        "    'fs__k': [10],\n",
        "    'objective':['reg:squarederror']\n",
        "}\n",
        "\n",
        "xg_grid = GridSearchCV(XGBRegressor(), xg_param_grid, cv=3, verbose=2).fit(X_train, y_train)"
      ],
      "execution_count": 45,
      "outputs": [
        {
          "output_type": "stream",
          "text": [
            "Fitting 3 folds for each of 1 candidates, totalling 3 fits\n",
            "[CV] clf__learning_rate=0.01, clf__max_depth=3, clf__n_estimators=50, fs__k=10, fs__score_func=chi2, objective=reg:squarederror \n"
          ],
          "name": "stdout"
        },
        {
          "output_type": "stream",
          "text": [
            "[Parallel(n_jobs=1)]: Using backend SequentialBackend with 1 concurrent workers.\n"
          ],
          "name": "stderr"
        },
        {
          "output_type": "stream",
          "text": [
            "[CV]  clf__learning_rate=0.01, clf__max_depth=3, clf__n_estimators=50, fs__k=10, fs__score_func=chi2, objective=reg:squarederror, total=   3.6s\n",
            "[CV] clf__learning_rate=0.01, clf__max_depth=3, clf__n_estimators=50, fs__k=10, fs__score_func=chi2, objective=reg:squarederror \n"
          ],
          "name": "stdout"
        },
        {
          "output_type": "stream",
          "text": [
            "[Parallel(n_jobs=1)]: Done   1 out of   1 | elapsed:    3.6s remaining:    0.0s\n"
          ],
          "name": "stderr"
        },
        {
          "output_type": "stream",
          "text": [
            "[CV]  clf__learning_rate=0.01, clf__max_depth=3, clf__n_estimators=50, fs__k=10, fs__score_func=chi2, objective=reg:squarederror, total=   3.4s\n",
            "[CV] clf__learning_rate=0.01, clf__max_depth=3, clf__n_estimators=50, fs__k=10, fs__score_func=chi2, objective=reg:squarederror \n",
            "[CV]  clf__learning_rate=0.01, clf__max_depth=3, clf__n_estimators=50, fs__k=10, fs__score_func=chi2, objective=reg:squarederror, total=   3.4s\n"
          ],
          "name": "stdout"
        },
        {
          "output_type": "stream",
          "text": [
            "[Parallel(n_jobs=1)]: Done   3 out of   3 | elapsed:   10.4s finished\n"
          ],
          "name": "stderr"
        }
      ]
    },
    {
      "cell_type": "code",
      "metadata": {
        "colab": {
          "base_uri": "https://localhost:8080/"
        },
        "id": "sCeIRwPik4D8",
        "outputId": "24f6f00a-b10b-4ae0-e0cb-5d649304c611"
      },
      "source": [
        "xg_stats = print_score('XG Boost', xg_grid)"
      ],
      "execution_count": 79,
      "outputs": [
        {
          "output_type": "stream",
          "text": [
            "XG Boost\n",
            "The best score is 0.4638104679923631\n",
            "The best hyper parameter setting is {'clf__learning_rate': 0.01, 'clf__max_depth': 3, 'clf__n_estimators': 50, 'fs__k': 10, 'fs__score_func': 'chi2', 'objective': 'reg:squarederror'}\n",
            "Test mean absolute error: 7.997105604435632\n",
            "Test mean-squared error: 121.06921959651262\n",
            "Test root mean squared error: 11.003145895447929\n"
          ],
          "name": "stdout"
        }
      ]
    },
    {
      "cell_type": "markdown",
      "metadata": {
        "id": "rXEJmiK-P2hU"
      },
      "source": [
        "### Neural Network"
      ]
    },
    {
      "cell_type": "code",
      "metadata": {
        "id": "BjoFeQzrUHoX",
        "colab": {
          "base_uri": "https://localhost:8080/"
        },
        "outputId": "003a9fed-f6db-4673-cfbd-319e031549ea"
      },
      "source": [
        "from sklearn.utils.testing import ignore_warnings\n",
        "from sklearn.exceptions import ConvergenceWarning"
      ],
      "execution_count": 47,
      "outputs": [
        {
          "output_type": "stream",
          "text": [
            "/usr/local/lib/python3.7/dist-packages/sklearn/utils/deprecation.py:144: FutureWarning: The sklearn.utils.testing module is  deprecated in version 0.22 and will be removed in version 0.24. The corresponding classes / functions should instead be imported from sklearn.utils. Anything that cannot be imported from sklearn.utils is now part of the private API.\n",
            "  warnings.warn(message, FutureWarning)\n"
          ],
          "name": "stderr"
        }
      ]
    },
    {
      "cell_type": "code",
      "metadata": {
        "id": "CDnFHM_DP1hM"
      },
      "source": [
        "nn_param_grid = {\n",
        "     'activation': ['identity', 'logistic', 'tanh', 'relu'],\n",
        "     #'activation': ['logistic'],\n",
        "     'learning_rate': ['constant','adaptive'],\n",
        "     #'learning_rate':[ 'adaptive'],\n",
        "     'learning_rate_init': [0.00005,0.0005,.001,.01],\n",
        "     #'learning_rate_init': [0.01],\n",
        "     'hidden_layer_sizes': [3,5,10,50,100]\n",
        "     #'hidden_layer_sizes': [10]\n",
        "}\n",
        "\n",
        "nn_grid = GridSearchCV(MLPRegressor(), nn_param_grid, cv=3).fit(X_train, y_train)"
      ],
      "execution_count": 49,
      "outputs": []
    },
    {
      "cell_type": "code",
      "metadata": {
        "id": "FS-qjdAuP1zp",
        "colab": {
          "base_uri": "https://localhost:8080/"
        },
        "outputId": "f04dbd11-42e2-400c-8158-4b46f02b9cb2"
      },
      "source": [
        "nn_stats = print_score('Neural Network', nn_grid)"
      ],
      "execution_count": 80,
      "outputs": [
        {
          "output_type": "stream",
          "text": [
            "Neural Network\n",
            "The best score is -0.005899028188602958\n",
            "The best hyper parameter setting is {'activation': 'logistic', 'hidden_layer_sizes': 10, 'learning_rate': 'adaptive', 'learning_rate_init': 0.01, 'max_iter': 400}\n",
            "Test mean absolute error: 11.397430986073669\n",
            "Test mean-squared error: 218.44984836940577\n",
            "Test root mean squared error: 14.780048997530615\n"
          ],
          "name": "stdout"
        }
      ]
    },
    {
      "cell_type": "markdown",
      "metadata": {
        "id": "fofuC1aQgNKU"
      },
      "source": [
        "##Model Comparisons\n",
        "Let's take a look at how each metric compared in performance."
      ]
    },
    {
      "cell_type": "code",
      "metadata": {
        "id": "byKgAPZoNLez"
      },
      "source": [
        "scores_df = pd.DataFrame(data = [lr_stats,ridge_stats, lasso_stats, dt_stats, rf_stats, gb_stats, ab_stats, xg_stats, nn_stats],\n",
        "                         columns = [\"Model Name\", \"Mean Absolute Error\", \"Root Mean Squared Error\"])\n",
        "scores_df = scores_df.sort_values(by=\"Mean Absolute Error\").reset_index(drop=True)"
      ],
      "execution_count": 97,
      "outputs": []
    },
    {
      "cell_type": "code",
      "metadata": {
        "colab": {
          "base_uri": "https://localhost:8080/",
          "height": 400
        },
        "id": "LuasGHGFIMnf",
        "outputId": "30d37ed4-bf5f-4edd-9598-da6640b75525"
      },
      "source": [
        "melted_scores = pd.melt(scores_df, id_vars = \"Model Name\", var_name = \"Metric\", value_name=\"Value\")\n",
        "sns.catplot(x=\"Metric\", y=\"Value\",hue=\"Model Name\", data = melted_scores, kind=\"bar\")"
      ],
      "execution_count": 98,
      "outputs": [
        {
          "output_type": "execute_result",
          "data": {
            "text/plain": [
              "<seaborn.axisgrid.FacetGrid at 0x7f4bef714810>"
            ]
          },
          "metadata": {
            "tags": []
          },
          "execution_count": 98
        },
        {
          "output_type": "display_data",
          "data": {
            "image/png": "[encoded data removed]",
            "text/plain": [
              "<Figure size 484.875x360 with 1 Axes>"
            ]
          },
          "metadata": {
            "tags": [],
            "needs_background": "light"
          }
        }
      ]
    },
    {
      "cell_type": "markdown",
      "metadata": {
        "id": "znfN4M0idcWh"
      },
      "source": [
        "Some interesting takeaways here:\n",
        "Gradient Boost performed the best, simple linear regression performed the worst. This is fairly expected, as boosting methods are popular for their accuracy, and the linear model underforms due to its high bias / over simplicity.\n",
        "\n",
        "Neural networks severely underperformed here. This could be for a number of reasons:\n",
        "- Not enough training data\n",
        "- Improper tuning of hyperparameters\n",
        "\n",
        "Final error results for the best performing model:"
      ]
    },
    {
      "cell_type": "code",
      "metadata": {
        "colab": {
          "base_uri": "https://localhost:8080/"
        },
        "id": "ofx9mc2VleN1",
        "outputId": "c5715fc7-941f-4172-afd9-a15f0cd5bb8a"
      },
      "source": [
        "print_score(\"Gradient Boost\",gb_grid)"
      ],
      "execution_count": 50,
      "outputs": [
        {
          "output_type": "stream",
          "text": [
            "Gradient Boost\n",
            "The best score is 0.5356951848210351\n",
            "The best hyper parameter setting is {'learning_rate': 0.1, 'max_depth': 14, 'min_samples_split': 0.01, 'n_estimators': 350}\n",
            "Test mean absolute error: 7.5000444778252096\n",
            "Test mean-squared error: 101.70676061507417\n",
            "Test root mean squared error: 10.084976976427571\n"
          ],
          "name": "stdout"
        },
        {
          "output_type": "execute_result",
          "data": {
            "text/plain": [
              "['Gradient Boost', 7.5000444778252096, 10.084976976427571]"
            ]
          },
          "metadata": {
            "tags": []
          },
          "execution_count": 50
        }
      ]
    },
    {
      "cell_type": "markdown",
      "metadata": {
        "id": "_isTopufOI_J"
      },
      "source": [
        "## Visualizing Error of Best Model\n",
        "In this section, I'll break down how the gradient boost regressor that we trained performs, analyzing where most of its error came from.\n",
        "\n",
        "First, let's just take a basic look at the distribution of the error:"
      ]
    },
    {
      "cell_type": "code",
      "metadata": {
        "colab": {
          "base_uri": "https://localhost:8080/",
          "height": 298
        },
        "id": "IY_x5_fld8aR",
        "outputId": "57fa558b-ace1-431b-93d3-439e1a51726f"
      },
      "source": [
        "plt.hist(y_test - gb_grid.predict(X_test), bins='auto')  # arguments are passed to np.histogram\n",
        "plt.title(\"Error Histogram\")"
      ],
      "execution_count": 46,
      "outputs": [
        {
          "output_type": "execute_result",
          "data": {
            "text/plain": [
              "Text(0.5, 1.0, 'Error Histogram')"
            ]
          },
          "metadata": {
            "tags": []
          },
          "execution_count": 46
        },
        {
          "output_type": "display_data",
          "data": {
            "image/png": "[encoded data removed]",
            "text/plain": [
              "<Figure size 432x288 with 1 Axes>"
            ]
          },
          "metadata": {
            "tags": [],
            "needs_background": "light"
          }
        }
      ]
    },
    {
      "cell_type": "markdown",
      "metadata": {
        "id": "dvr0hMw8iYtr"
      },
      "source": [
        "This is a pretty normal error curve.\n",
        "\n",
        "This biggest takeaway here is that it seems like the gradient boost regressor is missing badly on some tracks with high negative error, suggesting that the model is overpredicting the popularity severely of some tracks. Other than that, not a ton to take away here.\n",
        "\n",
        "Now to look at the error results relative to the true popularity values:"
      ]
    },
    {
      "cell_type": "code",
      "metadata": {
        "id": "YdqoJdL2ORmn",
        "colab": {
          "base_uri": "https://localhost:8080/",
          "height": 329
        },
        "outputId": "c06f528b-2704-470c-a246-286e23930e65"
      },
      "source": [
        "gb_pred = gb_grid.predict(X_test)\n",
        "plt.scatter(x=gb_pred, y=y_test, alpha=.5, color = 'b', label = \"Gradient Boost\")\n",
        "#plt.scatter(x=ada_pred, y=test_y, alpha=.5, color = 'r', label = \"Ada Boost\")\n",
        "plt.plot(y_test, y_test, color = 'g', label = 'Perfect Fit')\n",
        "plt.xlabel('Predicted Popularity')\n",
        "plt.ylabel('Actual Popularity')\n",
        "plt.legend(loc='upper left')\n",
        "plt.title(\"Predicted Popularity vs. Actual Popularity\")\n",
        "plt.figure(figsize=(12,8))\n",
        "print(plt)"
      ],
      "execution_count": 43,
      "outputs": [
        {
          "output_type": "stream",
          "text": [
            "<module 'matplotlib.pyplot' from '/usr/local/lib/python3.7/dist-packages/matplotlib/pyplot.py'>\n"
          ],
          "name": "stdout"
        },
        {
          "output_type": "display_data",
          "data": {
            "image/png": "[encoded data removed]",
            "text/plain": [
              "<Figure size 432x288 with 1 Axes>"
            ]
          },
          "metadata": {
            "tags": [],
            "needs_background": "light"
          }
        },
        {
          "output_type": "display_data",
          "data": {
            "text/plain": [
              "<Figure size 864x576 with 0 Axes>"
            ]
          },
          "metadata": {
            "tags": []
          }
        }
      ]
    },
    {
      "cell_type": "markdown",
      "metadata": {
        "id": "7s_w3YLfeFWO"
      },
      "source": [
        "The above plot shows where our model is successfully predicting near the actual popularity and where it's failing. It seems that our model mostly struggles with songs that have low actual popularity, as visualized by the mass of blue dots around Actual Popularity = 0, even as predicted popularity increased. It seemed that the model actually performed surprisingly well as Actual Popularity increased, though.\n",
        "\n",
        "Let's compare this to the Linear Regression, the simplest model."
      ]
    },
    {
      "cell_type": "code",
      "metadata": {
        "id": "mDjcTOhiO0XP",
        "colab": {
          "base_uri": "https://localhost:8080/",
          "height": 329
        },
        "outputId": "8df13bbc-a401-4b26-fa77-e84a36cc868f"
      },
      "source": [
        "reg_pred = results.predict(X_test)\n",
        "plt.scatter(x=reg_pred, y=y_test, alpha=.5, color = 'b', label = \"Linear Regression\")\n",
        "#plt.scatter(x=ada_pred, y=test_y, alpha=.5, color = 'r', label = \"Ada Boost\")\n",
        "plt.plot(y_test, y_test, color = 'g', label = 'Perfect Fit')\n",
        "plt.xlabel('Predicted Popularity')\n",
        "plt.ylabel('Actual Popularity')\n",
        "plt.legend(loc='upper left')\n",
        "plt.title(\"Predicted Popularity vs. Actual Popularity\")\n",
        "plt.figure(figsize=(24,16))\n",
        "print(plt)"
      ],
      "execution_count": 44,
      "outputs": [
        {
          "output_type": "stream",
          "text": [
            "<module 'matplotlib.pyplot' from '/usr/local/lib/python3.7/dist-packages/matplotlib/pyplot.py'>\n"
          ],
          "name": "stdout"
        },
        {
          "output_type": "display_data",
          "data": {
            "image/png": "[encoded data removed]",
            "text/plain": [
              "<Figure size 432x288 with 1 Axes>"
            ]
          },
          "metadata": {
            "tags": [],
            "needs_background": "light"
          }
        },
        {
          "output_type": "display_data",
          "data": {
            "text/plain": [
              "<Figure size 1728x1152 with 0 Axes>"
            ]
          },
          "metadata": {
            "tags": []
          }
        }
      ]
    },
    {
      "cell_type": "markdown",
      "metadata": {
        "id": "e1HNhH0Wexr6"
      },
      "source": [
        "Looks like the linear model just predicted every song had a popularity of between 20-60. This is an example of how low-bias models can yield a fairly reasonable error but fail to capture any nuance of the data. This certainly makes the gradient boost look better.\n",
        "\n",
        "Let's look at both of these on the same chart:"
      ]
    },
    {
      "cell_type": "code",
      "metadata": {
        "id": "_6lfMA9K1NAr",
        "colab": {
          "base_uri": "https://localhost:8080/",
          "height": 513
        },
        "outputId": "911c5500-30b9-40cb-c391-e926e6a6057e"
      },
      "source": [
        "plt.figure(figsize=(12,8))\n",
        "plt.scatter(y_test,y_test - gb_grid.predict(X_test),color='b', alpha = .25, label = 'Gradient Boost')\n",
        "plt.scatter(y_test,y_test - results.predict(X_test),color='g', alpha = .1, label = 'Linear Regression')\n",
        "#plt.scatter(test_outcome,test_outcome - knn_grid.predict(test_features),color='g', alpha = .5, label = 'Random Forests')\n",
        "plt.axhline(y = 0)\n",
        "plt.ylim(-100, 100)\n",
        "plt.xlabel('Actual Popularity')\n",
        "plt.ylabel('Error')\n",
        "plt.title(\"Errors vs. True Popularity (Across Models)\")\n",
        "plt.legend(loc='upper left')\n",
        "plt.show()"
      ],
      "execution_count": 45,
      "outputs": [
        {
          "output_type": "display_data",
          "data": {
            "image/png": "[encoded data removed]",
            "text/plain": [
              "<Figure size 864x576 with 1 Axes>"
            ]
          },
          "metadata": {
            "tags": [],
            "needs_background": "light"
          }
        }
      ]
    },
    {
      "cell_type": "markdown",
      "metadata": {
        "id": "tHo1dhAFfLBj"
      },
      "source": [
        "This plot is a bit cluttered, but it gives us a better idea of where our model is failing and how it compares to the simple linear regression. It seems that both the gradient boost and the linear regression are severely **overpredicting** the popularity of songs with low true-popularity, as exemplified by the large number of points near the 0-20 actual popularity range (negative error results from an overprediction of the true value). Conversely, there are a large number of points at the high actual popularity range (70-85) where our model is underpredicting (positive error value). \n",
        "\n",
        "This pattern on either end of the actual popularity makes some sense - we're of course not underpredicting true-popularity points of 0, as this would involve the model predicting a negative value. The same goes for the top end, as our highest prediction of our model is only around 85, so it's never missing over the top.\n",
        "\n",
        "However, one area of focus in improving this model would be the low-end of the popularity range, as this is where the regressor is most off."
      ]
    },
    {
      "cell_type": "markdown",
      "metadata": {
        "id": "zSNIN6KMiFZy"
      },
      "source": [
        "### Error Across Genre\n",
        "Finally, lets take a look at error across song genre - was the model better at predicting popularity of some musical genres over others?3\n",
        "\n",
        "I'll represent this with a violin plot - the width of each violin represents the count of predictions at that error value, so the Error value at the fattest part of the violin represents the amount of error that occurs for our predictions of that genre most often. The height of the violin, or how much it looks like its stretching, represents the range of error for that genre. "
      ]
    },
    {
      "cell_type": "code",
      "metadata": {
        "id": "H-DsS0UAcWuC"
      },
      "source": [
        "tracks_clean = pd.read_csv('cleaned_tracks_both.csv')\n",
        "genres = pd.DataFrame(tracks_clean[\"track_spotify_genre\"])\n",
        "\n",
        "# get errors for the neural network\n",
        "gb_errors =  pd.DataFrame(y_test - gb_grid.predict(X_test))\n",
        "gb_errors.rename({\"track_pop\": \"error\"}, axis='columns', inplace=True)\n",
        "\n",
        "# overwrite indexes because this is horrible\n",
        "gb_errors.index = gb_errors.index.astype(str)\n",
        "genres.index = genres.index.astype(str)\n",
        "\n",
        "res = gb_errors.join(genres)\n"
      ],
      "execution_count": 93,
      "outputs": []
    },
    {
      "cell_type": "code",
      "metadata": {
        "colab": {
          "base_uri": "https://localhost:8080/",
          "height": 513
        },
        "id": "etcV4EIHYf50",
        "outputId": "3dcc0a40-26e2-40e1-8fd5-b4aaf72f0898"
      },
      "source": [
        "plt.figure(figsize=(12,8))\n",
        "violin_plot = sns.violinplot(x=\"track_spotify_genre\", y=\"error\", data=res)\n",
        "\n",
        "plt.xlabel('Genre')\n",
        "plt.ylabel('Error') \n",
        "plt.title('Popularity Prediction Error By Genre')\n",
        "\n",
        "plt.show(violin_plot)"
      ],
      "execution_count": 94,
      "outputs": [
        {
          "output_type": "display_data",
          "data": {
            "image/png": "[encoded data removed]",
            "text/plain": [
              "<Figure size 864x576 with 1 Axes>"
            ]
          },
          "metadata": {
            "tags": [],
            "needs_background": "light"
          }
        }
      ]
    },
    {
      "cell_type": "markdown",
      "metadata": {
        "id": "vaSWRa4mkEPO"
      },
      "source": [
        "Looks like it was! A few notable takeaways:\n",
        "- Pop had a huge range of error. The model underpredicted error at some points by ~60, and we overpredicted the error at some points by 60. This genre was by far the most spread\n",
        "- Indie seems to have performed roughly the best. The plot for that genre is thick and short, with error roughly centereda round 0 (or ~-5). \n",
        "\n",
        "Pop would be a great genre to focus on to improve in the future."
      ]
    },
    {
      "cell_type": "markdown",
      "metadata": {
        "id": "vW6AB_F1lRjy"
      },
      "source": [
        "## This concludes my analysis for the popularity section of this project. I'm fairly satisfied with how the best model, gradient boost, performed, with a MAE of around 7.5.\n",
        "\n",
        "## Some potential areas of improvement for this analysis would be focused around the pop genre (high range of error) and on unpopular tracks (frequent, high overprediction of the popularity of these tracks.\n",
        "\n",
        "## If you want to see more, I chose to keep going with this project and try to predict the genre of each track given the same audible qualities. Take a look in Spotify_Analyze_Genre.ipynb notebook if you want to see more!"
      ]
    }
  ]
}