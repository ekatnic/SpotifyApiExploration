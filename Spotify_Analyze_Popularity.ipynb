{
  "nbformat": 4,
  "nbformat_minor": 0,
  "metadata": {
    "colab": {
      "name": "Spotify_Analyze_Popularity.ipynb",
      "provenance": [],
      "collapsed_sections": []
    },
    "kernelspec": {
      "name": "python3",
      "display_name": "Python 3"
    },
    "accelerator": "GPU"
  },
  "cells": [
    {
      "cell_type": "code",
      "metadata": {
        "id": "mh15PpCZii-C",
        "colab_type": "code",
        "colab": {}
      },
      "source": [
        "# !pip install firebase\n",
        "# !pip install firestore\n",
        "# uploaded = files.upload()\n",
        "# import os\n",
        "# os.environ['GOOGLE_APPLICATION_CREDENTIALS'] = '/content/spotify-f1cf5-firebase-adminsdk-xxrd4-763e07c601.json'\n",
        "# import firebase_admin\n",
        "# from firebase_admin import credentials\n",
        "# from google.cloud import firestore"
      ],
      "execution_count": 0,
      "outputs": []
    },
    {
      "cell_type": "code",
      "metadata": {
        "id": "gjuwPvMHh9Ks",
        "colab_type": "code",
        "outputId": "8fde5f0f-3728-4c84-bcfa-98f9b33bda44",
        "colab": {
          "base_uri": "https://localhost:8080/",
          "height": 34
        }
      },
      "source": [
        "# cred = credentials.Certificate('/content/spotify-f1cf5-firebase-adminsdk-xxrd4-763e07c601.json')\n",
        "# firebase_admin.initialize_app(cred, {\n",
        "#     'databaseURL': 'https://spotify-f1cf5.firebaseio.com'\n",
        "# })\n",
        "\n",
        "# db = firestore.Client()\n",
        "\n",
        "# tracks_ref = db.collection(u'tracks')\n",
        "# tracks = tracks_ref.stream()\n",
        "\n",
        "# track_list = []\n",
        "# for track in tracks:\n",
        "#   track_list.append(track.to_dict())\n",
        "# track_table = pd.DataFrame(track_list)"
      ],
      "execution_count": 0,
      "outputs": [
        {
          "output_type": "execute_result",
          "data": {
            "text/plain": [
              "<firebase_admin.App at 0x7f48cda75710>"
            ]
          },
          "metadata": {
            "tags": []
          },
          "execution_count": 12
        }
      ]
    },
    {
      "cell_type": "code",
      "metadata": {
        "id": "1w15iMfYfUBe",
        "colab_type": "code",
        "outputId": "d7cb3324-eba9-4166-8cc9-4791ce66af2e",
        "colab": {
          "resources": {
            "http://localhost:8080/nbextensions/google.colab/files.js": {
              "data": "Ly8gQ29weXJpZ2h0IDIwMTcgR29vZ2xlIExMQwovLwovLyBMaWNlbnNlZCB1bmRlciB0aGUgQXBhY2hlIExpY2Vuc2UsIFZlcnNpb24gMi4wICh0aGUgIkxpY2Vuc2UiKTsKLy8geW91IG1heSBub3QgdXNlIHRoaXMgZmlsZSBleGNlcHQgaW4gY29tcGxpYW5jZSB3aXRoIHRoZSBMaWNlbnNlLgovLyBZb3UgbWF5IG9idGFpbiBhIGNvcHkgb2YgdGhlIExpY2Vuc2UgYXQKLy8KLy8gICAgICBodHRwOi8vd3d3LmFwYWNoZS5vcmcvbGljZW5zZXMvTElDRU5TRS0yLjAKLy8KLy8gVW5sZXNzIHJlcXVpcmVkIGJ5IGFwcGxpY2FibGUgbGF3IG9yIGFncmVlZCB0byBpbiB3cml0aW5nLCBzb2Z0d2FyZQovLyBkaXN0cmlidXRlZCB1bmRlciB0aGUgTGljZW5zZSBpcyBkaXN0cmlidXRlZCBvbiBhbiAiQVMgSVMiIEJBU0lTLAovLyBXSVRIT1VUIFdBUlJBTlRJRVMgT1IgQ09ORElUSU9OUyBPRiBBTlkgS0lORCwgZWl0aGVyIGV4cHJlc3Mgb3IgaW1wbGllZC4KLy8gU2VlIHRoZSBMaWNlbnNlIGZvciB0aGUgc3BlY2lmaWMgbGFuZ3VhZ2UgZ292ZXJuaW5nIHBlcm1pc3Npb25zIGFuZAovLyBsaW1pdGF0aW9ucyB1bmRlciB0aGUgTGljZW5zZS4KCi8qKgogKiBAZmlsZW92ZXJ2aWV3IEhlbHBlcnMgZm9yIGdvb2dsZS5jb2xhYiBQeXRob24gbW9kdWxlLgogKi8KKGZ1bmN0aW9uKHNjb3BlKSB7CmZ1bmN0aW9uIHNwYW4odGV4dCwgc3R5bGVBdHRyaWJ1dGVzID0ge30pIHsKICBjb25zdCBlbGVtZW50ID0gZG9jdW1lbnQuY3JlYXRlRWxlbWVudCgnc3BhbicpOwogIGVsZW1lbnQudGV4dENvbnRlbnQgPSB0ZXh0OwogIGZvciAoY29uc3Qga2V5IG9mIE9iamVjdC5rZXlzKHN0eWxlQXR0cmlidXRlcykpIHsKICAgIGVsZW1lbnQuc3R5bGVba2V5XSA9IHN0eWxlQXR0cmlidXRlc1trZXldOwogIH0KICByZXR1cm4gZWxlbWVudDsKfQoKLy8gTWF4IG51bWJlciBvZiBieXRlcyB3aGljaCB3aWxsIGJlIHVwbG9hZGVkIGF0IGEgdGltZS4KY29uc3QgTUFYX1BBWUxPQURfU0laRSA9IDEwMCAqIDEwMjQ7Ci8vIE1heCBhbW91bnQgb2YgdGltZSB0byBibG9jayB3YWl0aW5nIGZvciB0aGUgdXNlci4KY29uc3QgRklMRV9DSEFOR0VfVElNRU9VVF9NUyA9IDMwICogMTAwMDsKCmZ1bmN0aW9uIF91cGxvYWRGaWxlcyhpbnB1dElkLCBvdXRwdXRJZCkgewogIGNvbnN0IHN0ZXBzID0gdXBsb2FkRmlsZXNTdGVwKGlucHV0SWQsIG91dHB1dElkKTsKICBjb25zdCBvdXRwdXRFbGVtZW50ID0gZG9jdW1lbnQuZ2V0RWxlbWVudEJ5SWQob3V0cHV0SWQpOwogIC8vIENhY2hlIHN0ZXBzIG9uIHRoZSBvdXRwdXRFbGVtZW50IHRvIG1ha2UgaXQgYXZhaWxhYmxlIGZvciB0aGUgbmV4dCBjYWxsCiAgLy8gdG8gdXBsb2FkRmlsZXNDb250aW51ZSBmcm9tIFB5dGhvbi4KICBvdXRwdXRFbGVtZW50LnN0ZXBzID0gc3RlcHM7CgogIHJldHVybiBfdXBsb2FkRmlsZXNDb250aW51ZShvdXRwdXRJZCk7Cn0KCi8vIFRoaXMgaXMgcm91Z2hseSBhbiBhc3luYyBnZW5lcmF0b3IgKG5vdCBzdXBwb3J0ZWQgaW4gdGhlIGJyb3dzZXIgeWV0KSwKLy8gd2hlcmUgdGhlcmUgYXJlIG11bHRpcGxlIGFzeW5jaHJvbm91cyBzdGVwcyBhbmQgdGhlIFB5dGhvbiBzaWRlIGlzIGdvaW5nCi8vIHRvIHBvbGwgZm9yIGNvbXBsZXRpb24gb2YgZWFjaCBzdGVwLgovLyBUaGlzIHVzZXMgYSBQcm9taXNlIHRvIGJsb2NrIHRoZSBweXRob24gc2lkZSBvbiBjb21wbGV0aW9uIG9mIGVhY2ggc3RlcCwKLy8gdGhlbiBwYXNzZXMgdGhlIHJlc3VsdCBvZiB0aGUgcHJldmlvdXMgc3RlcCBhcyB0aGUgaW5wdXQgdG8gdGhlIG5leHQgc3RlcC4KZnVuY3Rpb24gX3VwbG9hZEZpbGVzQ29udGludWUob3V0cHV0SWQpIHsKICBjb25zdCBvdXRwdXRFbGVtZW50ID0gZG9jdW1lbnQuZ2V0RWxlbWVudEJ5SWQob3V0cHV0SWQpOwogIGNvbnN0IHN0ZXBzID0gb3V0cHV0RWxlbWVudC5zdGVwczsKCiAgY29uc3QgbmV4dCA9IHN0ZXBzLm5leHQob3V0cHV0RWxlbWVudC5sYXN0UHJvbWlzZVZhbHVlKTsKICByZXR1cm4gUHJvbWlzZS5yZXNvbHZlKG5leHQudmFsdWUucHJvbWlzZSkudGhlbigodmFsdWUpID0+IHsKICAgIC8vIENhY2hlIHRoZSBsYXN0IHByb21pc2UgdmFsdWUgdG8gbWFrZSBpdCBhdmFpbGFibGUgdG8gdGhlIG5leHQKICAgIC8vIHN0ZXAgb2YgdGhlIGdlbmVyYXRvci4KICAgIG91dHB1dEVsZW1lbnQubGFzdFByb21pc2VWYWx1ZSA9IHZhbHVlOwogICAgcmV0dXJuIG5leHQudmFsdWUucmVzcG9uc2U7CiAgfSk7Cn0KCi8qKgogKiBHZW5lcmF0b3IgZnVuY3Rpb24gd2hpY2ggaXMgY2FsbGVkIGJldHdlZW4gZWFjaCBhc3luYyBzdGVwIG9mIHRoZSB1cGxvYWQKICogcHJvY2Vzcy4KICogQHBhcmFtIHtzdHJpbmd9IGlucHV0SWQgRWxlbWVudCBJRCBvZiB0aGUgaW5wdXQgZmlsZSBwaWNrZXIgZWxlbWVudC4KICogQHBhcmFtIHtzdHJpbmd9IG91dHB1dElkIEVsZW1lbnQgSUQgb2YgdGhlIG91dHB1dCBkaXNwbGF5LgogKiBAcmV0dXJuIHshSXRlcmFibGU8IU9iamVjdD59IEl0ZXJhYmxlIG9mIG5leHQgc3RlcHMuCiAqLwpmdW5jdGlvbiogdXBsb2FkRmlsZXNTdGVwKGlucHV0SWQsIG91dHB1dElkKSB7CiAgY29uc3QgaW5wdXRFbGVtZW50ID0gZG9jdW1lbnQuZ2V0RWxlbWVudEJ5SWQoaW5wdXRJZCk7CiAgaW5wdXRFbGVtZW50LmRpc2FibGVkID0gZmFsc2U7CgogIGNvbnN0IG91dHB1dEVsZW1lbnQgPSBkb2N1bWVudC5nZXRFbGVtZW50QnlJZChvdXRwdXRJZCk7CiAgb3V0cHV0RWxlbWVudC5pbm5lckhUTUwgPSAnJzsKCiAgY29uc3QgcGlja2VkUHJvbWlzZSA9IG5ldyBQcm9taXNlKChyZXNvbHZlKSA9PiB7CiAgICBpbnB1dEVsZW1lbnQuYWRkRXZlbnRMaXN0ZW5lcignY2hhbmdlJywgKGUpID0+IHsKICAgICAgcmVzb2x2ZShlLnRhcmdldC5maWxlcyk7CiAgICB9KTsKICB9KTsKCiAgY29uc3QgY2FuY2VsID0gZG9jdW1lbnQuY3JlYXRlRWxlbWVudCgnYnV0dG9uJyk7CiAgaW5wdXRFbGVtZW50LnBhcmVudEVsZW1lbnQuYXBwZW5kQ2hpbGQoY2FuY2VsKTsKICBjYW5jZWwudGV4dENvbnRlbnQgPSAnQ2FuY2VsIHVwbG9hZCc7CiAgY29uc3QgY2FuY2VsUHJvbWlzZSA9IG5ldyBQcm9taXNlKChyZXNvbHZlKSA9PiB7CiAgICBjYW5jZWwub25jbGljayA9ICgpID0+IHsKICAgICAgcmVzb2x2ZShudWxsKTsKICAgIH07CiAgfSk7CgogIC8vIENhbmNlbCB1cGxvYWQgaWYgdXNlciBoYXNuJ3QgcGlja2VkIGFueXRoaW5nIGluIHRpbWVvdXQuCiAgY29uc3QgdGltZW91dFByb21pc2UgPSBuZXcgUHJvbWlzZSgocmVzb2x2ZSkgPT4gewogICAgc2V0VGltZW91dCgoKSA9PiB7CiAgICAgIHJlc29sdmUobnVsbCk7CiAgICB9LCBGSUxFX0NIQU5HRV9USU1FT1VUX01TKTsKICB9KTsKCiAgLy8gV2FpdCBmb3IgdGhlIHVzZXIgdG8gcGljayB0aGUgZmlsZXMuCiAgY29uc3QgZmlsZXMgPSB5aWVsZCB7CiAgICBwcm9taXNlOiBQcm9taXNlLnJhY2UoW3BpY2tlZFByb21pc2UsIHRpbWVvdXRQcm9taXNlLCBjYW5jZWxQcm9taXNlXSksCiAgICByZXNwb25zZTogewogICAgICBhY3Rpb246ICdzdGFydGluZycsCiAgICB9CiAgfTsKCiAgaWYgKCFmaWxlcykgewogICAgcmV0dXJuIHsKICAgICAgcmVzcG9uc2U6IHsKICAgICAgICBhY3Rpb246ICdjb21wbGV0ZScsCiAgICAgIH0KICAgIH07CiAgfQoKICBjYW5jZWwucmVtb3ZlKCk7CgogIC8vIERpc2FibGUgdGhlIGlucHV0IGVsZW1lbnQgc2luY2UgZnVydGhlciBwaWNrcyBhcmUgbm90IGFsbG93ZWQuCiAgaW5wdXRFbGVtZW50LmRpc2FibGVkID0gdHJ1ZTsKCiAgZm9yIChjb25zdCBmaWxlIG9mIGZpbGVzKSB7CiAgICBjb25zdCBsaSA9IGRvY3VtZW50LmNyZWF0ZUVsZW1lbnQoJ2xpJyk7CiAgICBsaS5hcHBlbmQoc3BhbihmaWxlLm5hbWUsIHtmb250V2VpZ2h0OiAnYm9sZCd9KSk7CiAgICBsaS5hcHBlbmQoc3BhbigKICAgICAgICBgKCR7ZmlsZS50eXBlIHx8ICduL2EnfSkgLSAke2ZpbGUuc2l6ZX0gYnl0ZXMsIGAgKwogICAgICAgIGBsYXN0IG1vZGlmaWVkOiAkewogICAgICAgICAgICBmaWxlLmxhc3RNb2RpZmllZERhdGUgPyBmaWxlLmxhc3RNb2RpZmllZERhdGUudG9Mb2NhbGVEYXRlU3RyaW5nKCkgOgogICAgICAgICAgICAgICAgICAgICAgICAgICAgICAgICAgICAnbi9hJ30gLSBgKSk7CiAgICBjb25zdCBwZXJjZW50ID0gc3BhbignMCUgZG9uZScpOwogICAgbGkuYXBwZW5kQ2hpbGQocGVyY2VudCk7CgogICAgb3V0cHV0RWxlbWVudC5hcHBlbmRDaGlsZChsaSk7CgogICAgY29uc3QgZmlsZURhdGFQcm9taXNlID0gbmV3IFByb21pc2UoKHJlc29sdmUpID0+IHsKICAgICAgY29uc3QgcmVhZGVyID0gbmV3IEZpbGVSZWFkZXIoKTsKICAgICAgcmVhZGVyLm9ubG9hZCA9IChlKSA9PiB7CiAgICAgICAgcmVzb2x2ZShlLnRhcmdldC5yZXN1bHQpOwogICAgICB9OwogICAgICByZWFkZXIucmVhZEFzQXJyYXlCdWZmZXIoZmlsZSk7CiAgICB9KTsKICAgIC8vIFdhaXQgZm9yIHRoZSBkYXRhIHRvIGJlIHJlYWR5LgogICAgbGV0IGZpbGVEYXRhID0geWllbGQgewogICAgICBwcm9taXNlOiBmaWxlRGF0YVByb21pc2UsCiAgICAgIHJlc3BvbnNlOiB7CiAgICAgICAgYWN0aW9uOiAnY29udGludWUnLAogICAgICB9CiAgICB9OwoKICAgIC8vIFVzZSBhIGNodW5rZWQgc2VuZGluZyB0byBhdm9pZCBtZXNzYWdlIHNpemUgbGltaXRzLiBTZWUgYi82MjExNTY2MC4KICAgIGxldCBwb3NpdGlvbiA9IDA7CiAgICB3aGlsZSAocG9zaXRpb24gPCBmaWxlRGF0YS5ieXRlTGVuZ3RoKSB7CiAgICAgIGNvbnN0IGxlbmd0aCA9IE1hdGgubWluKGZpbGVEYXRhLmJ5dGVMZW5ndGggLSBwb3NpdGlvbiwgTUFYX1BBWUxPQURfU0laRSk7CiAgICAgIGNvbnN0IGNodW5rID0gbmV3IFVpbnQ4QXJyYXkoZmlsZURhdGEsIHBvc2l0aW9uLCBsZW5ndGgpOwogICAgICBwb3NpdGlvbiArPSBsZW5ndGg7CgogICAgICBjb25zdCBiYXNlNjQgPSBidG9hKFN0cmluZy5mcm9tQ2hhckNvZGUuYXBwbHkobnVsbCwgY2h1bmspKTsKICAgICAgeWllbGQgewogICAgICAgIHJlc3BvbnNlOiB7CiAgICAgICAgICBhY3Rpb246ICdhcHBlbmQnLAogICAgICAgICAgZmlsZTogZmlsZS5uYW1lLAogICAgICAgICAgZGF0YTogYmFzZTY0LAogICAgICAgIH0sCiAgICAgIH07CiAgICAgIHBlcmNlbnQudGV4dENvbnRlbnQgPQogICAgICAgICAgYCR7TWF0aC5yb3VuZCgocG9zaXRpb24gLyBmaWxlRGF0YS5ieXRlTGVuZ3RoKSAqIDEwMCl9JSBkb25lYDsKICAgIH0KICB9CgogIC8vIEFsbCBkb25lLgogIHlpZWxkIHsKICAgIHJlc3BvbnNlOiB7CiAgICAgIGFjdGlvbjogJ2NvbXBsZXRlJywKICAgIH0KICB9Owp9CgpzY29wZS5nb29nbGUgPSBzY29wZS5nb29nbGUgfHwge307CnNjb3BlLmdvb2dsZS5jb2xhYiA9IHNjb3BlLmdvb2dsZS5jb2xhYiB8fCB7fTsKc2NvcGUuZ29vZ2xlLmNvbGFiLl9maWxlcyA9IHsKICBfdXBsb2FkRmlsZXMsCiAgX3VwbG9hZEZpbGVzQ29udGludWUsCn07Cn0pKHNlbGYpOwo=",
              "ok": true,
              "headers": [
                [
                  "content-type",
                  "application/javascript"
                ]
              ],
              "status": 200,
              "status_text": ""
            }
          },
          "base_uri": "https://localhost:8080/",
          "height": 74
        }
      },
      "source": [
        "import pandas as pd\n",
        "import numpy as np\n",
        "from google.colab import files\n",
        "uploaded = files.upload()"
      ],
      "execution_count": 0,
      "outputs": [
        {
          "output_type": "display_data",
          "data": {
            "text/html": [
              "\n",
              "     <input type=\"file\" id=\"files-3ac76fa4-7e3c-4669-b464-78b5107e8287\" name=\"files[]\" multiple disabled />\n",
              "     <output id=\"result-3ac76fa4-7e3c-4669-b464-78b5107e8287\">\n",
              "      Upload widget is only available when the cell has been executed in the\n",
              "      current browser session. Please rerun this cell to enable.\n",
              "      </output>\n",
              "      <script src=\"/nbextensions/google.colab/files.js\"></script> "
            ],
            "text/plain": [
              "<IPython.core.display.HTML object>"
            ]
          },
          "metadata": {
            "tags": []
          }
        },
        {
          "output_type": "stream",
          "text": [
            "Saving cleaned_tracks_genre.csv to cleaned_tracks_genre.csv\n"
          ],
          "name": "stdout"
        }
      ]
    },
    {
      "cell_type": "code",
      "metadata": {
        "id": "LEiY5DPhjkKw",
        "colab_type": "code",
        "colab": {}
      },
      "source": [
        "track_table = pd.read_csv(\"cleaned_tracks_genre.csv\")"
      ],
      "execution_count": 0,
      "outputs": []
    },
    {
      "cell_type": "code",
      "metadata": {
        "id": "4dIM9lk6J3BP",
        "colab_type": "code",
        "outputId": "022c50f9-0e92-453b-cf29-a1c1b9adb228",
        "colab": {
          "base_uri": "https://localhost:8080/",
          "height": 615
        }
      },
      "source": [
        "track_table.head()"
      ],
      "execution_count": 0,
      "outputs": [
        {
          "output_type": "execute_result",
          "data": {
            "text/html": [
              "<div>\n",
              "<style scoped>\n",
              "    .dataframe tbody tr th:only-of-type {\n",
              "        vertical-align: middle;\n",
              "    }\n",
              "\n",
              "    .dataframe tbody tr th {\n",
              "        vertical-align: top;\n",
              "    }\n",
              "\n",
              "    .dataframe thead th {\n",
              "        text-align: right;\n",
              "    }\n",
              "</style>\n",
              "<table border=\"1\" class=\"dataframe\">\n",
              "  <thead>\n",
              "    <tr style=\"text-align: right;\">\n",
              "      <th></th>\n",
              "      <th>track_name</th>\n",
              "      <th>track_id</th>\n",
              "      <th>track_spotify_genre</th>\n",
              "      <th>art_name</th>\n",
              "      <th>art_id</th>\n",
              "      <th>alb_name</th>\n",
              "      <th>alb_id</th>\n",
              "      <th>art_genre</th>\n",
              "      <th>track_pop</th>\n",
              "      <th>duration_ms</th>\n",
              "      <th>time_signature</th>\n",
              "      <th>key</th>\n",
              "      <th>loudness</th>\n",
              "      <th>energy</th>\n",
              "      <th>speechiness</th>\n",
              "      <th>acousticness</th>\n",
              "      <th>mode</th>\n",
              "      <th>tempo</th>\n",
              "      <th>valence</th>\n",
              "      <th>danceability</th>\n",
              "      <th>instrumentalness</th>\n",
              "      <th>liveness</th>\n",
              "      <th>genre_words</th>\n",
              "      <th>master_popular_genre</th>\n",
              "    </tr>\n",
              "  </thead>\n",
              "  <tbody>\n",
              "    <tr>\n",
              "      <th>0</th>\n",
              "      <td>Serenade No. 10 in B-Flat Major, K. 361 \"Gran ...</td>\n",
              "      <td>4veYG42QMEq4earFYaqQiv</td>\n",
              "      <td>classical</td>\n",
              "      <td>Various Artists</td>\n",
              "      <td>0LyfQWJT6nXafLPZqxe9Of</td>\n",
              "      <td>The 99 Most Essential Classical Pieces in Movies</td>\n",
              "      <td>3YiIt9BdBWFwyFQo7HfOo2</td>\n",
              "      <td>[]</td>\n",
              "      <td>0</td>\n",
              "      <td>366840</td>\n",
              "      <td>4</td>\n",
              "      <td>3</td>\n",
              "      <td>-22.673</td>\n",
              "      <td>0.0757</td>\n",
              "      <td>0.0417</td>\n",
              "      <td>0.985</td>\n",
              "      <td>1</td>\n",
              "      <td>65.366</td>\n",
              "      <td>0.0399</td>\n",
              "      <td>0.0623</td>\n",
              "      <td>0.867</td>\n",
              "      <td>0.1280</td>\n",
              "      <td>{}</td>\n",
              "      <td>NaN</td>\n",
              "    </tr>\n",
              "    <tr>\n",
              "      <th>1</th>\n",
              "      <td>Serenade No. 13 in G Major, K. 525 \"Eine klein...</td>\n",
              "      <td>6zhAEJnZWdREXsHOUiwnzI</td>\n",
              "      <td>classical</td>\n",
              "      <td>Various Artists</td>\n",
              "      <td>0LyfQWJT6nXafLPZqxe9Of</td>\n",
              "      <td>Relax with Classical Music</td>\n",
              "      <td>3TQdPQHGmfw7EOQduHQPIJ</td>\n",
              "      <td>[]</td>\n",
              "      <td>1</td>\n",
              "      <td>404227</td>\n",
              "      <td>4</td>\n",
              "      <td>0</td>\n",
              "      <td>-23.389</td>\n",
              "      <td>0.0445</td>\n",
              "      <td>0.0501</td>\n",
              "      <td>0.884</td>\n",
              "      <td>1</td>\n",
              "      <td>120.298</td>\n",
              "      <td>0.1080</td>\n",
              "      <td>0.3230</td>\n",
              "      <td>0.794</td>\n",
              "      <td>0.1250</td>\n",
              "      <td>{}</td>\n",
              "      <td>NaN</td>\n",
              "    </tr>\n",
              "    <tr>\n",
              "      <th>2</th>\n",
              "      <td>Piano Sonata No.2 In F, K.280: 2. Adagio</td>\n",
              "      <td>0dhMIJPOjIYoeytaOQdKwc</td>\n",
              "      <td>classical</td>\n",
              "      <td>Various Artists</td>\n",
              "      <td>0LyfQWJT6nXafLPZqxe9Of</td>\n",
              "      <td>Valentine &amp; Valentine: Eternal Love Songs</td>\n",
              "      <td>7qEwEOFbfFIYRjZgtXwewD</td>\n",
              "      <td>[]</td>\n",
              "      <td>1</td>\n",
              "      <td>270000</td>\n",
              "      <td>3</td>\n",
              "      <td>8</td>\n",
              "      <td>-24.439</td>\n",
              "      <td>0.0182</td>\n",
              "      <td>0.0691</td>\n",
              "      <td>0.994</td>\n",
              "      <td>1</td>\n",
              "      <td>59.892</td>\n",
              "      <td>0.1650</td>\n",
              "      <td>0.3660</td>\n",
              "      <td>0.920</td>\n",
              "      <td>0.1110</td>\n",
              "      <td>{}</td>\n",
              "      <td>NaN</td>\n",
              "    </tr>\n",
              "    <tr>\n",
              "      <th>3</th>\n",
              "      <td>Clarinet Quintet in A Major, K. 581: II. Largh...</td>\n",
              "      <td>0z3yya2z38QRVZpYsXLCoG</td>\n",
              "      <td>classical</td>\n",
              "      <td>Various Artists</td>\n",
              "      <td>0LyfQWJT6nXafLPZqxe9Of</td>\n",
              "      <td>Relax with Classical Music</td>\n",
              "      <td>3TQdPQHGmfw7EOQduHQPIJ</td>\n",
              "      <td>[]</td>\n",
              "      <td>0</td>\n",
              "      <td>421059</td>\n",
              "      <td>4</td>\n",
              "      <td>2</td>\n",
              "      <td>-23.086</td>\n",
              "      <td>0.0445</td>\n",
              "      <td>0.0479</td>\n",
              "      <td>0.982</td>\n",
              "      <td>1</td>\n",
              "      <td>74.480</td>\n",
              "      <td>0.0481</td>\n",
              "      <td>0.0950</td>\n",
              "      <td>0.880</td>\n",
              "      <td>0.1060</td>\n",
              "      <td>{}</td>\n",
              "      <td>NaN</td>\n",
              "    </tr>\n",
              "    <tr>\n",
              "      <th>4</th>\n",
              "      <td>Piano Sonata No. 16 in C Major, K. 545 \"Sonata...</td>\n",
              "      <td>53RgJbhmQqeXuolX71bBUB</td>\n",
              "      <td>classical</td>\n",
              "      <td>Various Artists</td>\n",
              "      <td>0LyfQWJT6nXafLPZqxe9Of</td>\n",
              "      <td>Relax with Classical Music</td>\n",
              "      <td>3TQdPQHGmfw7EOQduHQPIJ</td>\n",
              "      <td>[]</td>\n",
              "      <td>1</td>\n",
              "      <td>224146</td>\n",
              "      <td>4</td>\n",
              "      <td>0</td>\n",
              "      <td>-26.304</td>\n",
              "      <td>0.0332</td>\n",
              "      <td>0.0617</td>\n",
              "      <td>0.995</td>\n",
              "      <td>1</td>\n",
              "      <td>91.972</td>\n",
              "      <td>0.3320</td>\n",
              "      <td>0.6010</td>\n",
              "      <td>0.890</td>\n",
              "      <td>0.0636</td>\n",
              "      <td>{}</td>\n",
              "      <td>NaN</td>\n",
              "    </tr>\n",
              "  </tbody>\n",
              "</table>\n",
              "</div>"
            ],
            "text/plain": [
              "                                          track_name  ... master_popular_genre\n",
              "0  Serenade No. 10 in B-Flat Major, K. 361 \"Gran ...  ...                  NaN\n",
              "1  Serenade No. 13 in G Major, K. 525 \"Eine klein...  ...                  NaN\n",
              "2           Piano Sonata No.2 In F, K.280: 2. Adagio  ...                  NaN\n",
              "3  Clarinet Quintet in A Major, K. 581: II. Largh...  ...                  NaN\n",
              "4  Piano Sonata No. 16 in C Major, K. 545 \"Sonata...  ...                  NaN\n",
              "\n",
              "[5 rows x 24 columns]"
            ]
          },
          "metadata": {
            "tags": []
          },
          "execution_count": 7
        }
      ]
    },
    {
      "cell_type": "code",
      "metadata": {
        "id": "JgGTl0m1nnVQ",
        "colab_type": "code",
        "colab": {}
      },
      "source": [
        "numerics = ['int16', 'int32', 'int64', 'float16', 'float32', 'float64']\n",
        "track_table_numerics = track_table.select_dtypes(include=[np.number])"
      ],
      "execution_count": 0,
      "outputs": []
    },
    {
      "cell_type": "code",
      "metadata": {
        "id": "BLBw81FYvXgB",
        "colab_type": "code",
        "outputId": "e6616084-a26e-473f-feb1-a426d1c011f4",
        "colab": {
          "base_uri": "https://localhost:8080/",
          "height": 623
        }
      },
      "source": [
        "import seaborn as sns\n",
        "import matplotlib.pyplot as plt\n",
        " \n",
        "f, axes = plt.subplots(3, 5, figsize=(10, 10))\n",
        "plt.subplots_adjust(wspace=.85, hspace=.6)\n",
        "sns.distplot( track_table_numerics[\"acousticness\"] , ax=axes[0, 0])\n",
        "sns.distplot( track_table_numerics[\"danceability\"] , ax=axes[0, 1])\n",
        "sns.distplot( track_table_numerics[\"duration_ms\"] , ax=axes[0, 2])\n",
        "sns.distplot( track_table_numerics[\"energy\"] , ax=axes[0, 3])\n",
        "sns.distplot( track_table_numerics[\"track_pop\"] , ax=axes[0, 4])\n",
        "sns.distplot( track_table_numerics[\"liveness\"] , ax=axes[1, 0])\n",
        "sns.distplot( track_table_numerics[\"loudness\"] , ax=axes[1, 1])\n",
        "sns.distplot( track_table_numerics[\"valence\"] , ax=axes[1, 2])\n",
        "sns.distplot( track_table_numerics[\"speechiness\"] , ax=axes[1, 3])\n",
        "sns.distplot( track_table_numerics[\"tempo\"] , ax=axes[1, 4])\n",
        "sns.distplot( track_table_numerics[\"instrumentalness\"] , ax=axes[2, 0])\n",
        "sns.distplot( track_table_numerics[\"time_signature\"] , ax=axes[2, 1])\n",
        "sns.distplot( track_table_numerics[\"mode\"] , ax=axes[2, 2])\n",
        "sns.distplot( track_table_numerics[\"key\"] , ax=axes[2, 3])"
      ],
      "execution_count": 0,
      "outputs": [
        {
          "output_type": "execute_result",
          "data": {
            "text/plain": [
              "<matplotlib.axes._subplots.AxesSubplot at 0x7fbe1ff8e780>"
            ]
          },
          "metadata": {
            "tags": []
          },
          "execution_count": 5
        },
        {
          "output_type": "display_data",
          "data": {
            "image/png": "[encoded data removed]",
            "text/plain": [
              "<Figure size 720x720 with 15 Axes>"
            ]
          },
          "metadata": {
            "tags": []
          }
        }
      ]
    },
    {
      "cell_type": "code",
      "metadata": {
        "id": "o-YdXPEwD4ux",
        "colab_type": "code",
        "outputId": "82d3ec49-4107-4e4f-d325-9aa12824b82b",
        "colab": {
          "base_uri": "https://localhost:8080/",
          "height": 363
        }
      },
      "source": [
        "sns.heatmap(track_table_numerics.corr())"
      ],
      "execution_count": 0,
      "outputs": [
        {
          "output_type": "execute_result",
          "data": {
            "text/plain": [
              "<matplotlib.axes._subplots.AxesSubplot at 0x7fbe1f3740b8>"
            ]
          },
          "metadata": {
            "tags": []
          },
          "execution_count": 6
        },
        {
          "output_type": "display_data",
          "data": {
            "image/png": "[encoded data removed]",
            "text/plain": [
              "<Figure size 432x288 with 2 Axes>"
            ]
          },
          "metadata": {
            "tags": []
          }
        }
      ]
    },
    {
      "cell_type": "markdown",
      "metadata": {
        "id": "Zuj2GVVWJBSL",
        "colab_type": "text"
      },
      "source": [
        "Might be worth dropping Instrumentalness, high p-value anyway. or Loudness?\n"
      ]
    },
    {
      "cell_type": "code",
      "metadata": {
        "id": "CuRE8P-N47sa",
        "colab_type": "code",
        "colab": {}
      },
      "source": [
        "track_table_dummies = pd.get_dummies(track_table,columns=['key','time_signature','track_spotify_genre'],drop_first=True)\n",
        "track_table_dummies.drop(['loudness', 'master_popular_genre'], axis=1)\n",
        "track_table_dummies = track_table_dummies.select_dtypes(include=[np.number])\n",
        "#track_table_dummies = pd.get_dummies(track_table_numerics,columns=['time_signature','mode'],drop_first=True)"
      ],
      "execution_count": 0,
      "outputs": []
    },
    {
      "cell_type": "code",
      "metadata": {
        "id": "t_BI7lT2A2nR",
        "colab_type": "code",
        "colab": {}
      },
      "source": [
        "from sklearn.metrics import mean_squared_error\n",
        "from sklearn.metrics import mean_absolute_error\n",
        "from sklearn.ensemble import GradientBoostingRegressor\n",
        "from sklearn.ensemble import RandomForestRegressor\n",
        "from sklearn.model_selection import GridSearchCV\n",
        "from sklearn.model_selection import train_test_split\n",
        "from sklearn.neural_network import MLPRegressor\n",
        "import statsmodels.api as sm"
      ],
      "execution_count": 0,
      "outputs": []
    },
    {
      "cell_type": "code",
      "metadata": {
        "id": "gHKlFygPAdIN",
        "colab_type": "code",
        "colab": {}
      },
      "source": [
        "X = track_table_dummies.iloc[:,1:]\n",
        "y = track_table_dummies.iloc[:,0]\n",
        "\n",
        "X_train, X_test, y_train, y_test = train_test_split(X, y, test_size=0.33, random_state=42)"
      ],
      "execution_count": 0,
      "outputs": []
    },
    {
      "cell_type": "code",
      "metadata": {
        "id": "81135MgZxWwN",
        "colab_type": "code",
        "outputId": "49b5962e-bd84-4640-d1c8-a6ba10ee404e",
        "colab": {
          "base_uri": "https://localhost:8080/",
          "height": 456
        }
      },
      "source": [
        "track_table_dummies"
      ],
      "execution_count": 0,
      "outputs": [
        {
          "output_type": "execute_result",
          "data": {
            "text/html": [
              "<div>\n",
              "<style scoped>\n",
              "    .dataframe tbody tr th:only-of-type {\n",
              "        vertical-align: middle;\n",
              "    }\n",
              "\n",
              "    .dataframe tbody tr th {\n",
              "        vertical-align: top;\n",
              "    }\n",
              "\n",
              "    .dataframe thead th {\n",
              "        text-align: right;\n",
              "    }\n",
              "</style>\n",
              "<table border=\"1\" class=\"dataframe\">\n",
              "  <thead>\n",
              "    <tr style=\"text-align: right;\">\n",
              "      <th></th>\n",
              "      <th>track_pop</th>\n",
              "      <th>duration_ms</th>\n",
              "      <th>loudness</th>\n",
              "      <th>energy</th>\n",
              "      <th>speechiness</th>\n",
              "      <th>acousticness</th>\n",
              "      <th>mode</th>\n",
              "      <th>tempo</th>\n",
              "      <th>valence</th>\n",
              "      <th>danceability</th>\n",
              "      <th>instrumentalness</th>\n",
              "      <th>liveness</th>\n",
              "      <th>key_1</th>\n",
              "      <th>key_2</th>\n",
              "      <th>key_3</th>\n",
              "      <th>key_4</th>\n",
              "      <th>key_5</th>\n",
              "      <th>key_6</th>\n",
              "      <th>key_7</th>\n",
              "      <th>key_8</th>\n",
              "      <th>key_9</th>\n",
              "      <th>key_10</th>\n",
              "      <th>key_11</th>\n",
              "      <th>time_signature_3</th>\n",
              "      <th>time_signature_4</th>\n",
              "      <th>time_signature_5</th>\n",
              "      <th>track_spotify_genre_country</th>\n",
              "      <th>track_spotify_genre_hip-hop</th>\n",
              "      <th>track_spotify_genre_house</th>\n",
              "      <th>track_spotify_genre_indie</th>\n",
              "      <th>track_spotify_genre_pop</th>\n",
              "      <th>track_spotify_genre_r&amp;b</th>\n",
              "      <th>track_spotify_genre_rap</th>\n",
              "      <th>track_spotify_genre_rock</th>\n",
              "      <th>track_spotify_genre_trap</th>\n",
              "    </tr>\n",
              "  </thead>\n",
              "  <tbody>\n",
              "    <tr>\n",
              "      <th>0</th>\n",
              "      <td>0</td>\n",
              "      <td>366840</td>\n",
              "      <td>-22.673</td>\n",
              "      <td>0.0757</td>\n",
              "      <td>0.0417</td>\n",
              "      <td>0.98500</td>\n",
              "      <td>1</td>\n",
              "      <td>65.366</td>\n",
              "      <td>0.0399</td>\n",
              "      <td>0.0623</td>\n",
              "      <td>0.867000</td>\n",
              "      <td>0.1280</td>\n",
              "      <td>0</td>\n",
              "      <td>0</td>\n",
              "      <td>1</td>\n",
              "      <td>0</td>\n",
              "      <td>0</td>\n",
              "      <td>0</td>\n",
              "      <td>0</td>\n",
              "      <td>0</td>\n",
              "      <td>0</td>\n",
              "      <td>0</td>\n",
              "      <td>0</td>\n",
              "      <td>0</td>\n",
              "      <td>1</td>\n",
              "      <td>0</td>\n",
              "      <td>0</td>\n",
              "      <td>0</td>\n",
              "      <td>0</td>\n",
              "      <td>0</td>\n",
              "      <td>0</td>\n",
              "      <td>0</td>\n",
              "      <td>0</td>\n",
              "      <td>0</td>\n",
              "      <td>0</td>\n",
              "    </tr>\n",
              "    <tr>\n",
              "      <th>1</th>\n",
              "      <td>1</td>\n",
              "      <td>404227</td>\n",
              "      <td>-23.389</td>\n",
              "      <td>0.0445</td>\n",
              "      <td>0.0501</td>\n",
              "      <td>0.88400</td>\n",
              "      <td>1</td>\n",
              "      <td>120.298</td>\n",
              "      <td>0.1080</td>\n",
              "      <td>0.3230</td>\n",
              "      <td>0.794000</td>\n",
              "      <td>0.1250</td>\n",
              "      <td>0</td>\n",
              "      <td>0</td>\n",
              "      <td>0</td>\n",
              "      <td>0</td>\n",
              "      <td>0</td>\n",
              "      <td>0</td>\n",
              "      <td>0</td>\n",
              "      <td>0</td>\n",
              "      <td>0</td>\n",
              "      <td>0</td>\n",
              "      <td>0</td>\n",
              "      <td>0</td>\n",
              "      <td>1</td>\n",
              "      <td>0</td>\n",
              "      <td>0</td>\n",
              "      <td>0</td>\n",
              "      <td>0</td>\n",
              "      <td>0</td>\n",
              "      <td>0</td>\n",
              "      <td>0</td>\n",
              "      <td>0</td>\n",
              "      <td>0</td>\n",
              "      <td>0</td>\n",
              "    </tr>\n",
              "    <tr>\n",
              "      <th>2</th>\n",
              "      <td>1</td>\n",
              "      <td>270000</td>\n",
              "      <td>-24.439</td>\n",
              "      <td>0.0182</td>\n",
              "      <td>0.0691</td>\n",
              "      <td>0.99400</td>\n",
              "      <td>1</td>\n",
              "      <td>59.892</td>\n",
              "      <td>0.1650</td>\n",
              "      <td>0.3660</td>\n",
              "      <td>0.920000</td>\n",
              "      <td>0.1110</td>\n",
              "      <td>0</td>\n",
              "      <td>0</td>\n",
              "      <td>0</td>\n",
              "      <td>0</td>\n",
              "      <td>0</td>\n",
              "      <td>0</td>\n",
              "      <td>0</td>\n",
              "      <td>1</td>\n",
              "      <td>0</td>\n",
              "      <td>0</td>\n",
              "      <td>0</td>\n",
              "      <td>1</td>\n",
              "      <td>0</td>\n",
              "      <td>0</td>\n",
              "      <td>0</td>\n",
              "      <td>0</td>\n",
              "      <td>0</td>\n",
              "      <td>0</td>\n",
              "      <td>0</td>\n",
              "      <td>0</td>\n",
              "      <td>0</td>\n",
              "      <td>0</td>\n",
              "      <td>0</td>\n",
              "    </tr>\n",
              "    <tr>\n",
              "      <th>3</th>\n",
              "      <td>0</td>\n",
              "      <td>421059</td>\n",
              "      <td>-23.086</td>\n",
              "      <td>0.0445</td>\n",
              "      <td>0.0479</td>\n",
              "      <td>0.98200</td>\n",
              "      <td>1</td>\n",
              "      <td>74.480</td>\n",
              "      <td>0.0481</td>\n",
              "      <td>0.0950</td>\n",
              "      <td>0.880000</td>\n",
              "      <td>0.1060</td>\n",
              "      <td>0</td>\n",
              "      <td>1</td>\n",
              "      <td>0</td>\n",
              "      <td>0</td>\n",
              "      <td>0</td>\n",
              "      <td>0</td>\n",
              "      <td>0</td>\n",
              "      <td>0</td>\n",
              "      <td>0</td>\n",
              "      <td>0</td>\n",
              "      <td>0</td>\n",
              "      <td>0</td>\n",
              "      <td>1</td>\n",
              "      <td>0</td>\n",
              "      <td>0</td>\n",
              "      <td>0</td>\n",
              "      <td>0</td>\n",
              "      <td>0</td>\n",
              "      <td>0</td>\n",
              "      <td>0</td>\n",
              "      <td>0</td>\n",
              "      <td>0</td>\n",
              "      <td>0</td>\n",
              "    </tr>\n",
              "    <tr>\n",
              "      <th>4</th>\n",
              "      <td>1</td>\n",
              "      <td>224146</td>\n",
              "      <td>-26.304</td>\n",
              "      <td>0.0332</td>\n",
              "      <td>0.0617</td>\n",
              "      <td>0.99500</td>\n",
              "      <td>1</td>\n",
              "      <td>91.972</td>\n",
              "      <td>0.3320</td>\n",
              "      <td>0.6010</td>\n",
              "      <td>0.890000</td>\n",
              "      <td>0.0636</td>\n",
              "      <td>0</td>\n",
              "      <td>0</td>\n",
              "      <td>0</td>\n",
              "      <td>0</td>\n",
              "      <td>0</td>\n",
              "      <td>0</td>\n",
              "      <td>0</td>\n",
              "      <td>0</td>\n",
              "      <td>0</td>\n",
              "      <td>0</td>\n",
              "      <td>0</td>\n",
              "      <td>0</td>\n",
              "      <td>1</td>\n",
              "      <td>0</td>\n",
              "      <td>0</td>\n",
              "      <td>0</td>\n",
              "      <td>0</td>\n",
              "      <td>0</td>\n",
              "      <td>0</td>\n",
              "      <td>0</td>\n",
              "      <td>0</td>\n",
              "      <td>0</td>\n",
              "      <td>0</td>\n",
              "    </tr>\n",
              "    <tr>\n",
              "      <th>...</th>\n",
              "      <td>...</td>\n",
              "      <td>...</td>\n",
              "      <td>...</td>\n",
              "      <td>...</td>\n",
              "      <td>...</td>\n",
              "      <td>...</td>\n",
              "      <td>...</td>\n",
              "      <td>...</td>\n",
              "      <td>...</td>\n",
              "      <td>...</td>\n",
              "      <td>...</td>\n",
              "      <td>...</td>\n",
              "      <td>...</td>\n",
              "      <td>...</td>\n",
              "      <td>...</td>\n",
              "      <td>...</td>\n",
              "      <td>...</td>\n",
              "      <td>...</td>\n",
              "      <td>...</td>\n",
              "      <td>...</td>\n",
              "      <td>...</td>\n",
              "      <td>...</td>\n",
              "      <td>...</td>\n",
              "      <td>...</td>\n",
              "      <td>...</td>\n",
              "      <td>...</td>\n",
              "      <td>...</td>\n",
              "      <td>...</td>\n",
              "      <td>...</td>\n",
              "      <td>...</td>\n",
              "      <td>...</td>\n",
              "      <td>...</td>\n",
              "      <td>...</td>\n",
              "      <td>...</td>\n",
              "      <td>...</td>\n",
              "    </tr>\n",
              "    <tr>\n",
              "      <th>9995</th>\n",
              "      <td>65</td>\n",
              "      <td>165214</td>\n",
              "      <td>-8.192</td>\n",
              "      <td>0.4720</td>\n",
              "      <td>0.3060</td>\n",
              "      <td>0.49400</td>\n",
              "      <td>0</td>\n",
              "      <td>190.011</td>\n",
              "      <td>0.3870</td>\n",
              "      <td>0.7340</td>\n",
              "      <td>0.002930</td>\n",
              "      <td>0.1020</td>\n",
              "      <td>1</td>\n",
              "      <td>0</td>\n",
              "      <td>0</td>\n",
              "      <td>0</td>\n",
              "      <td>0</td>\n",
              "      <td>0</td>\n",
              "      <td>0</td>\n",
              "      <td>0</td>\n",
              "      <td>0</td>\n",
              "      <td>0</td>\n",
              "      <td>0</td>\n",
              "      <td>0</td>\n",
              "      <td>1</td>\n",
              "      <td>0</td>\n",
              "      <td>0</td>\n",
              "      <td>0</td>\n",
              "      <td>0</td>\n",
              "      <td>0</td>\n",
              "      <td>0</td>\n",
              "      <td>0</td>\n",
              "      <td>0</td>\n",
              "      <td>0</td>\n",
              "      <td>1</td>\n",
              "    </tr>\n",
              "    <tr>\n",
              "      <th>9996</th>\n",
              "      <td>61</td>\n",
              "      <td>87313</td>\n",
              "      <td>-2.625</td>\n",
              "      <td>0.7520</td>\n",
              "      <td>0.1350</td>\n",
              "      <td>0.00754</td>\n",
              "      <td>0</td>\n",
              "      <td>134.039</td>\n",
              "      <td>0.4890</td>\n",
              "      <td>0.9440</td>\n",
              "      <td>0.010700</td>\n",
              "      <td>0.1410</td>\n",
              "      <td>0</td>\n",
              "      <td>0</td>\n",
              "      <td>0</td>\n",
              "      <td>0</td>\n",
              "      <td>0</td>\n",
              "      <td>0</td>\n",
              "      <td>0</td>\n",
              "      <td>0</td>\n",
              "      <td>0</td>\n",
              "      <td>0</td>\n",
              "      <td>1</td>\n",
              "      <td>0</td>\n",
              "      <td>1</td>\n",
              "      <td>0</td>\n",
              "      <td>0</td>\n",
              "      <td>0</td>\n",
              "      <td>0</td>\n",
              "      <td>0</td>\n",
              "      <td>0</td>\n",
              "      <td>0</td>\n",
              "      <td>0</td>\n",
              "      <td>0</td>\n",
              "      <td>1</td>\n",
              "    </tr>\n",
              "    <tr>\n",
              "      <th>9997</th>\n",
              "      <td>63</td>\n",
              "      <td>195160</td>\n",
              "      <td>-10.615</td>\n",
              "      <td>0.4980</td>\n",
              "      <td>0.0776</td>\n",
              "      <td>0.22300</td>\n",
              "      <td>1</td>\n",
              "      <td>126.972</td>\n",
              "      <td>0.2440</td>\n",
              "      <td>0.7590</td>\n",
              "      <td>0.000058</td>\n",
              "      <td>0.4060</td>\n",
              "      <td>0</td>\n",
              "      <td>0</td>\n",
              "      <td>0</td>\n",
              "      <td>0</td>\n",
              "      <td>0</td>\n",
              "      <td>0</td>\n",
              "      <td>0</td>\n",
              "      <td>0</td>\n",
              "      <td>0</td>\n",
              "      <td>1</td>\n",
              "      <td>0</td>\n",
              "      <td>0</td>\n",
              "      <td>1</td>\n",
              "      <td>0</td>\n",
              "      <td>0</td>\n",
              "      <td>0</td>\n",
              "      <td>0</td>\n",
              "      <td>0</td>\n",
              "      <td>0</td>\n",
              "      <td>0</td>\n",
              "      <td>0</td>\n",
              "      <td>0</td>\n",
              "      <td>1</td>\n",
              "    </tr>\n",
              "    <tr>\n",
              "      <th>9998</th>\n",
              "      <td>63</td>\n",
              "      <td>221641</td>\n",
              "      <td>-12.860</td>\n",
              "      <td>0.4460</td>\n",
              "      <td>0.1650</td>\n",
              "      <td>0.67500</td>\n",
              "      <td>0</td>\n",
              "      <td>94.024</td>\n",
              "      <td>0.3520</td>\n",
              "      <td>0.7190</td>\n",
              "      <td>0.000000</td>\n",
              "      <td>0.1220</td>\n",
              "      <td>0</td>\n",
              "      <td>0</td>\n",
              "      <td>0</td>\n",
              "      <td>0</td>\n",
              "      <td>0</td>\n",
              "      <td>0</td>\n",
              "      <td>0</td>\n",
              "      <td>0</td>\n",
              "      <td>0</td>\n",
              "      <td>1</td>\n",
              "      <td>0</td>\n",
              "      <td>0</td>\n",
              "      <td>1</td>\n",
              "      <td>0</td>\n",
              "      <td>0</td>\n",
              "      <td>0</td>\n",
              "      <td>0</td>\n",
              "      <td>0</td>\n",
              "      <td>0</td>\n",
              "      <td>0</td>\n",
              "      <td>0</td>\n",
              "      <td>0</td>\n",
              "      <td>1</td>\n",
              "    </tr>\n",
              "    <tr>\n",
              "      <th>9999</th>\n",
              "      <td>69</td>\n",
              "      <td>134013</td>\n",
              "      <td>-4.217</td>\n",
              "      <td>0.5610</td>\n",
              "      <td>0.1490</td>\n",
              "      <td>0.18400</td>\n",
              "      <td>1</td>\n",
              "      <td>129.981</td>\n",
              "      <td>0.6310</td>\n",
              "      <td>0.9200</td>\n",
              "      <td>0.000000</td>\n",
              "      <td>0.0768</td>\n",
              "      <td>1</td>\n",
              "      <td>0</td>\n",
              "      <td>0</td>\n",
              "      <td>0</td>\n",
              "      <td>0</td>\n",
              "      <td>0</td>\n",
              "      <td>0</td>\n",
              "      <td>0</td>\n",
              "      <td>0</td>\n",
              "      <td>0</td>\n",
              "      <td>0</td>\n",
              "      <td>0</td>\n",
              "      <td>1</td>\n",
              "      <td>0</td>\n",
              "      <td>0</td>\n",
              "      <td>0</td>\n",
              "      <td>0</td>\n",
              "      <td>0</td>\n",
              "      <td>0</td>\n",
              "      <td>0</td>\n",
              "      <td>0</td>\n",
              "      <td>0</td>\n",
              "      <td>1</td>\n",
              "    </tr>\n",
              "  </tbody>\n",
              "</table>\n",
              "<p>10000 rows × 35 columns</p>\n",
              "</div>"
            ],
            "text/plain": [
              "      track_pop  ...  track_spotify_genre_trap\n",
              "0             0  ...                         0\n",
              "1             1  ...                         0\n",
              "2             1  ...                         0\n",
              "3             0  ...                         0\n",
              "4             1  ...                         0\n",
              "...         ...  ...                       ...\n",
              "9995         65  ...                         1\n",
              "9996         61  ...                         1\n",
              "9997         63  ...                         1\n",
              "9998         63  ...                         1\n",
              "9999         69  ...                         1\n",
              "\n",
              "[10000 rows x 35 columns]"
            ]
          },
          "metadata": {
            "tags": []
          },
          "execution_count": 14
        }
      ]
    },
    {
      "cell_type": "markdown",
      "metadata": {
        "id": "6bLaplFjOTKS",
        "colab_type": "text"
      },
      "source": [
        "## Linear Regression"
      ]
    },
    {
      "cell_type": "code",
      "metadata": {
        "id": "Qg2eSiL85_Kg",
        "colab_type": "code",
        "outputId": "61a35f2d-986e-4e1c-837c-1c771992b6e6",
        "colab": {
          "base_uri": "https://localhost:8080/",
          "height": 1000
        }
      },
      "source": [
        "model = sm.OLS(y_train,X_train)\n",
        "results = model.fit()\n",
        "results.summary()"
      ],
      "execution_count": 0,
      "outputs": [
        {
          "output_type": "execute_result",
          "data": {
            "text/html": [
              "<table class=\"simpletable\">\n",
              "<caption>OLS Regression Results</caption>\n",
              "<tr>\n",
              "  <th>Dep. Variable:</th>        <td>track_pop</td>    <th>  R-squared (uncentered):</th>      <td>   0.978</td> \n",
              "</tr>\n",
              "<tr>\n",
              "  <th>Model:</th>                   <td>OLS</td>       <th>  Adj. R-squared (uncentered):</th> <td>   0.978</td> \n",
              "</tr>\n",
              "<tr>\n",
              "  <th>Method:</th>             <td>Least Squares</td>  <th>  F-statistic:       </th>          <td>   8854.</td> \n",
              "</tr>\n",
              "<tr>\n",
              "  <th>Date:</th>             <td>Wed, 19 Feb 2020</td> <th>  Prob (F-statistic):</th>           <td>  0.00</td>  \n",
              "</tr>\n",
              "<tr>\n",
              "  <th>Time:</th>                 <td>00:11:00</td>     <th>  Log-Likelihood:    </th>          <td> -24619.</td> \n",
              "</tr>\n",
              "<tr>\n",
              "  <th>No. Observations:</th>      <td>  6700</td>      <th>  AIC:               </th>          <td>4.931e+04</td>\n",
              "</tr>\n",
              "<tr>\n",
              "  <th>Df Residuals:</th>          <td>  6666</td>      <th>  BIC:               </th>          <td>4.954e+04</td>\n",
              "</tr>\n",
              "<tr>\n",
              "  <th>Df Model:</th>              <td>    34</td>      <th>                     </th>              <td> </td>    \n",
              "</tr>\n",
              "<tr>\n",
              "  <th>Covariance Type:</th>      <td>nonrobust</td>    <th>                     </th>              <td> </td>    \n",
              "</tr>\n",
              "</table>\n",
              "<table class=\"simpletable\">\n",
              "<tr>\n",
              "               <td></td>                  <th>coef</th>     <th>std err</th>      <th>t</th>      <th>P>|t|</th>  <th>[0.025</th>    <th>0.975]</th>  \n",
              "</tr>\n",
              "<tr>\n",
              "  <th>duration_ms</th>                 <td> 7.823e-06</td> <td> 1.42e-06</td> <td>    5.519</td> <td> 0.000</td> <td> 5.04e-06</td> <td> 1.06e-05</td>\n",
              "</tr>\n",
              "<tr>\n",
              "  <th>loudness</th>                    <td>    0.0269</td> <td>    0.044</td> <td>    0.615</td> <td> 0.538</td> <td>   -0.059</td> <td>    0.113</td>\n",
              "</tr>\n",
              "<tr>\n",
              "  <th>energy</th>                      <td>   -2.5556</td> <td>    1.031</td> <td>   -2.479</td> <td> 0.013</td> <td>   -4.577</td> <td>   -0.535</td>\n",
              "</tr>\n",
              "<tr>\n",
              "  <th>speechiness</th>                 <td>   -8.3276</td> <td>    1.278</td> <td>   -6.517</td> <td> 0.000</td> <td>  -10.833</td> <td>   -5.822</td>\n",
              "</tr>\n",
              "<tr>\n",
              "  <th>acousticness</th>                <td>    1.4045</td> <td>    0.600</td> <td>    2.343</td> <td> 0.019</td> <td>    0.229</td> <td>    2.580</td>\n",
              "</tr>\n",
              "<tr>\n",
              "  <th>mode</th>                        <td>   -0.0944</td> <td>    0.259</td> <td>   -0.364</td> <td> 0.716</td> <td>   -0.602</td> <td>    0.414</td>\n",
              "</tr>\n",
              "<tr>\n",
              "  <th>tempo</th>                       <td>    0.0028</td> <td>    0.004</td> <td>    0.697</td> <td> 0.486</td> <td>   -0.005</td> <td>    0.011</td>\n",
              "</tr>\n",
              "<tr>\n",
              "  <th>valence</th>                     <td>    3.0116</td> <td>    0.637</td> <td>    4.725</td> <td> 0.000</td> <td>    1.762</td> <td>    4.261</td>\n",
              "</tr>\n",
              "<tr>\n",
              "  <th>danceability</th>                <td>    7.2462</td> <td>    1.014</td> <td>    7.150</td> <td> 0.000</td> <td>    5.259</td> <td>    9.233</td>\n",
              "</tr>\n",
              "<tr>\n",
              "  <th>instrumentalness</th>            <td>   -3.2035</td> <td>    0.799</td> <td>   -4.008</td> <td> 0.000</td> <td>   -4.770</td> <td>   -1.637</td>\n",
              "</tr>\n",
              "<tr>\n",
              "  <th>liveness</th>                    <td>   -1.7593</td> <td>    0.916</td> <td>   -1.920</td> <td> 0.055</td> <td>   -3.556</td> <td>    0.037</td>\n",
              "</tr>\n",
              "<tr>\n",
              "  <th>key_1</th>                       <td>   -0.1879</td> <td>    0.485</td> <td>   -0.388</td> <td> 0.698</td> <td>   -1.138</td> <td>    0.762</td>\n",
              "</tr>\n",
              "<tr>\n",
              "  <th>key_2</th>                       <td>    0.6567</td> <td>    0.524</td> <td>    1.252</td> <td> 0.211</td> <td>   -0.371</td> <td>    1.685</td>\n",
              "</tr>\n",
              "<tr>\n",
              "  <th>key_3</th>                       <td>   -0.0868</td> <td>    0.775</td> <td>   -0.112</td> <td> 0.911</td> <td>   -1.606</td> <td>    1.432</td>\n",
              "</tr>\n",
              "<tr>\n",
              "  <th>key_4</th>                       <td>   -1.1488</td> <td>    0.576</td> <td>   -1.996</td> <td> 0.046</td> <td>   -2.277</td> <td>   -0.020</td>\n",
              "</tr>\n",
              "<tr>\n",
              "  <th>key_5</th>                       <td>   -0.1844</td> <td>    0.534</td> <td>   -0.345</td> <td> 0.730</td> <td>   -1.232</td> <td>    0.863</td>\n",
              "</tr>\n",
              "<tr>\n",
              "  <th>key_6</th>                       <td>    0.5404</td> <td>    0.550</td> <td>    0.983</td> <td> 0.326</td> <td>   -0.537</td> <td>    1.618</td>\n",
              "</tr>\n",
              "<tr>\n",
              "  <th>key_7</th>                       <td>    0.4670</td> <td>    0.512</td> <td>    0.912</td> <td> 0.362</td> <td>   -0.537</td> <td>    1.471</td>\n",
              "</tr>\n",
              "<tr>\n",
              "  <th>key_8</th>                       <td>    0.0470</td> <td>    0.547</td> <td>    0.086</td> <td> 0.932</td> <td>   -1.025</td> <td>    1.119</td>\n",
              "</tr>\n",
              "<tr>\n",
              "  <th>key_9</th>                       <td>    0.7940</td> <td>    0.527</td> <td>    1.508</td> <td> 0.132</td> <td>   -0.238</td> <td>    1.826</td>\n",
              "</tr>\n",
              "<tr>\n",
              "  <th>key_10</th>                      <td>    1.0204</td> <td>    0.568</td> <td>    1.797</td> <td> 0.072</td> <td>   -0.093</td> <td>    2.133</td>\n",
              "</tr>\n",
              "<tr>\n",
              "  <th>key_11</th>                      <td>   -0.2012</td> <td>    0.544</td> <td>   -0.370</td> <td> 0.712</td> <td>   -1.269</td> <td>    0.866</td>\n",
              "</tr>\n",
              "<tr>\n",
              "  <th>time_signature_3</th>            <td>    7.6039</td> <td>    1.142</td> <td>    6.658</td> <td> 0.000</td> <td>    5.365</td> <td>    9.843</td>\n",
              "</tr>\n",
              "<tr>\n",
              "  <th>time_signature_4</th>            <td>    8.6871</td> <td>    1.070</td> <td>    8.117</td> <td> 0.000</td> <td>    6.589</td> <td>   10.785</td>\n",
              "</tr>\n",
              "<tr>\n",
              "  <th>time_signature_5</th>            <td>    5.7240</td> <td>    1.318</td> <td>    4.342</td> <td> 0.000</td> <td>    3.140</td> <td>    8.308</td>\n",
              "</tr>\n",
              "<tr>\n",
              "  <th>track_spotify_genre_country</th> <td>   48.6655</td> <td>    0.914</td> <td>   53.228</td> <td> 0.000</td> <td>   46.873</td> <td>   50.458</td>\n",
              "</tr>\n",
              "<tr>\n",
              "  <th>track_spotify_genre_hip-hop</th> <td>   55.9705</td> <td>    0.982</td> <td>   57.020</td> <td> 0.000</td> <td>   54.046</td> <td>   57.895</td>\n",
              "</tr>\n",
              "<tr>\n",
              "  <th>track_spotify_genre_house</th>   <td>   46.0159</td> <td>    0.949</td> <td>   48.499</td> <td> 0.000</td> <td>   44.156</td> <td>   47.876</td>\n",
              "</tr>\n",
              "<tr>\n",
              "  <th>track_spotify_genre_indie</th>   <td>   49.1678</td> <td>    0.863</td> <td>   56.977</td> <td> 0.000</td> <td>   47.476</td> <td>   50.859</td>\n",
              "</tr>\n",
              "<tr>\n",
              "  <th>track_spotify_genre_pop</th>     <td>   61.4587</td> <td>    0.922</td> <td>   66.667</td> <td> 0.000</td> <td>   59.652</td> <td>   63.266</td>\n",
              "</tr>\n",
              "<tr>\n",
              "  <th>track_spotify_genre_r&b</th>     <td>   50.3623</td> <td>    0.889</td> <td>   56.648</td> <td> 0.000</td> <td>   48.619</td> <td>   52.105</td>\n",
              "</tr>\n",
              "<tr>\n",
              "  <th>track_spotify_genre_rap</th>     <td>   58.0333</td> <td>    0.970</td> <td>   59.837</td> <td> 0.000</td> <td>   56.132</td> <td>   59.935</td>\n",
              "</tr>\n",
              "<tr>\n",
              "  <th>track_spotify_genre_rock</th>    <td>   55.7499</td> <td>    0.889</td> <td>   62.679</td> <td> 0.000</td> <td>   54.006</td> <td>   57.493</td>\n",
              "</tr>\n",
              "<tr>\n",
              "  <th>track_spotify_genre_trap</th>    <td>   53.1643</td> <td>    0.991</td> <td>   53.656</td> <td> 0.000</td> <td>   51.222</td> <td>   55.107</td>\n",
              "</tr>\n",
              "</table>\n",
              "<table class=\"simpletable\">\n",
              "<tr>\n",
              "  <th>Omnibus:</th>       <td>2963.750</td> <th>  Durbin-Watson:     </th> <td>   1.970</td> \n",
              "</tr>\n",
              "<tr>\n",
              "  <th>Prob(Omnibus):</th>  <td> 0.000</td>  <th>  Jarque-Bera (JB):  </th> <td>30658.602</td>\n",
              "</tr>\n",
              "<tr>\n",
              "  <th>Skew:</th>           <td>-1.843</td>  <th>  Prob(JB):          </th> <td>    0.00</td> \n",
              "</tr>\n",
              "<tr>\n",
              "  <th>Kurtosis:</th>       <td>12.810</td>  <th>  Cond. No.          </th> <td>5.44e+06</td> \n",
              "</tr>\n",
              "</table><br/><br/>Warnings:<br/>[1] Standard Errors assume that the covariance matrix of the errors is correctly specified.<br/>[2] The condition number is large, 5.44e+06. This might indicate that there are<br/>strong multicollinearity or other numerical problems."
            ],
            "text/plain": [
              "<class 'statsmodels.iolib.summary.Summary'>\n",
              "\"\"\"\n",
              "                                 OLS Regression Results                                \n",
              "=======================================================================================\n",
              "Dep. Variable:              track_pop   R-squared (uncentered):                   0.978\n",
              "Model:                            OLS   Adj. R-squared (uncentered):              0.978\n",
              "Method:                 Least Squares   F-statistic:                              8854.\n",
              "Date:                Wed, 19 Feb 2020   Prob (F-statistic):                        0.00\n",
              "Time:                        00:11:00   Log-Likelihood:                         -24619.\n",
              "No. Observations:                6700   AIC:                                  4.931e+04\n",
              "Df Residuals:                    6666   BIC:                                  4.954e+04\n",
              "Df Model:                          34                                                  \n",
              "Covariance Type:            nonrobust                                                  \n",
              "===============================================================================================\n",
              "                                  coef    std err          t      P>|t|      [0.025      0.975]\n",
              "-----------------------------------------------------------------------------------------------\n",
              "duration_ms                  7.823e-06   1.42e-06      5.519      0.000    5.04e-06    1.06e-05\n",
              "loudness                        0.0269      0.044      0.615      0.538      -0.059       0.113\n",
              "energy                         -2.5556      1.031     -2.479      0.013      -4.577      -0.535\n",
              "speechiness                    -8.3276      1.278     -6.517      0.000     -10.833      -5.822\n",
              "acousticness                    1.4045      0.600      2.343      0.019       0.229       2.580\n",
              "mode                           -0.0944      0.259     -0.364      0.716      -0.602       0.414\n",
              "tempo                           0.0028      0.004      0.697      0.486      -0.005       0.011\n",
              "valence                         3.0116      0.637      4.725      0.000       1.762       4.261\n",
              "danceability                    7.2462      1.014      7.150      0.000       5.259       9.233\n",
              "instrumentalness               -3.2035      0.799     -4.008      0.000      -4.770      -1.637\n",
              "liveness                       -1.7593      0.916     -1.920      0.055      -3.556       0.037\n",
              "key_1                          -0.1879      0.485     -0.388      0.698      -1.138       0.762\n",
              "key_2                           0.6567      0.524      1.252      0.211      -0.371       1.685\n",
              "key_3                          -0.0868      0.775     -0.112      0.911      -1.606       1.432\n",
              "key_4                          -1.1488      0.576     -1.996      0.046      -2.277      -0.020\n",
              "key_5                          -0.1844      0.534     -0.345      0.730      -1.232       0.863\n",
              "key_6                           0.5404      0.550      0.983      0.326      -0.537       1.618\n",
              "key_7                           0.4670      0.512      0.912      0.362      -0.537       1.471\n",
              "key_8                           0.0470      0.547      0.086      0.932      -1.025       1.119\n",
              "key_9                           0.7940      0.527      1.508      0.132      -0.238       1.826\n",
              "key_10                          1.0204      0.568      1.797      0.072      -0.093       2.133\n",
              "key_11                         -0.2012      0.544     -0.370      0.712      -1.269       0.866\n",
              "time_signature_3                7.6039      1.142      6.658      0.000       5.365       9.843\n",
              "time_signature_4                8.6871      1.070      8.117      0.000       6.589      10.785\n",
              "time_signature_5                5.7240      1.318      4.342      0.000       3.140       8.308\n",
              "track_spotify_genre_country    48.6655      0.914     53.228      0.000      46.873      50.458\n",
              "track_spotify_genre_hip-hop    55.9705      0.982     57.020      0.000      54.046      57.895\n",
              "track_spotify_genre_house      46.0159      0.949     48.499      0.000      44.156      47.876\n",
              "track_spotify_genre_indie      49.1678      0.863     56.977      0.000      47.476      50.859\n",
              "track_spotify_genre_pop        61.4587      0.922     66.667      0.000      59.652      63.266\n",
              "track_spotify_genre_r&b        50.3623      0.889     56.648      0.000      48.619      52.105\n",
              "track_spotify_genre_rap        58.0333      0.970     59.837      0.000      56.132      59.935\n",
              "track_spotify_genre_rock       55.7499      0.889     62.679      0.000      54.006      57.493\n",
              "track_spotify_genre_trap       53.1643      0.991     53.656      0.000      51.222      55.107\n",
              "==============================================================================\n",
              "Omnibus:                     2963.750   Durbin-Watson:                   1.970\n",
              "Prob(Omnibus):                  0.000   Jarque-Bera (JB):            30658.602\n",
              "Skew:                          -1.843   Prob(JB):                         0.00\n",
              "Kurtosis:                      12.810   Cond. No.                     5.44e+06\n",
              "==============================================================================\n",
              "\n",
              "Warnings:\n",
              "[1] Standard Errors assume that the covariance matrix of the errors is correctly specified.\n",
              "[2] The condition number is large, 5.44e+06. This might indicate that there are\n",
              "strong multicollinearity or other numerical problems.\n",
              "\"\"\""
            ]
          },
          "metadata": {
            "tags": []
          },
          "execution_count": 15
        }
      ]
    },
    {
      "cell_type": "code",
      "metadata": {
        "id": "o0pkz8xIG9JH",
        "colab_type": "code",
        "outputId": "34e0eeaa-2484-43a8-a67a-483e06eb5b39",
        "colab": {
          "base_uri": "https://localhost:8080/",
          "height": 85
        }
      },
      "source": [
        "print(\"Linear Regression:\")\n",
        "print(\"Test mean absolute error:\", mean_absolute_error(y_test, results.predict(X_test)))\n",
        "mse = mean_squared_error(y_test,results.predict(X_test))\n",
        "print(\"Test mean-squared error:\", mse)\n",
        "print(\"Test root mean squared error:\", np.sqrt(mse))\n"
      ],
      "execution_count": 0,
      "outputs": [
        {
          "output_type": "stream",
          "text": [
            "Linear Regression:\n",
            "Test mean absolute error: 6.226302906046233\n",
            "Test mean-squared error: 96.99672014725572\n",
            "Test root mean squared error: 9.848691291093234\n"
          ],
          "name": "stdout"
        }
      ]
    },
    {
      "cell_type": "markdown",
      "metadata": {
        "id": "_iAQmz1kOsIx",
        "colab_type": "text"
      },
      "source": [
        "## Random Forest"
      ]
    },
    {
      "cell_type": "code",
      "metadata": {
        "id": "60wD-MvsOw2-",
        "colab_type": "code",
        "colab": {}
      },
      "source": [
        "rf_param_grid = {\n",
        "              'n_estimators':range(50,120, 10),\n",
        "              'max_depth':range(3,10),\n",
        "              'min_samples_split': [0.05, 0.1]\n",
        "}\n",
        "rf_grid = GridSearchCV(RandomForestRegressor(), rf_param_grid, cv=3).fit(X_train, y_train)\n",
        "# summarize the results of the grid search"
      ],
      "execution_count": 0,
      "outputs": []
    },
    {
      "cell_type": "code",
      "metadata": {
        "id": "eOB2JqrCThRP",
        "colab_type": "code",
        "outputId": "90267536-7507-4143-863f-12addd6f7ccd",
        "colab": {
          "base_uri": "https://localhost:8080/",
          "height": 51
        }
      },
      "source": [
        "print(\"The best score is {}\".format(rf_grid.best_score_))\n",
        "print(\"The best hyper parameter setting is {}\".format(rf_grid.best_params_))"
      ],
      "execution_count": 0,
      "outputs": [
        {
          "output_type": "stream",
          "text": [
            "The best score is 0.4532165743513661\n",
            "The best hyper parameter setting is {'max_depth': 9, 'min_samples_split': 0.01, 'n_estimators': 100}\n"
          ],
          "name": "stdout"
        }
      ]
    },
    {
      "cell_type": "code",
      "metadata": {
        "id": "wB8BpQBEOw-K",
        "colab_type": "code",
        "outputId": "46d0b7f2-7727-4980-f7cc-a9b5f5c7c9bf",
        "colab": {
          "base_uri": "https://localhost:8080/",
          "height": 85
        }
      },
      "source": [
        "print(\"Random Forest:\")\n",
        "print(\"Test mean absolute error:\", mean_absolute_error(y_test, rf_grid.predict(X_test)))\n",
        "mse = mean_squared_error(y_test,rf_grid.predict(X_test))\n",
        "print(\"Test mean-squared error:\", mse)\n",
        "print(\"Test root mean squared error:\", np.sqrt(mse))"
      ],
      "execution_count": 0,
      "outputs": [
        {
          "output_type": "stream",
          "text": [
            "Random Forest:\n",
            "Test mean absolute error: 12.69720769198164\n",
            "Test mean-squared error: 341.7906062533964\n",
            "Test root mean squared error: 18.487579783557294\n"
          ],
          "name": "stdout"
        }
      ]
    },
    {
      "cell_type": "markdown",
      "metadata": {
        "id": "agMiJQeWODb0",
        "colab_type": "text"
      },
      "source": [
        "## Gradient Boost"
      ]
    },
    {
      "cell_type": "code",
      "metadata": {
        "id": "29Uc609RE3AW",
        "colab_type": "code",
        "outputId": "71a2fd4b-292b-43a5-f15a-6c5bdcdfe44f",
        "colab": {
          "base_uri": "https://localhost:8080/",
          "height": 51
        }
      },
      "source": [
        "gb_param_grid = {\n",
        "     #'learning_rate': [.01,.1,1],\n",
        "     'learning_rate':[.1],\n",
        "     #'max_depth': [3,4,5],\n",
        "     'max_depth':[6],\n",
        "     #'n_estimators': range(50,150,20),\n",
        "     'n_estimators':[130],\n",
        "     #'min_samples_split': [0.01, 0.05, 0.1]\n",
        "     'min_samples_split':[.01] \n",
        "}\n",
        "\n",
        "gb_grid = GridSearchCV(GradientBoostingRegressor(), gb_param_grid, cv=3).fit(X_train, y_train)\n",
        "\n",
        "# summarize the results of the grid search\n",
        "print(\"The best score is {}\".format(gb_grid.best_score_))\n",
        "print(\"The best hyper parameter setting is {}\".format(gb_grid.best_params_))"
      ],
      "execution_count": 0,
      "outputs": [
        {
          "output_type": "stream",
          "text": [
            "The best score is 0.7801691398878811\n",
            "The best hyper parameter setting is {'learning_rate': 0.1, 'max_depth': 6, 'min_samples_split': 0.01, 'n_estimators': 130}\n"
          ],
          "name": "stdout"
        }
      ]
    },
    {
      "cell_type": "code",
      "metadata": {
        "id": "MfmZHy1XFuMq",
        "colab_type": "code",
        "outputId": "7b2d959c-c68d-4a4b-ca1c-7eee20fda3ef",
        "colab": {
          "base_uri": "https://localhost:8080/",
          "height": 85
        }
      },
      "source": [
        "print(\"Gradient Boost:\")\n",
        "print(\"Test mean absolute error:\", mean_absolute_error(y_test, gb_grid.predict(X_test)))\n",
        "mse = mean_squared_error(y_test,gb_grid.predict(X_test))\n",
        "print(\"Test mean-squared error:\", mse)\n",
        "print(\"Test root mean squared error:\", np.sqrt(mse))"
      ],
      "execution_count": 0,
      "outputs": [
        {
          "output_type": "stream",
          "text": [
            "Gradient Boost:\n",
            "Test mean absolute error: 6.027307858661075\n",
            "Test mean-squared error: 82.97890772006181\n",
            "Test root mean squared error: 9.109275916342737\n"
          ],
          "name": "stdout"
        }
      ]
    },
    {
      "cell_type": "markdown",
      "metadata": {
        "id": "rXEJmiK-P2hU",
        "colab_type": "text"
      },
      "source": [
        "## Neural Network"
      ]
    },
    {
      "cell_type": "code",
      "metadata": {
        "id": "BjoFeQzrUHoX",
        "colab_type": "code",
        "colab": {}
      },
      "source": [
        "from sklearn.utils.testing import ignore_warnings\n",
        "from sklearn.exceptions import ConvergenceWarning"
      ],
      "execution_count": 0,
      "outputs": []
    },
    {
      "cell_type": "code",
      "metadata": {
        "id": "CDnFHM_DP1hM",
        "colab_type": "code",
        "outputId": "70d1e276-4b63-458f-865c-5f00937ee882",
        "colab": {
          "base_uri": "https://localhost:8080/",
          "height": 241
        }
      },
      "source": [
        "nn_param_grid = {\n",
        "     'activation': ['logistic', 'relu'],\n",
        "     'learning_rate': ['constant','adaptive'],\n",
        "     'learning_rate_init': [.001,.01],\n",
        "     'hidden_layer_sizes': [3,5,10,50,100],\n",
        "     'max_iter': [400]\n",
        "\n",
        "}\n",
        "\n",
        "nn_grid = GridSearchCV(MLPRegressor(), nn_param_grid, cv=3).fit(X_train, y_train)\n",
        "\n",
        "# summarize the results of the grid search\n",
        "print(\"The best score is {}\".format(nn_grid.best_score_))\n",
        "print(\"The best hyper parameter setting is {}\".format(nn_grid.best_params_))"
      ],
      "execution_count": 0,
      "outputs": [
        {
          "output_type": "stream",
          "text": [
            "/usr/local/lib/python3.6/dist-packages/sklearn/neural_network/_multilayer_perceptron.py:571: ConvergenceWarning: Stochastic Optimizer: Maximum iterations (400) reached and the optimization hasn't converged yet.\n",
            "  % self.max_iter, ConvergenceWarning)\n",
            "/usr/local/lib/python3.6/dist-packages/sklearn/neural_network/_multilayer_perceptron.py:571: ConvergenceWarning: Stochastic Optimizer: Maximum iterations (400) reached and the optimization hasn't converged yet.\n",
            "  % self.max_iter, ConvergenceWarning)\n",
            "/usr/local/lib/python3.6/dist-packages/sklearn/neural_network/_multilayer_perceptron.py:571: ConvergenceWarning: Stochastic Optimizer: Maximum iterations (400) reached and the optimization hasn't converged yet.\n",
            "  % self.max_iter, ConvergenceWarning)\n",
            "/usr/local/lib/python3.6/dist-packages/sklearn/neural_network/_multilayer_perceptron.py:571: ConvergenceWarning: Stochastic Optimizer: Maximum iterations (400) reached and the optimization hasn't converged yet.\n",
            "  % self.max_iter, ConvergenceWarning)\n",
            "/usr/local/lib/python3.6/dist-packages/sklearn/neural_network/_multilayer_perceptron.py:571: ConvergenceWarning: Stochastic Optimizer: Maximum iterations (400) reached and the optimization hasn't converged yet.\n",
            "  % self.max_iter, ConvergenceWarning)\n"
          ],
          "name": "stderr"
        },
        {
          "output_type": "stream",
          "text": [
            "The best score is -0.00020061230482519102\n",
            "The best hyper parameter setting is {'activation': 'logistic', 'hidden_layer_sizes': 5, 'learning_rate': 'constant', 'learning_rate_init': 0.01, 'max_iter': 400}\n"
          ],
          "name": "stdout"
        }
      ]
    },
    {
      "cell_type": "code",
      "metadata": {
        "id": "FS-qjdAuP1zp",
        "colab_type": "code",
        "outputId": "93928afb-89ca-41d1-b31c-1b284605a52f",
        "colab": {
          "base_uri": "https://localhost:8080/",
          "height": 85
        }
      },
      "source": [
        "print(\"Neural Network:\")\n",
        "print(\"Test mean absolute error:\", mean_absolute_error(y_test, nn_grid.predict(X_test)))\n",
        "mse = mean_squared_error(y_test,nn_grid.predict(X_test))\n",
        "print(\"Test mean-squared error:\", mse)\n",
        "print(\"Test root mean squared error:\", np.sqrt(mse))"
      ],
      "execution_count": 0,
      "outputs": [
        {
          "output_type": "stream",
          "text": [
            "Neural Network:\n",
            "Test mean absolute error: 30.756010822922278\n",
            "Test mean-squared error: 1044.8761253483272\n",
            "Test root mean squared error: 32.324543698996386\n"
          ],
          "name": "stdout"
        }
      ]
    },
    {
      "cell_type": "markdown",
      "metadata": {
        "colab_type": "text",
        "id": "Ke__uG8PmrJo"
      },
      "source": [
        "## SVM"
      ]
    },
    {
      "cell_type": "code",
      "metadata": {
        "id": "e4QPGj8dmutY",
        "colab_type": "code",
        "colab": {}
      },
      "source": [
        "from sklearn.svm import SVR"
      ],
      "execution_count": 0,
      "outputs": []
    },
    {
      "cell_type": "code",
      "metadata": {
        "id": "fQBtZsIoooJC",
        "colab_type": "code",
        "outputId": "3ba4b359-d09e-45f9-ac2f-8b409ee445b9",
        "colab": {
          "base_uri": "https://localhost:8080/",
          "height": 51
        }
      },
      "source": [
        "svm_param_grid = {\n",
        "    'degree': [2,3,4,5],\n",
        "    'kernel': ['rbf','poly','sigmoid']\n",
        "}\n",
        "\n",
        "svm_grid = GridSearchCV( SVR(), svm_param_grid, cv= 3).fit(X_train, y_train)\n",
        "\n",
        "# summarize the results of the grid search\n",
        "print(\"The best score is {}\".format(svm_grid.best_score_))\n",
        "print(\"The best hyper parameter setting is {}\".format(svm_grid.best_params_))"
      ],
      "execution_count": 0,
      "outputs": [
        {
          "output_type": "stream",
          "text": [
            "The best score is 0.12039159304031559\n",
            "The best hyper parameter setting is {'degree': 2, 'kernel': 'rbf'}\n"
          ],
          "name": "stdout"
        }
      ]
    },
    {
      "cell_type": "code",
      "metadata": {
        "id": "mnGe-bT8pSTg",
        "colab_type": "code",
        "outputId": "ed996d30-e6e4-44a6-c327-007a043e4660",
        "colab": {
          "base_uri": "https://localhost:8080/",
          "height": 85
        }
      },
      "source": [
        "print(\"SVM:\")\n",
        "print(\"Test mean absolute error:\", mean_absolute_error(y_test, svm_grid.predict(X_test)))\n",
        "mse = mean_squared_error(y_test,svm_grid.predict(X_test))\n",
        "print(\"Test mean-squared error:\", mse)\n",
        "print(\"Test root mean squared error:\", np.sqrt(mse))"
      ],
      "execution_count": 0,
      "outputs": [
        {
          "output_type": "stream",
          "text": [
            "SVM:\n",
            "Test mean absolute error: 14.458539006100642\n",
            "Test mean-squared error: 510.92211920850553\n",
            "Test root mean squared error: 22.60358642358565\n"
          ],
          "name": "stdout"
        }
      ]
    },
    {
      "cell_type": "code",
      "metadata": {
        "id": "l_ZUO3mp0H3K",
        "colab_type": "code",
        "outputId": "4ff2e656-1e5c-43fb-cad6-7d4a9de510aa",
        "colab": {
          "base_uri": "https://localhost:8080/",
          "height": 329
        }
      },
      "source": [
        "gb_pred = svm_grid.predict(X_test)\n",
        "plt.scatter(x=gb_pred, y=y_test, alpha=.5, color = 'b', label = \"Gradient Boost\")\n",
        "#plt.scatter(x=ada_pred, y=test_y, alpha=.5, color = 'r', label = \"Ada Boost\")\n",
        "plt.plot(y_test, y_test, color = 'g', label = 'Perfect Fit')\n",
        "plt.xlabel('Predicted Popularity')\n",
        "plt.ylabel('Actual Popularity')\n",
        "plt.legend(loc='upper left')\n",
        "plt.title(\"Predicted Popularity vs. Actual Popularity\")\n",
        "plt.figure(figsize=(12,8))"
      ],
      "execution_count": 0,
      "outputs": [
        {
          "output_type": "execute_result",
          "data": {
            "text/plain": [
              "<Figure size 864x576 with 0 Axes>"
            ]
          },
          "metadata": {
            "tags": []
          },
          "execution_count": 19
        },
        {
          "output_type": "display_data",
          "data": {
            "image/png": "[encoded data removed]",
            "text/plain": [
              "<Figure size 432x288 with 1 Axes>"
            ]
          },
          "metadata": {
            "tags": []
          }
        },
        {
          "output_type": "display_data",
          "data": {
            "text/plain": [
              "<Figure size 864x576 with 0 Axes>"
            ]
          },
          "metadata": {
            "tags": []
          }
        }
      ]
    },
    {
      "cell_type": "markdown",
      "metadata": {
        "id": "_isTopufOI_J",
        "colab_type": "text"
      },
      "source": [
        "## Visualizing Error"
      ]
    },
    {
      "cell_type": "code",
      "metadata": {
        "id": "YdqoJdL2ORmn",
        "colab_type": "code",
        "outputId": "47b64fcf-2220-4598-aed0-1d2f8c816ab0",
        "colab": {
          "base_uri": "https://localhost:8080/",
          "height": 329
        }
      },
      "source": [
        "gb_pred = gb_grid.predict(X_test)\n",
        "plt.scatter(x=gb_pred, y=y_test, alpha=.5, color = 'b', label = \"Gradient Boost\")\n",
        "#plt.scatter(x=ada_pred, y=test_y, alpha=.5, color = 'r', label = \"Ada Boost\")\n",
        "plt.plot(y_test, y_test, color = 'g', label = 'Perfect Fit')\n",
        "plt.xlabel('Predicted Popularity')\n",
        "plt.ylabel('Actual Popularity')\n",
        "plt.legend(loc='upper left')\n",
        "plt.title(\"Predicted Popularity vs. Actual Popularity\")\n",
        "plt.figure(figsize=(12,8))"
      ],
      "execution_count": 0,
      "outputs": [
        {
          "output_type": "execute_result",
          "data": {
            "text/plain": [
              "<Figure size 864x576 with 0 Axes>"
            ]
          },
          "metadata": {
            "tags": []
          },
          "execution_count": 21
        },
        {
          "output_type": "display_data",
          "data": {
            "image/png": "[encoded data removed]",
            "text/plain": [
              "<Figure size 432x288 with 1 Axes>"
            ]
          },
          "metadata": {
            "tags": []
          }
        },
        {
          "output_type": "display_data",
          "data": {
            "text/plain": [
              "<Figure size 864x576 with 0 Axes>"
            ]
          },
          "metadata": {
            "tags": []
          }
        }
      ]
    },
    {
      "cell_type": "code",
      "metadata": {
        "id": "mDjcTOhiO0XP",
        "colab_type": "code",
        "outputId": "1a731bfd-8f9e-4c24-8467-dbf98c594f4e",
        "colab": {
          "base_uri": "https://localhost:8080/",
          "height": 329
        }
      },
      "source": [
        "reg_pred = results.predict(X_test)\n",
        "plt.scatter(x=reg_pred, y=y_test, alpha=.5, color = 'b', label = \"Linear Regression\")\n",
        "#plt.scatter(x=ada_pred, y=test_y, alpha=.5, color = 'r', label = \"Ada Boost\")\n",
        "plt.plot(y_test, y_test, color = 'g', label = 'Perfect Fit')\n",
        "plt.xlabel('Predicted Popularity')\n",
        "plt.ylabel('Actual Popularity')\n",
        "plt.legend(loc='upper left')\n",
        "plt.title(\"Predicted Popularity vs. Actual Popularity\")\n",
        "plt.figure(figsize=(12,8))"
      ],
      "execution_count": 0,
      "outputs": [
        {
          "output_type": "execute_result",
          "data": {
            "text/plain": [
              "<Figure size 864x576 with 0 Axes>"
            ]
          },
          "metadata": {
            "tags": []
          },
          "execution_count": 25
        },
        {
          "output_type": "display_data",
          "data": {
            "image/png": "[encoded data removed]",
            "text/plain": [
              "<Figure size 432x288 with 1 Axes>"
            ]
          },
          "metadata": {
            "tags": []
          }
        },
        {
          "output_type": "display_data",
          "data": {
            "text/plain": [
              "<Figure size 864x576 with 0 Axes>"
            ]
          },
          "metadata": {
            "tags": []
          }
        }
      ]
    }
  ]
}